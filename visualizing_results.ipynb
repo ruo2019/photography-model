{
 "cells": [
  {
   "cell_type": "markdown",
   "id": "f86bc499",
   "metadata": {},
   "source": [
    "$$\\Large \\textbf{Loading Normal Data Predictions}$$\n",
    "\n",
    "-------"
   ]
  },
  {
   "cell_type": "code",
   "execution_count": 1,
   "id": "9e13e917-1419-4e04-b2c9-6399c1bdbc10",
   "metadata": {},
   "outputs": [],
   "source": [
    "import matplotlib.pyplot as plt\n",
    "from tqdm.notebook import tqdm\n",
    "import numpy as np\n",
    "import pickle\n",
    "import pandas\n",
    "import cv2\n",
    "import os"
   ]
  },
  {
   "cell_type": "code",
   "execution_count": 528,
   "id": "c405eb2b-5dbb-4a44-9397-c543f943dc5d",
   "metadata": {},
   "outputs": [],
   "source": [
    "def pickle_read(file):\n",
    "    with open(file, 'rb') as f:\n",
    "        data = pickle.load(f)\n",
    "    return data\n",
    "\n",
    "def pickle_write(a, b):\n",
    "    pickle_filename = a if len(a) >= 4 and a[-4:] == \".pkl\" else b\n",
    "    data = b if pickle_filename == a else a\n",
    "    with open(pickle_filename, 'wb') as file:\n",
    "        pickle.dump(data, file)"
   ]
  },
  {
   "cell_type": "code",
   "execution_count": 622,
   "id": "491d0ca1-2aa5-46aa-a902-5a1466392064",
   "metadata": {},
   "outputs": [
    {
     "name": "stdout",
     "output_type": "stream",
     "text": [
      "50 predictions loaded.\n",
      "First 10 Predictions from Intern Video:       [269, 68, 217, 140, 177, 131, 52, 73, 63, 177]\n",
      "First 10 predictions from CLIP:               [237, 76, 216, 72, 197, 16, 53, 90, 20, 180]\n",
      "--------------------------------------------------\n",
      "First 10 actual values: [[19], [9], [28], [14], [10], [29], [22], [67], [19], [40]]\n"
     ]
    }
   ],
   "source": [
    "backflip_dataset = False\n",
    "data_load = {\n",
    "    \"jar/InternVideo-a8.pkl\": \"IV_a8\",\n",
    "    \"jar/InternVideo-a11.pkl\": \"IV_a11\",\n",
    "    \"jar/CLIP-a.pkl\": \"CLIP_a\",\n",
    "    \"jar/CLIP-r.pkl\": \"CLIP_r\",\n",
    "    \"jar/CLIP-g.pkl\": \"CLIP_g\",\n",
    "    \"jar/InternVideo-r8.pkl\": \"IV_r8\",\n",
    "    \"jar/InternVideo-r11.pkl\": \"IV_r11\",\n",
    "    \"jar/InternVideo-r13.pkl\": \"IV_r13\",\n",
    "    \"jar/InternVideo-a13.pkl\": \"IV_a13\",\n",
    "    \"jar/InternVideo-r12.pkl\": \"IV_r12\",\n",
    "    \"jar/InternVideo-a12.pkl\": \"IV_a12\",\n",
    "    \"jar/InternVideo-r9.pkl\": \"IV_r9\",\n",
    "    \"jar/InternVideo-a9.pkl\": \"IV_a9\",\n",
    "    \"jar/InternVideo-a15.pkl\": \"IV_a15\",\n",
    "    \"jar/InternVideo-r15.pkl\": \"IV_r15\",\n",
    "    \"jar/InternVideo-a17.pkl\": \"IV_a17\",\n",
    "    \"jar/InternVideo-r17.pkl\": \"IV_r17\",\n",
    "    \"jar/InternVideo-r19.pkl\": \"IV_r19\",\n",
    "    \"jar/InternVideo-a19.pkl\": \"IV_a19\",\n",
    "    \"jar/InternVideo-g8.pkl\": \"IV_g8\",\n",
    "    \"jar/InternVideo-g11.pkl\": \"IV_g11\",\n",
    "    \"jar/InternVideo-g13.pkl\": \"IV_g13\",\n",
    "    # \"jar/InternVideo-a100.pkl\": \"IV_a100\",\n",
    "    # \"jar/InternVideo-r100.pkl\": \"IV_r100\",\n",
    "    \n",
    "}\n",
    "\n",
    "for key, value in data_load.items():\n",
    "    exec(f'{value} = pickle_read(\\'{key}\\')')\n",
    "\n",
    "logits_r = pickle_read('rustyjar/InternVideo-logits-r.pkl')\n",
    "logits_a = pickle_read('rustyjar/InternVideo-logits-a.pkl')\n",
    "logits_g = pickle_read('rustyjar/InternVideo-logits-g.pkl')\n",
    "\n",
    "if backflip_dataset:\n",
    "    raw_data = pandas.read_csv('anno_backflip.csv')\n",
    "    data = []\n",
    "    for index, row in raw_data.iterrows():\n",
    "        data.append((row['ID'], eval('[' + row['Frame(s)'] + ']')))\n",
    "else:\n",
    "    data = pickle_read('rustyjar/GIF87.pkl')\n",
    "\n",
    "print(len(IV_a8), 'predictions loaded.')\n",
    "print(\"First 10 Predictions from Intern Video:      \", IV_a8[:10])\n",
    "print(\"First 10 predictions from CLIP:              \", CLIP_a[:10])\n",
    "print(\"-\"*50)\n",
    "print(\"First 10 actual values:\", [x[1] for x in data[:10]])"
   ]
  },
  {
   "cell_type": "code",
   "execution_count": 623,
   "id": "3491f324-43d9-4bb6-aeaf-c1c09887a484",
   "metadata": {},
   "outputs": [
    {
     "data": {
      "text/plain": [
       "[(1, [19]),\n",
       " (2, [9]),\n",
       " (3, [28]),\n",
       " (4, [14]),\n",
       " (5, [10]),\n",
       " (6, [29]),\n",
       " (7, [22]),\n",
       " (8, [67]),\n",
       " (9, [19]),\n",
       " (10, [40]),\n",
       " (11, [53]),\n",
       " (12, [59]),\n",
       " (13, [10]),\n",
       " (14, [48]),\n",
       " (15, [289]),\n",
       " (16, [113]),\n",
       " (17, [52]),\n",
       " (18, [13]),\n",
       " (19, [131]),\n",
       " (20, [251]),\n",
       " (21, [8]),\n",
       " (22, [152]),\n",
       " (23, [51]),\n",
       " (24, [89]),\n",
       " (25, [28]),\n",
       " (26, [6]),\n",
       " (27, [12]),\n",
       " (28, [26]),\n",
       " (29, [15]),\n",
       " (30, [9]),\n",
       " (31, [6]),\n",
       " (32, [3]),\n",
       " (33, [3]),\n",
       " (34, [12]),\n",
       " (35, [34]),\n",
       " (36, [16]),\n",
       " (37, [13]),\n",
       " (38, [74]),\n",
       " (39, [90]),\n",
       " (40, [19]),\n",
       " (41, [61]),\n",
       " (42, [14]),\n",
       " (43, [152]),\n",
       " (44, [19]),\n",
       " (45, [12]),\n",
       " (46, [285]),\n",
       " (47, [20]),\n",
       " (48, [82]),\n",
       " (49, [40]),\n",
       " (50, [71]),\n",
       " (51, [15]),\n",
       " (52, [4]),\n",
       " (53, [18]),\n",
       " (54, [11]),\n",
       " (55, [6]),\n",
       " (56, [24]),\n",
       " (57, [11]),\n",
       " (58, [27]),\n",
       " (59, [14]),\n",
       " (60, [0]),\n",
       " (61, [22]),\n",
       " (62, [248]),\n",
       " (63, [165]),\n",
       " (64, [120]),\n",
       " (65, [65]),\n",
       " (66, [152]),\n",
       " (67, [147]),\n",
       " (68, [5]),\n",
       " (69, [267]),\n",
       " (70, [184]),\n",
       " (71, [37]),\n",
       " (72, [82]),\n",
       " (73, [65]),\n",
       " (74, [32]),\n",
       " (75, [220]),\n",
       " (76, [144]),\n",
       " (77, [81]),\n",
       " (78, [35]),\n",
       " (79, [54]),\n",
       " (80, [282]),\n",
       " (81, [156]),\n",
       " (82, [145]),\n",
       " (83, [21]),\n",
       " (84, [300]),\n",
       " (85, [56]),\n",
       " (86, [4]),\n",
       " (87, [2])]"
      ]
     },
     "execution_count": 623,
     "metadata": {},
     "output_type": "execute_result"
    }
   ],
   "source": [
    "data"
   ]
  },
  {
   "cell_type": "code",
   "execution_count": 541,
   "id": "5a385f1e-c89d-4bc9-8853-4da74aefbf34",
   "metadata": {},
   "outputs": [
    {
     "name": "stdout",
     "output_type": "stream",
     "text": [
      "[('GIF87/83.mp4', (83, 'soccer ball hits guy in face', 21)), ('GIF87/84.mp4', (84, 'A person dunks a basketball.', 300)), ('GIF87/85.mp4', (85, 'A person faceplanting on the ground.', 56)), ('GIF87/86.mp4', (86, 'ball hits face', 4)), ('GIF87/87.mp4', (87, \"ball hits guy's head\", 2))]\n"
     ]
    }
   ],
   "source": [
    "correct = pickle_read('rustyjar/GIF87.pkl')\n",
    "print(correct[-5:])"
   ]
  },
  {
   "cell_type": "code",
   "execution_count": 593,
   "id": "3f745233-530f-4580-b1b3-c02de26965e2",
   "metadata": {},
   "outputs": [
    {
     "name": "stdout",
     "output_type": "stream",
     "text": [
      "[239, 289, 48, 133, 127]\n"
     ]
    }
   ],
   "source": [
    "IV_g13 = []\n",
    "logits_37 = []\n",
    "for idx, logits in enumerate(logits_g):\n",
    "    logits_sort = copy.deepcopy(logits)\n",
    "\n",
    "    avg_logits = []\n",
    "\n",
    "    for i in range(2, len(logits) - 2):\n",
    "        if idx == 37:\n",
    "            logits_37.append((sum([logits[x][0] for x in [i - 2, i - 1, i, i + 1, i + 2]])/5, i + 1))\n",
    "        avg_logits.append((sum([logits[x][0] for x in [i - 2, i - 1, i, i + 1, i + 2]])/5, i + 1))\n",
    "    \n",
    "    avg_logits.sort(key = lambda x: -x[0])\n",
    "    IV_g13.append(avg_logits[0][1])\n",
    "    \n",
    "\n",
    "print(IV_g13[-5:])\n",
    "pickle_write(IV_g13, 'jar/InternVideo-g13.pkl')"
   ]
  },
  {
   "cell_type": "code",
   "execution_count": 465,
   "id": "e2b938d5-46d5-4216-b227-c2783a3d9f87",
   "metadata": {},
   "outputs": [
    {
     "name": "stdout",
     "output_type": "stream",
     "text": [
      "20\n"
     ]
    },
    {
     "data": {
      "image/png": "[encoded data removed]",
      "text/plain": [
       "<Figure size 300x200 with 1 Axes>"
      ]
     },
     "metadata": {},
     "output_type": "display_data"
    }
   ],
   "source": [
    "print(IV_a100[38])\n",
    "plt.figure(figsize=[3, 2])\n",
    "plt.plot([x[1] for x in logits_a[38]], [x[0] for x in logits_a[38]], linewidth=2)\n",
    "plt.xlabel(\"Frame Index\")\n",
    "plt.ylabel(\"Similarity Score\")\n",
    "\n",
    "plt.gca().set_position([0, 0, 1, 1])\n",
    "plt.savefig('frame-similarity-score.svg', bbox_inches=\"tight\")\n",
    "\n",
    "plt.show()"
   ]
  },
  {
   "cell_type": "code",
   "execution_count": 400,
   "id": "97644cfc-5a9f-4084-b8c0-46065703aaf4",
   "metadata": {},
   "outputs": [
    {
     "data": {
      "text/plain": [
       "268"
      ]
     },
     "execution_count": 400,
     "metadata": {},
     "output_type": "execute_result"
    }
   ],
   "source": [
    "IV_r11[0]"
   ]
  },
  {
   "cell_type": "markdown",
   "id": "2fea2b15-42c6-4ac7-ac03-d2e5b6bdf980",
   "metadata": {},
   "source": [
    "$$\\Large \\textbf{Loading Augmented Data Predictions}$$\n",
    "\n",
    "-------"
   ]
  },
  {
   "cell_type": "code",
   "execution_count": 88,
   "id": "e10c02be-2b66-4676-b806-25987eede24f",
   "metadata": {},
   "outputs": [],
   "source": [
    "def showMetric(preds, tick = 2, compare = False):\n",
    "    def clamp_error(prediction, truth): # NN's Idea\n",
    "        if truth in range(prediction, prediction + 9):\n",
    "            return 0\n",
    "        else: \n",
    "            return (prediction + 8) - truth if truth > prediction + 8 else prediction - truth\n",
    "    \n",
    "    score = 0\n",
    "    offsets = []\n",
    "    for idx, i_pred in enumerate(preds):\n",
    "        within_range = False\n",
    "        off = 10000\n",
    "        for truth in data[idx][1]:\n",
    "            if abs(i_pred - truth) < abs(off):\n",
    "                off = i_pred - truth\n",
    "    \n",
    "            if abs(i_pred - truth) <= 8:\n",
    "                within_range = True\n",
    "        \n",
    "        if within_range:\n",
    "            score += 1\n",
    "    \n",
    "        offsets.append(off)\n",
    "    \n",
    "    score = score / 50\n",
    "    print(\"Accuracy with |error| <= 8:\",score)\n",
    "    \n",
    "    offsetsbruh = offsets[:39] + offsets[40:]\n",
    "\n",
    "    if compare:\n",
    "        plt.figure(figsize=(7, 7))\n",
    "    else:\n",
    "        plt.yticks(np.arange(-30, 30, 5))\n",
    "        plt.ylim(-30, 30)\n",
    "        plt.boxplot(offsetsbruh)\n",
    "        plt.show()"
   ]
  },
  {
   "cell_type": "code",
   "execution_count": 244,
   "id": "d91b1fe5-8f69-4981-8267-c7aafd9316b9",
   "metadata": {},
   "outputs": [
    {
     "name": "stdout",
     "output_type": "stream",
     "text": [
      "Accuracy with |error| <= 8: 0.88\n"
     ]
    },
    {
     "data": {
      "image/png": "[encoded data removed]",
      "text/plain": [
       "<Figure size 640x480 with 1 Axes>"
      ]
     },
     "metadata": {},
     "output_type": "display_data"
    }
   ],
   "source": [
    "showMetric(IV_r13)"
   ]
  },
  {
   "cell_type": "code",
   "execution_count": 245,
   "id": "f1d654e4-9f84-48a8-a541-2951170313df",
   "metadata": {},
   "outputs": [
    {
     "name": "stdout",
     "output_type": "stream",
     "text": [
      "Accuracy with |error| <= 8: 0.76\n"
     ]
    },
    {
     "data": {
      "image/png": "[encoded data removed]",
      "text/plain": [
       "<Figure size 640x480 with 1 Axes>"
      ]
     },
     "metadata": {},
     "output_type": "display_data"
    }
   ],
   "source": [
    "showMetric(CLIP_r, tick = 15)"
   ]
  },
  {
   "cell_type": "code",
   "execution_count": 91,
   "id": "ef8239fa-f23e-4658-8e23-98a3dc2792dc",
   "metadata": {},
   "outputs": [
    {
     "data": {
      "application/vnd.jupyter.widget-view+json": {
       "model_id": "d3014947952a466baef0bcfb9e7ff42a",
       "version_major": 2,
       "version_minor": 0
      },
      "text/plain": [
       "  0%|          | 0/50 [00:00<?, ?it/s]"
      ]
     },
     "metadata": {},
     "output_type": "display_data"
    },
    {
     "name": "stdout",
     "output_type": "stream",
     "text": [
      "[0.009433962264150943, 0.005128205128205128, 0.008264462809917356, 0.004784688995215311, 0.011363636363636364]\n"
     ]
    }
   ],
   "source": [
    "norm_scale = []\n",
    "for video_path in tqdm([os.path.join('backflip', x) for x in os.listdir('backflip')]):\n",
    "    cap = cv2.VideoCapture(video_path)\n",
    "\n",
    "    frame_num = 0\n",
    "    success, frame = cap.read()\n",
    "    while success:\n",
    "        frame_num += 1\n",
    "        success, frame = cap.read()\n",
    "    cap.release()\n",
    "    \n",
    "    norm_scale.append(1 / frame_num)\n",
    "\n",
    "print(norm_scale[:5])"
   ]
  },
  {
   "cell_type": "markdown",
   "id": "ab2060b0-ef1c-4be2-8812-3cb302535906",
   "metadata": {},
   "source": [
    "$$\\mathbf{2}^{\\text{nd}}\\text{ Metric}$$\n",
    "--------"
   ]
  },
  {
   "cell_type": "code",
   "execution_count": 246,
   "id": "ebca3fa7-a31d-4c50-b4cd-8a54ad24bcc2",
   "metadata": {},
   "outputs": [],
   "source": [
    "import matplotlib.pyplot as plt\n",
    "import numpy as np\n",
    "\n",
    "# Find closest peak\n",
    "def findClosest(pred, truths):\n",
    "    dist = 1000000\n",
    "    peak = -1\n",
    "    for i in truths:\n",
    "        if abs(i - pred) < dist:\n",
    "            dist = abs(i - pred)\n",
    "            peak = i\n",
    "    return peak\n",
    "\n",
    "def showMetric2(preds, tick = 2):\n",
    "    def clamp_error(prediction, truth): # NN's Idea\n",
    "        if truth in range(prediction, prediction + 9):\n",
    "            return 0\n",
    "        else: \n",
    "            return (prediction + 8) - truth if truth > prediction + 8 else prediction - truth\n",
    "    \n",
    "    mse = []\n",
    "    for idx, i_pred in enumerate(preds):\n",
    "        # peak = findClosest(i_pred, data[idx][1]) * norm_scale[idx]\n",
    "        peak = findClosest(i_pred, data[idx][1])\n",
    "        # mse.append(abs((i_pred * norm_scale[idx]) - peak)) # Calculating MAE??\n",
    "        mse.append(abs(i_pred - peak)) # Calculating MAE??\n",
    "    \n",
    "    return mse\n",
    "\n",
    "def find_best_offset(preds):\n",
    "    total = []\n",
    "    min_val = float('inf')\n",
    "    min_result = -1\n",
    "    for l in [x/100 for x in range(-3000, 3000, 1)]:\n",
    "        mse = calculateMSE([x + l for x in preds])\n",
    "        total.append((l, mse))\n",
    "        if mse < min_val:\n",
    "            min_val = mse\n",
    "            min_result = l\n",
    "    return min_result\n",
    "\n",
    "def calculateMSE(preds):\n",
    "    errors = []\n",
    "    for idx, i_pred in enumerate(preds):\n",
    "        new_pred = i_pred + 0\n",
    "        peak = findClosest(new_pred, data[idx][1])\n",
    "        errors.append(abs(new_pred - peak)**2)\n",
    "    return np.mean(errors).item()"
   ]
  },
  {
   "cell_type": "code",
   "execution_count": 247,
   "id": "9de76e56-e0db-45c1-9c64-ff4bbdc8fc53",
   "metadata": {},
   "outputs": [
    {
     "data": {
      "text/plain": [
       "36.94"
      ]
     },
     "execution_count": 247,
     "metadata": {},
     "output_type": "execute_result"
    }
   ],
   "source": [
    "calculateMSE(IV_r15)"
   ]
  },
  {
   "cell_type": "code",
   "execution_count": 587,
   "id": "ce4ba593-faa8-4b05-85f5-47e48bcff2aa",
   "metadata": {},
   "outputs": [
    {
     "data": {
      "image/png": "[encoded data removed]",
      "text/plain": [
       "<Figure size 800x400 with 1 Axes>"
      ]
     },
     "metadata": {},
     "output_type": "display_data"
    },
    {
     "name": "stdout",
     "output_type": "stream",
     "text": [
      "╒════╤═════════╤═════════╕\n",
      "│    │ Model   │     MSE │\n",
      "╞════╪═════════╪═════════╡\n",
      "│  0 │ IV_g8   │ 1333.31 │\n",
      "├────┼─────────┼─────────┤\n",
      "│  1 │ IV_g11  │ 1584.86 │\n",
      "├────┼─────────┼─────────┤\n",
      "│  2 │ IV_g13  │ 1762.33 │\n",
      "├────┼─────────┼─────────┤\n",
      "│  3 │ CLIP_g  │ 2366.17 │\n",
      "╘════╧═════════╧═════════╛\n"
     ]
    }
   ],
   "source": [
    "import matplotlib.pyplot as plt\n",
    "from IPython.display import Latex\n",
    "from tabulate import tabulate\n",
    "\n",
    "showCLIP = True\n",
    "filter_vals = 'g'\n",
    "\n",
    "fig, ax = plt.subplots(figsize=(8, 4))\n",
    "\n",
    "def extract_digits(input_string):\n",
    "    digits = ''.join([char for char in input_string if char.isdigit()])\n",
    "    return int(digits) if digits else 0\n",
    "\n",
    "pred_labels = [x for x in (data_load.values() if showCLIP else filter(lambda x: 'CLIP' not in x, data_load.values()))]\n",
    "pred_labels.sort(key=lambda x: (int(extract_digits(x)) if \"IV\" in x else 1000, x[3]))\n",
    "\n",
    "if filter_vals != 'any':\n",
    "    pred_labels = list(filter(lambda x: filter_vals in x, pred_labels))\n",
    "\n",
    "predictions = [calculateMSE(eval(x)) for x in pred_labels]\n",
    "pred_augment = [calculateMSE(eval(x)) for x in filter(lambda x: 'a' in x, pred_labels)]\n",
    "best_mse = min(predictions)\n",
    "best_augment_mse = min(pred_augment) if pred_augment else 0\n",
    "\n",
    "def get_color(idx, x):\n",
    "    if 'CLIP' in x:\n",
    "        return 'tab:red'\n",
    "    if predictions[idx] == best_mse:\n",
    "        return 'green'\n",
    "    elif predictions[idx] == best_augment_mse:\n",
    "        return 'tab:cyan'\n",
    "    else:\n",
    "        if 'r' in x:\n",
    "            return 'tab:cyan'\n",
    "        else:\n",
    "            return 'tab:cyan'\n",
    "\n",
    "def get_name(x):\n",
    "    if \"CLIP\" in x: return x\n",
    "    return x.split(\"_\")[1][1:] if \"100\" not in x else \"Avg of 11, 13, 15\"\n",
    "\n",
    "bar_colors = [get_color(idx, x) for idx, x in enumerate(pred_labels)]\n",
    "\n",
    "ax.bar([get_name(x) for x in pred_labels], predictions, label=pred_labels, color = bar_colors)\n",
    "\n",
    "ax.set_ylabel('Mean Squared Error', fontsize=14)\n",
    "ax.set_xlabel('Window Size', fontsize=14)\n",
    "ax.set_title('Mean Squared Error across Window Sizes on Dataset', fontsize=14)\n",
    "# ax.legend(title='Model')\n",
    "# ax.set_ylim(40, 73)\n",
    "\n",
    "ax.tick_params(axis='both', which='major', labelsize=12)\n",
    "\n",
    "plt.savefig(\"window_size_comparison.svg\", bbox_inches=\"tight\")\n",
    "plt.show()\n",
    "\n",
    "combined = list(zip(pred_labels, predictions))\n",
    "combined.sort(key = lambda x: x[1])\n",
    "\n",
    "df = pd.DataFrame({'Model': [x[0] for x in combined], 'MSE': [x[1] for x in combined]})\n",
    "\n",
    "print(tabulate(df, headers = 'keys', tablefmt = 'fancy_grid'))"
   ]
  },
  {
   "cell_type": "markdown",
   "id": "d30b21e1-3f53-4c74-973a-6348cdf1a323",
   "metadata": {},
   "source": [
    "# Window Size Plot\n",
    "Line Graph of Window Size vs MSE"
   ]
  },
  {
   "cell_type": "code",
   "execution_count": 383,
   "id": "19224d2e-52b1-4ded-a303-cc9c9bbf5946",
   "metadata": {},
   "outputs": [
    {
     "data": {
      "image/png": "[encoded data removed]",
      "text/plain": [
       "<Figure size 640x480 with 1 Axes>"
      ]
     },
     "metadata": {},
     "output_type": "display_data"
    }
   ],
   "source": [
    "pred_labels = [x for x in filter(lambda x: 'CLIP' not in x, data_load.values())]\n",
    "pred_labels.sort(key=lambda x: (int(extract_digits(x)), x[3]))\n",
    "\n",
    "augment_labels = list(filter(lambda x: 'a' in x and '100' not in x, pred_labels))\n",
    "regular_labels = list(filter(lambda x: 'r' in x and '100' not in x, pred_labels))\n",
    "\n",
    "plt.plot([extract_digits(x) for x in regular_labels], [calculateMSE(eval(x)) for x in regular_labels], linewidth=2)\n",
    "\n",
    "plt.gca().set_position([0, 0, 1, 1])\n",
    "plt.xlabel(\"Window Size\")\n",
    "plt.ylabel(\"Mean Squared Error\")\n",
    "\n",
    "\n",
    "plt.savefig(\"windowsize-mse-r.svg\", bbox_inches = \"tight\")\n",
    "plt.show()"
   ]
  },
  {
   "cell_type": "code",
   "execution_count": 409,
   "id": "e4366b7d-0188-4394-800f-21557e1e441b",
   "metadata": {},
   "outputs": [
    {
     "data": {
      "text/plain": [
       "19"
      ]
     },
     "execution_count": 409,
     "metadata": {},
     "output_type": "execute_result"
    }
   ],
   "source": [
    "CLIP_r[18]"
   ]
  },
  {
   "cell_type": "code",
   "execution_count": 410,
   "id": "68b2ce9b-b173-44fc-8d19-a2975fbd5b09",
   "metadata": {},
   "outputs": [
    {
     "data": {
      "text/plain": [
       "(19, [286])"
      ]
     },
     "execution_count": 410,
     "metadata": {},
     "output_type": "execute_result"
    }
   ],
   "source": [
    "data[18]"
   ]
  },
  {
   "cell_type": "code",
   "execution_count": 565,
   "id": "296fb4cd-b9a9-420d-ae62-edebac7c79e3",
   "metadata": {},
   "outputs": [
    {
     "data": {
      "text/plain": [
       "258"
      ]
     },
     "execution_count": 565,
     "metadata": {},
     "output_type": "execute_result"
    }
   ],
   "source": [
    "IV_g8[37]"
   ]
  },
  {
   "cell_type": "code",
   "execution_count": 607,
   "id": "c0f2c5cd-d508-40c5-acc4-38f8461afc9f",
   "metadata": {
    "scrolled": true
   },
   "outputs": [],
   "source": [
    "logits_37 = logits_g[38]"
   ]
  },
  {
   "cell_type": "code",
   "execution_count": 608,
   "id": "f16e57f2-fb2e-4c6d-abf2-c324f43b47f6",
   "metadata": {},
   "outputs": [
    {
     "name": "stdout",
     "output_type": "stream",
     "text": [
      "90\n"
     ]
    }
   ],
   "source": [
    "logits_37_copy = copy.deepcopy(logits_37)\n",
    "logits_37_copy.sort(key = lambda x: -x[0])\n",
    "print(logits_37_copy[0][1])"
   ]
  },
  {
   "cell_type": "code",
   "execution_count": 606,
   "id": "4550f489-6d9a-472c-a086-cb40a1613aea",
   "metadata": {
    "jupyter": {
     "source_hidden": true
    }
   },
   "outputs": [],
   "source": [
    "stuff38 = [[0.2020391821861267, 1.0],\n",
    " [0.20196452736854553, 2.0],\n",
    " [0.20203155279159546, 3.0],\n",
    " [0.20146700739860535, 4.0],\n",
    " [0.20114903151988983, 5.0],\n",
    " [0.20138053596019745, 6.0],\n",
    " [0.20290768146514893, 7.0],\n",
    " [0.20426438748836517, 8.0],\n",
    " [0.2049144208431244, 9.0],\n",
    " [0.20397792756557465, 10.0],\n",
    " [0.20464573800563812, 11.0],\n",
    " [0.20271751284599304, 12.0],\n",
    " [0.2027658373117447, 13.0],\n",
    " [0.20145760476589203, 14.0],\n",
    " [0.2032621055841446, 15.0],\n",
    " [0.2030934989452362, 16.0],\n",
    " [0.2020760178565979, 17.0],\n",
    " [0.20207396149635315, 18.0],\n",
    " [0.2017778754234314, 19.0],\n",
    " [0.20177313685417175, 20.0],\n",
    " [0.20035970211029053, 21.0],\n",
    " [0.20109765231609344, 22.0],\n",
    " [0.20143841207027435, 23.0],\n",
    " [0.2004956603050232, 24.0],\n",
    " [0.20163719356060028, 25.0],\n",
    " [0.20405972003936768, 26.0],\n",
    " [0.20445242524147034, 27.0],\n",
    " [0.2017042487859726, 28.0],\n",
    " [0.2060074806213379, 29.0],\n",
    " [0.20924240350723267, 30.0],\n",
    " [0.210775688290596, 31.0],\n",
    " [0.21510131657123566, 32.0],\n",
    " [0.2147490531206131, 33.0],\n",
    " [0.220611110329628, 34.0],\n",
    " [0.22112123668193817, 35.0],\n",
    " [0.22313977777957916, 36.0],\n",
    " [0.2234959453344345, 37.0],\n",
    " [0.22376874089241028, 38.0],\n",
    " [0.22414854168891907, 39.0],\n",
    " [0.22496581077575684, 40.0],\n",
    " [0.22487974166870117, 41.0],\n",
    " [0.2280668467283249, 42.0],\n",
    " [0.23503299057483673, 43.0],\n",
    " [0.23533384501934052, 44.0],\n",
    " [0.23585008084774017, 45.0],\n",
    " [0.23619557917118073, 46.0],\n",
    " [0.23900637030601501, 47.0],\n",
    " [0.24024274945259094, 48.0],\n",
    " [0.23968106508255005, 49.0],\n",
    " [0.23977088928222656, 50.0],\n",
    " [0.2420104742050171, 51.0],\n",
    " [0.24123960733413696, 52.0],\n",
    " [0.24483731389045715, 53.0],\n",
    " [0.24226251244544983, 54.0],\n",
    " [0.2497280389070511, 55.0],\n",
    " [0.2534068524837494, 56.0],\n",
    " [0.25263911485671997, 57.0],\n",
    " [0.25904738903045654, 58.0],\n",
    " [0.25896257162094116, 59.0],\n",
    " [0.2610795497894287, 60.0],\n",
    " [0.25927624106407166, 61.0],\n",
    " [0.26200711727142334, 62.0],\n",
    " [0.250679075717926, 63.0],\n",
    " [0.2506866753101349, 64.0],\n",
    " [0.2507953345775604, 65.0],\n",
    " [0.2476627677679062, 66.0],\n",
    " [0.23563002049922943, 67.0],\n",
    " [0.24429206550121307, 68.0],\n",
    " [0.24241067469120026, 69.0],\n",
    " [0.24409857392311096, 70.0],\n",
    " [0.24683953821659088, 71.0],\n",
    " [0.25670212507247925, 72.0],\n",
    " [0.261128306388855, 73.0],\n",
    " [0.26253944635391235, 74.0],\n",
    " [0.2621226906776428, 75.0],\n",
    " [0.2598377764225006, 76.0],\n",
    " [0.2543940842151642, 77.0],\n",
    " [0.2509768605232239, 78.0],\n",
    " [0.22545462846755981, 79.0],\n",
    " [0.2423989325761795, 80.0],\n",
    " [0.24624091386795044, 81.0],\n",
    " [0.25008895993232727, 82.0],\n",
    " [0.24600636959075928, 83.0],\n",
    " [0.2715723514556885, 84.0],\n",
    " [0.27652353048324585, 85.0],\n",
    " [0.2810194194316864, 86.0],\n",
    " [0.286205530166626, 87.0],\n",
    " [0.28843405842781067, 88.0],\n",
    " [0.2878214120864868, 89.0],\n",
    " [0.2897486388683319, 90.0],\n",
    " [0.2769196629524231, 91.0],\n",
    " [0.27961277961730957, 92.0],\n",
    " [0.2799108922481537, 93.0],\n",
    " [0.26993528008461, 94.0],\n",
    " [0.26084449887275696, 95.0],\n",
    " [0.2636513411998749, 96.0],\n",
    " [0.2657475471496582, 97.0],\n",
    " [0.26450592279434204, 98.0],\n",
    " [0.24539881944656372, 99.0],\n",
    " [0.25360774993896484, 100.0],\n",
    " [0.2570889890193939, 101.0],\n",
    " [0.2547124922275543, 102.0],\n",
    " [0.23003563284873962, 103.0],\n",
    " [0.25016310811042786, 104.0],\n",
    " [0.25723719596862793, 105.0],\n",
    " [0.2617577612400055, 106.0],\n",
    " [0.2597222328186035, 107.0],\n",
    " [0.2639685273170471, 108.0],\n",
    " [0.264499694108963, 109.0],\n",
    " [0.2594844102859497, 110.0],\n",
    " [0.25735771656036377, 111.0],\n",
    " [0.25757497549057007, 112.0],\n",
    " [0.25264668464660645, 113.0],\n",
    " [0.24823331832885742, 114.0],\n",
    " [0.23517373204231262, 115.0],\n",
    " [0.23989266157150269, 116.0],\n",
    " [0.2391546070575714, 117.0],\n",
    " [0.23455321788787842, 118.0],\n",
    " [0.2349705696105957, 119.0],\n",
    " [0.23878300189971924, 120.0],\n",
    " [0.22697605192661285, 121.0],\n",
    " [0.23067080974578857, 122.0],\n",
    " [0.2220730036497116, 123.0],\n",
    " [0.2284488081932068, 124.0],\n",
    " [0.2348761409521103, 125.0],\n",
    " [0.23717206716537476, 126.0],\n",
    " [0.23296040296554565, 127.0],\n",
    " [0.25034254789352417, 128.0],\n",
    " [0.2601611316204071, 129.0],\n",
    " [0.2647421956062317, 130.0],\n",
    " [0.26730775833129883, 131.0],\n",
    " [0.27025479078292847, 132.0],\n",
    " [0.27636265754699707, 133.0],\n",
    " [0.27847379446029663, 134.0],\n",
    " [0.27342283725738525, 135.0],\n",
    " [0.27500995993614197, 136.0],\n",
    " [0.2731720805168152, 137.0],\n",
    " [0.26716336607933044, 138.0],\n",
    " [0.27135801315307617, 139.0],\n",
    " [0.27366846799850464, 140.0],\n",
    " [0.27307766675949097, 141.0],\n",
    " [0.26970046758651733, 142.0],\n",
    " [0.265244722366333, 143.0],\n",
    " [0.2666723430156708, 144.0],\n",
    " [0.2644517123699188, 145.0],\n",
    " [0.26428771018981934, 146.0],\n",
    " [0.25539448857307434, 147.0],\n",
    " [0.25669604539871216, 148.0],\n",
    " [0.2531132102012634, 149.0],\n",
    " [0.2517724931240082, 150.0],\n",
    " [0.2434360533952713, 151.0],\n",
    " [0.24880339205265045, 152.0],\n",
    " [0.2486870288848877, 153.0],\n",
    " [0.2500792443752289, 154.0],\n",
    " [0.2501313388347626, 155.0],\n",
    " [0.2547929286956787, 156.0],\n",
    " [0.25970685482025146, 157.0],\n",
    " [0.2573693096637726, 158.0],\n",
    " [0.2569499909877777, 159.0],\n",
    " [0.2568057179450989, 160.0],\n",
    " [0.2553507685661316, 161.0],\n",
    " [0.25326621532440186, 162.0],\n",
    " [0.2232494056224823, 163.0],\n",
    " [0.21315141022205353, 164.0],\n",
    " [0.20238319039344788, 165.0],\n",
    " [0.19289618730545044, 166.0],\n",
    " [0.1836029589176178, 167.0],\n",
    " [0.20234724879264832, 168.0],\n",
    " [0.20189324021339417, 169.0],\n",
    " [0.21023491024971008, 170.0],\n",
    " [0.19550183415412903, 171.0],\n",
    " [0.20939205586910248, 172.0],\n",
    " [0.2092633843421936, 173.0],\n",
    " [0.21818752586841583, 174.0],\n",
    " [0.20456576347351074, 175.0],\n",
    " [0.2193496823310852, 176.0],\n",
    " [0.21999438107013702, 177.0],\n",
    " [0.22343401610851288, 178.0],\n",
    " [0.22649765014648438, 179.0],\n",
    " [0.2293551117181778, 180.0],\n",
    " [0.2305237352848053, 181.0],\n",
    " [0.22928276658058167, 182.0],\n",
    " [0.21700681746006012, 183.0],\n",
    " [0.22655247151851654, 184.0],\n",
    " [0.23336680233478546, 185.0],\n",
    " [0.2319304347038269, 186.0],\n",
    " [0.2337454855442047, 187.0],\n",
    " [0.2380160689353943, 188.0],\n",
    " [0.2434564232826233, 189.0],\n",
    " [0.2432679831981659, 190.0],\n",
    " [0.24947011470794678, 191.0],\n",
    " [0.2501923441886902, 192.0],\n",
    " [0.24888905882835388, 193.0],\n",
    " [0.24493466317653656, 194.0],\n",
    " [0.23621201515197754, 195.0],\n",
    " [0.2379138320684433, 196.0],\n",
    " [0.23988066613674164, 197.0],\n",
    " [0.23621460795402527, 198.0],\n",
    " [0.2316235452890396, 199.0],\n",
    " [0.22975139319896698, 200.0],\n",
    " [0.2271522581577301, 201.0],\n",
    " [0.22128771245479584, 202.0],\n",
    " [0.21009483933448792, 203.0],\n",
    " [0.20856589078903198, 204.0],\n",
    " [0.20462341606616974, 205.0],\n",
    " [0.20369315147399902, 206.0],\n",
    " [0.20511730015277863, 207.0],\n",
    " [0.19978350400924683, 208.0],\n",
    " [0.19621542096138, 209.0],\n",
    " [0.1995498239994049, 210.0],\n",
    " [0.19654496014118195, 211.0],\n",
    " [0.1947399079799652, 212.0],\n",
    " [0.19455504417419434, 213.0],\n",
    " [0.19152522087097168, 214.0],\n",
    " [0.191640242934227, 215.0],\n",
    " [0.19122152030467987, 216.0],\n",
    " [0.1943923979997635, 217.0],\n",
    " [0.19742585718631744, 218.0],\n",
    " [0.2013944685459137, 219.0],\n",
    " [0.20285537838935852, 220.0],\n",
    " [0.20029565691947937, 221.0],\n",
    " [0.20083148777484894, 222.0],\n",
    " [0.1974163055419922, 223.0],\n",
    " [0.19510655105113983, 224.0],\n",
    " [0.1895751953125, 225.0],\n",
    " [0.1889973282814026, 226.0],\n",
    " [0.1875729113817215, 227.0],\n",
    " [0.19177892804145813, 228.0],\n",
    " [0.18849021196365356, 229.0],\n",
    " [0.18783196806907654, 230.0],\n",
    " [0.1757890284061432, 231.0],\n",
    " [0.17571721971035004, 232.0],\n",
    " [0.17839181423187256, 233.0],\n",
    " [0.17669695615768433, 234.0],\n",
    " [0.17622894048690796, 235.0],\n",
    " [0.17364951968193054, 236.0],\n",
    " [0.17253315448760986, 237.0],\n",
    " [0.17428617179393768, 238.0],\n",
    " [0.17812135815620422, 239.0],\n",
    " [0.17817167937755585, 240.0],\n",
    " [0.17791636288166046, 241.0],\n",
    " [0.1770985722541809, 242.0],\n",
    " [0.18293508887290955, 243.0],\n",
    " [0.19003719091415405, 244.0],\n",
    " [0.19019640982151031, 245.0],\n",
    " [0.1901942789554596, 246.0],\n",
    " [0.18846532702445984, 247.0],\n",
    " [0.18565616011619568, 248.0],\n",
    " [0.18208511173725128, 249.0],\n",
    " [0.18267467617988586, 250.0]]"
   ]
  },
  {
   "cell_type": "code",
   "execution_count": 610,
   "id": "2b05de98-c6ac-4137-ac3e-4f956f6ec4e4",
   "metadata": {},
   "outputs": [
    {
     "data": {
      "image/png": "[encoded data removed]",
      "text/plain": [
       "<Figure size 640x480 with 1 Axes>"
      ]
     },
     "metadata": {},
     "output_type": "display_data"
    }
   ],
   "source": [
    "plt.plot([x[1] for x in logits_37], [x[0] for x in logits_37])\n",
    "plt.plot([x[1] for x in stuff38], [x[0] for x in stuff38])\n",
    "plt.show()"
   ]
  },
  {
   "cell_type": "code",
   "execution_count": 625,
   "id": "ef919bd6-cf68-4a47-adf9-82d01495bb07",
   "metadata": {},
   "outputs": [
    {
     "data": {
      "text/plain": [
       "(39, [90])"
      ]
     },
     "execution_count": 625,
     "metadata": {},
     "output_type": "execute_result"
    }
   ],
   "source": [
    "data[38]"
   ]
  },
  {
   "cell_type": "code",
   "execution_count": 591,
   "id": "7bd86c54-feff-4e20-95a7-031baa04adff",
   "metadata": {},
   "outputs": [
    {
     "data": {
      "text/plain": [
       "66"
      ]
     },
     "execution_count": 591,
     "metadata": {},
     "output_type": "execute_result"
    }
   ],
   "source": [
    "CLIP_g[37]"
   ]
  },
  {
   "cell_type": "code",
   "execution_count": 600,
   "id": "62a5b17e-0db1-485c-8889-d4c0887d818a",
   "metadata": {},
   "outputs": [],
   "source": [
    "IV_g8[37] = 72"
   ]
  },
  {
   "cell_type": "code",
   "execution_count": 624,
   "id": "aca311ba-f6c7-455c-a323-413d11e53eea",
   "metadata": {},
   "outputs": [
    {
     "data": {
      "image/png": "[encoded data removed]",
      "text/plain": [
       "<Figure size 800x500 with 1 Axes>"
      ]
     },
     "metadata": {},
     "output_type": "display_data"
    }
   ],
   "source": [
    "compare = 'IV_g8,CLIP_g'\n",
    "\n",
    "names = compare.split(',')\n",
    "compare = [eval(x) for x in names]\n",
    "\n",
    "# offsets = [find_best_offset(x) for x in compare]\n",
    "\n",
    "plt.figure(figsize=[8, 5])\n",
    "\n",
    "plt.plot(range(1, 88),showMetric2(compare[0]), linewidth=3, color=\"black\")\n",
    "plt.plot(range(1, 88),showMetric2(compare[1]), color=\"red\", linestyle=\"dashdot\")\n",
    "# for model in range(len(names)):\n",
    "    # plt.plot(range(50),showMetric2([x + offsets[model] for x in compare[model]]))\n",
    "\n",
    "# plt.xticks(np.arange(1, 50, 1))\n",
    "# plt.xlim(35, 40)\n",
    "\n",
    "plt.gca().set_ylim(bottom=0)\n",
    "# plt.yticks(np.arange(0, 300, 50))\n",
    "\n",
    "plt.xlabel(\"Video ID\", fontsize=12)\n",
    "plt.ylabel(\"Distance from Ground Truth Frame\", fontsize=12)\n",
    "plt.legend([\"New Algorithm\", \"Previous Algorithm\"], fontsize=12)\n",
    "# plt.title(\"Regular Dataset\")\n",
    "\n",
    "plt.gca().set_position([0, 0, 1, 1])\n",
    "plt.savefig(\"8-compare-r.svg\", bbox_inches = \"tight\")\n",
    "plt.show()"
   ]
  },
  {
   "cell_type": "code",
   "execution_count": null,
   "id": "2b547919-3925-483c-b3b1-1a23a034ae79",
   "metadata": {},
   "outputs": [],
   "source": [
    "compare = [IV_a8, CLIP_a]\n",
    "\n",
    "offsets = [find_best_offset(x) for x in compare]\n",
    "\n",
    "plt.figure(figsize=[8, 6])\n",
    "plt.plot(range(50),showMetric2([x + offsets[0] for x in compare[0]]), linewidth=3, color=\"black\")\n",
    "plt.plot(range(50),showMetric2([x + offsets[1] for x in compare[1]]), color=\"red\", linestyle=\"dashdot\")\n",
    "\n",
    "# plt.xticks(np.arange(1, 50, 1))\n",
    "# plt.xlim(20, 25)\n",
    "plt.legend([\"Sliding Window Technique\", \"Using CLIP Model Directly\"])\n",
    "# plt.axis('off')\n",
    "\n",
    "plt.gca().set_position([0, 0, 1, 1])\n",
    "plt.savefig(\"output2.svg\", bbox_inches = \"tight\")\n",
    "plt.show()"
   ]
  },
  {
   "cell_type": "code",
   "execution_count": null,
   "id": "ebfca153-71e9-41b7-9887-880af5c6d1fd",
   "metadata": {},
   "outputs": [],
   "source": [
    "plt.figure(figsize=[6, 6])\n",
    "plt.scatter(range(1, 50),showMetric2([x + 2 for x in cut_intern]), marker = \"*\", s = 9)\n",
    "plt.scatter(range(1, 50),showMetric2([x - 1 for x in cut_clip]), marker='o', s = 9)\n",
    "# plt.plot(range(1, 50),showMetric2([x + 2 for x in cut_intern_l]))\n",
    "\n",
    "# plt.xticks(np.arange(1, 50, 1))\n",
    "# plt.xlim(20, 30)\n",
    "plt.legend([\"Sliding Window Technique\", \"Using CLIP Model Directly\"])\n",
    "# plt.axis('off')\n",
    "\n",
    "plt.gca().set_position([0, 0, 1, 1])\n",
    "plt.savefig(\"test.svg\")\n",
    "plt.show()"
   ]
  },
  {
   "cell_type": "code",
   "execution_count": 455,
   "id": "be0ec1ce-e855-46f2-8be0-6d49062d0165",
   "metadata": {},
   "outputs": [
    {
     "name": "stdout",
     "output_type": "stream",
     "text": [
      "IV_a100 Score  : 45\n",
      "CLIP_a Score  : 5\n",
      "Tied          : 0\n"
     ]
    }
   ],
   "source": [
    "def arenaMetric(model1, model2):\n",
    "    exec(f\"{model1}_score = 0\")\n",
    "    exec(f\"{model2}_score = 0\")\n",
    "    tie_score = 0\n",
    "\n",
    "    offsets = [find_best_offset(x) for x in [eval(model1), eval(model2)]]\n",
    "    pred1, pred2 = [x + offsets[0] for x in eval(model1)], [x + offsets[1] for x in eval(model2)]\n",
    "    \n",
    "    for idx in range(len(pred1)):\n",
    "        peak1 = findClosest(pred1[idx], data[idx][1])\n",
    "        peak2 = findClosest(pred2[idx], data[idx][1])\n",
    "        \n",
    "        if abs(pred1[idx] - peak1) < abs(pred2[idx] - peak2):\n",
    "            exec(f\"{model1}_score += 1\")\n",
    "        elif abs(pred1[idx] - peak1) > abs(pred2[idx] - peak2):\n",
    "            exec(f\"{model2}_score += 1\")\n",
    "        else:\n",
    "            tie_score += 1\n",
    "    print(f\"{model1} Score  :\",eval(f\"{model1}_score\"))\n",
    "    print(f\"{model2} Score  :\",eval(f\"{model2}_score\"))\n",
    "    print(\"Tied          :\",tie_score)\n",
    "\n",
    "arenaMetric('IV_a100', 'CLIP_a')"
   ]
  },
  {
   "cell_type": "code",
   "execution_count": null,
   "id": "fa62fafe-35d6-43dc-8279-175df02c0b38",
   "metadata": {
    "jupyter": {
     "source_hidden": true
    }
   },
   "outputs": [],
   "source": [
    "import cv2\n",
    "import numpy as np\n",
    "from PIL import Image\n",
    "from IPython.display import clear_output\n",
    "\n",
    "def load_basketball(basketball_path, size):\n",
    "    basketball = Image.open(basketball_path)\n",
    "    basketball = basketball.resize((size, size), Image.LANCZOS)\n",
    "    return basketball\n",
    "\n",
    "def rotate_basketball(basketball):\n",
    "    random_angle = np.random.randint(0, 360)\n",
    "    return basketball.rotate(random_angle, expand=True)\n",
    "\n",
    "def add_basketball_to_frame(frame, basketball):\n",
    "    frame_pil = Image.fromarray(cv2.cvtColor(frame, cv2.COLOR_BGR2RGB))\n",
    "\n",
    "    basketball_rotated = rotate_basketball(basketball)\n",
    "\n",
    "    frame_width, frame_height = frame_pil.size\n",
    "    basketball_width, basketball_height = basketball_rotated.size\n",
    "\n",
    "    max_x = frame_width - basketball_width\n",
    "    max_y = frame_height - basketball_height\n",
    "    rand_x = np.random.randint(0, max_x)\n",
    "    rand_y = np.random.randint(0, max_y)\n",
    "\n",
    "    frame_pil.paste(basketball_rotated, (rand_x, rand_y), basketball_rotated)\n",
    "    return cv2.cvtColor(np.array(frame_pil), cv2.COLOR_RGB2BGR)\n",
    "\n",
    "def process_video(input_video_path, output_video_path, basketball_path, basketball_size):\n",
    "    basketball = load_basketball(basketball_path, basketball_size)\n",
    "    cap = cv2.VideoCapture(input_video_path)\n",
    "    fps = cap.get(cv2.CAP_PROP_FPS)\n",
    "    width = int(cap.get(cv2.CAP_PROP_FRAME_WIDTH))\n",
    "    height = int(cap.get(cv2.CAP_PROP_FRAME_HEIGHT))\n",
    "    fourcc = cv2.VideoWriter_fourcc(*'mp4v')\n",
    "\n",
    "    out = cv2.VideoWriter(output_video_path, fourcc, fps, (width, height))\n",
    "\n",
    "    count = 1\n",
    "    while cap.isOpened():\n",
    "        ret, frame = cap.read()\n",
    "        if not ret:\n",
    "            break\n",
    "        count += 1\n",
    "        clear_output(wait=True)\n",
    "        frame_with_basketball = add_basketball_to_frame(frame, basketball)\n",
    "\n",
    "        plt.title(str(count))\n",
    "        plt.imshow(frame)\n",
    "        plt.show()\n",
    "        out.write(frame_with_basketball)\n",
    "\n",
    "    cap.release()\n",
    "    out.release()\n",
    "    cv2.destroyAllWindows()\n",
    "\n",
    "input_video_path = 'augment/9.mp4'\n",
    "output_video_path = 'augment/92.mp4'\n",
    "basketball_path = 'augment_utils/cruise.png'\n",
    "basketball_size = 1\n",
    "\n",
    "process_video(input_video_path, output_video_path, basketball_path, basketball_size)"
   ]
  },
  {
   "cell_type": "code",
   "execution_count": 501,
   "id": "05e438c1-d852-4635-8c15-73e87e34f386",
   "metadata": {
    "scrolled": true
   },
   "outputs": [
    {
     "name": "stdout",
     "output_type": "stream",
     "text": [
      "Moviepy - Building video GIF87/21.mp4.\n",
      "Moviepy - Writing video GIF87/21.mp4\n",
      "\n"
     ]
    },
    {
     "name": "stderr",
     "output_type": "stream",
     "text": [
      "                                                                                                                                                                                              "
     ]
    },
    {
     "name": "stdout",
     "output_type": "stream",
     "text": [
      "Moviepy - Done !\n",
      "Moviepy - video ready GIF87/21.mp4\n",
      "Moviepy - Building video GIF87/34.mp4.\n",
      "Moviepy - Writing video GIF87/34.mp4\n",
      "\n"
     ]
    },
    {
     "name": "stderr",
     "output_type": "stream",
     "text": [
      "                                                                                                                                                                                              \r"
     ]
    },
    {
     "name": "stdout",
     "output_type": "stream",
     "text": [
      "Moviepy - Done !\n",
      "Moviepy - video ready GIF87/34.mp4\n",
      "Moviepy - Building video GIF87/36.mp4.\n",
      "Moviepy - Writing video GIF87/36.mp4\n",
      "\n"
     ]
    },
    {
     "name": "stderr",
     "output_type": "stream",
     "text": [
      "                                                                                                                                                                                              \r"
     ]
    },
    {
     "name": "stdout",
     "output_type": "stream",
     "text": [
      "Moviepy - Done !\n",
      "Moviepy - video ready GIF87/36.mp4\n",
      "Moviepy - Building video GIF87/23.mp4.\n",
      "Moviepy - Writing video GIF87/23.mp4\n",
      "\n"
     ]
    },
    {
     "name": "stderr",
     "output_type": "stream",
     "text": [
      "                                                                                                                                                                                              \r"
     ]
    },
    {
     "name": "stdout",
     "output_type": "stream",
     "text": [
      "Moviepy - Done !\n",
      "Moviepy - video ready GIF87/23.mp4\n",
      "Moviepy - Building video GIF87/37.mp4.\n",
      "Moviepy - Writing video GIF87/37.mp4\n",
      "\n"
     ]
    },
    {
     "name": "stderr",
     "output_type": "stream",
     "text": [
      "                                                                                                                                                                                              \r"
     ]
    },
    {
     "name": "stdout",
     "output_type": "stream",
     "text": [
      "Moviepy - Done !\n",
      "Moviepy - video ready GIF87/37.mp4\n",
      "Moviepy - Building video GIF87/33.mp4.\n",
      "Moviepy - Writing video GIF87/33.mp4\n",
      "\n"
     ]
    },
    {
     "name": "stderr",
     "output_type": "stream",
     "text": [
      "                                                                                                                                                                                              \r"
     ]
    },
    {
     "name": "stdout",
     "output_type": "stream",
     "text": [
      "Moviepy - Done !\n",
      "Moviepy - video ready GIF87/33.mp4\n",
      "Moviepy - Building video GIF87/27.mp4.\n",
      "Moviepy - Writing video GIF87/27.mp4\n",
      "\n"
     ]
    },
    {
     "name": "stderr",
     "output_type": "stream",
     "text": [
      "                                                                                                                                                                                              \r"
     ]
    },
    {
     "name": "stdout",
     "output_type": "stream",
     "text": [
      "Moviepy - Done !\n",
      "Moviepy - video ready GIF87/27.mp4\n",
      "Moviepy - Building video GIF87/26.mp4.\n",
      "Moviepy - Writing video GIF87/26.mp4\n",
      "\n"
     ]
    },
    {
     "name": "stderr",
     "output_type": "stream",
     "text": [
      "                                                                                                                                                                                              \r"
     ]
    },
    {
     "name": "stdout",
     "output_type": "stream",
     "text": [
      "Moviepy - Done !\n",
      "Moviepy - video ready GIF87/26.mp4\n",
      "Moviepy - Building video GIF87/32.mp4.\n",
      "Moviepy - Writing video GIF87/32.mp4\n",
      "\n"
     ]
    },
    {
     "name": "stderr",
     "output_type": "stream",
     "text": [
      "                                                                                                                                                                                              "
     ]
    },
    {
     "name": "stdout",
     "output_type": "stream",
     "text": [
      "Moviepy - Done !\n",
      "Moviepy - video ready GIF87/32.mp4\n"
     ]
    },
    {
     "name": "stderr",
     "output_type": "stream",
     "text": [
      "\r"
     ]
    },
    {
     "name": "stdout",
     "output_type": "stream",
     "text": [
      "Moviepy - Building video GIF87/18.mp4.\n",
      "Moviepy - Writing video GIF87/18.mp4\n",
      "\n"
     ]
    },
    {
     "name": "stderr",
     "output_type": "stream",
     "text": [
      "                                                                                                                                                                                              "
     ]
    },
    {
     "name": "stdout",
     "output_type": "stream",
     "text": [
      "Moviepy - Done !\n",
      "Moviepy - video ready GIF87/18.mp4\n"
     ]
    },
    {
     "name": "stderr",
     "output_type": "stream",
     "text": [
      "\r"
     ]
    },
    {
     "name": "stdout",
     "output_type": "stream",
     "text": [
      "Moviepy - Building video GIF87/24.mp4.\n",
      "Moviepy - Writing video GIF87/24.mp4\n",
      "\n"
     ]
    },
    {
     "name": "stderr",
     "output_type": "stream",
     "text": [
      "                                                                                                                                                                                              \r"
     ]
    },
    {
     "name": "stdout",
     "output_type": "stream",
     "text": [
      "Moviepy - Done !\n",
      "Moviepy - video ready GIF87/24.mp4\n",
      "Moviepy - Building video GIF87/30.mp4.\n",
      "Moviepy - Writing video GIF87/30.mp4\n",
      "\n"
     ]
    },
    {
     "name": "stderr",
     "output_type": "stream",
     "text": [
      "                                                                                                                                                                                              "
     ]
    },
    {
     "name": "stdout",
     "output_type": "stream",
     "text": [
      "Moviepy - Done !\n",
      "Moviepy - video ready GIF87/30.mp4\n"
     ]
    },
    {
     "name": "stderr",
     "output_type": "stream",
     "text": [
      "\r"
     ]
    },
    {
     "name": "stdout",
     "output_type": "stream",
     "text": [
      "Moviepy - Building video GIF87/31.mp4.\n",
      "Moviepy - Writing video GIF87/31.mp4\n",
      "\n"
     ]
    },
    {
     "name": "stderr",
     "output_type": "stream",
     "text": [
      "                                                                                                                                                                                              \r"
     ]
    },
    {
     "name": "stdout",
     "output_type": "stream",
     "text": [
      "Moviepy - Done !\n",
      "Moviepy - video ready GIF87/31.mp4\n",
      "Moviepy - Building video GIF87/25.mp4.\n",
      "Moviepy - Writing video GIF87/25.mp4\n",
      "\n"
     ]
    },
    {
     "name": "stderr",
     "output_type": "stream",
     "text": [
      "                                                                                                                                                                                              "
     ]
    },
    {
     "name": "stdout",
     "output_type": "stream",
     "text": [
      "Moviepy - Done !\n",
      "Moviepy - video ready GIF87/25.mp4\n"
     ]
    },
    {
     "name": "stderr",
     "output_type": "stream",
     "text": [
      "\r"
     ]
    },
    {
     "name": "stdout",
     "output_type": "stream",
     "text": [
      "Moviepy - Building video GIF87/42.mp4.\n",
      "Moviepy - Writing video GIF87/42.mp4\n",
      "\n"
     ]
    },
    {
     "name": "stderr",
     "output_type": "stream",
     "text": [
      "                                                                                                                                                                                              "
     ]
    },
    {
     "name": "stdout",
     "output_type": "stream",
     "text": [
      "Moviepy - Done !\n",
      "Moviepy - video ready GIF87/42.mp4\n"
     ]
    },
    {
     "name": "stderr",
     "output_type": "stream",
     "text": [
      "\r"
     ]
    },
    {
     "name": "stdout",
     "output_type": "stream",
     "text": [
      "Moviepy - Building video GIF87/4.mp4.\n",
      "Moviepy - Writing video GIF87/4.mp4\n",
      "\n"
     ]
    },
    {
     "name": "stderr",
     "output_type": "stream",
     "text": [
      "                                                                                                                                                                                              "
     ]
    },
    {
     "name": "stdout",
     "output_type": "stream",
     "text": [
      "Moviepy - Done !\n",
      "Moviepy - video ready GIF87/4.mp4\n"
     ]
    },
    {
     "name": "stderr",
     "output_type": "stream",
     "text": [
      "\r"
     ]
    },
    {
     "name": "stdout",
     "output_type": "stream",
     "text": [
      "Moviepy - Building video GIF87/57.mp4.\n",
      "Moviepy - Writing video GIF87/57.mp4\n",
      "\n"
     ]
    },
    {
     "name": "stderr",
     "output_type": "stream",
     "text": [
      "                                                                                                                                                                                              \r"
     ]
    },
    {
     "name": "stdout",
     "output_type": "stream",
     "text": [
      "Moviepy - Done !\n",
      "Moviepy - video ready GIF87/57.mp4\n",
      "Moviepy - Building video GIF87/5.mp4.\n",
      "Moviepy - Writing video GIF87/5.mp4\n",
      "\n"
     ]
    },
    {
     "name": "stderr",
     "output_type": "stream",
     "text": [
      "                                                                                                                                                                                              \r"
     ]
    },
    {
     "name": "stdout",
     "output_type": "stream",
     "text": [
      "Moviepy - Done !\n",
      "Moviepy - video ready GIF87/5.mp4\n",
      "Moviepy - Building video GIF87/7.mp4.\n",
      "Moviepy - Writing video GIF87/7.mp4\n",
      "\n"
     ]
    },
    {
     "name": "stderr",
     "output_type": "stream",
     "text": [
      "                                                                                                                                                                                              \r"
     ]
    },
    {
     "name": "stdout",
     "output_type": "stream",
     "text": [
      "Moviepy - Done !\n",
      "Moviepy - video ready GIF87/7.mp4\n",
      "Moviepy - Building video GIF87/55.mp4.\n",
      "Moviepy - Writing video GIF87/55.mp4\n",
      "\n"
     ]
    },
    {
     "name": "stderr",
     "output_type": "stream",
     "text": [
      "                                                                                                                                                                                              "
     ]
    },
    {
     "name": "stdout",
     "output_type": "stream",
     "text": [
      "Moviepy - Done !\n",
      "Moviepy - video ready GIF87/55.mp4\n"
     ]
    },
    {
     "name": "stderr",
     "output_type": "stream",
     "text": [
      "\r"
     ]
    },
    {
     "name": "stdout",
     "output_type": "stream",
     "text": [
      "Moviepy - Building video GIF87/41.mp4.\n",
      "Moviepy - Writing video GIF87/41.mp4\n",
      "\n"
     ]
    },
    {
     "name": "stderr",
     "output_type": "stream",
     "text": [
      "                                                                                                                                                                                              \r"
     ]
    },
    {
     "name": "stdout",
     "output_type": "stream",
     "text": [
      "Moviepy - Done !\n",
      "Moviepy - video ready GIF87/41.mp4\n",
      "Moviepy - Building video GIF87/83.mp4.\n",
      "Moviepy - Writing video GIF87/83.mp4\n",
      "\n"
     ]
    },
    {
     "name": "stderr",
     "output_type": "stream",
     "text": [
      "                                                                                                                                                                                              \r"
     ]
    },
    {
     "name": "stdout",
     "output_type": "stream",
     "text": [
      "Moviepy - Done !\n",
      "Moviepy - video ready GIF87/83.mp4\n",
      "Moviepy - Building video GIF87/40.mp4.\n",
      "Moviepy - Writing video GIF87/40.mp4\n",
      "\n"
     ]
    },
    {
     "name": "stderr",
     "output_type": "stream",
     "text": [
      "                                                                                                                                                                                              \r"
     ]
    },
    {
     "name": "stdout",
     "output_type": "stream",
     "text": [
      "Moviepy - Done !\n",
      "Moviepy - video ready GIF87/40.mp4\n",
      "Moviepy - Building video GIF87/6.mp4.\n",
      "Moviepy - Writing video GIF87/6.mp4\n",
      "\n"
     ]
    },
    {
     "name": "stderr",
     "output_type": "stream",
     "text": [
      "                                                                                                                                                                                              \r"
     ]
    },
    {
     "name": "stdout",
     "output_type": "stream",
     "text": [
      "Moviepy - Done !\n",
      "Moviepy - video ready GIF87/6.mp4\n",
      "Moviepy - Building video GIF87/54.mp4.\n",
      "Moviepy - Writing video GIF87/54.mp4\n",
      "\n"
     ]
    },
    {
     "name": "stderr",
     "output_type": "stream",
     "text": [
      "                                                                                                                                                                                              \r"
     ]
    },
    {
     "name": "stdout",
     "output_type": "stream",
     "text": [
      "Moviepy - Done !\n",
      "Moviepy - video ready GIF87/54.mp4\n",
      "Moviepy - Building video GIF87/2.mp4.\n",
      "Moviepy - Writing video GIF87/2.mp4\n",
      "\n"
     ]
    },
    {
     "name": "stderr",
     "output_type": "stream",
     "text": [
      "                                                                                                                                                                                              \r"
     ]
    },
    {
     "name": "stdout",
     "output_type": "stream",
     "text": [
      "Moviepy - Done !\n",
      "Moviepy - video ready GIF87/2.mp4\n",
      "Moviepy - Building video GIF87/44.mp4.\n",
      "Moviepy - Writing video GIF87/44.mp4\n",
      "\n"
     ]
    },
    {
     "name": "stderr",
     "output_type": "stream",
     "text": [
      "                                                                                                                                                                                              \r"
     ]
    },
    {
     "name": "stdout",
     "output_type": "stream",
     "text": [
      "Moviepy - Done !\n",
      "Moviepy - video ready GIF87/44.mp4\n",
      "Moviepy - Building video GIF87/87.mp4.\n",
      "Moviepy - Writing video GIF87/87.mp4\n",
      "\n"
     ]
    },
    {
     "name": "stderr",
     "output_type": "stream",
     "text": [
      "                                                                                                                                                                                              \r"
     ]
    },
    {
     "name": "stdout",
     "output_type": "stream",
     "text": [
      "Moviepy - Done !\n",
      "Moviepy - video ready GIF87/87.mp4\n",
      "Moviepy - Building video GIF87/86.mp4.\n",
      "Moviepy - Writing video GIF87/86.mp4\n",
      "\n"
     ]
    },
    {
     "name": "stderr",
     "output_type": "stream",
     "text": [
      "                                                                                                                                                                                              \r"
     ]
    },
    {
     "name": "stdout",
     "output_type": "stream",
     "text": [
      "Moviepy - Done !\n",
      "Moviepy - video ready GIF87/86.mp4\n",
      "Moviepy - Building video GIF87/45.mp4.\n",
      "Moviepy - Writing video GIF87/45.mp4\n",
      "\n"
     ]
    },
    {
     "name": "stderr",
     "output_type": "stream",
     "text": [
      "                                                                                                                                                                                              \r"
     ]
    },
    {
     "name": "stdout",
     "output_type": "stream",
     "text": [
      "Moviepy - Done !\n",
      "Moviepy - video ready GIF87/45.mp4\n",
      "Moviepy - Building video GIF87/51.mp4.\n",
      "Moviepy - Writing video GIF87/51.mp4\n",
      "\n"
     ]
    },
    {
     "name": "stderr",
     "output_type": "stream",
     "text": [
      "                                                                                                                                                                                              \r"
     ]
    },
    {
     "name": "stdout",
     "output_type": "stream",
     "text": [
      "Moviepy - Done !\n",
      "Moviepy - video ready GIF87/51.mp4\n",
      "Moviepy - Building video GIF87/3.mp4.\n",
      "Moviepy - Writing video GIF87/3.mp4\n",
      "\n"
     ]
    },
    {
     "name": "stderr",
     "output_type": "stream",
     "text": [
      "                                                                                                                                                                                              \r"
     ]
    },
    {
     "name": "stdout",
     "output_type": "stream",
     "text": [
      "Moviepy - Done !\n",
      "Moviepy - video ready GIF87/3.mp4\n",
      "Moviepy - Building video GIF87/47.mp4.\n",
      "Moviepy - Writing video GIF87/47.mp4\n",
      "\n"
     ]
    },
    {
     "name": "stderr",
     "output_type": "stream",
     "text": [
      "                                                                                                                                                                                              \r"
     ]
    },
    {
     "name": "stdout",
     "output_type": "stream",
     "text": [
      "Moviepy - Done !\n",
      "Moviepy - video ready GIF87/47.mp4\n",
      "Moviepy - Building video GIF87/1.mp4.\n",
      "Moviepy - Writing video GIF87/1.mp4\n",
      "\n"
     ]
    },
    {
     "name": "stderr",
     "output_type": "stream",
     "text": [
      "                                                                                                                                                                                              \r"
     ]
    },
    {
     "name": "stdout",
     "output_type": "stream",
     "text": [
      "Moviepy - Done !\n",
      "Moviepy - video ready GIF87/1.mp4\n",
      "Moviepy - Building video GIF87/53.mp4.\n",
      "Moviepy - Writing video GIF87/53.mp4\n",
      "\n"
     ]
    },
    {
     "name": "stderr",
     "output_type": "stream",
     "text": [
      "                                                                                                                                                                                              \r"
     ]
    },
    {
     "name": "stdout",
     "output_type": "stream",
     "text": [
      "Moviepy - Done !\n",
      "Moviepy - video ready GIF87/53.mp4\n",
      "Moviepy - Building video GIF87/52.mp4.\n",
      "Moviepy - Writing video GIF87/52.mp4\n",
      "\n"
     ]
    },
    {
     "name": "stderr",
     "output_type": "stream",
     "text": [
      "                                                                                                                                                                                              "
     ]
    },
    {
     "name": "stdout",
     "output_type": "stream",
     "text": [
      "Moviepy - Done !\n",
      "Moviepy - video ready GIF87/52.mp4\n"
     ]
    },
    {
     "name": "stderr",
     "output_type": "stream",
     "text": [
      "\r"
     ]
    },
    {
     "name": "stdout",
     "output_type": "stream",
     "text": [
      "Moviepy - Building video GIF87/74.mp4.\n",
      "Moviepy - Writing video GIF87/74.mp4\n",
      "\n"
     ]
    },
    {
     "name": "stderr",
     "output_type": "stream",
     "text": [
      "                                                                                                                                                                                              \r"
     ]
    },
    {
     "name": "stdout",
     "output_type": "stream",
     "text": [
      "Moviepy - Done !\n",
      "Moviepy - video ready GIF87/74.mp4\n",
      "Moviepy - Building video GIF87/60.mp4.\n",
      "Moviepy - Writing video GIF87/60.mp4\n",
      "\n"
     ]
    },
    {
     "name": "stderr",
     "output_type": "stream",
     "text": [
      "                                                                                                                                                                                              "
     ]
    },
    {
     "name": "stdout",
     "output_type": "stream",
     "text": [
      "Moviepy - Done !\n",
      "Moviepy - video ready GIF87/60.mp4\n"
     ]
    },
    {
     "name": "stderr",
     "output_type": "stream",
     "text": [
      "\r"
     ]
    },
    {
     "name": "stdout",
     "output_type": "stream",
     "text": [
      "Moviepy - Building video GIF87/49.mp4.\n",
      "Moviepy - Writing video GIF87/49.mp4\n",
      "\n"
     ]
    },
    {
     "name": "stderr",
     "output_type": "stream",
     "text": [
      "                                                                                                                                                                                              \r"
     ]
    },
    {
     "name": "stdout",
     "output_type": "stream",
     "text": [
      "Moviepy - Done !\n",
      "Moviepy - video ready GIF87/49.mp4\n",
      "Moviepy - Building video GIF87/58.mp4.\n",
      "Moviepy - Writing video GIF87/58.mp4\n",
      "\n"
     ]
    },
    {
     "name": "stderr",
     "output_type": "stream",
     "text": [
      "                                                                                                                                                                                              \r"
     ]
    },
    {
     "name": "stdout",
     "output_type": "stream",
     "text": [
      "Moviepy - Done !\n",
      "Moviepy - video ready GIF87/58.mp4\n",
      "Moviepy - Building video GIF87/8.mp4.\n",
      "Moviepy - Writing video GIF87/8.mp4\n",
      "\n"
     ]
    },
    {
     "name": "stderr",
     "output_type": "stream",
     "text": [
      "                                                                                                                                                                                              "
     ]
    },
    {
     "name": "stdout",
     "output_type": "stream",
     "text": [
      "Moviepy - Done !\n",
      "Moviepy - video ready GIF87/8.mp4\n"
     ]
    },
    {
     "name": "stderr",
     "output_type": "stream",
     "text": [
      "\r"
     ]
    },
    {
     "name": "stdout",
     "output_type": "stream",
     "text": [
      "Moviepy - Building video GIF87/9.mp4.\n",
      "Moviepy - Writing video GIF87/9.mp4\n",
      "\n"
     ]
    },
    {
     "name": "stderr",
     "output_type": "stream",
     "text": [
      "                                                                                                                                                                                              \r"
     ]
    },
    {
     "name": "stdout",
     "output_type": "stream",
     "text": [
      "Moviepy - Done !\n",
      "Moviepy - video ready GIF87/9.mp4\n",
      "Moviepy - Building video GIF87/28.mp4.\n",
      "Moviepy - Writing video GIF87/28.mp4\n",
      "\n"
     ]
    },
    {
     "name": "stderr",
     "output_type": "stream",
     "text": [
      "                                                                                                                                                                                              \r"
     ]
    },
    {
     "name": "stdout",
     "output_type": "stream",
     "text": [
      "Moviepy - Done !\n",
      "Moviepy - video ready GIF87/28.mp4\n",
      "Moviepy - Building video GIF87/29.mp4.\n",
      "Moviepy - Writing video GIF87/29.mp4\n",
      "\n"
     ]
    },
    {
     "name": "stderr",
     "output_type": "stream",
     "text": [
      "                                                                                                                                                                                              "
     ]
    },
    {
     "name": "stdout",
     "output_type": "stream",
     "text": [
      "Moviepy - Done !\n",
      "Moviepy - video ready GIF87/29.mp4\n"
     ]
    },
    {
     "name": "stderr",
     "output_type": "stream",
     "text": [
      "\r"
     ]
    },
    {
     "name": "stdout",
     "output_type": "stream",
     "text": [
      "Moviepy - Building video GIF87/13.mp4.\n",
      "Moviepy - Writing video GIF87/13.mp4\n",
      "\n"
     ]
    },
    {
     "name": "stderr",
     "output_type": "stream",
     "text": [
      "                                                                                                                                                                                              \r"
     ]
    },
    {
     "name": "stdout",
     "output_type": "stream",
     "text": [
      "Moviepy - Done !\n",
      "Moviepy - video ready GIF87/13.mp4\n",
      "Moviepy - Building video GIF87/39.mp4.\n",
      "Moviepy - Writing video GIF87/39.mp4\n",
      "\n"
     ]
    },
    {
     "name": "stderr",
     "output_type": "stream",
     "text": [
      "                                                                                                                                                                                              \r"
     ]
    },
    {
     "name": "stdout",
     "output_type": "stream",
     "text": [
      "Moviepy - Done !\n",
      "Moviepy - video ready GIF87/39.mp4\n",
      "Moviepy - Building video GIF87/10.mp4.\n",
      "Moviepy - Writing video GIF87/10.mp4\n",
      "\n"
     ]
    },
    {
     "name": "stderr",
     "output_type": "stream",
     "text": [
      "                                                                                                                                                                                              \r"
     ]
    },
    {
     "name": "stdout",
     "output_type": "stream",
     "text": [
      "Moviepy - Done !\n",
      "Moviepy - video ready GIF87/10.mp4\n"
     ]
    }
   ],
   "source": [
    "import os\n",
    "import shutil\n",
    "from moviepy.editor import VideoFileClip\n",
    "\n",
    "input_folder = 'gifs'\n",
    "output_folder = 'GIF87'\n",
    "\n",
    "os.makedirs(output_folder, exist_ok=True)\n",
    "\n",
    "new_files = []\n",
    "for filename in os.listdir(input_folder):\n",
    "    file_path = os.path.join(input_folder, filename)\n",
    "    \n",
    "    if filename.endswith('.mp4'):\n",
    "        shutil.copy(file_path, os.path.join(output_folder, filename))\n",
    "        new_files.append(file_path)\n",
    "    else:\n",
    "        output_path = os.path.join(output_folder, os.path.splitext(filename)[0] + '.mp4')\n",
    "        clip = VideoFileClip(file_path)\n",
    "        clip.write_videofile(output_path)\n",
    "        clip.close()"
   ]
  },
  {
   "cell_type": "code",
   "execution_count": 504,
   "id": "aa49588a-93c3-4305-8901-5591eccbd142",
   "metadata": {},
   "outputs": [
    {
     "name": "stdout",
     "output_type": "stream",
     "text": [
      "[11, 12, 14, 15, 16, 17, 19, 20, 22, 35, 38, 43, 46, 48, 50, 56, 59, 61, 62, 63, 64, 65, 66, 67, 68, 69, 70, 71, 72, 73, 75, 76, 77, 78, 79, 80, 81, 82, 84, 85]\n"
     ]
    }
   ],
   "source": [
    "print(sorted([int(x.split('/')[-1].split('.')[0]) for x in new_files]))"
   ]
  },
  {
   "cell_type": "code",
   "execution_count": null,
   "id": "9a75d401-5973-4327-bc94-2a6d8200ccec",
   "metadata": {},
   "outputs": [],
   "source": []
  }
 ],
 "metadata": {
  "kernelspec": {
   "display_name": "Python 3 (ipykernel)",
   "language": "python",
   "name": "python3"
  },
  "language_info": {
   "codemirror_mode": {
    "name": "ipython",
    "version": 3
   },
   "file_extension": ".py",
   "mimetype": "text/x-python",
   "name": "python",
   "nbconvert_exporter": "python",
   "pygments_lexer": "ipython3",
   "version": "3.9.19"
  }
 },
 "nbformat": 4,
 "nbformat_minor": 5
}
