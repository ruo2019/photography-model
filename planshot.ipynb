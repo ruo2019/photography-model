{
 "cells": [
  {
   "cell_type": "markdown",
   "metadata": {
    "id": "53N4k0pj_9qL"
   },
   "source": [
    "# Installing Packaging"
   ]
  },
  {
   "cell_type": "code",
   "execution_count": 2,
   "metadata": {
    "colab": {
     "base_uri": "https://localhost:8080/"
    },
    "id": "0BpdJkdBssk9",
    "outputId": "3d9059a1-7707-4456-8d53-ba36e3d5bbcc"
   },
   "outputs": [
    {
     "name": "stdout",
     "output_type": "stream",
     "text": [
      "Requirement already satisfied: ftfy in /opt/miniconda3/envs/xclip/lib/python3.9/site-packages (6.2.3)\n",
      "Requirement already satisfied: regex in /opt/miniconda3/envs/xclip/lib/python3.9/site-packages (2024.7.24)\n",
      "Requirement already satisfied: tqdm in /opt/miniconda3/envs/xclip/lib/python3.9/site-packages (4.66.5)\n",
      "Requirement already satisfied: wcwidth<0.3.0,>=0.2.12 in /opt/miniconda3/envs/xclip/lib/python3.9/site-packages (from ftfy) (0.2.13)\n",
      "Collecting git+https://github.com/openai/CLIP.git\n",
      "  Cloning https://github.com/openai/CLIP.git to /private/var/folders/zx/46y7zv8x5gd6xfp0s16kr0w00000gp/T/pip-req-build-jo9hl00j\n",
      "  Running command git clone --filter=blob:none --quiet https://github.com/openai/CLIP.git /private/var/folders/zx/46y7zv8x5gd6xfp0s16kr0w00000gp/T/pip-req-build-jo9hl00j\n",
      "  Resolved https://github.com/openai/CLIP.git to commit dcba3cb2e2827b402d2701e7e1c7d9fed8a20ef1\n",
      "  Preparing metadata (setup.py) ... \u001b[?25ldone\n",
      "\u001b[?25hRequirement already satisfied: ftfy in /opt/miniconda3/envs/xclip/lib/python3.9/site-packages (from clip==1.0) (6.2.3)\n",
      "Requirement already satisfied: packaging in /opt/miniconda3/envs/xclip/lib/python3.9/site-packages (from clip==1.0) (24.1)\n",
      "Requirement already satisfied: regex in /opt/miniconda3/envs/xclip/lib/python3.9/site-packages (from clip==1.0) (2024.7.24)\n",
      "Requirement already satisfied: tqdm in /opt/miniconda3/envs/xclip/lib/python3.9/site-packages (from clip==1.0) (4.66.5)\n",
      "Requirement already satisfied: torch in /opt/miniconda3/envs/xclip/lib/python3.9/site-packages (from clip==1.0) (2.4.1)\n",
      "Requirement already satisfied: torchvision in /opt/miniconda3/envs/xclip/lib/python3.9/site-packages (from clip==1.0) (0.19.1)\n",
      "Requirement already satisfied: wcwidth<0.3.0,>=0.2.12 in /opt/miniconda3/envs/xclip/lib/python3.9/site-packages (from ftfy->clip==1.0) (0.2.13)\n",
      "Requirement already satisfied: filelock in /opt/miniconda3/envs/xclip/lib/python3.9/site-packages (from torch->clip==1.0) (3.16.0)\n",
      "Requirement already satisfied: typing-extensions>=4.8.0 in /opt/miniconda3/envs/xclip/lib/python3.9/site-packages (from torch->clip==1.0) (4.11.0)\n",
      "Requirement already satisfied: sympy in /opt/miniconda3/envs/xclip/lib/python3.9/site-packages (from torch->clip==1.0) (1.13.2)\n",
      "Requirement already satisfied: networkx in /opt/miniconda3/envs/xclip/lib/python3.9/site-packages (from torch->clip==1.0) (3.2.1)\n",
      "Requirement already satisfied: jinja2 in /opt/miniconda3/envs/xclip/lib/python3.9/site-packages (from torch->clip==1.0) (3.1.4)\n",
      "Requirement already satisfied: fsspec in /opt/miniconda3/envs/xclip/lib/python3.9/site-packages (from torch->clip==1.0) (2024.9.0)\n",
      "Requirement already satisfied: numpy in /opt/miniconda3/envs/xclip/lib/python3.9/site-packages (from torchvision->clip==1.0) (2.0.2)\n",
      "Requirement already satisfied: pillow!=8.3.*,>=5.3.0 in /opt/miniconda3/envs/xclip/lib/python3.9/site-packages (from torchvision->clip==1.0) (10.4.0)\n",
      "Requirement already satisfied: MarkupSafe>=2.0 in /opt/miniconda3/envs/xclip/lib/python3.9/site-packages (from jinja2->torch->clip==1.0) (2.1.3)\n",
      "Requirement already satisfied: mpmath<1.4,>=1.1.0 in /opt/miniconda3/envs/xclip/lib/python3.9/site-packages (from sympy->torch->clip==1.0) (1.3.0)\n"
     ]
    }
   ],
   "source": [
    "! pip install ftfy regex tqdm\n",
    "! pip install git+https://github.com/openai/CLIP.git"
   ]
  },
  {
   "cell_type": "code",
   "execution_count": 1,
   "metadata": {
    "colab": {
     "base_uri": "https://localhost:8080/"
    },
    "id": "C1hkDT38hSaP",
    "outputId": "0caecc2b-0811-4663-8eb7-ba1af247121a"
   },
   "outputs": [
    {
     "name": "stdout",
     "output_type": "stream",
     "text": [
      "Torch version: 2.4.1\n",
      "CLIP Models: ['RN50', 'RN101', 'RN50x4', 'RN50x16', 'RN50x64', 'ViT-B/32', 'ViT-B/16', 'ViT-L/14', 'ViT-L/14@336px']\n"
     ]
    }
   ],
   "source": [
    "from pkg_resources import packaging\n",
    "from collections import OrderedDict\n",
    "import matplotlib.pyplot as plt\n",
    "from tqdm.notebook import tqdm\n",
    "import IPython.display\n",
    "from os import system\n",
    "from PIL import Image, ImageTk\n",
    "import urllib.request\n",
    "import tkinter as tk\n",
    "import pandas as pd\n",
    "import numpy as np\n",
    "import skimage\n",
    "import pickle\n",
    "import torch\n",
    "import time\n",
    "import math\n",
    "import clip\n",
    "import cv2\n",
    "import os\n",
    "%matplotlib inline\n",
    "%config InlineBackend.figure_format = 'retina'\n",
    "\n",
    "print(\"Torch version:\", torch.__version__)\n",
    "print(\"CLIP Models:\",clip.available_models())\n",
    "\n",
    "def pickle_read(file):\n",
    "    with open(file, 'rb') as f:\n",
    "        data = pickle.load(f)\n",
    "    return data\n",
    "\n",
    "def pickle_write(a, b):\n",
    "    pickle_filename = a if len(a) >= 4 and a[-4:] == \".pkl\" else b\n",
    "    data = b if pickle_filename == a else a\n",
    "    with open(pickle_filename, 'wb') as file:\n",
    "        pickle.dump(data, file)"
   ]
  },
  {
   "cell_type": "markdown",
   "metadata": {
    "id": "eFxgLV5HAEEw"
   },
   "source": [
    "# Loading the model\n",
    "\n",
    "`clip.available_models()` will list the names of available CLIP models."
   ]
  },
  {
   "cell_type": "code",
   "execution_count": 63,
   "metadata": {
    "colab": {
     "base_uri": "https://localhost:8080/"
    },
    "id": "IBRVTY9lbGm8",
    "outputId": "7d4e06e3-4d42-4e35-b1a6-bd390d4c0ce9"
   },
   "outputs": [
    {
     "name": "stderr",
     "output_type": "stream",
     "text": [
      "100%|███████████████████████████████████████| 890M/890M [00:49<00:00, 18.8MiB/s]\n"
     ]
    },
    {
     "name": "stdout",
     "output_type": "stream",
     "text": [
      "Model parameters: 427,616,513\n",
      "Input resolution: 224\n",
      "Context length: 77\n",
      "Vocab size: 49408\n"
     ]
    }
   ],
   "source": [
    "model, preprocess = clip.load(\"ViT-L/14\") # CHANGE BACK LATER TO ViT-B/32 CHUNGUST\n",
    "input_resolution = model.visual.input_resolution\n",
    "context_length = model.context_length\n",
    "vocab_size = model.vocab_size\n",
    "\n",
    "print(\"Model parameters:\", f\"{np.sum([int(np.prod(p.shape)) for p in model.parameters()]):,}\")\n",
    "print(\"Input resolution:\", input_resolution)\n",
    "print(\"Context length:\", context_length)\n",
    "print(\"Vocab size:\", vocab_size)"
   ]
  },
  {
   "cell_type": "markdown",
   "metadata": {
    "id": "WEVKsji6WOIX"
   },
   "source": [
    "## Building features\n",
    "\n",
    "We normalize the images, tokenize each text input, and run the forward pass of the model to get the image and text features."
   ]
  },
  {
   "cell_type": "code",
   "execution_count": 3,
   "metadata": {
    "id": "MfirHzM2hvDe"
   },
   "outputs": [],
   "source": [
    "def loadImage(url, rows=5, cols=5):\n",
    "  original_images = []\n",
    "  urllib.request.urlretrieve(\n",
    "    url,\n",
    "    \"img.gif\")\n",
    "  im = Image.open(\"img.gif\")\n",
    "  try:\n",
    "    while 1:\n",
    "      im.seek(im.tell()+1)\n",
    "      original_images.append(im.convert(\"RGB\"))\n",
    "  except EOFError:\n",
    "    pass\n",
    "\n",
    "  print(len(original_images))\n",
    "\n",
    "  processed_images = []\n",
    "\n",
    "  for image in original_images:\n",
    "    processed_images.append(preprocess(image))\n",
    "\n",
    "  plt.figure(figsize=(20, 10))\n",
    "  start = 0\n",
    "  for i in range(rows*cols):\n",
    "    plt.subplot(rows, cols, i+1)\n",
    "    plt.imshow(original_images[start+i])\n",
    "    plt.axis('off')\n",
    "    #plt.title(str(start+i))\n",
    "  plt.tight_layout()\n",
    "  plt.subplots_adjust(wspace=0, hspace=0, left=0, right=1, bottom=0, top=1)\n",
    "\n",
    "  return original_images, processed_images"
   ]
  },
  {
   "cell_type": "markdown",
   "metadata": {},
   "source": [
    "```Python\n",
    "url = 'https://media1.giphy.com/media/lqdJsUDvJnHBgM82HB/giphy.gif'\n",
    "texts = ['a whale jumping out of water']\n",
    "orig_imgs, proc_imgs = loadImage(url,7,10)\n",
    "findMatch(orig_imgs, proc_imgs, texts)\n",
    "```"
   ]
  },
  {
   "cell_type": "code",
   "execution_count": 2,
   "metadata": {},
   "outputs": [],
   "source": [
    "from iv2_utils.iv2 import *\n",
    "from IPython.display import clear_output\n",
    "from PIL import Image, ImageSequence\n",
    "import matplotlib.pyplot as plt\n",
    "from tqdm.notebook import tqdm\n",
    "import numpy as np\n",
    "import shutil\n",
    "import cv2\n",
    "import os"
   ]
  },
  {
   "cell_type": "markdown",
   "metadata": {},
   "source": [
    "### Augmenting Files\n",
    "```Python\n",
    "if 'aug1' in os.listdir('.'):\n",
    "    shutil.rmtree('aug1')\n",
    "if 'aug2' in os.listdir('.'):\n",
    "    shutil.rmtree('aug2')\n",
    "\n",
    "def get_dim(file_path):\n",
    "    vid = cv2.VideoCapture(file_path)\n",
    "    height = vid.get(cv2.CAP_PROP_FRAME_HEIGHT)\n",
    "    width = vid.get(cv2.CAP_PROP_FRAME_WIDTH)\n",
    "    return height, width\n",
    "\n",
    "backflip_files = list(filter(lambda x: x != 'backflip/.DS_Store',[os.path.join('backflip', x) for x in os.listdir('backflip')]))\n",
    "\n",
    "os.mkdir('aug1')\n",
    "os.mkdir('aug2')\n",
    "for backflip in tqdm(backflip_files):\n",
    "    height, width = get_dim(backflip)\n",
    "    add_noise(backflip, os.path.join('aug1', backflip.split('/')[1]), '../../../Storage/cruise.png', int(min(height, width) / 3))\n",
    "\n",
    "for aug1 in tqdm([os.path.join('aug1',x) for x in os.listdir('aug1')]):\n",
    "    height, width = get_dim(aug1)\n",
    "    add_noise(aug1, os.path.join('aug2', aug1.split('/')[1]), '../../../Storage/cruise.png', int(min(height, width) / 3))\n",
    "\n",
    "shutil.rmtree('aug1')\n",
    "```"
   ]
  },
  {
   "cell_type": "code",
   "execution_count": 4,
   "metadata": {},
   "outputs": [],
   "source": [
    "cached_images = {}\n",
    "\n",
    "def loadGifLocal(local_path, rows=5, cols=5):\n",
    "    if local_path in cached_images: return cached_images[local_path]\n",
    "    original_images = []\n",
    "\n",
    "    im = Image.open(local_path)\n",
    "    \n",
    "    try:\n",
    "        im.seek(im.tell())\n",
    "        original_images.append(im.convert(\"RGB\"))\n",
    "        while 1:\n",
    "            im.seek(im.tell()+1)\n",
    "            original_images.append(im.convert(\"RGB\"))\n",
    "    except EOFError:\n",
    "        pass\n",
    "\n",
    "    processed_images = []\n",
    "\n",
    "    for image in original_images:\n",
    "        processed_images.append(preprocess(image))\n",
    "\n",
    "    cached_images[local_path] = (original_images, processed_images)\n",
    "    return original_images, processed_images\n",
    "\n",
    "def loadMP4Local(local_path, rows=5, cols=5):\n",
    "    video = cv2.VideoCapture(local_path)\n",
    "    fps = video.get(cv2.CAP_PROP_FPS)\n",
    "    total_frames = int(video.get(cv2.CAP_PROP_FRAME_COUNT))\n",
    "    width = int(video.get(cv2.CAP_PROP_FRAME_WIDTH))\n",
    "    height = int(video.get(cv2.CAP_PROP_FRAME_HEIGHT))\n",
    "    \n",
    "    frames = []\n",
    "    success, frame = video.read()\n",
    "    while success:\n",
    "        frame = cv2.cvtColor(frame, cv2.COLOR_BGR2RGB)\n",
    "        frames.append(Image.fromarray(frame))\n",
    "        success, frame = video.read()\n",
    "    video.release()\n",
    "\n",
    "    original_images = frames\n",
    "\n",
    "    processed_images = []\n",
    "\n",
    "    for image in original_images:\n",
    "        processed_images.append(preprocess(image))\n",
    "\n",
    "    return original_images, processed_images\n",
    "\n",
    "def findMatch(original_images, processed_images, texts):\n",
    "  t1 = time.perf_counter()\n",
    "  image_input = torch.tensor(np.stack(processed_images))\n",
    "  text_tokens = clip.tokenize([desc for desc in texts])\n",
    "\n",
    "  with torch.no_grad():\n",
    "      image_features = model.encode_image(image_input).float()\n",
    "      text_features = model.encode_text(text_tokens).float()\n",
    "\n",
    "  image_features /= image_features.norm(dim=-1, keepdim=True)\n",
    "  text_features /= text_features.norm(dim=-1, keepdim=True)\n",
    "  similarity = text_features.cpu().numpy() @ image_features.cpu().numpy().T\n",
    "  t2 = time.perf_counter()\n",
    "\n",
    "  #print(similarity)\n",
    "  # plt.figure(figsize=(18, 6*len(texts)))\n",
    "  y_pred = []\n",
    "  for i, text in enumerate(texts):\n",
    "    # plt.subplot(len(texts),2,1+2*i)\n",
    "    # plt.plot(range(len(similarity[i])), similarity[i])\n",
    "    y_pred.append(similarity[i])\n",
    "    # plt.title(\"best match is: \"+ str(np.argmax(similarity[i])), fontdict={'fontsize': 40})\n",
    "    # plt.subplot(len(texts),2,2+2*i)\n",
    "    # plt.imshow(original_images[np.argmax(similarity[i])])\n",
    "    # plt.title(text, fontdict={'fontsize': 40})\n",
    "  # plt.tight_layout()\n",
    "  return y_pred"
   ]
  },
  {
   "cell_type": "markdown",
   "metadata": {},
   "source": [
    "# Displaying frames"
   ]
  },
  {
   "cell_type": "code",
   "execution_count": 4,
   "metadata": {},
   "outputs": [],
   "source": [
    "def showFrames(path, highlight=False):\n",
    "    global current_pick\n",
    "    video_path = path\n",
    "    cap = cv2.VideoCapture(video_path)\n",
    "    \n",
    "    frames = []\n",
    "    success, frame = cap.read()\n",
    "    while success:\n",
    "        frame = cv2.cvtColor(frame, cv2.COLOR_BGR2RGB)\n",
    "        img = Image.fromarray(frame)\n",
    "        frames.append(img)\n",
    "        success, frame = cap.read()\n",
    "    \n",
    "    cap.release()\n",
    "\n",
    "    if not frames:\n",
    "        print(\"No frames found in the video.\")\n",
    "        return\n",
    "    \n",
    "    root = tk.Tk()\n",
    "    root.title(path)\n",
    "    currIdx = -1\n",
    "\n",
    "    frame_anno = []\n",
    "    def display_frame(index):\n",
    "        global currIdx\n",
    "        frame_label.config(text=f\"Frame {index}\", fg = 'black' if index + 1 not in frame_anno else 'green')\n",
    "        img = ImageTk.PhotoImage(frames[index])\n",
    "        frame_canvas.create_image(0, 0, anchor=tk.NW, image=img)\n",
    "        frame_canvas.image = img\n",
    "        currIdx = index\n",
    "    \n",
    "    frame_label = tk.Label(root, text=\"Frame 0\", font=('Hack', 14), fg=\"red\" if highlight else \"black\")\n",
    "    frame_label.pack()\n",
    "    \n",
    "    frame_canvas = tk.Canvas(root, width=frames[0].width, height=frames[0].height)\n",
    "    frame_canvas.pack()\n",
    "    \n",
    "    display_frame(0)\n",
    "    \n",
    "    filename_entry = tk.Entry(root, font=('Hack', 12))\n",
    "    filename_entry.pack(pady=10)\n",
    "\n",
    "    def next_frame(event):\n",
    "        current_frame = int(frame_label.cget(\"text\").split()[1])\n",
    "        next_index = (current_frame + 1) % len(frames)\n",
    "        display_frame(next_index)\n",
    "\n",
    "    def doubleSkip(event):\n",
    "        next_frame(event)\n",
    "        next_frame(event)\n",
    "    \n",
    "    def prev_frame(event):\n",
    "        current_frame = int(frame_label.cget(\"text\").split()[1])\n",
    "        next_index = (current_frame - 1) % len(frames)\n",
    "        display_frame(next_index)\n",
    "\n",
    "    def doublePrev(event):\n",
    "        prev_frame(event)\n",
    "        prev_frame(event)\n",
    "\n",
    "    def restart(event):\n",
    "        if anno_stock100[-1][0] == path:\n",
    "            anno_stock100.pop(-1)\n",
    "            frame_anno = []\n",
    "            print(\"Removed previous one and reset frame_anno\")\n",
    "            print(anno_stock100)\n",
    "        else:\n",
    "            print(\"Not same path, ignoring\")\n",
    "    \n",
    "    def save_frame(event):\n",
    "        global currIdx\n",
    "        global anno_stock100\n",
    "\n",
    "        phrase = filename_entry.get()  # Get the text from the entry box\n",
    "        anno_stock100.append((path, phrase, frame_anno))\n",
    "        print(\"Saved!!\")\n",
    "        print(anno_stock100)\n",
    "    def add_frame(event):\n",
    "        global currIdx\n",
    "        if currIdx + 1 in frame_anno:\n",
    "            frame_anno.remove(currIdx + 1)\n",
    "            print(\"Removed\",currIdx + 1,\"as a correct frame.\")\n",
    "            display_frame(currIdx)\n",
    "        else:\n",
    "            frame_anno.append(currIdx + 1)\n",
    "            print(\"Added\", currIdx + 1, \"as a correct frame.\")\n",
    "            display_frame(currIdx)\n",
    "    \n",
    "    root.bind('<Right>', next_frame)\n",
    "    root.bind('<Left>', prev_frame)\n",
    "    root.bind('<Up>', doubleSkip)\n",
    "    root.bind('<Down>', doublePrev)\n",
    "    root.bind('<Command-s>', save_frame)\n",
    "    root.bind('<Command-f>', add_frame)\n",
    "    root.bind('<Command-r>', restart)\n",
    "    \n",
    "    root.mainloop()\n"
   ]
  },
  {
   "cell_type": "code",
   "execution_count": 5,
   "metadata": {},
   "outputs": [],
   "source": [
    "anno_stock100 = []"
   ]
  },
  {
   "cell_type": "code",
   "execution_count": 6,
   "metadata": {},
   "outputs": [],
   "source": [
    "from IPython.display import clear_output\n",
    "for i in range(1, 101):\n",
    "    showFrames(f\"GIF100/{i}.mp4\")\n",
    "    clear_output()"
   ]
  },
  {
   "cell_type": "code",
   "execution_count": 25,
   "metadata": {},
   "outputs": [
    {
     "name": "stdout",
     "output_type": "stream",
     "text": [
      "Added 126 as a correct frame.\n",
      "Added 127 as a correct frame.\n",
      "Added 128 as a correct frame.\n",
      "Added 129 as a correct frame.\n",
      "Added 130 as a correct frame.\n",
      "Added 131 as a correct frame.\n",
      "Added 132 as a correct frame.\n",
      "Saved!!\n",
      "[('GIF100/1.mp4', 'A small kid falls down onto the ground.', [19, 20, 21, 22, 23, 24, 25, 26]), ('GIF100/2.mp4', 'A brown horse jumps over the hurdle.', [3, 4, 5, 6, 7]), ('GIF100/3.mp4', 'A kid splashes into the water.', [237, 238, 239, 240, 241, 242, 243, 244, 245, 246, 247, 248, 249, 250, 251, 252, 253, 254, 255, 256, 257, 258, 259, 260, 261, 262, 263, 264, 265, 266, 267, 268, 269, 270, 271, 272, 273, 274, 276, 277, 278, 279, 280, 281, 282, 275, 283, 284, 285, 286, 287, 288, 289, 290, 291, 292, 293, 294, 295, 296, 297, 298, 299, 300]), ('GIF100/4.mp4', 'A dog splashes into the water.', [93, 94, 95, 96, 97, 98, 99, 100, 101, 102, 103, 104, 105, 106, 107, 108, 109, 110, 111, 112, 113, 114, 115, 116, 117, 118, 119, 120, 121, 122, 123, 124, 125, 126, 127, 128, 129, 130, 131, 132, 133, 134, 135, 136, 137]), ('GIF100/5.mp4', 'A person splashes into the pool.', [1, 2, 3, 4, 5, 6, 7, 8, 9, 10, 11, 12, 13, 14, 15, 16, 17, 18, 19, 20, 21, 22, 23, 24, 25, 26]), ('GIF100/6.mp4', 'A person jumps over the hurdle.', [21, 22, 23, 24, 25]), ('GIF100/7.mp4', 'A whale jumps out of the water.', [119, 120, 121, 122, 123, 124, 125, 126, 127, 128, 129, 130, 131, 132, 133, 134, 135, 136, 137, 138, 139, 140, 141, 142, 143, 144, 145, 146, 147, 148, 149, 150, 151]), ('GIF100/8.mp4', 'A green bowling ball knocks over the pins.', [285, 286, 287, 288, 289, 290, 291, 292, 293, 294, 295]), ('GIF100/9.mp4', 'A red bowling ball knocks over the pins.', [494, 495, 496, 497, 498, 499, 500, 501, 502, 503, 504, 505, 506, 507, 508, 509, 510, 511, 512, 513, 514, 515, 516]), ('GIF100/10.mp4', 'A person dunks a basketball.', [77, 78, 79, 80, 81, 82, 83, 84, 85, 86, 87]), ('GIF100/11.mp4', 'A person performs a backflip.', [89, 90, 91, 92, 93, 94, 95, 96, 97, 98, 99, 100, 101, 102, 103, 104, 105, 106, 107, 108, 109, 110, 111, 112, 113, 114, 115, 116, 117, 118, 119, 120, 121, 122, 123, 124, 125, 126, 127, 128, 129, 130]), ('GIF100/12.mp4', 'A person performs a backflip.', [53, 54, 55, 56]), ('GIF100/13.mp4', 'A person performs a backflip.', [82, 83, 84, 85, 86, 87, 88, 89, 90, 91, 92, 93]), ('GIF100/14.mp4', 'A person jumps over the hurdle.', [283, 284, 285, 286, 287]), ('GIF100/15.mp4', 'A kid splashing in the pool.', [231, 232, 233, 234, 235, 236, 237, 238, 239, 240, 243, 244, 245, 246, 247, 248, 249, 250, 251, 252, 253, 254, 255, 256, 257, 258, 259, 260, 261, 262, 263, 264, 265, 266, 267, 268, 269, 270, 271, 272, 273, 274, 275, 276, 277, 278, 241, 242]), ('GIF100/16.mp4', 'A person performs a backflip.', [77, 78, 79, 80, 81, 82, 83, 84, 85, 86, 87, 88, 89, 90, 91, 92, 93, 94, 95, 96, 97]), ('GIF100/17.mp4', 'A person jumps over the fence.', [68, 69, 70, 71, 72, 73]), ('GIF100/18.mp4', 'A dog jumps through the yellow hoop.', [19, 20, 21, 22, 23]), ('GIF100/19.mp4', 'A basketball goes into the hoop.', [623, 624, 625, 626, 627, 628, 629]), ('GIF100/20.mp4', 'A person performs a backflip.', [90, 91, 92, 93, 94, 95, 96, 97, 98, 99, 100]), ('GIF100/21.mp4', 'A person splashes into the pool.', [63, 64, 65, 66, 67, 68, 69, 70, 71, 72, 73, 74, 75, 76, 77, 78, 79, 80, 81, 82, 83, 84, 85, 86, 87, 88, 89, 90, 91, 92, 93, 94, 95, 96, 97, 98, 99, 100, 101, 102, 103, 104, 105, 106, 107, 108, 109, 110, 111, 112, 113, 114, 115, 116, 117]), ('GIF100/22.mp4', 'A person performs a backflip.', [53, 54, 55, 56, 57, 58, 59, 60, 61, 62, 63, 64, 65, 66]), ('GIF100/23.mp4', 'A dog splashes into the swimming pool', [127, 128, 129, 130, 131, 132, 133, 134, 135, 136, 137, 138, 139, 140, 141]), ('GIF100/24.mp4', 'A basketball goes into the hoop.', [103, 104, 105, 106, 107, 108, 109, 110]), ('GIF100/25.mp4', 'A dog splashes into the pool.', [134, 135, 136, 137, 138, 139, 140, 141, 142, 143, 144, 145, 146, 147, 148, 149, 150, 151, 152, 153, 154, 155, 156, 157, 158, 159, 160, 161]), ('GIF100/26.mp4', 'A person performs a backflip.', [94, 95, 96, 97, 98, 99, 100, 101]), ('GIF100/27.mp4', 'A red soccer player kicks the ball.', [165, 166, 167, 168, 169, 170, 171, 172, 173, 174, 175, 176, 177, 178, 179, 180, 181, 182, 183]), ('GIF100/28.mp4', 'A plate shatters.', [60, 61, 62, 63, 64, 65, 66, 67, 68, 69, 70, 71, 72, 73, 74, 75, 76, 77, 78, 79, 80, 83, 84, 81, 82, 85, 86, 87, 88, 89, 90, 91]), ('GIF100/29.mp4', 'A person performs a backflip.', [102, 103, 104, 105, 106, 107, 108, 109, 110, 111, 112, 113]), ('GIF100/30.mp4', 'A person performs a backflip.', [91, 92, 93, 94, 95, 96, 97, 98, 99, 100, 101]), ('GIF100/31.mp4', 'A red bowling ball knocks over the pins.', [85, 86, 87, 88, 89, 90, 91, 92, 93, 94, 95, 96, 97, 98, 99, 100, 101, 102, 103, 104, 105, 106, 107, 108, 109, 110, 111, 112, 113, 114, 115, 116, 117, 118, 119, 120, 121, 122, 123, 124, 125, 126, 127, 128, 129, 130, 131, 132, 133, 134, 135, 136, 137, 138, 139, 140, 141, 142]), ('GIF100/32.mp4', 'An orange dog splashes into the pool.', [47, 48, 49, 50, 51, 52, 53, 54, 55, 56, 57, 58, 59, 60, 61, 62, 63, 64, 65, 66, 67, 68, 69, 70, 71, 72, 73, 74, 75, 76, 77, 78, 79, 80, 81, 82, 83, 84, 85, 86, 87, 88, 89, 90, 91, 92]), ('GIF100/33.mp4', 'A balloon pops.', [24, 25, 26, 27, 28, 29, 30, 31, 32, 33, 34, 35, 36, 37, 38]), ('GIF100/34.mp4', 'A kid falls off bike.', [30, 31, 32, 33, 34, 35, 36, 37, 38, 39, 40, 41, 42, 43, 44, 45, 46, 47, 48, 49, 50, 51, 52, 53, 54, 55, 56, 57, 58, 59, 60]), ('GIF100/35.mp4', 'A horse jumps over the blue hurdles.', [163, 164, 165, 166, 167, 168, 169, 170, 171, 172, 173, 174, 175, 176, 177, 178, 179, 180, 181, 182, 183, 184, 185, 186, 187, 188, 189, 190, 191, 192, 193, 194, 195]), ('GIF100/36.mp4', 'A dog catches a red frisbee in midair.', [77, 78, 79, 80, 81, 82, 83, 84, 85, 86, 87, 88, 89, 90, 91, 92, 93, 94, 95, 96, 97, 98, 99, 100, 101, 102, 103, 104, 105, 106, 107, 108, 109, 110, 111, 112, 113, 114, 115, 116, 117, 118, 119, 120, 121, 122, 123, 124, 125, 126, 127, 128, 129, 130, 131, 132, 133, 134, 135, 136, 137, 138, 139, 140, 141, 142, 143, 144, 145]), ('GIF100/37.mp4', 'A glass cup shatters.', [36, 37, 38, 39, 40, 41, 42, 43, 44, 45, 46, 47, 48, 49, 50, 51, 52, 53, 54, 55, 56, 57, 58, 59, 60, 61, 62, 63, 64, 65, 66, 67, 68, 69, 70, 71, 72, 73, 74, 75, 76, 77, 78, 79, 80, 81, 82, 83, 84]), ('GIF100/38.mp4', 'A dog jumps through a brown hoop.', [141, 142, 143, 144, 145, 146, 147, 148, 149, 150, 151, 152, 153, 154, 155, 156, 157, 158, 159, 160, 161, 162, 163, 164, 165, 166, 167, 168]), ('GIF100/39.mp4', 'A dog catches a frisbee midair.', [11, 12, 13, 14, 15, 16, 17, 18, 19]), ('GIF100/40.mp4', 'A tennis racket hits the green ball.', [156, 157, 158, 159, 160, 161, 162, 163, 164, 165, 166, 167]), ('GIF100/41.mp4', 'A person performs a backflip.', [79, 80, 81, 82, 83, 84, 85, 86, 87, 88, 89, 90, 91, 92, 93, 94, 95, 96, 97, 98, 99, 100, 101, 102, 103, 104, 105, 106, 107, 108, 109, 110, 111, 112, 113, 114, 115, 116, 117, 118, 119, 120, 121, 122, 123, 124]), ('GIF100/42.mp4', 'A dog catches a red frisbee in mouth.', [72, 73, 74, 75, 76, 77]), ('GIF100/43.mp4', 'A kid splashes into the pool.', [90, 91, 92, 93, 94, 95, 96, 97, 98, 99, 100, 101, 102, 103, 104, 105, 106, 107, 108, 109, 110, 111, 112, 113, 114, 115]), ('GIF100/44.mp4', 'A person performs a backflip.', [120, 121, 122, 123, 124, 125, 126, 127, 128, 129]), ('GIF100/45.mp4', 'A dog jumps through a yellow hoop.', [20, 21, 22, 23, 24, 25, 26, 27, 28, 29, 30, 73, 74, 75, 76, 77]), ('GIF100/46.mp4', 'A person dunks a basketball.', [36, 37, 38, 39, 40, 41, 42, 43, 44, 45, 46, 48, 49, 50, 51]), ('GIF100/47.mp4', 'A person dunks a basketball.', [107, 108, 109, 110, 111]), ('GIF100/48.mp4', 'A person falls off a bike.', [51, 52, 53, 54, 55, 56, 57, 58, 59, 60, 61, 62, 63, 64, 65, 66, 67, 68, 69, 70, 71, 72, 73, 74, 75, 76, 77, 78, 79, 80, 81, 82, 83, 84, 85, 86, 87, 88, 89, 90, 91, 92, 93, 94, 95, 96, 97, 98, 99, 100, 101, 102, 103, 104, 105, 106, 107, 108, 109, 110, 111, 112, 113, 114, 115, 116, 117, 118, 119, 120, 121, 122, 123, 124, 125, 126, 127, 128, 129, 130, 131, 132, 133]), ('GIF100/49.mp4', 'A person dunks a basketball.', [93, 94, 95, 96, 97, 98, 99, 100, 101, 102, 103, 104, 105, 106, 107, 108, 109, 110, 111, 112, 113, 114]), ('GIF100/50.mp4', 'A horse jumps over the hurdle.', [149, 150, 151, 152, 153, 154, 155, 156, 157, 158, 159, 160, 161, 162, 163, 164, 165, 166, 167, 168, 169, 170, 171, 172, 173, 174, 175, 176, 177, 178, 179, 180, 181, 182, 183, 184, 185, 186]), ('GIF100/51.mp4', 'A brown horse jumps over the hurdle.', [83, 84, 85, 86, 87, 88, 89, 90, 91, 92, 93, 94, 95, 96, 97, 98, 99, 100, 101, 102, 103, 104, 105, 106, 107, 108, 109, 110, 111, 112, 113]), ('GIF100/52.mp4', 'A cup shatters on the ground.', [95, 96, 97, 98, 99, 100, 101, 102, 103, 104, 105, 106, 107, 108, 109, 110, 111, 112, 113, 114, 115, 116, 117, 118, 119, 120, 121, 122, 123, 124, 125, 126, 127]), ('GIF100/53.mp4', 'A person falls off the bike.', [287, 288, 289, 290, 291, 292, 293, 294, 295, 296, 297, 298, 299, 300]), ('GIF100/54.mp4', 'Guy kicks soccer ball with foot.', [138, 139, 140, 141, 142, 143, 144, 145, 146, 168, 169, 170, 171]), ('GIF100/55.mp4', 'A horse jumps over the hurdle.', [41, 42, 43, 44, 45, 46, 47, 48, 49, 50, 51, 52, 53, 54, 55, 56, 57]), ('GIF100/56.mp4', 'A basketball goes in the hoop.', [126, 127, 128, 129, 130, 131, 132, 133]), ('GIF100/57.mp4', 'A person kicks a soccer ball.', [174, 175, 176, 177, 178, 179, 180]), ('GIF100/58.mp4', 'A dog catches a red frisbee in mouth.', [61, 62, 63, 64, 65, 66, 67, 68, 69, 70, 71, 72, 73, 74, 75, 76, 77, 78, 79, 80, 81, 82, 83, 84, 85, 86, 87, 88, 89, 90, 91, 92, 93, 94, 95, 96, 97, 98, 99, 100, 101, 102, 103, 104, 105, 106, 107, 108, 109, 110, 111, 112, 113, 114, 115, 116, 117, 118, 119, 120, 121, 122, 123, 124, 125, 126, 127, 128, 129, 130, 131, 132, 133, 134, 135, 136, 137, 138, 139, 140, 141, 142, 143, 144, 145, 146, 147, 148, 149, 150, 151, 152, 153, 154, 155, 156, 157, 158, 159, 160, 161, 162, 163, 164, 165, 166, 167, 168, 169, 170, 171, 172, 173, 174, 175, 176, 177, 178, 179, 180, 181, 182, 183, 184, 185]), ('GIF100/59.mp4', 'A person falls off bike.', [51, 52, 53, 54, 55, 56, 57, 58, 59, 60, 61, 62, 63, 64, 65, 66, 67, 68, 69, 70, 71, 72, 73, 74, 75, 76, 77, 78, 79, 80, 81, 82, 83, 84, 85, 86, 87, 88, 89, 90, 91, 92, 93, 94, 95, 96, 97, 98, 99, 100, 101, 102, 103, 104, 105, 106, 107, 108, 109, 110, 111, 112, 113, 114, 115, 116, 117, 118, 119, 120]), ('GIF100/60.mp4', 'A dog catching a frisbee in  midair.', [41, 42, 43, 44]), ('GIF100/61.mp4', 'A dog splashes into the pool.', [77, 78, 79, 80, 81, 82, 83, 84, 85, 86, 87, 88, 89, 90, 91, 92]), ('GIF100/62.mp4', 'A whale jumps out of the water.', [141, 142, 143, 144, 145, 146, 147, 148, 149, 150, 151, 152, 153, 154, 155, 156, 157, 158, 159, 160]), ('GIF100/63.mp4', 'A whale jumps out of the water.', [138, 139, 140, 141, 142, 143, 144, 145, 146, 147, 148, 149, 150, 151, 152, 153, 154, 155, 156, 157, 158, 159, 160, 161, 162, 163]), ('GIF100/64.mp4', 'A whale jumps out of the water.', [61, 62, 63, 64, 65, 66, 67, 68, 69, 70, 71, 72, 73, 74, 75, 76, 77, 78, 79, 80, 81, 82, 83, 84, 85, 86, 87, 88, 89, 90, 91, 92, 93, 94, 95, 96, 97, 98, 99, 100, 101, 102, 103, 104, 105, 106, 107, 108, 109, 110, 111, 112, 113, 114, 115, 116, 117, 118, 119, 120, 121, 122, 123, 124, 125, 126, 127, 128]), ('GIF100/65.mp4', 'A kid splashing into the pool.', [56, 57, 58, 59, 60, 61, 62, 63, 64, 65, 66, 67, 68, 69, 70, 71, 72, 73, 74, 75, 76, 77, 78, 79, 80, 81, 82, 83, 84, 85, 86, 87]), ('GIF100/66.mp4', 'A person performs a backflip.', [126, 127, 128, 129, 130, 131, 132, 133, 134, 135, 136, 137, 138]), ('GIF100/67.mp4', 'A dog jumps through the red hoop.', [86, 87, 88, 89, 90, 91]), ('GIF100/68.mp4', 'A dog catches a frisbee in midair.', [207, 208, 209, 210, 211, 212, 213, 214, 215, 216, 217, 218, 219, 220, 221, 222, 223, 224, 225, 226, 227, 228, 229, 230, 231, 232, 233, 234, 235, 236, 237, 238, 239, 240, 241, 242, 243, 244, 245, 246, 247, 248, 249, 250, 251, 252, 253, 254, 255, 256, 257, 258, 259, 260, 261, 262, 263, 264, 265, 266, 267, 268, 269, 270, 271, 272, 273, 274, 275, 276, 277, 278]), ('GIF100/69.mp4', 'A basketball goes in the hoop.', [87, 88, 89, 90, 91, 92, 93, 94, 95, 96, 97, 98, 99, 100, 101, 102, 103, 104, 105, 106, 107, 108, 109, 110, 111, 112, 113, 114, 115, 116, 117, 118, 119, 120, 121, 122, 123, 124, 125]), ('GIF100/70.mp4', 'A golf club hits the ball.', [76, 77, 78, 79, 80, 81, 82, 83, 84]), ('GIF100/71.mp4', 'An eagle catches a fish from the water.', [88, 89, 90, 91, 92, 93, 94, 95, 96, 97, 98, 99, 100, 101, 102, 103, 104, 105, 106, 107, 108, 109, 110, 111, 112, 113, 114, 115, 116, 117, 118, 119, 120, 121, 122, 123, 124, 125, 126, 127, 128, 129, 130, 131, 132, 133, 134, 135, 136, 137, 138, 139, 140, 141, 142, 143, 144, 145, 146, 147, 148, 149, 150, 151, 152]), ('GIF100/72.mp4', 'A dog splashes in the water.', [121, 122, 123, 124, 125, 126, 127, 128, 129, 130, 131, 132, 133, 134, 135, 136, 137, 138, 139, 140, 141, 143, 145, 147, 149, 151, 153, 155, 157, 159, 161, 163, 165, 167, 169, 171, 173, 175, 177, 179, 181, 183, 185, 187, 189, 191, 193, 195, 197, 199, 201, 203, 205, 207, 209, 211, 213, 215, 217, 219, 221, 223, 225, 227, 229, 231, 233, 235]), ('GIF100/73.mp4', 'An eagle catches a fish from the water.', [247, 248, 249, 250, 251, 252, 253, 254, 255, 256, 257, 258, 259, 260, 261, 262, 263, 264, 265, 266, 267, 268, 269, 270, 271, 272, 273, 274, 275, 276, 277, 278, 279, 280, 281, 282, 283, 284, 285, 286]), ('GIF100/74.mp4', 'A person dunks a basketball.', [170, 171, 172, 173, 174, 166, 167, 169, 168]), ('GIF100/75.mp4', 'A horse jumps over the hurdle.', [143, 144, 145, 146, 147, 148, 149, 150, 151, 152, 153, 154, 155, 156, 157, 158, 159, 160, 161]), ('GIF100/76.mp4', 'A glass cup shatters.', [28, 29, 30, 31, 32, 33, 34, 35, 36, 37, 38, 39, 40, 41, 42, 43, 44, 45, 46, 47, 48, 49, 50, 51, 52, 53, 54, 55, 56, 57, 58, 59, 60, 61, 62, 63, 64, 65, 66, 67, 68, 69, 70, 71, 72, 73, 74, 75]), ('GIF100/77.mp4', 'A dog catches an orange frisbee midair.', [145, 146, 147, 148, 149, 150, 151, 152, 153, 154, 155, 156, 157, 158, 159, 160, 161, 162, 163, 164, 165, 166, 167, 168, 169, 170, 171, 172, 173, 174, 175, 176, 177, 178, 179, 180, 181, 182, 183, 184, 185, 186, 187, 188, 189, 190, 191]), ('GIF100/78.mp4', 'A yellow basketball goes in the hoop.', [34, 35, 36, 37, 38, 39, 40, 41, 42, 43, 44, 45, 46, 47, 48, 49, 50, 51]), ('GIF100/79.mp4', 'A whale jumps out of the water.', [135, 136, 137, 138, 139, 140, 141, 142, 143, 144, 145, 146]), ('GIF100/80.mp4', 'A person splashes into the pool.', [109, 110, 111, 112, 113, 114, 115, 116, 117, 118, 119, 120, 121, 122, 123, 124, 125, 126, 127, 128, 129, 130, 131, 132, 133, 134, 135, 136, 137, 138, 139, 140, 141, 142, 143, 144, 145, 146, 147, 148, 149, 150, 151, 152, 153, 154, 155, 156, 157]), ('GIF100/81.mp4', 'A horse jumps over the hurdle.', [86, 87, 88, 89, 90, 91, 92, 93, 94, 95, 96, 97, 98, 99, 100]), ('GIF100/82.mp4', 'A soccer player kicks the ball.', [70, 71, 72, 73, 74, 75, 76, 77, 78, 79]), ('GIF100/83.mp4', 'A blue bowling ball knocks over the pin.', [46, 47, 48, 49, 50, 51, 52, 53, 54, 55, 56, 57, 58]), ('GIF100/84.mp4', 'A person splashes into the pool.', [119, 120, 121, 122, 123, 124, 125, 126, 127, 128, 129, 130, 132, 134, 136, 138, 140, 142, 144, 146, 148, 150, 152, 154, 156, 158, 160, 162, 164, 166, 168, 170, 172, 174]), ('GIF100/85.mp4', 'A basketball goes into the hoop.', [46, 47, 48, 49, 50, 45]), ('GIF100/86.mp4', 'A dog catches a frisbee in midair.', [76, 77, 78, 79, 80, 81, 82, 83, 84, 85, 86, 87, 88, 89, 90, 91, 92, 93, 94, 95, 96, 97, 98, 99, 100, 101, 102, 103, 104, 105, 106, 107, 108, 109, 110, 111, 112, 113, 114, 115, 116, 117, 118, 119, 120, 121, 122, 123, 124, 125, 126, 127, 128, 129, 130, 131, 132]), ('GIF100/87.mp4', 'A basketball goes into the hoop.', [21, 22, 23, 24, 25]), ('GIF100/88.mp4', 'A basketball goes into the hoop.', [69, 70, 71, 72, 73, 74, 75]), ('GIF100/89.mp4', 'A black ball goes into the hoop.', [44, 45, 46, 47, 48]), ('GIF100/90.mp4', 'A person dunks a basketball.', [154, 155, 156, 157, 158, 159, 160, 161, 162, 163, 164, 165]), ('GIF100/91.mp4', 'A person performs a backflip.', [97, 98, 99, 100, 101, 102, 103, 104, 105, 106, 107, 108, 109, 110, 111, 112, 113, 114, 115, 116, 117, 118, 119, 120, 121, 122, 123, 124, 125, 126, 127, 128, 129, 130, 131, 132, 133, 134, 135, 136, 137, 138, 139, 140, 141, 142, 143, 144, 145, 146, 147, 148, 149, 150, 151, 152, 153, 154, 155, 156, 157, 158, 159, 160, 161, 162, 163, 164, 165, 166, 167]), ('GIF100/92.mp4', 'A cup shatters on the ground.', [88, 89, 90, 91, 92, 93, 94, 95, 96, 97, 98, 99, 100, 101, 102, 103, 104, 105]), ('GIF100/93.mp4', 'An eagle catches a fish from the water.', [257, 258, 259, 260, 261, 262, 263, 264, 265, 266, 267, 268, 269, 270, 271, 272, 273, 274, 275, 276, 277, 278, 279, 280, 281, 282, 283, 284, 285, 286, 287, 288, 289, 290, 291, 292, 293, 294, 295]), ('GIF100/94.mp4', 'A dog catches a frisbee midair.', [52, 53, 54, 55, 56, 57, 58, 59, 60, 61, 62, 63, 64, 65, 66, 67, 68, 69, 70, 71, 72, 73, 74, 75, 76, 77, 78, 79, 80, 81, 82, 83, 84, 85, 86, 87, 88, 89, 90, 91, 92, 93, 94, 95, 96, 97, 98, 99, 100, 101, 102, 103, 104, 105, 106, 107, 108, 109, 110, 111, 112, 113, 114, 115, 116, 117, 118]), ('GIF100/95.mp4', 'A person jumps over the hurdle.', [14, 15]), ('GIF100/96.mp4', 'A kid splashes into the pool.', [35, 36, 37, 38, 39, 40, 41, 42, 43, 44, 45, 46, 47]), ('GIF100/98.mp4', 'A person dunks a basketball.', [147, 148, 149, 150, 151, 152, 153, 154, 155, 156, 157, 158, 159, 160, 161, 162, 163]), ('GIF100/99.mp4', 'A person splashes in the water.', [179, 180, 181, 182, 183, 184, 185, 186, 187, 188, 189, 190, 191, 192, 193, 194, 195, 196, 197]), ('GIF100/100.mp4', 'A person kicks a soccer ball.', [109, 110, 111, 112, 113, 114, 115, 116, 117, 118, 119, 120, 121, 122, 123, 124, 125, 126, 127, 128, 129]), ('GIF100/97.mp4', 'A person performs a backflip.', [126, 127, 128, 129, 130, 131, 132])]\n"
     ]
    }
   ],
   "source": [
    "showFrames(f\"GIF100/97.mp4\")"
   ]
  },
  {
   "cell_type": "code",
   "execution_count": 45,
   "metadata": {},
   "outputs": [],
   "source": [
    "anno_stock100 = []"
   ]
  },
  {
   "cell_type": "code",
   "execution_count": 31,
   "metadata": {},
   "outputs": [],
   "source": [
    "pickle_write(anno_stock100, 'rustyjar/STOCK100.pkl')"
   ]
  },
  {
   "cell_type": "code",
   "execution_count": 32,
   "metadata": {},
   "outputs": [
    {
     "data": {
      "text/plain": [
       "('GIF100/1.mp4',\n",
       " 'A small kid falls down onto the ground.',\n",
       " [19, 20, 21, 22, 23, 24, 25, 26])"
      ]
     },
     "execution_count": 32,
     "metadata": {},
     "output_type": "execute_result"
    }
   ],
   "source": [
    "anno_stock100[0]"
   ]
  },
  {
   "cell_type": "code",
   "execution_count": 33,
   "metadata": {},
   "outputs": [
    {
     "data": {
      "application/vnd.jupyter.widget-view+json": {
       "model_id": "5356dee4576c4fda9b222fdae1acec93",
       "version_major": 2,
       "version_minor": 0
      },
      "text/plain": [
       "  0%|          | 0/100 [00:00<?, ?it/s]"
      ]
     },
     "metadata": {},
     "output_type": "display_data"
    },
    {
     "name": "stdout",
     "output_type": "stream",
     "text": [
      "Moviepy - Building video trimmed/1.mp4.\n",
      "Moviepy - Writing video trimmed/1.mp4\n",
      "\n"
     ]
    },
    {
     "name": "stderr",
     "output_type": "stream",
     "text": [
      "\n",
      "t:   0%|                                                                                                                                                                 | 0/78 [00:00<?, ?it/s, now=None]\u001b[A\n",
      "                                                                                                                                                                                                          \u001b[A"
     ]
    },
    {
     "name": "stdout",
     "output_type": "stream",
     "text": [
      "Moviepy - Done !\n",
      "Moviepy - video ready trimmed/1.mp4\n",
      "Moviepy - Building video trimmed/2.mp4.\n",
      "Moviepy - Writing video trimmed/2.mp4\n",
      "\n"
     ]
    },
    {
     "name": "stderr",
     "output_type": "stream",
     "text": [
      "\n",
      "t:   0%|                                                                                                                                                                 | 0/30 [00:00<?, ?it/s, now=None]\u001b[A\n",
      "                                                                                                                                                                                                          \u001b[A"
     ]
    },
    {
     "name": "stdout",
     "output_type": "stream",
     "text": [
      "Moviepy - Done !\n",
      "Moviepy - video ready trimmed/2.mp4\n",
      "Moviepy - Building video trimmed/3.mp4.\n",
      "MoviePy - Writing audio in 3TEMP_MPY_wvf_snd.mp3\n"
     ]
    },
    {
     "name": "stderr",
     "output_type": "stream",
     "text": [
      "\n",
      "chunk:   0%|                                                                                                                                                            | 0/120 [00:00<?, ?it/s, now=None]\u001b[A\n",
      "                                                                                                                                                                                                          \u001b[A"
     ]
    },
    {
     "name": "stdout",
     "output_type": "stream",
     "text": [
      "MoviePy - Done.\n",
      "Moviepy - Writing video trimmed/3.mp4\n",
      "\n"
     ]
    },
    {
     "name": "stderr",
     "output_type": "stream",
     "text": [
      "\n",
      "t:   0%|                                                                                                                                                                | 0/163 [00:00<?, ?it/s, now=None]\u001b[A\n",
      "t:  13%|███████████████████▎                                                                                                                                  | 21/163 [00:00<00:00, 208.77it/s, now=None]\u001b[A\n",
      "t:  31%|██████████████████████████████████████████████                                                                                                        | 50/163 [00:00<00:00, 256.14it/s, now=None]\u001b[A\n",
      "t:  47%|█████████████████████████████████████████████████████████████████████▉                                                                                | 76/163 [00:00<00:00, 237.73it/s, now=None]\u001b[A\n",
      "t:  61%|███████████████████████████████████████████████████████████████████████████████████████████▍                                                         | 100/163 [00:00<00:00, 157.97it/s, now=None]\u001b[A\n",
      "t:  73%|████████████████████████████████████████████████████████████████████████████████████████████████████████████▊                                        | 119/163 [00:00<00:00, 133.17it/s, now=None]\u001b[A\n",
      "t:  83%|███████████████████████████████████████████████████████████████████████████████████████████████████████████████████████████▍                         | 135/163 [00:00<00:00, 106.35it/s, now=None]\u001b[A\n",
      "t:  91%|███████████████████████████████████████████████████████████████████████████████████████████████████████████████████████████████████████▎             | 148/163 [00:01<00:00, 109.43it/s, now=None]\u001b[A\n",
      "t:  99%|████████████████████████████████████████████████████████████████████████████████████████████████████████████████████████████████████████████████████ | 162/163 [00:01<00:00, 107.79it/s, now=None]\u001b[A\n",
      "                                                                                                                                                                                                          \u001b[A"
     ]
    },
    {
     "name": "stdout",
     "output_type": "stream",
     "text": [
      "Moviepy - Done !\n",
      "Moviepy - video ready trimmed/3.mp4\n",
      "Moviepy - Building video trimmed/4.mp4.\n",
      "Moviepy - Writing video trimmed/4.mp4\n",
      "\n"
     ]
    },
    {
     "name": "stderr",
     "output_type": "stream",
     "text": [
      "\n",
      "t:   0%|                                                                                                                                                                | 0/237 [00:00<?, ?it/s, now=None]\u001b[A\n",
      "t:  38%|████████████████████████████████████████████████████████▉                                                                                             | 90/237 [00:00<00:00, 896.82it/s, now=None]\u001b[A\n",
      "t:  76%|█████████████████████████████████████████████████████████████████████████████████████████████████████████████████▏                                   | 180/237 [00:00<00:00, 556.25it/s, now=None]\u001b[A\n",
      "                                                                                                                                                                                                          \u001b[A"
     ]
    },
    {
     "name": "stdout",
     "output_type": "stream",
     "text": [
      "Moviepy - Done !\n",
      "Moviepy - video ready trimmed/4.mp4\n",
      "Moviepy - Building video trimmed/5.mp4.\n",
      "MoviePy - Writing audio in 5TEMP_MPY_wvf_snd.mp3\n"
     ]
    },
    {
     "name": "stderr",
     "output_type": "stream",
     "text": [
      "\n",
      "chunk:   0%|                                                                                                                                                             | 0/93 [00:00<?, ?it/s, now=None]\u001b[A\n",
      "                                                                                                                                                                                                          \u001b[A"
     ]
    },
    {
     "name": "stdout",
     "output_type": "stream",
     "text": [
      "MoviePy - Done.\n",
      "Moviepy - Writing video trimmed/5.mp4\n",
      "\n"
     ]
    },
    {
     "name": "stderr",
     "output_type": "stream",
     "text": [
      "\n",
      "t:   0%|                                                                                                                                                                | 0/126 [00:00<?, ?it/s, now=None]\u001b[A\n",
      "t:  60%|█████████████████████████████████████████████████████████████████████████████████████████▎                                                            | 75/126 [00:00<00:00, 702.45it/s, now=None]\u001b[A\n",
      "                                                                                                                                                                                                          \u001b[A"
     ]
    },
    {
     "name": "stdout",
     "output_type": "stream",
     "text": [
      "Moviepy - Done !\n",
      "Moviepy - video ready trimmed/5.mp4\n",
      "Moviepy - Building video trimmed/6.mp4.\n",
      "MoviePy - Writing audio in 6TEMP_MPY_wvf_snd.mp3\n"
     ]
    },
    {
     "name": "stderr",
     "output_type": "stream",
     "text": [
      "\n",
      "chunk:   0%|                                                                                                                                                             | 0/66 [00:00<?, ?it/s, now=None]\u001b[A\n",
      "                                                                                                                                                                                                          \u001b[A"
     ]
    },
    {
     "name": "stdout",
     "output_type": "stream",
     "text": [
      "MoviePy - Done.\n",
      "Moviepy - Writing video trimmed/6.mp4\n",
      "\n"
     ]
    },
    {
     "name": "stderr",
     "output_type": "stream",
     "text": [
      "\n",
      "t:   0%|                                                                                                                                                                 | 0/90 [00:00<?, ?it/s, now=None]\u001b[A\n",
      "t:  31%|██████████████████████████████████████████████▉                                                                                                        | 28/90 [00:00<00:00, 275.14it/s, now=None]\u001b[A\n",
      "t:  70%|█████████████████████████████████████████████████████████████████████████████████████████████████████████▋                                             | 63/90 [00:00<00:00, 314.87it/s, now=None]\u001b[A\n",
      "                                                                                                                                                                                                          \u001b[A"
     ]
    },
    {
     "name": "stdout",
     "output_type": "stream",
     "text": [
      "Moviepy - Done !\n",
      "Moviepy - video ready trimmed/6.mp4\n",
      "Moviepy - Building video trimmed/7.mp4.\n",
      "Moviepy - Writing video trimmed/7.mp4\n",
      "\n"
     ]
    },
    {
     "name": "stderr",
     "output_type": "stream",
     "text": [
      "\n",
      "t:   0%|                                                                                                                                                                | 0/232 [00:00<?, ?it/s, now=None]\u001b[A\n",
      "t:  35%|█████████████████████████████████████████████████████                                                                                                 | 82/232 [00:00<00:00, 815.87it/s, now=None]\u001b[A\n",
      "t:  71%|█████████████████████████████████████████████████████████████████████████████████████████████████████████▎                                           | 164/232 [00:00<00:00, 742.80it/s, now=None]\u001b[A\n",
      "                                                                                                                                                                                                          \u001b[A"
     ]
    },
    {
     "name": "stdout",
     "output_type": "stream",
     "text": [
      "Moviepy - Done !\n",
      "Moviepy - video ready trimmed/7.mp4\n",
      "Moviepy - Building video trimmed/8.mp4.\n",
      "Moviepy - Writing video trimmed/8.mp4\n",
      "\n"
     ]
    },
    {
     "name": "stderr",
     "output_type": "stream",
     "text": [
      "\n",
      "t:   0%|                                                                                                                                                                | 0/210 [00:00<?, ?it/s, now=None]\u001b[A\n",
      "t:  40%|████████████████████████████████████████████████████████████▋                                                                                         | 85/210 [00:00<00:00, 845.96it/s, now=None]\u001b[A\n",
      "t:  81%|████████████████████████████████████████████████████████████████████████████████████████████████████████████████████████▌                            | 170/210 [00:00<00:00, 698.03it/s, now=None]\u001b[A\n",
      "                                                                                                                                                                                                          \u001b[A"
     ]
    },
    {
     "name": "stdout",
     "output_type": "stream",
     "text": [
      "Moviepy - Done !\n",
      "Moviepy - video ready trimmed/8.mp4\n",
      "Moviepy - Building video trimmed/9.mp4.\n",
      "MoviePy - Writing audio in 9TEMP_MPY_wvf_snd.mp3\n"
     ]
    },
    {
     "name": "stderr",
     "output_type": "stream",
     "text": [
      "\n",
      "chunk:   0%|                                                                                                                                                             | 0/82 [00:00<?, ?it/s, now=None]\u001b[A\n",
      "                                                                                                                                                                                                          \u001b[A"
     ]
    },
    {
     "name": "stdout",
     "output_type": "stream",
     "text": [
      "MoviePy - Done.\n",
      "Moviepy - Writing video trimmed/9.mp4\n",
      "\n"
     ]
    },
    {
     "name": "stderr",
     "output_type": "stream",
     "text": [
      "\n",
      "t:   0%|                                                                                                                                                                | 0/222 [00:00<?, ?it/s, now=None]\u001b[A\n",
      "t:  37%|███████████████████████████████████████████████████████▍                                                                                              | 82/222 [00:00<00:00, 819.96it/s, now=None]\u001b[A\n",
      "t:  74%|██████████████████████████████████████████████████████████████████████████████████████████████████████████████                                       | 164/222 [00:00<00:00, 670.85it/s, now=None]\u001b[A\n",
      "                                                                                                                                                                                                          \u001b[A"
     ]
    },
    {
     "name": "stdout",
     "output_type": "stream",
     "text": [
      "Moviepy - Done !\n",
      "Moviepy - video ready trimmed/9.mp4\n",
      "Moviepy - Building video trimmed/10.mp4.\n",
      "Moviepy - Writing video trimmed/10.mp4\n",
      "\n"
     ]
    },
    {
     "name": "stderr",
     "output_type": "stream",
     "text": [
      "\n",
      "t:   0%|                                                                                                                                                                | 0/131 [00:00<?, ?it/s, now=None]\u001b[A\n",
      "t:  79%|████████████████████████████████████████████████████████████████████████████████████████████████████████████████████▎                               | 103/131 [00:00<00:00, 1029.96it/s, now=None]\u001b[A\n",
      "                                                                                                                                                                                                          \u001b[A"
     ]
    },
    {
     "name": "stdout",
     "output_type": "stream",
     "text": [
      "Moviepy - Done !\n",
      "Moviepy - video ready trimmed/10.mp4\n",
      "Moviepy - Building video trimmed/11.mp4.\n",
      "Moviepy - Writing video trimmed/11.mp4\n",
      "\n"
     ]
    },
    {
     "name": "stderr",
     "output_type": "stream",
     "text": [
      "\n",
      "t:   0%|                                                                                                                                                                | 0/230 [00:00<?, ?it/s, now=None]\u001b[A\n",
      "t:  28%|█████████████████████████████████████████▋                                                                                                            | 64/230 [00:00<00:00, 635.81it/s, now=None]\u001b[A\n",
      "t:  56%|██████████████████████████████████████████████████████████████████████████████████▉                                                                  | 128/230 [00:00<00:00, 438.16it/s, now=None]\u001b[A\n",
      "t:  77%|██████████████████████████████████████████████████████████████████████████████████████████████████████████████████                                   | 176/230 [00:00<00:00, 413.98it/s, now=None]\u001b[A\n",
      "t:  96%|██████████████████████████████████████████████████████████████████████████████████████████████████████████████████████████████████████████████▌      | 220/230 [00:00<00:00, 289.13it/s, now=None]\u001b[A\n",
      "                                                                                                                                                                                                          \u001b[A"
     ]
    },
    {
     "name": "stdout",
     "output_type": "stream",
     "text": [
      "Moviepy - Done !\n",
      "Moviepy - video ready trimmed/11.mp4\n",
      "Moviepy - Building video trimmed/12.mp4.\n",
      "MoviePy - Writing audio in 12TEMP_MPY_wvf_snd.mp3\n"
     ]
    },
    {
     "name": "stderr",
     "output_type": "stream",
     "text": [
      "\n",
      "chunk:   0%|                                                                                                                                                            | 0/106 [00:00<?, ?it/s, now=None]\u001b[A\n",
      "                                                                                                                                                                                                          \u001b[A"
     ]
    },
    {
     "name": "stdout",
     "output_type": "stream",
     "text": [
      "MoviePy - Done.\n",
      "Moviepy - Writing video trimmed/12.mp4\n",
      "\n"
     ]
    },
    {
     "name": "stderr",
     "output_type": "stream",
     "text": [
      "\n",
      "t:   0%|                                                                                                                                                                 | 0/72 [00:00<?, ?it/s, now=None]\u001b[A\n",
      "                                                                                                                                                                                                          \u001b[A"
     ]
    },
    {
     "name": "stdout",
     "output_type": "stream",
     "text": [
      "Moviepy - Done !\n",
      "Moviepy - video ready trimmed/12.mp4\n",
      "Moviepy - Building video trimmed/13.mp4.\n",
      "MoviePy - Writing audio in 13TEMP_MPY_wvf_snd.mp3\n"
     ]
    },
    {
     "name": "stderr",
     "output_type": "stream",
     "text": [
      "\n",
      "chunk:   0%|                                                                                                                                                             | 0/97 [00:00<?, ?it/s, now=None]\u001b[A\n",
      "                                                                                                                                                                                                          \u001b[A"
     ]
    },
    {
     "name": "stdout",
     "output_type": "stream",
     "text": [
      "MoviePy - Done.\n",
      "Moviepy - Writing video trimmed/13.mp4\n",
      "\n"
     ]
    },
    {
     "name": "stderr",
     "output_type": "stream",
     "text": [
      "\n",
      "t:   0%|                                                                                                                                                                | 0/131 [00:00<?, ?it/s, now=None]\u001b[A\n",
      "t:  20%|█████████████████████████████▊                                                                                                                        | 26/131 [00:00<00:00, 250.39it/s, now=None]\u001b[A\n",
      "t:  40%|███████████████████████████████████████████████████████████▌                                                                                          | 52/131 [00:00<00:00, 232.21it/s, now=None]\u001b[A\n",
      "t:  58%|███████████████████████████████████████████████████████████████████████████████████████                                                               | 76/131 [00:00<00:00, 218.27it/s, now=None]\u001b[A\n",
      "t:  75%|████████████████████████████████████████████████████████████████████████████████████████████████████████████████▏                                     | 98/131 [00:00<00:00, 141.59it/s, now=None]\u001b[A\n",
      "t:  88%|██████████████████████████████████████████████████████████████████████████████████████████████████████████████████████████████████▊                  | 115/131 [00:00<00:00, 115.79it/s, now=None]\u001b[A\n",
      "                                                                                                                                                                                                          \u001b[A"
     ]
    },
    {
     "name": "stdout",
     "output_type": "stream",
     "text": [
      "Moviepy - Done !\n",
      "Moviepy - video ready trimmed/13.mp4\n",
      "Moviepy - Building video trimmed/14.mp4.\n",
      "MoviePy - Writing audio in 14TEMP_MPY_wvf_snd.mp3\n"
     ]
    },
    {
     "name": "stderr",
     "output_type": "stream",
     "text": [
      "\n",
      "chunk:   0%|                                                                                                                                                             | 0/86 [00:00<?, ?it/s, now=None]\u001b[A\n",
      "                                                                                                                                                                                                          \u001b[A"
     ]
    },
    {
     "name": "stdout",
     "output_type": "stream",
     "text": [
      "MoviePy - Done.\n",
      "Moviepy - Writing video trimmed/14.mp4\n",
      "\n"
     ]
    },
    {
     "name": "stderr",
     "output_type": "stream",
     "text": [
      "\n",
      "t:   0%|                                                                                                                                                                | 0/118 [00:00<?, ?it/s, now=None]\u001b[A\n",
      "t:  16%|████████████████████████▏                                                                                                                             | 19/118 [00:00<00:00, 184.88it/s, now=None]\u001b[A\n",
      "t:  39%|██████████████████████████████████████████████████████████▍                                                                                           | 46/118 [00:00<00:00, 229.45it/s, now=None]\u001b[A\n",
      "t:  61%|███████████████████████████████████████████████████████████████████████████████████████████▌                                                          | 72/118 [00:00<00:00, 242.83it/s, now=None]\u001b[A\n",
      "t:  82%|███████████████████████████████████████████████████████████████████████████████████████████████████████████████████████████▎                          | 97/118 [00:00<00:00, 131.82it/s, now=None]\u001b[A\n",
      "t:  97%|█████████████████████████████████████████████████████████████████████████████████████████████████████████████████████████████████████████████████▏   | 115/118 [00:00<00:00, 112.48it/s, now=None]\u001b[A\n",
      "                                                                                                                                                                                                          \u001b[A"
     ]
    },
    {
     "name": "stdout",
     "output_type": "stream",
     "text": [
      "Moviepy - Done !\n",
      "Moviepy - video ready trimmed/14.mp4\n",
      "Moviepy - Building video trimmed/15.mp4.\n",
      "Moviepy - Writing video trimmed/15.mp4\n",
      "\n"
     ]
    },
    {
     "name": "stderr",
     "output_type": "stream",
     "text": [
      "\n",
      "t:   0%|                                                                                                                                                                | 0/247 [00:00<?, ?it/s, now=None]\u001b[A\n",
      "t:  32%|████████████████████████████████████████████████▌                                                                                                     | 80/247 [00:00<00:00, 736.49it/s, now=None]\u001b[A\n",
      "t:  62%|████████████████████████████████████████████████████████████████████████████████████████████▉                                                        | 154/247 [00:00<00:00, 416.16it/s, now=None]\u001b[A\n",
      "t:  85%|██████████████████████████████████████████████████████████████████████████████████████████████████████████████████████████████                       | 209/247 [00:00<00:00, 453.81it/s, now=None]\u001b[A\n",
      "                                                                                                                                                                                                          \u001b[A"
     ]
    },
    {
     "name": "stdout",
     "output_type": "stream",
     "text": [
      "Moviepy - Done !\n",
      "Moviepy - video ready trimmed/15.mp4\n",
      "Moviepy - Building video trimmed/16.mp4.\n",
      "MoviePy - Writing audio in 16TEMP_MPY_wvf_snd.mp3\n"
     ]
    },
    {
     "name": "stderr",
     "output_type": "stream",
     "text": [
      "\n",
      "chunk:   0%|                                                                                                                                                            | 0/221 [00:00<?, ?it/s, now=None]\u001b[A\n",
      "                                                                                                                                                                                                          \u001b[A"
     ]
    },
    {
     "name": "stdout",
     "output_type": "stream",
     "text": [
      "MoviePy - Done.\n",
      "Moviepy - Writing video trimmed/16.mp4\n",
      "\n"
     ]
    },
    {
     "name": "stderr",
     "output_type": "stream",
     "text": [
      "\n",
      "t:   0%|                                                                                                                                                                | 0/150 [00:00<?, ?it/s, now=None]\u001b[A\n",
      "t:  16%|████████████████████████                                                                                                                              | 24/150 [00:00<00:00, 236.47it/s, now=None]\u001b[A\n",
      "t:  35%|█████████████████████████████████████████████████████                                                                                                 | 53/150 [00:00<00:00, 261.30it/s, now=None]\u001b[A\n",
      "t:  53%|████████████████████████████████████████████████████████████████████████████████                                                                      | 80/150 [00:00<00:00, 254.87it/s, now=None]\u001b[A\n",
      "t:  71%|█████████████████████████████████████████████████████████████████████████████████████████████████████████▎                                           | 106/150 [00:00<00:00, 167.86it/s, now=None]\u001b[A\n",
      "t:  84%|█████████████████████████████████████████████████████████████████████████████████████████████████████████████████████████████▏                       | 126/150 [00:00<00:00, 115.41it/s, now=None]\u001b[A\n",
      "                                                                                                                                                                                                          \u001b[A"
     ]
    },
    {
     "name": "stdout",
     "output_type": "stream",
     "text": [
      "Moviepy - Done !\n",
      "Moviepy - video ready trimmed/16.mp4\n",
      "Moviepy - Building video trimmed/17.mp4.\n",
      "MoviePy - Writing audio in 17TEMP_MPY_wvf_snd.mp3\n"
     ]
    },
    {
     "name": "stderr",
     "output_type": "stream",
     "text": [
      "\n",
      "chunk:   0%|                                                                                                                                                             | 0/77 [00:00<?, ?it/s, now=None]\u001b[A\n",
      "                                                                                                                                                                                                          \u001b[A"
     ]
    },
    {
     "name": "stdout",
     "output_type": "stream",
     "text": [
      "MoviePy - Done.\n",
      "Moviepy - Writing video trimmed/17.mp4\n",
      "\n"
     ]
    },
    {
     "name": "stderr",
     "output_type": "stream",
     "text": [
      "\n",
      "t:   0%|                                                                                                                                                                | 0/104 [00:00<?, ?it/s, now=None]\u001b[A\n",
      "t:  78%|████████████████████████████████████████████████████████████████████████████████████████████████████████████████████▊                                 | 81/104 [00:00<00:00, 808.53it/s, now=None]\u001b[A\n",
      "                                                                                                                                                                                                          \u001b[A"
     ]
    },
    {
     "name": "stdout",
     "output_type": "stream",
     "text": [
      "Moviepy - Done !\n",
      "Moviepy - video ready trimmed/17.mp4\n",
      "Moviepy - Building video trimmed/18.mp4.\n",
      "Moviepy - Writing video trimmed/18.mp4\n",
      "\n"
     ]
    },
    {
     "name": "stderr",
     "output_type": "stream",
     "text": [
      "\n",
      "t:   0%|                                                                                                                                                                 | 0/50 [00:00<?, ?it/s, now=None]\u001b[A\n",
      "                                                                                                                                                                                                          \u001b[A"
     ]
    },
    {
     "name": "stdout",
     "output_type": "stream",
     "text": [
      "Moviepy - Done !\n",
      "Moviepy - video ready trimmed/18.mp4\n",
      "Moviepy - Building video trimmed/19.mp4.\n",
      "Moviepy - Writing video trimmed/19.mp4\n",
      "\n"
     ]
    },
    {
     "name": "stderr",
     "output_type": "stream",
     "text": [
      "\n",
      "t:   0%|                                                                                                                                                                | 0/195 [00:00<?, ?it/s, now=None]\u001b[A\n",
      "t:  21%|███████████████████████████████▌                                                                                                                      | 41/195 [00:00<00:00, 408.93it/s, now=None]\u001b[A\n",
      "t:  42%|███████████████████████████████████████████████████████████████                                                                                       | 82/195 [00:00<00:00, 316.33it/s, now=None]\u001b[A\n",
      "t:  59%|███████████████████████████████████████████████████████████████████████████████████████▊                                                             | 115/195 [00:00<00:00, 199.71it/s, now=None]\u001b[A\n",
      "t:  71%|██████████████████████████████████████████████████████████████████████████████████████████████████████████▏                                          | 139/195 [00:00<00:00, 194.10it/s, now=None]\u001b[A\n",
      "t:  85%|██████████████████████████████████████████████████████████████████████████████████████████████████████████████████████████████▊                      | 166/195 [00:00<00:00, 213.12it/s, now=None]\u001b[A\n",
      "                                                                                                                                                                                                          \u001b[A"
     ]
    },
    {
     "name": "stdout",
     "output_type": "stream",
     "text": [
      "Moviepy - Done !\n",
      "Moviepy - video ready trimmed/19.mp4\n",
      "Moviepy - Building video trimmed/20.mp4.\n",
      "MoviePy - Writing audio in 20TEMP_MPY_wvf_snd.mp3\n"
     ]
    },
    {
     "name": "stderr",
     "output_type": "stream",
     "text": [
      "\n",
      "chunk:   0%|                                                                                                                                                            | 0/115 [00:00<?, ?it/s, now=None]\u001b[A\n",
      "                                                                                                                                                                                                          \u001b[A"
     ]
    },
    {
     "name": "stdout",
     "output_type": "stream",
     "text": [
      "MoviePy - Done.\n",
      "Moviepy - Writing video trimmed/20.mp4\n",
      "\n"
     ]
    },
    {
     "name": "stderr",
     "output_type": "stream",
     "text": [
      "\n",
      "t:   0%|                                                                                                                                                                | 0/155 [00:00<?, ?it/s, now=None]\u001b[A\n",
      "t:  19%|█████████████████████████████                                                                                                                         | 30/155 [00:00<00:00, 295.45it/s, now=None]\u001b[A\n",
      "t:  44%|█████████████████████████████████████████████████████████████████▊                                                                                    | 68/155 [00:00<00:00, 342.80it/s, now=None]\u001b[A\n",
      "t:  66%|███████████████████████████████████████████████████████████████████████████████████████████████████                                                  | 103/155 [00:00<00:00, 195.27it/s, now=None]\u001b[A\n",
      "t:  83%|███████████████████████████████████████████████████████████████████████████████████████████████████████████████████████████                          | 128/155 [00:00<00:00, 176.22it/s, now=None]\u001b[A\n",
      "t:  96%|███████████████████████████████████████████████████████████████████████████████████████████████████████████████████████████████████████████████▏     | 149/155 [00:00<00:00, 142.27it/s, now=None]\u001b[A\n",
      "                                                                                                                                                                                                          \u001b[A"
     ]
    },
    {
     "name": "stdout",
     "output_type": "stream",
     "text": [
      "Moviepy - Done !\n",
      "Moviepy - video ready trimmed/20.mp4\n",
      "Moviepy - Building video trimmed/21.mp4.\n",
      "Moviepy - Writing video trimmed/21.mp4\n",
      "\n"
     ]
    },
    {
     "name": "stderr",
     "output_type": "stream",
     "text": [
      "\n",
      "t:   0%|                                                                                                                                                                | 0/211 [00:00<?, ?it/s, now=None]\u001b[A\n",
      "t:  34%|███████████████████████████████████████████████████▏                                                                                                  | 72/211 [00:00<00:00, 717.07it/s, now=None]\u001b[A\n",
      "t:  68%|█████████████████████████████████████████████████████████████████████████████████████████████████████▋                                               | 144/211 [00:00<00:00, 340.56it/s, now=None]\u001b[A\n",
      "t:  90%|█████████████████████████████████████████████████████████████████████████████████████████████████████████████████████████████████████▍               | 189/211 [00:00<00:00, 310.91it/s, now=None]\u001b[A\n",
      "                                                                                                                                                                                                          \u001b[A"
     ]
    },
    {
     "name": "stdout",
     "output_type": "stream",
     "text": [
      "Moviepy - Done !\n",
      "Moviepy - video ready trimmed/21.mp4\n",
      "Moviepy - Building video trimmed/22.mp4.\n",
      "MoviePy - Writing audio in 22TEMP_MPY_wvf_snd.mp3\n"
     ]
    },
    {
     "name": "stderr",
     "output_type": "stream",
     "text": [
      "\n",
      "chunk:   0%|                                                                                                                                                            | 0/123 [00:00<?, ?it/s, now=None]\u001b[A\n",
      "                                                                                                                                                                                                          \u001b[A"
     ]
    },
    {
     "name": "stdout",
     "output_type": "stream",
     "text": [
      "MoviePy - Done.\n",
      "Moviepy - Writing video trimmed/22.mp4\n",
      "\n"
     ]
    },
    {
     "name": "stderr",
     "output_type": "stream",
     "text": [
      "\n",
      "t:   0%|                                                                                                                                                                | 0/167 [00:00<?, ?it/s, now=None]\u001b[A\n",
      "t:  51%|████████████████████████████████████████████████████████████████████████████▎                                                                         | 85/167 [00:00<00:00, 845.80it/s, now=None]\u001b[A\n",
      "                                                                                                                                                                                                          \u001b[A"
     ]
    },
    {
     "name": "stdout",
     "output_type": "stream",
     "text": [
      "Moviepy - Done !\n",
      "Moviepy - video ready trimmed/22.mp4\n",
      "Moviepy - Building video trimmed/23.mp4.\n",
      "Moviepy - Writing video trimmed/23.mp4\n",
      "\n"
     ]
    },
    {
     "name": "stderr",
     "output_type": "stream",
     "text": [
      "\n",
      "t:   0%|                                                                                                                                                                | 0/214 [00:00<?, ?it/s, now=None]\u001b[A\n",
      "t:  36%|██████████████████████████████████████████████████████▋                                                                                               | 78/214 [00:00<00:00, 750.58it/s, now=None]\u001b[A\n",
      "t:  72%|███████████████████████████████████████████████████████████████████████████████████████████████████████████▏                                         | 154/214 [00:00<00:00, 466.93it/s, now=None]\u001b[A\n",
      "t:  97%|████████████████████████████████████████████████████████████████████████████████████████████████████████████████████████████████████████████████▏    | 207/214 [00:00<00:00, 442.80it/s, now=None]\u001b[A\n",
      "                                                                                                                                                                                                          \u001b[A"
     ]
    },
    {
     "name": "stdout",
     "output_type": "stream",
     "text": [
      "Moviepy - Done !\n",
      "Moviepy - video ready trimmed/23.mp4\n",
      "Moviepy - Building video trimmed/24.mp4.\n",
      "Moviepy - Writing video trimmed/24.mp4\n",
      "\n"
     ]
    },
    {
     "name": "stderr",
     "output_type": "stream",
     "text": [
      "\n",
      "t:   0%|                                                                                                                                                                | 0/155 [00:00<?, ?it/s, now=None]\u001b[A\n",
      "t:  12%|██████████████████▍                                                                                                                                   | 19/155 [00:00<00:00, 188.24it/s, now=None]\u001b[A\n",
      "t:  56%|████████████████████████████████████████████████████████████████████████████████████▏                                                                 | 87/155 [00:00<00:00, 471.62it/s, now=None]\u001b[A\n",
      "t:  99%|████████████████████████████████████████████████████████████████████████████████████████████████████████████████████████████████████████████████████ | 154/155 [00:00<00:00, 548.43it/s, now=None]\u001b[A\n",
      "                                                                                                                                                                                                          \u001b[A"
     ]
    },
    {
     "name": "stdout",
     "output_type": "stream",
     "text": [
      "Moviepy - Done !\n",
      "Moviepy - video ready trimmed/24.mp4\n",
      "Moviepy - Building video trimmed/25.mp4.\n",
      "Moviepy - Writing video trimmed/25.mp4\n",
      "\n"
     ]
    },
    {
     "name": "stderr",
     "output_type": "stream",
     "text": [
      "\n",
      "t:   0%|                                                                                                                                                                | 0/227 [00:00<?, ?it/s, now=None]\u001b[A\n",
      "t:  37%|██████████████████████████████████████████████████████▊                                                                                               | 83/227 [00:00<00:00, 812.37it/s, now=None]\u001b[A\n",
      "t:  73%|████████████████████████████████████████████████████████████████████████████████████████████████████████████▎                                        | 165/227 [00:00<00:00, 566.44it/s, now=None]\u001b[A\n",
      "t: 100%|████████████████████████████████████████████████████████████████████████████████████████████████████████████████████████████████████████████████████▎| 226/227 [00:00<00:00, 489.17it/s, now=None]\u001b[A\n",
      "                                                                                                                                                                                                          \u001b[A"
     ]
    },
    {
     "name": "stdout",
     "output_type": "stream",
     "text": [
      "Moviepy - Done !\n",
      "Moviepy - video ready trimmed/25.mp4\n",
      "Moviepy - Building video trimmed/26.mp4.\n",
      "MoviePy - Writing audio in 26TEMP_MPY_wvf_snd.mp3\n"
     ]
    },
    {
     "name": "stderr",
     "output_type": "stream",
     "text": [
      "\n",
      "chunk:   0%|                                                                                                                                                            | 0/123 [00:00<?, ?it/s, now=None]\u001b[A\n",
      "                                                                                                                                                                                                          \u001b[A"
     ]
    },
    {
     "name": "stdout",
     "output_type": "stream",
     "text": [
      "MoviePy - Done.\n",
      "Moviepy - Writing video trimmed/26.mp4\n",
      "\n"
     ]
    },
    {
     "name": "stderr",
     "output_type": "stream",
     "text": [
      "\n",
      "t:   0%|                                                                                                                                                                | 0/167 [00:00<?, ?it/s, now=None]\u001b[A\n",
      "t:  16%|███████████████████████▎                                                                                                                              | 26/167 [00:00<00:00, 259.58it/s, now=None]\u001b[A\n",
      "t:  34%|███████████████████████████████████████████████████▏                                                                                                  | 57/167 [00:00<00:00, 286.28it/s, now=None]\u001b[A\n",
      "t:  51%|█████████████████████████████████████████████████████████████████████████████▏                                                                        | 86/167 [00:00<00:00, 123.28it/s, now=None]\u001b[A\n",
      "t:  63%|██████████████████████████████████████████████████████████████████████████████████████████████▎                                                       | 105/167 [00:01<00:00, 69.45it/s, now=None]\u001b[A\n",
      "t:  71%|█████████████████████████████████████████████████████████████████████████████████████████████████████████▉                                            | 118/167 [00:01<00:00, 72.03it/s, now=None]\u001b[A\n",
      "t:  78%|████████████████████████████████████████████████████████████████████████████████████████████████████████████████████▊                                 | 130/167 [00:01<00:00, 62.87it/s, now=None]\u001b[A\n",
      "t:  83%|████████████████████████████████████████████████████████████████████████████████████████████████████████████████████████████▊                         | 139/167 [00:01<00:00, 65.49it/s, now=None]\u001b[A\n",
      "t:  89%|████████████████████████████████████████████████████████████████████████████████████████████████████████████████████████████████████▉                 | 148/167 [00:01<00:00, 54.88it/s, now=None]\u001b[A\n",
      "t:  93%|████████████████████████████████████████████████████████████████████████████████████████████████████████████████████████████████████████████          | 156/167 [00:02<00:00, 49.95it/s, now=None]\u001b[A\n",
      "                                                                                                                                                                                                          \u001b[A"
     ]
    },
    {
     "name": "stdout",
     "output_type": "stream",
     "text": [
      "Moviepy - Done !\n",
      "Moviepy - video ready trimmed/26.mp4\n",
      "Moviepy - Building video trimmed/27.mp4.\n",
      "Moviepy - Writing video trimmed/27.mp4\n",
      "\n"
     ]
    },
    {
     "name": "stderr",
     "output_type": "stream",
     "text": [
      "\n",
      "t:   0%|                                                                                                                                                                | 0/218 [00:00<?, ?it/s, now=None]\u001b[A\n",
      "t:  39%|█████████████████████████████████████████████████████████▊                                                                                            | 84/218 [00:00<00:00, 823.78it/s, now=None]\u001b[A\n",
      "t:  77%|██████████████████████████████████████████████████████████████████████████████████████████████████████████████████▏                                  | 167/218 [00:00<00:00, 660.06it/s, now=None]\u001b[A\n",
      "                                                                                                                                                                                                          \u001b[A"
     ]
    },
    {
     "name": "stdout",
     "output_type": "stream",
     "text": [
      "Moviepy - Done !\n",
      "Moviepy - video ready trimmed/27.mp4\n",
      "Moviepy - Building video trimmed/28.mp4.\n",
      "MoviePy - Writing audio in 28TEMP_MPY_wvf_snd.mp3\n"
     ]
    },
    {
     "name": "stderr",
     "output_type": "stream",
     "text": [
      "\n",
      "chunk:   0%|                                                                                                                                                            | 0/141 [00:00<?, ?it/s, now=None]\u001b[A\n",
      "                                                                                                                                                                                                          \u001b[A"
     ]
    },
    {
     "name": "stdout",
     "output_type": "stream",
     "text": [
      "MoviePy - Done.\n",
      "Moviepy - Writing video trimmed/28.mp4\n",
      "\n"
     ]
    },
    {
     "name": "stderr",
     "output_type": "stream",
     "text": [
      "\n",
      "t:   0%|                                                                                                                                                                | 0/191 [00:00<?, ?it/s, now=None]\u001b[A\n",
      "t:  47%|█████████████████████████████████████████████████████████████████████▉                                                                                | 89/191 [00:00<00:00, 884.91it/s, now=None]\u001b[A\n",
      "t:  93%|██████████████████████████████████████████████████████████████████████████████████████████████████████████████████████████████████████████▊          | 178/191 [00:00<00:00, 725.83it/s, now=None]\u001b[A\n",
      "                                                                                                                                                                                                          \u001b[A"
     ]
    },
    {
     "name": "stdout",
     "output_type": "stream",
     "text": [
      "Moviepy - Done !\n",
      "Moviepy - video ready trimmed/28.mp4\n",
      "Moviepy - Building video trimmed/29.mp4.\n",
      "MoviePy - Writing audio in 29TEMP_MPY_wvf_snd.mp3\n"
     ]
    },
    {
     "name": "stderr",
     "output_type": "stream",
     "text": [
      "\n",
      "chunk:   0%|                                                                                                                                                            | 0/140 [00:00<?, ?it/s, now=None]\u001b[A\n",
      "                                                                                                                                                                                                          \u001b[A"
     ]
    },
    {
     "name": "stdout",
     "output_type": "stream",
     "text": [
      "MoviePy - Done.\n",
      "Moviepy - Writing video trimmed/29.mp4\n",
      "\n"
     ]
    },
    {
     "name": "stderr",
     "output_type": "stream",
     "text": [
      "\n",
      "t:   0%|                                                                                                                                                                | 0/189 [00:00<?, ?it/s, now=None]\u001b[A\n",
      "t:  56%|███████████████████████████████████████████████████████████████████████████████████                                                                 | 106/189 [00:00<00:00, 1043.15it/s, now=None]\u001b[A\n",
      "                                                                                                                                                                                                          \u001b[A"
     ]
    },
    {
     "name": "stdout",
     "output_type": "stream",
     "text": [
      "Moviepy - Done !\n",
      "Moviepy - video ready trimmed/29.mp4\n",
      "Moviepy - Building video trimmed/30.mp4.\n",
      "MoviePy - Writing audio in 30TEMP_MPY_wvf_snd.mp3\n"
     ]
    },
    {
     "name": "stderr",
     "output_type": "stream",
     "text": [
      "\n",
      "chunk:   0%|                                                                                                                                                            | 0/154 [00:00<?, ?it/s, now=None]\u001b[A\n",
      "                                                                                                                                                                                                          \u001b[A"
     ]
    },
    {
     "name": "stdout",
     "output_type": "stream",
     "text": [
      "MoviePy - Done.\n",
      "Moviepy - Writing video trimmed/30.mp4\n",
      "\n"
     ]
    },
    {
     "name": "stderr",
     "output_type": "stream",
     "text": [
      "\n",
      "t:   0%|                                                                                                                                                                | 0/167 [00:00<?, ?it/s, now=None]\u001b[A\n",
      "t:  17%|██████████████████████████                                                                                                                            | 29/167 [00:00<00:00, 289.29it/s, now=None]\u001b[A\n",
      "t:  38%|████████████████████████████████████████████████████████▌                                                                                             | 63/167 [00:00<00:00, 317.49it/s, now=None]\u001b[A\n",
      "t:  57%|█████████████████████████████████████████████████████████████████████████████████████▎                                                                | 95/167 [00:00<00:00, 113.73it/s, now=None]\u001b[A\n",
      "t:  69%|████████████████████████████████████████████████████████████████████████████████████████████████████████▏                                             | 116/167 [00:01<00:00, 87.31it/s, now=None]\u001b[A\n",
      "t:  81%|█████████████████████████████████████████████████████████████████████████████████████████████████████████████████████████▎                            | 135/167 [00:01<00:00, 99.71it/s, now=None]\u001b[A\n",
      "t:  90%|██████████████████████████████████████████████████████████████████████████████████████████████████████████████████████████████████████▋               | 150/167 [00:01<00:00, 98.84it/s, now=None]\u001b[A\n",
      "t:  98%|██████████████████████████████████████████████████████████████████████████████████████████████████████████████████████████████████████████████████▎  | 164/167 [00:01<00:00, 103.76it/s, now=None]\u001b[A\n",
      "                                                                                                                                                                                                          \u001b[A"
     ]
    },
    {
     "name": "stdout",
     "output_type": "stream",
     "text": [
      "Moviepy - Done !\n",
      "Moviepy - video ready trimmed/30.mp4\n",
      "Moviepy - Building video trimmed/31.mp4.\n",
      "Moviepy - Writing video trimmed/31.mp4\n",
      "\n"
     ]
    },
    {
     "name": "stderr",
     "output_type": "stream",
     "text": [
      "\n",
      "t:   0%|                                                                                                                                                                | 0/242 [00:00<?, ?it/s, now=None]\u001b[A\n",
      "t:  29%|███████████████████████████████████████████▍                                                                                                          | 70/242 [00:00<00:00, 691.61it/s, now=None]\u001b[A\n",
      "t:  58%|██████████████████████████████████████████████████████████████████████████████████████▊                                                              | 141/242 [00:00<00:00, 700.93it/s, now=None]\u001b[A\n",
      "t:  92%|█████████████████████████████████████████████████████████████████████████████████████████████████████████████████████████████████████████▎           | 223/242 [00:00<00:00, 745.67it/s, now=None]\u001b[A\n",
      "                                                                                                                                                                                                          \u001b[A"
     ]
    },
    {
     "name": "stdout",
     "output_type": "stream",
     "text": [
      "Moviepy - Done !\n",
      "Moviepy - video ready trimmed/31.mp4\n",
      "Moviepy - Building video trimmed/32.mp4.\n",
      "Moviepy - Writing video trimmed/32.mp4\n",
      "\n"
     ]
    },
    {
     "name": "stderr",
     "output_type": "stream",
     "text": [
      "\n",
      "t:   0%|                                                                                                                                                                | 0/192 [00:00<?, ?it/s, now=None]\u001b[A\n",
      "t:  25%|█████████████████████████████████████▌                                                                                                                | 48/192 [00:00<00:00, 477.55it/s, now=None]\u001b[A\n",
      "t:  50%|███████████████████████████████████████████████████████████████████████████                                                                           | 96/192 [00:00<00:00, 354.67it/s, now=None]\u001b[A\n",
      "t:  70%|███████████████████████████████████████████████████████████████████████████████████████████████████████▉                                             | 134/192 [00:00<00:00, 267.90it/s, now=None]\u001b[A\n",
      "t:  85%|███████████████████████████████████████████████████████████████████████████████████████████████████████████████████████████████▎                     | 164/192 [00:00<00:00, 147.93it/s, now=None]\u001b[A\n",
      "t:  96%|███████████████████████████████████████████████████████████████████████████████████████████████████████████████████████████████████████████████▌     | 185/192 [00:01<00:00, 131.88it/s, now=None]\u001b[A\n",
      "                                                                                                                                                                                                          \u001b[A"
     ]
    },
    {
     "name": "stdout",
     "output_type": "stream",
     "text": [
      "Moviepy - Done !\n",
      "Moviepy - video ready trimmed/32.mp4\n",
      "Moviepy - Building video trimmed/33.mp4.\n",
      "Moviepy - Writing video trimmed/33.mp4\n",
      "\n"
     ]
    },
    {
     "name": "stderr",
     "output_type": "stream",
     "text": [
      "\n",
      "t:   0%|                                                                                                                                                                | 0/138 [00:00<?, ?it/s, now=None]\u001b[A\n",
      "t:  68%|██████████████████████████████████████████████████████████████████████████████████████████████████████▏                                               | 94/138 [00:00<00:00, 937.34it/s, now=None]\u001b[A\n",
      "                                                                                                                                                                                                          \u001b[A"
     ]
    },
    {
     "name": "stdout",
     "output_type": "stream",
     "text": [
      "Moviepy - Done !\n",
      "Moviepy - video ready trimmed/33.mp4\n",
      "Moviepy - Building video trimmed/34.mp4.\n",
      "MoviePy - Writing audio in 34TEMP_MPY_wvf_snd.mp3\n"
     ]
    },
    {
     "name": "stderr",
     "output_type": "stream",
     "text": [
      "\n",
      "chunk:   0%|                                                                                                                                                             | 0/89 [00:00<?, ?it/s, now=None]\u001b[A\n",
      "                                                                                                                                                                                                          \u001b[A"
     ]
    },
    {
     "name": "stdout",
     "output_type": "stream",
     "text": [
      "MoviePy - Done.\n",
      "Moviepy - Writing video trimmed/34.mp4\n",
      "\n"
     ]
    },
    {
     "name": "stderr",
     "output_type": "stream",
     "text": [
      "\n",
      "t:   0%|                                                                                                                                                                 | 0/60 [00:00<?, ?it/s, now=None]\u001b[A\n",
      "                                                                                                                                                                                                          \u001b[A"
     ]
    },
    {
     "name": "stdout",
     "output_type": "stream",
     "text": [
      "Moviepy - Done !\n",
      "Moviepy - video ready trimmed/34.mp4\n",
      "Moviepy - Building video trimmed/35.mp4.\n",
      "Moviepy - Writing video trimmed/35.mp4\n",
      "\n"
     ]
    },
    {
     "name": "stderr",
     "output_type": "stream",
     "text": [
      "\n",
      "t:   0%|                                                                                                                                                                | 0/233 [00:00<?, ?it/s, now=None]\u001b[A\n",
      "t:  24%|████████████████████████████████████                                                                                                                  | 56/233 [00:00<00:00, 554.22it/s, now=None]\u001b[A\n",
      "t:  48%|███████████████████████████████████████████████████████████████████████▌                                                                             | 112/233 [00:00<00:00, 355.94it/s, now=None]\u001b[A\n",
      "t:  65%|█████████████████████████████████████████████████████████████████████████████████████████████████▏                                                   | 152/233 [00:00<00:00, 298.62it/s, now=None]\u001b[A\n",
      "t:  79%|██████████████████████████████████████████████████████████████████████████████████████████████████████████████████████▎                              | 185/233 [00:00<00:00, 281.89it/s, now=None]\u001b[A\n",
      "t:  92%|█████████████████████████████████████████████████████████████████████████████████████████████████████████████████████████████████████████▍           | 215/233 [00:00<00:00, 256.28it/s, now=None]\u001b[A\n",
      "                                                                                                                                                                                                          \u001b[A"
     ]
    },
    {
     "name": "stdout",
     "output_type": "stream",
     "text": [
      "Moviepy - Done !\n",
      "Moviepy - video ready trimmed/35.mp4\n",
      "Moviepy - Building video trimmed/36.mp4.\n",
      "Moviepy - Writing video trimmed/36.mp4\n",
      "\n"
     ]
    },
    {
     "name": "stderr",
     "output_type": "stream",
     "text": [
      "\n",
      "t:   0%|                                                                                                                                                                | 0/245 [00:00<?, ?it/s, now=None]\u001b[A\n",
      "t:  34%|██████████████████████████████████████████████████▊                                                                                                   | 83/245 [00:00<00:00, 774.87it/s, now=None]\u001b[A\n",
      "t:  66%|█████████████████████████████████████████████████████████████████████████████████████████████████▉                                                   | 161/245 [00:00<00:00, 537.06it/s, now=None]\u001b[A\n",
      "t:  89%|█████████████████████████████████████████████████████████████████████████████████████████████████████████████████████████████████████▏               | 219/245 [00:00<00:00, 469.32it/s, now=None]\u001b[A\n",
      "                                                                                                                                                                                                          \u001b[A"
     ]
    },
    {
     "name": "stdout",
     "output_type": "stream",
     "text": [
      "Moviepy - Done !\n",
      "Moviepy - video ready trimmed/36.mp4\n",
      "Moviepy - Building video trimmed/37.mp4.\n",
      "Moviepy - Writing video trimmed/37.mp4\n",
      "\n"
     ]
    },
    {
     "name": "stderr",
     "output_type": "stream",
     "text": [
      "\n",
      "t:   0%|                                                                                                                                                                | 0/184 [00:00<?, ?it/s, now=None]\u001b[A\n",
      "t:  42%|███████████████████████████████████████████████████████████████▌                                                                                      | 78/184 [00:00<00:00, 774.60it/s, now=None]\u001b[A\n",
      "t:  85%|██████████████████████████████████████████████████████████████████████████████████████████████████████████████████████████████▎                      | 156/184 [00:00<00:00, 520.77it/s, now=None]\u001b[A\n",
      "                                                                                                                                                                                                          \u001b[A"
     ]
    },
    {
     "name": "stdout",
     "output_type": "stream",
     "text": [
      "Moviepy - Done !\n",
      "Moviepy - video ready trimmed/37.mp4\n",
      "Moviepy - Building video trimmed/38.mp4.\n",
      "Moviepy - Writing video trimmed/38.mp4\n",
      "\n"
     ]
    },
    {
     "name": "stderr",
     "output_type": "stream",
     "text": [
      "\n",
      "t:   0%|                                                                                                                                                                | 0/227 [00:00<?, ?it/s, now=None]\u001b[A\n",
      "t:  37%|████████████████████████████████████████████████████████▏                                                                                             | 85/227 [00:00<00:00, 849.67it/s, now=None]\u001b[A\n",
      "t:  75%|███████████████████████████████████████████████████████████████████████████████████████████████████████████████▌                                     | 170/227 [00:00<00:00, 726.94it/s, now=None]\u001b[A\n",
      "                                                                                                                                                                                                          \u001b[A"
     ]
    },
    {
     "name": "stdout",
     "output_type": "stream",
     "text": [
      "Moviepy - Done !\n",
      "Moviepy - video ready trimmed/38.mp4\n",
      "Moviepy - Building video trimmed/39.mp4.\n",
      "Moviepy - Writing video trimmed/39.mp4\n",
      "\n"
     ]
    },
    {
     "name": "stderr",
     "output_type": "stream",
     "text": [
      "\n",
      "t:   0%|                                                                                                                                                                 | 0/30 [00:00<?, ?it/s, now=None]\u001b[A\n",
      "                                                                                                                                                                                                          \u001b[A"
     ]
    },
    {
     "name": "stdout",
     "output_type": "stream",
     "text": [
      "Moviepy - Done !\n",
      "Moviepy - video ready trimmed/39.mp4\n",
      "Moviepy - Building video trimmed/40.mp4.\n",
      "Moviepy - Writing video trimmed/40.mp4\n",
      "\n"
     ]
    },
    {
     "name": "stderr",
     "output_type": "stream",
     "text": [
      "\n",
      "t:   0%|                                                                                                                                                                | 0/201 [00:00<?, ?it/s, now=None]\u001b[A\n",
      "t:  52%|████████████████████████████████████████████████████████████████████████████▌                                                                       | 104/201 [00:00<00:00, 1032.79it/s, now=None]\u001b[A\n",
      "                                                                                                                                                                                                          \u001b[A"
     ]
    },
    {
     "name": "stdout",
     "output_type": "stream",
     "text": [
      "Moviepy - Done !\n",
      "Moviepy - video ready trimmed/40.mp4\n",
      "Moviepy - Building video trimmed/41.mp4.\n",
      "Moviepy - Writing video trimmed/41.mp4\n",
      "\n"
     ]
    },
    {
     "name": "stderr",
     "output_type": "stream",
     "text": [
      "\n",
      "t:   0%|                                                                                                                                                                | 0/225 [00:00<?, ?it/s, now=None]\u001b[A\n",
      "t:  29%|████████████████████████████████████████████                                                                                                          | 66/225 [00:00<00:00, 657.62it/s, now=None]\u001b[A\n",
      "t:  59%|███████████████████████████████████████████████████████████████████████████████████████▍                                                             | 132/225 [00:00<00:00, 415.45it/s, now=None]\u001b[A\n",
      "t:  80%|██████████████████████████████████████████████████████████████████████████████████████████████████████████████████████▌                              | 179/225 [00:00<00:00, 403.17it/s, now=None]\u001b[A\n",
      "t:  99%|███████████████████████████████████████████████████████████████████████████████████████████████████████████████████████████████████████████████████  | 222/225 [00:00<00:00, 333.29it/s, now=None]\u001b[A\n",
      "                                                                                                                                                                                                          \u001b[A"
     ]
    },
    {
     "name": "stdout",
     "output_type": "stream",
     "text": [
      "Moviepy - Done !\n",
      "Moviepy - video ready trimmed/41.mp4\n",
      "Moviepy - Building video trimmed/42.mp4.\n",
      "Moviepy - Writing video trimmed/42.mp4\n",
      "\n"
     ]
    },
    {
     "name": "stderr",
     "output_type": "stream",
     "text": [
      "\n",
      "t:   0%|                                                                                                                                                                | 0/145 [00:00<?, ?it/s, now=None]\u001b[A\n",
      "t:  59%|███████████████████████████████████████████████████████████████████████████████████████▉                                                              | 85/145 [00:00<00:00, 777.53it/s, now=None]\u001b[A\n",
      "                                                                                                                                                                                                          \u001b[A"
     ]
    },
    {
     "name": "stdout",
     "output_type": "stream",
     "text": [
      "Moviepy - Done !\n",
      "Moviepy - video ready trimmed/42.mp4\n",
      "Moviepy - Building video trimmed/43.mp4.\n",
      "Moviepy - Writing video trimmed/43.mp4\n",
      "\n"
     ]
    },
    {
     "name": "stderr",
     "output_type": "stream",
     "text": [
      "\n",
      "t:   0%|                                                                                                                                                                | 0/215 [00:00<?, ?it/s, now=None]\u001b[A\n",
      "t:  40%|███████████████████████████████████████████████████████████▎                                                                                          | 85/215 [00:00<00:00, 812.43it/s, now=None]\u001b[A\n",
      "t:  78%|███████████████████████████████████████████████████████████████████████████████████████████████████████████████████▋                                 | 167/215 [00:00<00:00, 603.88it/s, now=None]\u001b[A\n",
      "                                                                                                                                                                                                          \u001b[A"
     ]
    },
    {
     "name": "stdout",
     "output_type": "stream",
     "text": [
      "Moviepy - Done !\n",
      "Moviepy - video ready trimmed/43.mp4\n",
      "Moviepy - Building video trimmed/44.mp4.\n",
      "MoviePy - Writing audio in 44TEMP_MPY_wvf_snd.mp3\n"
     ]
    },
    {
     "name": "stderr",
     "output_type": "stream",
     "text": [
      "\n",
      "chunk:   0%|                                                                                                                                                            | 0/155 [00:00<?, ?it/s, now=None]\u001b[A\n",
      "                                                                                                                                                                                                          \u001b[A"
     ]
    },
    {
     "name": "stdout",
     "output_type": "stream",
     "text": [
      "MoviePy - Done.\n",
      "Moviepy - Writing video trimmed/44.mp4\n",
      "\n"
     ]
    },
    {
     "name": "stderr",
     "output_type": "stream",
     "text": [
      "\n",
      "t:   0%|                                                                                                                                                                | 0/209 [00:00<?, ?it/s, now=None]\u001b[A\n",
      "t:  40%|███████████████████████████████████████████████████████████▌                                                                                          | 83/209 [00:00<00:00, 796.42it/s, now=None]\u001b[A\n",
      "t:  78%|████████████████████████████████████████████████████████████████████████████████████████████████████████████████████▏                                | 163/209 [00:00<00:00, 710.80it/s, now=None]\u001b[A\n",
      "                                                                                                                                                                                                          \u001b[A"
     ]
    },
    {
     "name": "stdout",
     "output_type": "stream",
     "text": [
      "Moviepy - Done !\n",
      "Moviepy - video ready trimmed/44.mp4\n",
      "Moviepy - Building video trimmed/45.mp4.\n",
      "Moviepy - Writing video trimmed/45.mp4\n",
      "\n"
     ]
    },
    {
     "name": "stderr",
     "output_type": "stream",
     "text": [
      "\n",
      "t:   0%|                                                                                                                                                                | 0/162 [00:00<?, ?it/s, now=None]\u001b[A\n",
      "t:  46%|█████████████████████████████████████████████████████████████████████▍                                                                                | 75/162 [00:00<00:00, 693.80it/s, now=None]\u001b[A\n",
      "t:  90%|█████████████████████████████████████████████████████████████████████████████████████████████████████████████████████████████████████▎               | 145/162 [00:00<00:00, 389.63it/s, now=None]\u001b[A\n",
      "                                                                                                                                                                                                          \u001b[A"
     ]
    },
    {
     "name": "stdout",
     "output_type": "stream",
     "text": [
      "Moviepy - Done !\n",
      "Moviepy - video ready trimmed/45.mp4\n",
      "Moviepy - Building video trimmed/46.mp4.\n",
      "MoviePy - Writing audio in 46TEMP_MPY_wvf_snd.mp3\n"
     ]
    },
    {
     "name": "stderr",
     "output_type": "stream",
     "text": [
      "\n",
      "chunk:   0%|                                                                                                                                                            | 0/139 [00:00<?, ?it/s, now=None]\u001b[A\n",
      "                                                                                                                                                                                                          \u001b[A"
     ]
    },
    {
     "name": "stdout",
     "output_type": "stream",
     "text": [
      "MoviePy - Done.\n",
      "Moviepy - Writing video trimmed/46.mp4\n",
      "\n"
     ]
    },
    {
     "name": "stderr",
     "output_type": "stream",
     "text": [
      "\n",
      "t:   0%|                                                                                                                                                                | 0/152 [00:00<?, ?it/s, now=None]\u001b[A\n",
      "t:  51%|████████████████████████████████████████████████████████████████████████████▉                                                                         | 78/152 [00:00<00:00, 751.56it/s, now=None]\u001b[A\n",
      "                                                                                                                                                                                                          \u001b[A"
     ]
    },
    {
     "name": "stdout",
     "output_type": "stream",
     "text": [
      "Moviepy - Done !\n",
      "Moviepy - video ready trimmed/46.mp4\n",
      "Moviepy - Building video trimmed/47.mp4.\n",
      "Moviepy - Writing video trimmed/47.mp4\n",
      "\n"
     ]
    },
    {
     "name": "stderr",
     "output_type": "stream",
     "text": [
      "\n",
      "t:   0%|                                                                                                                                                                | 0/204 [00:00<?, ?it/s, now=None]\u001b[A\n",
      "t:  17%|█████████████████████████▋                                                                                                                            | 35/204 [00:00<00:00, 346.38it/s, now=None]\u001b[A\n",
      "t:  39%|██████████████████████████████████████████████████████████▊                                                                                           | 80/204 [00:00<00:00, 406.60it/s, now=None]\u001b[A\n",
      "t:  59%|████████████████████████████████████████████████████████████████████████████████████████▍                                                            | 121/204 [00:00<00:00, 199.75it/s, now=None]\u001b[A\n",
      "t:  73%|████████████████████████████████████████████████████████████████████████████████████████████████████████████▊                                        | 149/204 [00:00<00:00, 163.91it/s, now=None]\u001b[A\n",
      "t:  84%|████████████████████████████████████████████████████████████████████████████████████████████████████████████████████████████▉                        | 171/204 [00:00<00:00, 141.06it/s, now=None]\u001b[A\n",
      "t:  99%|██████████████████████████████████████████████████████████████████████████████████████████████████████████████████████████████████████████████████▊  | 201/204 [00:01<00:00, 170.86it/s, now=None]\u001b[A\n",
      "                                                                                                                                                                                                          \u001b[A"
     ]
    },
    {
     "name": "stdout",
     "output_type": "stream",
     "text": [
      "Moviepy - Done !\n",
      "Moviepy - video ready trimmed/47.mp4\n",
      "Moviepy - Building video trimmed/48.mp4.\n",
      "MoviePy - Writing audio in 48TEMP_MPY_wvf_snd.mp3\n"
     ]
    },
    {
     "name": "stderr",
     "output_type": "stream",
     "text": [
      "\n",
      "chunk:   0%|                                                                                                                                                            | 0/221 [00:00<?, ?it/s, now=None]\u001b[A\n",
      "chunk: 100%|███████████████████████████████████████████████████████████████████████████████████████████████████████████████████████████████████████████████▎| 220/221 [00:00<00:00, 2198.68it/s, now=None]\u001b[A\n",
      "                                                                                                                                                                                                          \u001b[A"
     ]
    },
    {
     "name": "stdout",
     "output_type": "stream",
     "text": [
      "MoviePy - Done.\n",
      "Moviepy - Writing video trimmed/48.mp4\n",
      "\n"
     ]
    },
    {
     "name": "stderr",
     "output_type": "stream",
     "text": [
      "\n",
      "t:   0%|                                                                                                                                                                | 0/150 [00:00<?, ?it/s, now=None]\u001b[A\n",
      "t:  69%|██████████████████████████████████████████████████████████████████████████████████████████████████████▌                                             | 104/150 [00:00<00:00, 1036.16it/s, now=None]\u001b[A\n",
      "                                                                                                                                                                                                          \u001b[A"
     ]
    },
    {
     "name": "stdout",
     "output_type": "stream",
     "text": [
      "Moviepy - Done !\n",
      "Moviepy - video ready trimmed/48.mp4\n",
      "Moviepy - Building video trimmed/49.mp4.\n",
      "Moviepy - Writing video trimmed/49.mp4\n",
      "\n"
     ]
    },
    {
     "name": "stderr",
     "output_type": "stream",
     "text": [
      "\n",
      "t:   0%|                                                                                                                                                                | 0/214 [00:00<?, ?it/s, now=None]\u001b[A\n",
      "t:  28%|██████████████████████████████████████████                                                                                                            | 60/214 [00:00<00:00, 597.08it/s, now=None]\u001b[A\n",
      "t:  56%|███████████████████████████████████████████████████████████████████████████████████▌                                                                 | 120/214 [00:00<00:00, 327.25it/s, now=None]\u001b[A\n",
      "t:  75%|███████████████████████████████████████████████████████████████████████████████████████████████████████████████▍                                     | 160/214 [00:00<00:00, 302.41it/s, now=None]\u001b[A\n",
      "t:  91%|███████████████████████████████████████████████████████████████████████████████████████████████████████████████████████████████████████▊             | 195/214 [00:00<00:00, 311.94it/s, now=None]\u001b[A\n",
      "                                                                                                                                                                                                          \u001b[A"
     ]
    },
    {
     "name": "stdout",
     "output_type": "stream",
     "text": [
      "Moviepy - Done !\n",
      "Moviepy - video ready trimmed/49.mp4\n",
      "Moviepy - Building video trimmed/50.mp4.\n",
      "Moviepy - Writing video trimmed/50.mp4\n",
      "\n"
     ]
    },
    {
     "name": "stderr",
     "output_type": "stream",
     "text": [
      "\n",
      "t:   0%|                                                                                                                                                                | 0/237 [00:00<?, ?it/s, now=None]\u001b[A\n",
      "t:  30%|█████████████████████████████████████████████▌                                                                                                        | 72/237 [00:00<00:00, 719.36it/s, now=None]\u001b[A\n",
      "t:  61%|██████████████████████████████████████████████████████████████████████████████████████████▌                                                          | 144/237 [00:00<00:00, 380.04it/s, now=None]\u001b[A\n",
      "t:  81%|████████████████████████████████████████████████████████████████████████████████████████████████████████████████████████                             | 191/237 [00:00<00:00, 364.78it/s, now=None]\u001b[A\n",
      "                                                                                                                                                                                                          \u001b[A"
     ]
    },
    {
     "name": "stdout",
     "output_type": "stream",
     "text": [
      "Moviepy - Done !\n",
      "Moviepy - video ready trimmed/50.mp4\n",
      "Moviepy - Building video trimmed/51.mp4.\n",
      "Moviepy - Writing video trimmed/51.mp4\n",
      "\n"
     ]
    },
    {
     "name": "stderr",
     "output_type": "stream",
     "text": [
      "\n",
      "t:   0%|                                                                                                                                                                | 0/213 [00:00<?, ?it/s, now=None]\u001b[A\n",
      "t:  24%|████████████████████████████████████▌                                                                                                                 | 52/213 [00:00<00:00, 519.60it/s, now=None]\u001b[A\n",
      "t:  49%|████████████████████████████████████████████████████████████████████████▊                                                                            | 104/213 [00:00<00:00, 417.31it/s, now=None]\u001b[A\n",
      "t:  69%|██████████████████████████████████████████████████████████████████████████████████████████████████████▊                                              | 147/213 [00:00<00:00, 349.83it/s, now=None]\u001b[A\n",
      "t:  86%|████████████████████████████████████████████████████████████████████████████████████████████████████████████████████████████████▋                    | 184/213 [00:00<00:00, 241.46it/s, now=None]\u001b[A\n",
      "                                                                                                                                                                                                          \u001b[A"
     ]
    },
    {
     "name": "stdout",
     "output_type": "stream",
     "text": [
      "Moviepy - Done !\n",
      "Moviepy - video ready trimmed/51.mp4\n",
      "Moviepy - Building video trimmed/52.mp4.\n",
      "MoviePy - Writing audio in 52TEMP_MPY_wvf_snd.mp3\n"
     ]
    },
    {
     "name": "stderr",
     "output_type": "stream",
     "text": [
      "\n",
      "chunk:   0%|                                                                                                                                                            | 0/168 [00:00<?, ?it/s, now=None]\u001b[A\n",
      "                                                                                                                                                                                                          \u001b[A"
     ]
    },
    {
     "name": "stdout",
     "output_type": "stream",
     "text": [
      "MoviePy - Done.\n",
      "Moviepy - Writing video trimmed/52.mp4\n",
      "\n"
     ]
    },
    {
     "name": "stderr",
     "output_type": "stream",
     "text": [
      "\n",
      "t:   0%|                                                                                                                                                                | 0/227 [00:00<?, ?it/s, now=None]\u001b[A\n",
      "t:  42%|██████████████████████████████████████████████████████████████▊                                                                                       | 95/227 [00:00<00:00, 949.95it/s, now=None]\u001b[A\n",
      "t:  84%|████████████████████████████████████████████████████████████████████████████████████████████████████████████████████████████▋                        | 190/227 [00:00<00:00, 719.50it/s, now=None]\u001b[A\n",
      "                                                                                                                                                                                                          \u001b[A"
     ]
    },
    {
     "name": "stdout",
     "output_type": "stream",
     "text": [
      "Moviepy - Done !\n",
      "Moviepy - video ready trimmed/52.mp4\n",
      "Moviepy - Building video trimmed/53.mp4.\n",
      "MoviePy - Writing audio in 53TEMP_MPY_wvf_snd.mp3\n"
     ]
    },
    {
     "name": "stderr",
     "output_type": "stream",
     "text": [
      "\n",
      "chunk:   0%|                                                                                                                                                             | 0/84 [00:00<?, ?it/s, now=None]\u001b[A\n",
      "                                                                                                                                                                                                          \u001b[A"
     ]
    },
    {
     "name": "stdout",
     "output_type": "stream",
     "text": [
      "MoviePy - Done.\n",
      "Moviepy - Writing video trimmed/53.mp4\n",
      "\n"
     ]
    },
    {
     "name": "stderr",
     "output_type": "stream",
     "text": [
      "\n",
      "t:   0%|                                                                                                                                                                | 0/113 [00:00<?, ?it/s, now=None]\u001b[A\n",
      "t:  74%|███████████████████████████████████████████████████████████████████████████████████████████████████████████████▌                                      | 84/113 [00:00<00:00, 785.47it/s, now=None]\u001b[A\n",
      "                                                                                                                                                                                                          \u001b[A"
     ]
    },
    {
     "name": "stdout",
     "output_type": "stream",
     "text": [
      "Moviepy - Done !\n",
      "Moviepy - video ready trimmed/53.mp4\n",
      "Moviepy - Building video trimmed/54.mp4.\n",
      "MoviePy - Writing audio in 54TEMP_MPY_wvf_snd.mp3\n"
     ]
    },
    {
     "name": "stderr",
     "output_type": "stream",
     "text": [
      "\n",
      "chunk:   0%|                                                                                                                                                            | 0/172 [00:00<?, ?it/s, now=None]\u001b[A\n",
      "                                                                                                                                                                                                          \u001b[A"
     ]
    },
    {
     "name": "stdout",
     "output_type": "stream",
     "text": [
      "MoviePy - Done.\n",
      "Moviepy - Writing video trimmed/54.mp4\n",
      "\n"
     ]
    },
    {
     "name": "stderr",
     "output_type": "stream",
     "text": [
      "\n",
      "t:   0%|                                                                                                                                                                | 0/233 [00:00<?, ?it/s, now=None]\u001b[A\n",
      "t:  42%|██████████████████████████████████████████████████████████████▍                                                                                       | 97/233 [00:00<00:00, 927.69it/s, now=None]\u001b[A\n",
      "t:  82%|█████████████████████████████████████████████████████████████████████████████████████████████████████████████████████████▌                           | 190/233 [00:00<00:00, 482.61it/s, now=None]\u001b[A\n",
      "                                                                                                                                                                                                          \u001b[A"
     ]
    },
    {
     "name": "stdout",
     "output_type": "stream",
     "text": [
      "Moviepy - Done !\n",
      "Moviepy - video ready trimmed/54.mp4\n",
      "Moviepy - Building video trimmed/55.mp4.\n",
      "Moviepy - Writing video trimmed/55.mp4\n",
      "\n"
     ]
    },
    {
     "name": "stderr",
     "output_type": "stream",
     "text": [
      "\n",
      "t:   0%|                                                                                                                                                                | 0/157 [00:00<?, ?it/s, now=None]\u001b[A\n",
      "t:  31%|██████████████████████████████████████████████▊                                                                                                       | 49/157 [00:00<00:00, 489.42it/s, now=None]\u001b[A\n",
      "t:  62%|█████████████████████████████████████████████████████████████████████████████████████████████▋                                                        | 98/157 [00:00<00:00, 322.21it/s, now=None]\u001b[A\n",
      "t:  85%|███████████████████████████████████████████████████████████████████████████████████████████████████████████████████████████████▏                     | 134/157 [00:00<00:00, 232.72it/s, now=None]\u001b[A\n",
      "                                                                                                                                                                                                          \u001b[A"
     ]
    },
    {
     "name": "stdout",
     "output_type": "stream",
     "text": [
      "Moviepy - Done !\n",
      "Moviepy - video ready trimmed/55.mp4\n",
      "Moviepy - Building video trimmed/56.mp4.\n",
      "Moviepy - Writing video trimmed/56.mp4\n",
      "\n"
     ]
    },
    {
     "name": "stderr",
     "output_type": "stream",
     "text": [
      "\n",
      "t:   0%|                                                                                                                                                                | 0/191 [00:00<?, ?it/s, now=None]\u001b[A\n",
      "t:  30%|█████████████████████████████████████████████▌                                                                                                        | 58/191 [00:00<00:00, 577.32it/s, now=None]\u001b[A\n",
      "t:  61%|██████████████████████████████████████████████████████████████████████████████████████████▍                                                          | 116/191 [00:00<00:00, 368.03it/s, now=None]\u001b[A\n",
      "t:  83%|███████████████████████████████████████████████████████████████████████████████████████████████████████████████████████████▎                         | 158/191 [00:00<00:00, 292.40it/s, now=None]\u001b[A\n",
      "t: 100%|█████████████████████████████████████████████████████████████████████████████████████████████████████████████████████████████████████████████████████| 191/191 [00:00<00:00, 236.13it/s, now=None]\u001b[A\n",
      "                                                                                                                                                                                                          \u001b[A"
     ]
    },
    {
     "name": "stdout",
     "output_type": "stream",
     "text": [
      "Moviepy - Done !\n",
      "Moviepy - video ready trimmed/56.mp4\n",
      "Moviepy - Building video trimmed/57.mp4.\n",
      "Moviepy - Writing video trimmed/57.mp4\n",
      "\n"
     ]
    },
    {
     "name": "stderr",
     "output_type": "stream",
     "text": [
      "\n",
      "t:   0%|                                                                                                                                                                | 0/206 [00:00<?, ?it/s, now=None]\u001b[A\n",
      "t:  24%|███████████████████████████████████▋                                                                                                                  | 49/206 [00:00<00:00, 483.41it/s, now=None]\u001b[A\n",
      "t:  48%|███████████████████████████████████████████████████████████████████████▎                                                                              | 98/206 [00:00<00:00, 282.55it/s, now=None]\u001b[A\n",
      "t:  64%|███████████████████████████████████████████████████████████████████████████████████████████████▍                                                     | 132/206 [00:00<00:00, 295.21it/s, now=None]\u001b[A\n",
      "t:  80%|███████████████████████████████████████████████████████████████████████████████████████████████████████████████████████▎                             | 165/206 [00:00<00:00, 238.48it/s, now=None]\u001b[A\n",
      "t:  93%|██████████████████████████████████████████████████████████████████████████████████████████████████████████████████████████████████████████▊          | 192/206 [00:00<00:00, 224.37it/s, now=None]\u001b[A\n",
      "                                                                                                                                                                                                          \u001b[A"
     ]
    },
    {
     "name": "stdout",
     "output_type": "stream",
     "text": [
      "Moviepy - Done !\n",
      "Moviepy - video ready trimmed/57.mp4\n",
      "Moviepy - Building video trimmed/58.mp4.\n",
      "Moviepy - Writing video trimmed/58.mp4\n",
      "\n"
     ]
    },
    {
     "name": "stderr",
     "output_type": "stream",
     "text": [
      "\n",
      "t:   0%|                                                                                                                                                                | 0/185 [00:00<?, ?it/s, now=None]\u001b[A\n",
      "t:  44%|█████████████████████████████████████████████████████████████████▋                                                                                    | 81/185 [00:00<00:00, 800.85it/s, now=None]\u001b[A\n",
      "t:  88%|██████████████████████████████████████████████████████████████████████████████████████████████████████████████████████████████████▍                  | 162/185 [00:00<00:00, 532.49it/s, now=None]\u001b[A\n",
      "                                                                                                                                                                                                          \u001b[A"
     ]
    },
    {
     "name": "stdout",
     "output_type": "stream",
     "text": [
      "Moviepy - Done !\n",
      "Moviepy - video ready trimmed/58.mp4\n",
      "Moviepy - Building video trimmed/59.mp4.\n",
      "MoviePy - Writing audio in 59TEMP_MPY_wvf_snd.mp3\n"
     ]
    },
    {
     "name": "stderr",
     "output_type": "stream",
     "text": [
      "\n",
      "chunk:   0%|                                                                                                                                                            | 0/178 [00:00<?, ?it/s, now=None]\u001b[A\n",
      "                                                                                                                                                                                                          \u001b[A"
     ]
    },
    {
     "name": "stdout",
     "output_type": "stream",
     "text": [
      "MoviePy - Done.\n",
      "Moviepy - Writing video trimmed/59.mp4\n",
      "\n"
     ]
    },
    {
     "name": "stderr",
     "output_type": "stream",
     "text": [
      "\n",
      "t:   0%|                                                                                                                                                                | 0/121 [00:00<?, ?it/s, now=None]\u001b[A\n",
      "t:  87%|████████████████████████████████████████████████████████████████████████████████████████████████████████████████████████████████▍                   | 105/121 [00:00<00:00, 1048.63it/s, now=None]\u001b[A\n",
      "                                                                                                                                                                                                          \u001b[A"
     ]
    },
    {
     "name": "stdout",
     "output_type": "stream",
     "text": [
      "Moviepy - Done !\n",
      "Moviepy - video ready trimmed/59.mp4\n",
      "Moviepy - Building video trimmed/60.mp4.\n",
      "Moviepy - Writing video trimmed/60.mp4\n",
      "\n"
     ]
    },
    {
     "name": "stderr",
     "output_type": "stream",
     "text": [
      "\n",
      "t:   0%|                                                                                                                                                                 | 0/59 [00:00<?, ?it/s, now=None]\u001b[A\n",
      "                                                                                                                                                                                                          \u001b[A"
     ]
    },
    {
     "name": "stdout",
     "output_type": "stream",
     "text": [
      "Moviepy - Done !\n",
      "Moviepy - video ready trimmed/60.mp4\n",
      "Moviepy - Building video trimmed/61.mp4.\n",
      "Moviepy - Writing video trimmed/61.mp4\n",
      "\n"
     ]
    },
    {
     "name": "stderr",
     "output_type": "stream",
     "text": [
      "\n",
      "t:   0%|                                                                                                                                                                | 0/192 [00:00<?, ?it/s, now=None]\u001b[A\n",
      "t:  44%|██████████████████████████████████████████████████████████████████▍                                                                                   | 85/192 [00:00<00:00, 844.64it/s, now=None]\u001b[A\n",
      "t:  89%|███████████████████████████████████████████████████████████████████████████████████████████████████████████████████████████████████▉                 | 170/192 [00:00<00:00, 510.34it/s, now=None]\u001b[A\n",
      "                                                                                                                                                                                                          \u001b[A"
     ]
    },
    {
     "name": "stdout",
     "output_type": "stream",
     "text": [
      "Moviepy - Done !\n",
      "Moviepy - video ready trimmed/61.mp4\n",
      "Moviepy - Building video trimmed/62.mp4.\n",
      "Moviepy - Writing video trimmed/62.mp4\n",
      "\n"
     ]
    },
    {
     "name": "stderr",
     "output_type": "stream",
     "text": [
      "\n",
      "t:   0%|                                                                                                                                                                | 0/219 [00:00<?, ?it/s, now=None]\u001b[A\n",
      "t:  40%|████████████████████████████████████████████████████████████▎                                                                                         | 88/219 [00:00<00:00, 873.86it/s, now=None]\u001b[A\n",
      "t:  80%|███████████████████████████████████████████████████████████████████████████████████████████████████████████████████████▋                             | 176/219 [00:00<00:00, 678.33it/s, now=None]\u001b[A\n",
      "                                                                                                                                                                                                          \u001b[A"
     ]
    },
    {
     "name": "stdout",
     "output_type": "stream",
     "text": [
      "Moviepy - Done !\n",
      "Moviepy - video ready trimmed/62.mp4\n",
      "Moviepy - Building video trimmed/63.mp4.\n",
      "Moviepy - Writing video trimmed/63.mp4\n",
      "\n"
     ]
    },
    {
     "name": "stderr",
     "output_type": "stream",
     "text": [
      "\n",
      "t:   0%|                                                                                                                                                                | 0/225 [00:00<?, ?it/s, now=None]\u001b[A\n",
      "t:  32%|████████████████████████████████████████████████▋                                                                                                     | 73/225 [00:00<00:00, 706.28it/s, now=None]\u001b[A\n",
      "t:  64%|███████████████████████████████████████████████████████████████████████████████████████████████▎                                                     | 144/225 [00:00<00:00, 649.24it/s, now=None]\u001b[A\n",
      "t:  98%|██████████████████████████████████████████████████████████████████████████████████████████████████████████████████████████████████████████████████▎  | 221/225 [00:00<00:00, 699.09it/s, now=None]\u001b[A\n",
      "                                                                                                                                                                                                          \u001b[A"
     ]
    },
    {
     "name": "stdout",
     "output_type": "stream",
     "text": [
      "Moviepy - Done !\n",
      "Moviepy - video ready trimmed/63.mp4\n",
      "Moviepy - Building video trimmed/64.mp4.\n",
      "Moviepy - Writing video trimmed/64.mp4\n",
      "\n"
     ]
    },
    {
     "name": "stderr",
     "output_type": "stream",
     "text": [
      "\n",
      "t:   0%|                                                                                                                                                                | 0/228 [00:00<?, ?it/s, now=None]\u001b[A\n",
      "t:  22%|█████████████████████████████████▌                                                                                                                    | 51/228 [00:00<00:00, 507.00it/s, now=None]\u001b[A\n",
      "t:  45%|██████████████████████████████████████████████████████████████████▋                                                                                  | 102/228 [00:00<00:00, 374.24it/s, now=None]\u001b[A\n",
      "t:  62%|████████████████████████████████████████████████████████████████████████████████████████████▊                                                        | 142/228 [00:00<00:00, 310.51it/s, now=None]\u001b[A\n",
      "t:  77%|██████████████████████████████████████████████████████████████████████████████████████████████████████████████████▎                                  | 175/228 [00:00<00:00, 179.19it/s, now=None]\u001b[A\n",
      "t:  87%|██████████████████████████████████████████████████████████████████████████████████████████████████████████████████████████████████                   | 199/228 [00:00<00:00, 188.69it/s, now=None]\u001b[A\n",
      "t:  98%|█████████████████████████████████████████████████████████████████████████████████████████████████████████████████████████████████████████████████▋   | 223/228 [00:01<00:00, 180.92it/s, now=None]\u001b[A\n",
      "                                                                                                                                                                                                          \u001b[A"
     ]
    },
    {
     "name": "stdout",
     "output_type": "stream",
     "text": [
      "Moviepy - Done !\n",
      "Moviepy - video ready trimmed/64.mp4\n",
      "Moviepy - Building video trimmed/65.mp4.\n",
      "MoviePy - Writing audio in 65TEMP_MPY_wvf_snd.mp3\n"
     ]
    },
    {
     "name": "stderr",
     "output_type": "stream",
     "text": [
      "\n",
      "chunk:   0%|                                                                                                                                                            | 0/138 [00:00<?, ?it/s, now=None]\u001b[A\n",
      "                                                                                                                                                                                                          \u001b[A"
     ]
    },
    {
     "name": "stdout",
     "output_type": "stream",
     "text": [
      "MoviePy - Done.\n",
      "Moviepy - Writing video trimmed/65.mp4\n",
      "\n"
     ]
    },
    {
     "name": "stderr",
     "output_type": "stream",
     "text": [
      "\n",
      "t:   0%|                                                                                                                                                                | 0/187 [00:00<?, ?it/s, now=None]\u001b[A\n",
      "t:  41%|████████████████████████████████████████████████████████████▉                                                                                         | 76/187 [00:00<00:00, 748.97it/s, now=None]\u001b[A\n",
      "t:  81%|████████████████████████████████████████████████████████████████████████████████████████████████████████████████████████▎                            | 151/187 [00:00<00:00, 547.22it/s, now=None]\u001b[A\n",
      "                                                                                                                                                                                                          \u001b[A"
     ]
    },
    {
     "name": "stdout",
     "output_type": "stream",
     "text": [
      "Moviepy - Done !\n",
      "Moviepy - video ready trimmed/65.mp4\n",
      "Moviepy - Building video trimmed/66.mp4.\n",
      "MoviePy - Writing audio in 66TEMP_MPY_wvf_snd.mp3\n"
     ]
    },
    {
     "name": "stderr",
     "output_type": "stream",
     "text": [
      "\n",
      "chunk:   0%|                                                                                                                                                            | 0/129 [00:00<?, ?it/s, now=None]\u001b[A\n",
      "                                                                                                                                                                                                          \u001b[A"
     ]
    },
    {
     "name": "stdout",
     "output_type": "stream",
     "text": [
      "MoviePy - Done.\n",
      "Moviepy - Writing video trimmed/66.mp4\n",
      "\n"
     ]
    },
    {
     "name": "stderr",
     "output_type": "stream",
     "text": [
      "\n",
      "t:   0%|                                                                                                                                                                | 0/176 [00:00<?, ?it/s, now=None]\u001b[A\n",
      "t:  28%|██████████████████████████████████████████▌                                                                                                           | 50/176 [00:00<00:00, 493.41it/s, now=None]\u001b[A\n",
      "t:  57%|████████████████████████████████████████████████████████████████████████████████████▋                                                                | 100/176 [00:00<00:00, 312.73it/s, now=None]\u001b[A\n",
      "t:  77%|██████████████████████████████████████████████████████████████████████████████████████████████████████████████████▎                                  | 135/176 [00:00<00:00, 265.45it/s, now=None]\u001b[A\n",
      "t:  93%|██████████████████████████████████████████████████████████████████████████████████████████████████████████████████████████████████████████▊          | 164/176 [00:00<00:00, 216.98it/s, now=None]\u001b[A\n",
      "                                                                                                                                                                                                          \u001b[A"
     ]
    },
    {
     "name": "stdout",
     "output_type": "stream",
     "text": [
      "Moviepy - Done !\n",
      "Moviepy - video ready trimmed/66.mp4\n",
      "Moviepy - Building video trimmed/67.mp4.\n",
      "Moviepy - Writing video trimmed/67.mp4\n",
      "\n"
     ]
    },
    {
     "name": "stderr",
     "output_type": "stream",
     "text": [
      "\n",
      "t:   0%|                                                                                                                                                                | 0/182 [00:00<?, ?it/s, now=None]\u001b[A\n",
      "t:  47%|██████████████████████████████████████████████████████████████████████▉                                                                               | 86/182 [00:00<00:00, 790.08it/s, now=None]\u001b[A\n",
      "t:  91%|███████████████████████████████████████████████████████████████████████████████████████████████████████████████████████████████████████▉             | 166/182 [00:00<00:00, 656.19it/s, now=None]\u001b[A\n",
      "                                                                                                                                                                                                          \u001b[A"
     ]
    },
    {
     "name": "stdout",
     "output_type": "stream",
     "text": [
      "Moviepy - Done !\n",
      "Moviepy - video ready trimmed/67.mp4\n",
      "Moviepy - Building video trimmed/68.mp4.\n",
      "MoviePy - Writing audio in 68TEMP_MPY_wvf_snd.mp3\n"
     ]
    },
    {
     "name": "stderr",
     "output_type": "stream",
     "text": [
      "\n",
      "chunk:   0%|                                                                                                                                                            | 0/200 [00:00<?, ?it/s, now=None]\u001b[A\n",
      "                                                                                                                                                                                                          \u001b[A"
     ]
    },
    {
     "name": "stdout",
     "output_type": "stream",
     "text": [
      "MoviePy - Done.\n",
      "Moviepy - Writing video trimmed/68.mp4\n",
      "\n"
     ]
    },
    {
     "name": "stderr",
     "output_type": "stream",
     "text": [
      "\n",
      "t:   0%|                                                                                                                                                                | 0/271 [00:00<?, ?it/s, now=None]\u001b[A\n",
      "t:  31%|██████████████████████████████████████████████▍                                                                                                       | 84/271 [00:00<00:00, 816.08it/s, now=None]\u001b[A\n",
      "t:  61%|███████████████████████████████████████████████████████████████████████████████████████████▎                                                         | 166/271 [00:00<00:00, 568.46it/s, now=None]\u001b[A\n",
      "t:  84%|█████████████████████████████████████████████████████████████████████████████████████████████████████████████████████████████▎                       | 228/271 [00:00<00:00, 508.75it/s, now=None]\u001b[A\n",
      "                                                                                                                                                                                                          \u001b[A"
     ]
    },
    {
     "name": "stdout",
     "output_type": "stream",
     "text": [
      "Moviepy - Done !\n",
      "Moviepy - video ready trimmed/68.mp4\n",
      "Moviepy - Building video trimmed/69.mp4.\n",
      "Moviepy - Writing video trimmed/69.mp4\n",
      "\n"
     ]
    },
    {
     "name": "stderr",
     "output_type": "stream",
     "text": [
      "\n",
      "t:   0%|                                                                                                                                                                | 0/225 [00:00<?, ?it/s, now=None]\u001b[A\n",
      "t:  45%|██████████████████████████████████████████████████████████████████▍                                                                                 | 101/225 [00:00<00:00, 1004.75it/s, now=None]\u001b[A\n",
      "t:  90%|█████████████████████████████████████████████████████████████████████████████████████████████████████████████████████████████████████▊               | 202/225 [00:00<00:00, 897.35it/s, now=None]\u001b[A\n",
      "                                                                                                                                                                                                          \u001b[A"
     ]
    },
    {
     "name": "stdout",
     "output_type": "stream",
     "text": [
      "Moviepy - Done !\n",
      "Moviepy - video ready trimmed/69.mp4\n",
      "Moviepy - Building video trimmed/70.mp4.\n",
      "Moviepy - Writing video trimmed/70.mp4\n",
      "\n"
     ]
    },
    {
     "name": "stderr",
     "output_type": "stream",
     "text": [
      "\n",
      "t:   0%|                                                                                                                                                                | 0/184 [00:00<?, ?it/s, now=None]\u001b[A\n",
      "t:  28%|██████████████████████████████████████████▍                                                                                                           | 52/184 [00:00<00:00, 517.90it/s, now=None]\u001b[A\n",
      "t:  57%|████████████████████████████████████████████████████████████████████████████████████▏                                                                | 104/184 [00:00<00:00, 490.95it/s, now=None]\u001b[A\n",
      "t:  84%|████████████████████████████████████████████████████████████████████████████████████████████████████████████████████████████▋                        | 154/184 [00:00<00:00, 420.42it/s, now=None]\u001b[A\n",
      "                                                                                                                                                                                                          \u001b[A"
     ]
    },
    {
     "name": "stdout",
     "output_type": "stream",
     "text": [
      "Moviepy - Done !\n",
      "Moviepy - video ready trimmed/70.mp4\n",
      "Moviepy - Building video trimmed/71.mp4.\n",
      "Moviepy - Writing video trimmed/71.mp4\n",
      "\n"
     ]
    },
    {
     "name": "stderr",
     "output_type": "stream",
     "text": [
      "\n",
      "t:   0%|                                                                                                                                                                | 0/252 [00:00<?, ?it/s, now=None]\u001b[A\n",
      "t:  30%|████████████████████████████████████████████▋                                                                                                         | 75/252 [00:00<00:00, 742.05it/s, now=None]\u001b[A\n",
      "t:  60%|████████████████████████████████████████████████████████████████████████████████████████▋                                                            | 150/252 [00:00<00:00, 346.79it/s, now=None]\u001b[A\n",
      "t:  78%|███████████████████████████████████████████████████████████████████████████████████████████████████████████████████▉                                 | 196/252 [00:00<00:00, 313.51it/s, now=None]\u001b[A\n",
      "t:  92%|█████████████████████████████████████████████████████████████████████████████████████████████████████████████████████████████████████████▊           | 233/252 [00:00<00:00, 297.85it/s, now=None]\u001b[A\n",
      "                                                                                                                                                                                                          \u001b[A"
     ]
    },
    {
     "name": "stdout",
     "output_type": "stream",
     "text": [
      "Moviepy - Done !\n",
      "Moviepy - video ready trimmed/71.mp4\n",
      "Moviepy - Building video trimmed/72.mp4.\n",
      "Moviepy - Writing video trimmed/72.mp4\n",
      "\n"
     ]
    },
    {
     "name": "stderr",
     "output_type": "stream",
     "text": [
      "\n",
      "t:   0%|                                                                                                                                                                | 0/314 [00:00<?, ?it/s, now=None]\u001b[A\n",
      "t:  17%|█████████████████████████▊                                                                                                                            | 54/314 [00:00<00:00, 532.77it/s, now=None]\u001b[A\n",
      "t:  34%|███████████████████████████████████████████████████▏                                                                                                 | 108/314 [00:00<00:00, 369.53it/s, now=None]\u001b[A\n",
      "t:  47%|██████████████████████████████████████████████████████████████████████▏                                                                              | 148/314 [00:00<00:00, 229.08it/s, now=None]\u001b[A\n",
      "t:  56%|███████████████████████████████████████████████████████████████████████████████████▉                                                                 | 177/314 [00:00<00:00, 171.41it/s, now=None]\u001b[A\n",
      "t:  63%|██████████████████████████████████████████████████████████████████████████████████████████████▍                                                      | 199/314 [00:01<00:00, 149.01it/s, now=None]\u001b[A\n",
      "t:  69%|██████████████████████████████████████████████████████████████████████████████████████████████████████▉                                              | 217/314 [00:01<00:00, 141.11it/s, now=None]\u001b[A\n",
      "t:  74%|██████████████████████████████████████████████████████████████████████████████████████████████████████████████▌                                      | 233/314 [00:01<00:00, 116.79it/s, now=None]\u001b[A\n",
      "t:  78%|████████████████████████████████████████████████████████████████████████████████████████████████████████████████████▋                                | 246/314 [00:01<00:00, 102.98it/s, now=None]\u001b[A\n",
      "t:  84%|█████████████████████████████████████████████████████████████████████████████████████████████████████████████████████████████▎                       | 264/314 [00:01<00:00, 109.48it/s, now=None]\u001b[A\n",
      "t:  88%|███████████████████████████████████████████████████████████████████████████████████████████████████████████████████████████████████▊                  | 276/314 [00:01<00:00, 97.78it/s, now=None]\u001b[A\n",
      "t:  95%|█████████████████████████████████████████████████████████████████████████████████████████████████████████████████████████████████████████████▉       | 299/314 [00:02<00:00, 116.70it/s, now=None]\u001b[A\n",
      "t:  99%|████████████████████████████████████████████████████████████████████████████████████████████████████████████████████████████████████████████████████ | 312/314 [00:02<00:00, 114.45it/s, now=None]\u001b[A\n",
      "                                                                                                                                                                                                          \u001b[A"
     ]
    },
    {
     "name": "stdout",
     "output_type": "stream",
     "text": [
      "Moviepy - Done !\n",
      "Moviepy - video ready trimmed/72.mp4\n",
      "Moviepy - Building video trimmed/73.mp4.\n",
      "MoviePy - Writing audio in 73TEMP_MPY_wvf_snd.mp3\n"
     ]
    },
    {
     "name": "stderr",
     "output_type": "stream",
     "text": [
      "\n",
      "chunk:   0%|                                                                                                                                                            | 0/220 [00:00<?, ?it/s, now=None]\u001b[A\n",
      "                                                                                                                                                                                                          \u001b[A"
     ]
    },
    {
     "name": "stdout",
     "output_type": "stream",
     "text": [
      "MoviePy - Done.\n",
      "Moviepy - Writing video trimmed/73.mp4\n",
      "\n"
     ]
    },
    {
     "name": "stderr",
     "output_type": "stream",
     "text": [
      "\n",
      "t:   0%|                                                                                                                                                                | 0/239 [00:00<?, ?it/s, now=None]\u001b[A\n",
      "t:  34%|██████████████████████████████████████████████████▊                                                                                                   | 81/239 [00:00<00:00, 790.20it/s, now=None]\u001b[A\n",
      "t:  67%|████████████████████████████████████████████████████████████████████████████████████████████████████▎                                                | 161/239 [00:00<00:00, 550.84it/s, now=None]\u001b[A\n",
      "t:  92%|█████████████████████████████████████████████████████████████████████████████████████████████████████████████████████████████████████████▊           | 221/239 [00:00<00:00, 483.98it/s, now=None]\u001b[A\n",
      "                                                                                                                                                                                                          \u001b[A"
     ]
    },
    {
     "name": "stdout",
     "output_type": "stream",
     "text": [
      "Moviepy - Done !\n",
      "Moviepy - video ready trimmed/73.mp4\n",
      "Moviepy - Building video trimmed/74.mp4.\n",
      "Moviepy - Writing video trimmed/74.mp4\n",
      "\n"
     ]
    },
    {
     "name": "stderr",
     "output_type": "stream",
     "text": [
      "\n",
      "t:   0%|                                                                                                                                                                | 0/159 [00:00<?, ?it/s, now=None]\u001b[A\n",
      "t:  34%|██████████████████████████████████████████████████▉                                                                                                   | 54/159 [00:00<00:00, 536.64it/s, now=None]\u001b[A\n",
      "t:  68%|█████████████████████████████████████████████████████████████████████████████████████████████████████▏                                               | 108/159 [00:00<00:00, 335.82it/s, now=None]\u001b[A\n",
      "t:  92%|████████████████████████████████████████████████████████████████████████████████████████████████████████████████████████████████████████▊            | 146/159 [00:00<00:00, 260.74it/s, now=None]\u001b[A\n",
      "                                                                                                                                                                                                          \u001b[A"
     ]
    },
    {
     "name": "stdout",
     "output_type": "stream",
     "text": [
      "Moviepy - Done !\n",
      "Moviepy - video ready trimmed/74.mp4\n",
      "Moviepy - Building video trimmed/75.mp4.\n",
      "MoviePy - Writing audio in 75TEMP_MPY_wvf_snd.mp3\n"
     ]
    },
    {
     "name": "stderr",
     "output_type": "stream",
     "text": [
      "\n",
      "chunk:   0%|                                                                                                                                                            | 0/193 [00:00<?, ?it/s, now=None]\u001b[A\n",
      "                                                                                                                                                                                                          \u001b[A"
     ]
    },
    {
     "name": "stdout",
     "output_type": "stream",
     "text": [
      "MoviePy - Done.\n",
      "Moviepy - Writing video trimmed/75.mp4\n",
      "\n"
     ]
    },
    {
     "name": "stderr",
     "output_type": "stream",
     "text": [
      "\n",
      "t:   0%|                                                                                                                                                                | 0/218 [00:00<?, ?it/s, now=None]\u001b[A\n",
      "t:  43%|███████████████████████████████████████████████████████████████▉                                                                                      | 93/218 [00:00<00:00, 920.99it/s, now=None]\u001b[A\n",
      "t:  85%|███████████████████████████████████████████████████████████████████████████████████████████████████████████████████████████████▏                     | 186/218 [00:00<00:00, 487.03it/s, now=None]\u001b[A\n",
      "                                                                                                                                                                                                          \u001b[A"
     ]
    },
    {
     "name": "stdout",
     "output_type": "stream",
     "text": [
      "Moviepy - Done !\n",
      "Moviepy - video ready trimmed/75.mp4\n",
      "Moviepy - Building video trimmed/76.mp4.\n",
      "MoviePy - Writing audio in 76TEMP_MPY_wvf_snd.mp3\n"
     ]
    },
    {
     "name": "stderr",
     "output_type": "stream",
     "text": [
      "\n",
      "chunk:   0%|                                                                                                                                                            | 0/155 [00:00<?, ?it/s, now=None]\u001b[A\n",
      "                                                                                                                                                                                                          \u001b[A"
     ]
    },
    {
     "name": "stdout",
     "output_type": "stream",
     "text": [
      "MoviePy - Done.\n",
      "Moviepy - Writing video trimmed/76.mp4\n",
      "\n"
     ]
    },
    {
     "name": "stderr",
     "output_type": "stream",
     "text": [
      "\n",
      "t:   0%|                                                                                                                                                                | 0/175 [00:00<?, ?it/s, now=None]\u001b[A\n",
      "t:  47%|███████████████████████████████████████████████████████████████████████▏                                                                              | 83/175 [00:00<00:00, 819.41it/s, now=None]\u001b[A\n",
      "t:  94%|████████████████████████████████████████████████████████████████████████████████████████████████████████████████████████████████████████████▍        | 165/175 [00:00<00:00, 428.59it/s, now=None]\u001b[A\n",
      "                                                                                                                                                                                                          \u001b[A"
     ]
    },
    {
     "name": "stdout",
     "output_type": "stream",
     "text": [
      "Moviepy - Done !\n",
      "Moviepy - video ready trimmed/76.mp4\n",
      "Moviepy - Building video trimmed/77.mp4.\n",
      "Moviepy - Writing video trimmed/77.mp4\n",
      "\n"
     ]
    },
    {
     "name": "stderr",
     "output_type": "stream",
     "text": [
      "\n",
      "t:   0%|                                                                                                                                                                | 0/199 [00:00<?, ?it/s, now=None]\u001b[A\n",
      "t:  36%|██████████████████████████████████████████████████████▎                                                                                               | 72/199 [00:00<00:00, 715.63it/s, now=None]\u001b[A\n",
      "t:  72%|███████████████████████████████████████████████████████████████████████████████████████████████████████████▊                                         | 144/199 [00:00<00:00, 221.31it/s, now=None]\u001b[A\n",
      "t:  92%|█████████████████████████████████████████████████████████████████████████████████████████████████████████████████████████████████████████            | 183/199 [00:00<00:00, 229.45it/s, now=None]\u001b[A\n",
      "                                                                                                                                                                                                          \u001b[A"
     ]
    },
    {
     "name": "stdout",
     "output_type": "stream",
     "text": [
      "Moviepy - Done !\n",
      "Moviepy - video ready trimmed/77.mp4\n",
      "Moviepy - Building video trimmed/78.mp4.\n",
      "Moviepy - Writing video trimmed/78.mp4\n",
      "\n"
     ]
    },
    {
     "name": "stderr",
     "output_type": "stream",
     "text": [
      "\n",
      "t:   0%|                                                                                                                                                                | 0/145 [00:00<?, ?it/s, now=None]\u001b[A\n",
      "t:  60%|██████████████████████████████████████████████████████████████████████████████████████████                                                            | 87/145 [00:00<00:00, 862.20it/s, now=None]\u001b[A\n",
      "                                                                                                                                                                                                          \u001b[A"
     ]
    },
    {
     "name": "stdout",
     "output_type": "stream",
     "text": [
      "Moviepy - Done !\n",
      "Moviepy - video ready trimmed/78.mp4\n",
      "Moviepy - Building video trimmed/79.mp4.\n",
      "Moviepy - Writing video trimmed/79.mp4\n",
      "\n"
     ]
    },
    {
     "name": "stderr",
     "output_type": "stream",
     "text": [
      "\n",
      "t:   0%|                                                                                                                                                                | 0/211 [00:00<?, ?it/s, now=None]\u001b[A\n",
      "t:  45%|██████████████████████████████████████████████████████████████████▊                                                                                   | 94/211 [00:00<00:00, 930.74it/s, now=None]\u001b[A\n",
      "t:  89%|████████████████████████████████████████████████████████████████████████████████████████████████████████████████████████████████████▊                | 188/211 [00:00<00:00, 739.15it/s, now=None]\u001b[A\n",
      "                                                                                                                                                                                                          \u001b[A"
     ]
    },
    {
     "name": "stdout",
     "output_type": "stream",
     "text": [
      "Moviepy - Done !\n",
      "Moviepy - video ready trimmed/79.mp4\n",
      "Moviepy - Building video trimmed/80.mp4.\n",
      "Moviepy - Writing video trimmed/80.mp4\n",
      "\n"
     ]
    },
    {
     "name": "stderr",
     "output_type": "stream",
     "text": [
      "\n",
      "t:   0%|                                                                                                                                                                | 0/249 [00:00<?, ?it/s, now=None]\u001b[A\n",
      "t:  34%|██████████████████████████████████████████████████▌                                                                                                   | 84/249 [00:00<00:00, 830.85it/s, now=None]\u001b[A\n",
      "t:  67%|████████████████████████████████████████████████████████████████████████████████████████████████████▌                                                | 168/249 [00:00<00:00, 537.08it/s, now=None]\u001b[A\n",
      "t:  92%|████████████████████████████████████████████████████████████████████████████████████████████████████████████████████████████████████████▍            | 228/249 [00:00<00:00, 439.46it/s, now=None]\u001b[A\n",
      "                                                                                                                                                                                                          \u001b[A"
     ]
    },
    {
     "name": "stdout",
     "output_type": "stream",
     "text": [
      "Moviepy - Done !\n",
      "Moviepy - video ready trimmed/80.mp4\n",
      "Moviepy - Building video trimmed/81.mp4.\n",
      "Moviepy - Writing video trimmed/81.mp4\n",
      "\n"
     ]
    },
    {
     "name": "stderr",
     "output_type": "stream",
     "text": [
      "\n",
      "t:   0%|                                                                                                                                                                | 0/200 [00:00<?, ?it/s, now=None]\u001b[A\n",
      "t:  29%|███████████████████████████████████████████▌                                                                                                          | 58/200 [00:00<00:00, 574.62it/s, now=None]\u001b[A\n",
      "t:  58%|██████████████████████████████████████████████████████████████████████████████████████▍                                                              | 116/200 [00:00<00:00, 405.41it/s, now=None]\u001b[A\n",
      "t:  80%|███████████████████████████████████████████████████████████████████████████████████████████████████████████████████████▏                             | 160/200 [00:00<00:00, 322.92it/s, now=None]\u001b[A\n",
      "t:  98%|█████████████████████████████████████████████████████████████████████████████████████████████████████████████████████████████████████████████████▎   | 195/200 [00:00<00:00, 272.41it/s, now=None]\u001b[A\n",
      "                                                                                                                                                                                                          \u001b[A"
     ]
    },
    {
     "name": "stdout",
     "output_type": "stream",
     "text": [
      "Moviepy - Done !\n",
      "Moviepy - video ready trimmed/81.mp4\n",
      "Moviepy - Building video trimmed/82.mp4.\n",
      "Moviepy - Writing video trimmed/82.mp4\n",
      "\n"
     ]
    },
    {
     "name": "stderr",
     "output_type": "stream",
     "text": [
      "\n",
      "t:   0%|                                                                                                                                                                | 0/179 [00:00<?, ?it/s, now=None]\u001b[A\n",
      "t:  46%|████████████████████████████████████████████████████████████████████▋                                                                                 | 82/179 [00:00<00:00, 817.26it/s, now=None]\u001b[A\n",
      "t:  92%|████████████████████████████████████████████████████████████████████████████████████████████████████████████████████████████████████████▌            | 164/179 [00:00<00:00, 538.23it/s, now=None]\u001b[A\n",
      "                                                                                                                                                                                                          \u001b[A"
     ]
    },
    {
     "name": "stdout",
     "output_type": "stream",
     "text": [
      "Moviepy - Done !\n",
      "Moviepy - video ready trimmed/82.mp4\n",
      "Moviepy - Building video trimmed/83.mp4.\n",
      "Moviepy - Writing video trimmed/83.mp4\n",
      "\n"
     ]
    },
    {
     "name": "stderr",
     "output_type": "stream",
     "text": [
      "\n",
      "t:   0%|                                                                                                                                                                | 0/158 [00:00<?, ?it/s, now=None]\u001b[A\n",
      "t:  63%|█████████████████████████████████████████████████████████████████████████████████████████████▉                                                        | 99/158 [00:00<00:00, 972.83it/s, now=None]\u001b[A\n",
      "                                                                                                                                                                                                          \u001b[A"
     ]
    },
    {
     "name": "stdout",
     "output_type": "stream",
     "text": [
      "Moviepy - Done !\n",
      "Moviepy - video ready trimmed/83.mp4\n",
      "Moviepy - Building video trimmed/84.mp4.\n",
      "Moviepy - Writing video trimmed/84.mp4\n",
      "\n"
     ]
    },
    {
     "name": "stderr",
     "output_type": "stream",
     "text": [
      "\n",
      "t:   0%|                                                                                                                                                                | 0/256 [00:00<?, ?it/s, now=None]\u001b[A\n",
      "t:  30%|█████████████████████████████████████████████▋                                                                                                        | 78/256 [00:00<00:00, 767.14it/s, now=None]\u001b[A\n",
      "t:  61%|██████████████████████████████████████████████████████████████████████████████████████████▏                                                          | 155/256 [00:00<00:00, 382.33it/s, now=None]\u001b[A\n",
      "t:  80%|██████████████████████████████████████████████████████████████████████████████████████████████████████████████████████▋                              | 204/256 [00:00<00:00, 273.48it/s, now=None]\u001b[A\n",
      "t:  93%|███████████████████████████████████████████████████████████████████████████████████████████████████████████████████████████████████████████          | 239/256 [00:00<00:00, 280.70it/s, now=None]\u001b[A\n",
      "                                                                                                                                                                                                          \u001b[A"
     ]
    },
    {
     "name": "stdout",
     "output_type": "stream",
     "text": [
      "Moviepy - Done !\n",
      "Moviepy - video ready trimmed/84.mp4\n",
      "Moviepy - Building video trimmed/85.mp4.\n",
      "Moviepy - Writing video trimmed/85.mp4\n",
      "\n"
     ]
    },
    {
     "name": "stderr",
     "output_type": "stream",
     "text": [
      "\n",
      "t:   0%|                                                                                                                                                                | 0/150 [00:00<?, ?it/s, now=None]\u001b[A\n",
      "t:  63%|███████████████████████████████████████████████████████████████████████████████████████████████                                                       | 95/150 [00:00<00:00, 941.11it/s, now=None]\u001b[A\n",
      "                                                                                                                                                                                                          \u001b[A"
     ]
    },
    {
     "name": "stdout",
     "output_type": "stream",
     "text": [
      "Moviepy - Done !\n",
      "Moviepy - video ready trimmed/85.mp4\n",
      "Moviepy - Building video trimmed/86.mp4.\n",
      "MoviePy - Writing audio in 86TEMP_MPY_wvf_snd.mp3\n"
     ]
    },
    {
     "name": "stderr",
     "output_type": "stream",
     "text": [
      "\n",
      "chunk:   0%|                                                                                                                                                            | 0/197 [00:00<?, ?it/s, now=None]\u001b[A\n",
      "                                                                                                                                                                                                          \u001b[A"
     ]
    },
    {
     "name": "stdout",
     "output_type": "stream",
     "text": [
      "MoviePy - Done.\n",
      "Moviepy - Writing video trimmed/86.mp4\n",
      "\n"
     ]
    },
    {
     "name": "stderr",
     "output_type": "stream",
     "text": [
      "\n",
      "t:   0%|                                                                                                                                                                | 0/214 [00:00<?, ?it/s, now=None]\u001b[A\n",
      "t:  38%|█████████████████████████████████████████████████████████▍                                                                                            | 82/214 [00:00<00:00, 808.49it/s, now=None]\u001b[A\n",
      "t:  76%|█████████████████████████████████████████████████████████████████████████████████████████████████████████████████▍                                   | 163/214 [00:00<00:00, 680.01it/s, now=None]\u001b[A\n",
      "                                                                                                                                                                                                          \u001b[A"
     ]
    },
    {
     "name": "stdout",
     "output_type": "stream",
     "text": [
      "Moviepy - Done !\n",
      "Moviepy - video ready trimmed/86.mp4\n",
      "Moviepy - Building video trimmed/87.mp4.\n",
      "Moviepy - Writing video trimmed/87.mp4\n",
      "\n"
     ]
    },
    {
     "name": "stderr",
     "output_type": "stream",
     "text": [
      "\n",
      "t:   0%|                                                                                                                                                                 | 0/93 [00:00<?, ?it/s, now=None]\u001b[A\n",
      "t:  46%|█████████████████████████████████████████████████████████████████████▊                                                                                 | 43/93 [00:00<00:00, 426.76it/s, now=None]\u001b[A\n",
      "t:  92%|███████████████████████████████████████████████████████████████████████████████████████████████████████████████████████████████████████████▋           | 86/93 [00:00<00:00, 428.40it/s, now=None]\u001b[A\n",
      "                                                                                                                                                                                                          \u001b[A"
     ]
    },
    {
     "name": "stdout",
     "output_type": "stream",
     "text": [
      "Moviepy - Done !\n",
      "Moviepy - video ready trimmed/87.mp4\n",
      "Moviepy - Building video trimmed/88.mp4.\n",
      "Moviepy - Writing video trimmed/88.mp4\n",
      "\n"
     ]
    },
    {
     "name": "stderr",
     "output_type": "stream",
     "text": [
      "\n",
      "t:   0%|                                                                                                                                                                | 0/175 [00:00<?, ?it/s, now=None]\u001b[A\n",
      "t:  29%|███████████████████████████████████████████▋                                                                                                          | 51/175 [00:00<00:00, 509.99it/s, now=None]\u001b[A\n",
      "t:  58%|██████████████████████████████████████████████████████████████████████████████████████▊                                                              | 102/175 [00:00<00:00, 344.81it/s, now=None]\u001b[A\n",
      "t:  89%|████████████████████████████████████████████████████████████████████████████████████████████████████████████████████████████████████▊                | 156/175 [00:00<00:00, 411.19it/s, now=None]\u001b[A\n",
      "                                                                                                                                                                                                          \u001b[A"
     ]
    },
    {
     "name": "stdout",
     "output_type": "stream",
     "text": [
      "Moviepy - Done !\n",
      "Moviepy - video ready trimmed/88.mp4\n",
      "Moviepy - Building video trimmed/89.mp4.\n",
      "MoviePy - Writing audio in 89TEMP_MPY_wvf_snd.mp3\n"
     ]
    },
    {
     "name": "stderr",
     "output_type": "stream",
     "text": [
      "\n",
      "chunk:   0%|                                                                                                                                                            | 0/129 [00:00<?, ?it/s, now=None]\u001b[A\n",
      "                                                                                                                                                                                                          \u001b[A"
     ]
    },
    {
     "name": "stdout",
     "output_type": "stream",
     "text": [
      "MoviePy - Done.\n",
      "Moviepy - Writing video trimmed/89.mp4\n",
      "\n"
     ]
    },
    {
     "name": "stderr",
     "output_type": "stream",
     "text": [
      "\n",
      "t:   0%|                                                                                                                                                                | 0/146 [00:00<?, ?it/s, now=None]\u001b[A\n",
      "t:  58%|██████████████████████████████████████████████████████████████████████████████████████▎                                                               | 84/146 [00:00<00:00, 833.94it/s, now=None]\u001b[A\n",
      "                                                                                                                                                                                                          \u001b[A"
     ]
    },
    {
     "name": "stdout",
     "output_type": "stream",
     "text": [
      "Moviepy - Done !\n",
      "Moviepy - video ready trimmed/89.mp4\n",
      "Moviepy - Building video trimmed/90.mp4.\n",
      "Moviepy - Writing video trimmed/90.mp4\n",
      "\n"
     ]
    },
    {
     "name": "stderr",
     "output_type": "stream",
     "text": [
      "\n",
      "t:   0%|                                                                                                                                                                | 0/211 [00:00<?, ?it/s, now=None]\u001b[A\n",
      "t:  47%|██████████████████████████████████████████████████████████████████████▍                                                                               | 99/211 [00:00<00:00, 989.00it/s, now=None]\u001b[A\n",
      "t:  94%|███████████████████████████████████████████████████████████████████████████████████████████████████████████████████████████████████████████▊         | 198/211 [00:00<00:00, 714.89it/s, now=None]\u001b[A\n",
      "                                                                                                                                                                                                          \u001b[A"
     ]
    },
    {
     "name": "stdout",
     "output_type": "stream",
     "text": [
      "Moviepy - Done !\n",
      "Moviepy - video ready trimmed/90.mp4\n",
      "Moviepy - Building video trimmed/91.mp4.\n",
      "MoviePy - Writing audio in 91TEMP_MPY_wvf_snd.mp3\n"
     ]
    },
    {
     "name": "stderr",
     "output_type": "stream",
     "text": [
      "\n",
      "chunk:   0%|                                                                                                                                                            | 0/197 [00:00<?, ?it/s, now=None]\u001b[A\n",
      "                                                                                                                                                                                                          \u001b[A"
     ]
    },
    {
     "name": "stdout",
     "output_type": "stream",
     "text": [
      "MoviePy - Done.\n",
      "Moviepy - Writing video trimmed/91.mp4\n",
      "\n"
     ]
    },
    {
     "name": "stderr",
     "output_type": "stream",
     "text": [
      "\n",
      "t:   0%|                                                                                                                                                                | 0/227 [00:00<?, ?it/s, now=None]\u001b[A\n",
      "t:  11%|█████████████████▏                                                                                                                                    | 26/227 [00:00<00:00, 258.55it/s, now=None]\u001b[A\n",
      "t:  25%|█████████████████████████████████████                                                                                                                 | 56/227 [00:00<00:00, 280.10it/s, now=None]\u001b[A\n",
      "t:  37%|████████████████████████████████████████████████████████▏                                                                                             | 85/227 [00:00<00:00, 233.34it/s, now=None]\u001b[A\n",
      "t:  48%|████████████████████████████████████████████████████████████████████████▏                                                                            | 110/227 [00:00<00:00, 174.18it/s, now=None]\u001b[A\n",
      "t:  57%|█████████████████████████████████████████████████████████████████████████████████████▎                                                               | 130/227 [00:00<00:00, 144.96it/s, now=None]\u001b[A\n",
      "t:  65%|████████████████████████████████████████████████████████████████████████████████████████████████▍                                                    | 147/227 [00:00<00:00, 140.46it/s, now=None]\u001b[A\n",
      "t:  72%|██████████████████████████████████████████████████████████████████████████████████████████████████████████▉                                          | 163/227 [00:01<00:00, 125.88it/s, now=None]\u001b[A\n",
      "t:  81%|█████████████████████████████████████████████████████████████████████████████████████████████████████████████████████████▍                           | 185/227 [00:01<00:00, 141.92it/s, now=None]\u001b[A\n",
      "t:  89%|███████████████████████████████████████████████████████████████████████████████████████████████████████████████████████████████████▉                 | 201/227 [00:01<00:00, 140.95it/s, now=None]\u001b[A\n",
      "t:  95%|█████████████████████████████████████████████████████████████████████████████████████████████████████████████████████████████████████████████▊       | 216/227 [00:01<00:00, 142.72it/s, now=None]\u001b[A\n",
      "                                                                                                                                                                                                          \u001b[A"
     ]
    },
    {
     "name": "stdout",
     "output_type": "stream",
     "text": [
      "Moviepy - Done !\n",
      "Moviepy - video ready trimmed/91.mp4\n",
      "Moviepy - Building video trimmed/92.mp4.\n",
      "MoviePy - Writing audio in 92TEMP_MPY_wvf_snd.mp3\n"
     ]
    },
    {
     "name": "stderr",
     "output_type": "stream",
     "text": [
      "\n",
      "chunk:   0%|                                                                                                                                                            | 0/151 [00:00<?, ?it/s, now=None]\u001b[A\n",
      "                                                                                                                                                                                                          \u001b[A"
     ]
    },
    {
     "name": "stdout",
     "output_type": "stream",
     "text": [
      "MoviePy - Done.\n",
      "Moviepy - Writing video trimmed/92.mp4\n",
      "\n"
     ]
    },
    {
     "name": "stderr",
     "output_type": "stream",
     "text": [
      "\n",
      "t:   0%|                                                                                                                                                                | 0/205 [00:00<?, ?it/s, now=None]\u001b[A\n",
      "t:  47%|██████████████████████████████████████████████████████████████████████▏                                                                               | 96/205 [00:00<00:00, 951.03it/s, now=None]\u001b[A\n",
      "t:  94%|███████████████████████████████████████████████████████████████████████████████████████████████████████████████████████████████████████████▌         | 192/205 [00:00<00:00, 902.88it/s, now=None]\u001b[A\n",
      "                                                                                                                                                                                                          \u001b[A"
     ]
    },
    {
     "name": "stdout",
     "output_type": "stream",
     "text": [
      "Moviepy - Done !\n",
      "Moviepy - video ready trimmed/92.mp4\n",
      "Moviepy - Building video trimmed/93.mp4.\n",
      "Moviepy - Writing video trimmed/93.mp4\n",
      "\n"
     ]
    },
    {
     "name": "stderr",
     "output_type": "stream",
     "text": [
      "\n",
      "t:   0%|                                                                                                                                                                | 0/229 [00:00<?, ?it/s, now=None]\u001b[A\n",
      "t:  22%|████████████████████████████████▊                                                                                                                     | 50/229 [00:00<00:00, 498.21it/s, now=None]\u001b[A\n",
      "t:  44%|█████████████████████████████████████████████████████████████████                                                                                    | 100/229 [00:00<00:00, 344.53it/s, now=None]\u001b[A\n",
      "t:  60%|█████████████████████████████████████████████████████████████████████████████████████████▊                                                           | 138/229 [00:00<00:00, 290.36it/s, now=None]\u001b[A\n",
      "t:  74%|█████████████████████████████████████████████████████████████████████████████████████████████████████████████▉                                       | 169/229 [00:00<00:00, 227.57it/s, now=None]\u001b[A\n",
      "t:  85%|██████████████████████████████████████████████████████████████████████████████████████████████████████████████████████████████▏                      | 194/229 [00:00<00:00, 208.45it/s, now=None]\u001b[A\n",
      "t:  94%|████████████████████████████████████████████████████████████████████████████████████████████████████████████████████████████████████████████▌        | 216/229 [00:00<00:00, 191.99it/s, now=None]\u001b[A\n",
      "                                                                                                                                                                                                          \u001b[A"
     ]
    },
    {
     "name": "stdout",
     "output_type": "stream",
     "text": [
      "Moviepy - Done !\n",
      "Moviepy - video ready trimmed/93.mp4\n",
      "Moviepy - Building video trimmed/94.mp4.\n",
      "Moviepy - Writing video trimmed/94.mp4\n",
      "\n"
     ]
    },
    {
     "name": "stderr",
     "output_type": "stream",
     "text": [
      "\n",
      "t:   0%|                                                                                                                                                                | 0/218 [00:00<?, ?it/s, now=None]\u001b[A\n",
      "t:  19%|████████████████████████████▏                                                                                                                         | 41/218 [00:00<00:00, 404.03it/s, now=None]\u001b[A\n",
      "t:  38%|█████████████████████████████████████████████████████████                                                                                             | 83/218 [00:00<00:00, 411.02it/s, now=None]\u001b[A\n",
      "t:  57%|█████████████████████████████████████████████████████████████████████████████████████▍                                                               | 125/218 [00:00<00:00, 319.02it/s, now=None]\u001b[A\n",
      "t:  78%|████████████████████████████████████████████████████████████████████████████████████████████████████████████████████▉                                | 171/218 [00:00<00:00, 361.37it/s, now=None]\u001b[A\n",
      "t:  96%|██████████████████████████████████████████████████████████████████████████████████████████████████████████████████████████████████████████████▊      | 209/218 [00:00<00:00, 325.33it/s, now=None]\u001b[A\n",
      "                                                                                                                                                                                                          \u001b[A"
     ]
    },
    {
     "name": "stdout",
     "output_type": "stream",
     "text": [
      "Moviepy - Done !\n",
      "Moviepy - video ready trimmed/94.mp4\n",
      "Moviepy - Building video trimmed/95.mp4.\n",
      "MoviePy - Writing audio in 95TEMP_MPY_wvf_snd.mp3\n"
     ]
    },
    {
     "name": "stderr",
     "output_type": "stream",
     "text": [
      "\n",
      "chunk:   0%|                                                                                                                                                             | 0/46 [00:00<?, ?it/s, now=None]\u001b[A\n",
      "                                                                                                                                                                                                          \u001b[A"
     ]
    },
    {
     "name": "stdout",
     "output_type": "stream",
     "text": [
      "MoviePy - Done.\n",
      "Moviepy - Writing video trimmed/95.mp4\n",
      "\n"
     ]
    },
    {
     "name": "stderr",
     "output_type": "stream",
     "text": [
      "\n",
      "t:   0%|                                                                                                                                                                 | 0/62 [00:00<?, ?it/s, now=None]\u001b[A\n",
      "t:  65%|█████████████████████████████████████████████████████████████████████████████████████████████████▍                                                     | 40/62 [00:00<00:00, 398.04it/s, now=None]\u001b[A\n",
      "                                                                                                                                                                                                          \u001b[A"
     ]
    },
    {
     "name": "stdout",
     "output_type": "stream",
     "text": [
      "Moviepy - Done !\n",
      "Moviepy - video ready trimmed/95.mp4\n",
      "Moviepy - Building video trimmed/96.mp4.\n",
      "MoviePy - Writing audio in 96TEMP_MPY_wvf_snd.mp3\n"
     ]
    },
    {
     "name": "stderr",
     "output_type": "stream",
     "text": [
      "\n",
      "chunk:   0%|                                                                                                                                                            | 0/109 [00:00<?, ?it/s, now=None]\u001b[A\n",
      "                                                                                                                                                                                                          \u001b[A"
     ]
    },
    {
     "name": "stdout",
     "output_type": "stream",
     "text": [
      "MoviePy - Done.\n",
      "Moviepy - Writing video trimmed/96.mp4\n",
      "\n"
     ]
    },
    {
     "name": "stderr",
     "output_type": "stream",
     "text": [
      "\n",
      "t:   0%|                                                                                                                                                                | 0/147 [00:00<?, ?it/s, now=None]\u001b[A\n",
      "t:  19%|████████████████████████████▌                                                                                                                         | 28/147 [00:00<00:00, 275.17it/s, now=None]\u001b[A\n",
      "t:  44%|█████████████████████████████████████████████████████████████████▎                                                                                    | 64/147 [00:00<00:00, 320.76it/s, now=None]\u001b[A\n",
      "t:  66%|██████████████████████████████████████████████████████████████████████████████████████████████████▉                                                   | 97/147 [00:00<00:00, 199.30it/s, now=None]\u001b[A\n",
      "t:  82%|██████████████████████████████████████████████████████████████████████████████████████████████████████████████████████████▋                          | 121/147 [00:00<00:00, 146.32it/s, now=None]\u001b[A\n",
      "t:  95%|██████████████████████████████████████████████████████████████████████████████████████████████████████████████████████████████████████████████▊       | 140/147 [00:01<00:00, 93.79it/s, now=None]\u001b[A\n",
      "                                                                                                                                                                                                          \u001b[A"
     ]
    },
    {
     "name": "stdout",
     "output_type": "stream",
     "text": [
      "Moviepy - Done !\n",
      "Moviepy - video ready trimmed/96.mp4\n",
      "Moviepy - Building video trimmed/97.mp4.\n",
      "MoviePy - Writing audio in 97TEMP_MPY_wvf_snd.mp3\n"
     ]
    },
    {
     "name": "stderr",
     "output_type": "stream",
     "text": [
      "\n",
      "chunk:   0%|                                                                                                                                                            | 0/175 [00:00<?, ?it/s, now=None]\u001b[A\n",
      "chunk:  63%|███████████████████████████████████████████████████████████████████████████████████████████▏                                                     | 110/175 [00:00<00:00, 998.96it/s, now=None]\u001b[A\n",
      "                                                                                                                                                                                                          \u001b[A"
     ]
    },
    {
     "name": "stdout",
     "output_type": "stream",
     "text": [
      "MoviePy - Done.\n",
      "Moviepy - Writing video trimmed/97.mp4\n",
      "\n"
     ]
    },
    {
     "name": "stderr",
     "output_type": "stream",
     "text": [
      "\n",
      "t:   0%|                                                                                                                                                                | 0/159 [00:00<?, ?it/s, now=None]\u001b[A\n",
      "t:  11%|████████████████▉                                                                                                                                     | 18/159 [00:00<00:00, 179.65it/s, now=None]\u001b[A\n",
      "t:  27%|████████████████████████████████████████▌                                                                                                             | 43/159 [00:00<00:00, 218.18it/s, now=None]\u001b[A\n",
      "t:  42%|██████████████████████████████████████████████████████████████▎                                                                                       | 66/159 [00:00<00:00, 222.55it/s, now=None]\u001b[A\n",
      "t:  56%|███████████████████████████████████████████████████████████████████████████████████▉                                                                  | 89/159 [00:00<00:00, 162.67it/s, now=None]\u001b[A\n",
      "t:  68%|█████████████████████████████████████████████████████████████████████████████████████████████████████▉                                                | 108/159 [00:00<00:00, 84.65it/s, now=None]\u001b[A\n",
      "t:  77%|███████████████████████████████████████████████████████████████████████████████████████████████████████████████████                                   | 122/159 [00:01<00:00, 66.94it/s, now=None]\u001b[A\n",
      "t:  86%|█████████████████████████████████████████████████████████████████████████████████████████████████████████████████████████████████▏                    | 137/159 [00:01<00:00, 78.72it/s, now=None]\u001b[A\n",
      "t:  94%|████████████████████████████████████████████████████████████████████████████████████████████████████████████████████████████████████████████▌         | 149/159 [00:01<00:00, 73.60it/s, now=None]\u001b[A\n",
      "t: 100%|██████████████████████████████████████████████████████████████████████████████████████████████████████████████████████████████████████████████████████| 159/159 [00:01<00:00, 64.70it/s, now=None]\u001b[A\n",
      "                                                                                                                                                                                                          \u001b[A"
     ]
    },
    {
     "name": "stdout",
     "output_type": "stream",
     "text": [
      "Moviepy - Done !\n",
      "Moviepy - video ready trimmed/97.mp4\n",
      "Moviepy - Building video trimmed/98.mp4.\n",
      "Moviepy - Writing video trimmed/98.mp4\n",
      "\n"
     ]
    },
    {
     "name": "stderr",
     "output_type": "stream",
     "text": [
      "\n",
      "t:   0%|                                                                                                                                                                | 0/216 [00:00<?, ?it/s, now=None]\u001b[A\n",
      "t:  40%|███████████████████████████████████████████████████████████▋                                                                                          | 86/216 [00:00<00:00, 819.67it/s, now=None]\u001b[A\n",
      "t:  78%|███████████████████████████████████████████████████████████████████████████████████████████████████████████████████▉                                 | 168/216 [00:00<00:00, 643.30it/s, now=None]\u001b[A\n",
      "                                                                                                                                                                                                          \u001b[A"
     ]
    },
    {
     "name": "stdout",
     "output_type": "stream",
     "text": [
      "Moviepy - Done !\n",
      "Moviepy - video ready trimmed/98.mp4\n",
      "Moviepy - Building video trimmed/99.mp4.\n",
      "MoviePy - Writing audio in 99TEMP_MPY_wvf_snd.mp3\n"
     ]
    },
    {
     "name": "stderr",
     "output_type": "stream",
     "text": [
      "\n",
      "chunk:   0%|                                                                                                                                                            | 0/161 [00:00<?, ?it/s, now=None]\u001b[A\n",
      "                                                                                                                                                                                                          \u001b[A"
     ]
    },
    {
     "name": "stdout",
     "output_type": "stream",
     "text": [
      "MoviePy - Done.\n",
      "Moviepy - Writing video trimmed/99.mp4\n",
      "\n"
     ]
    },
    {
     "name": "stderr",
     "output_type": "stream",
     "text": [
      "\n",
      "t:   0%|                                                                                                                                                                | 0/218 [00:00<?, ?it/s, now=None]\u001b[A\n",
      "t:  12%|██████████████████▌                                                                                                                                   | 27/218 [00:00<00:00, 269.26it/s, now=None]\u001b[A\n",
      "t:  26%|███████████████████████████████████████▏                                                                                                              | 57/218 [00:00<00:00, 276.41it/s, now=None]\u001b[A\n",
      "t:  39%|██████████████████████████████████████████████████████████▍                                                                                           | 85/218 [00:00<00:00, 158.84it/s, now=None]\u001b[A\n",
      "t:  52%|█████████████████████████████████████████████████████████████████████████████▏                                                                       | 113/218 [00:00<00:00, 185.10it/s, now=None]\u001b[A\n",
      "t:  62%|████████████████████████████████████████████████████████████████████████████████████████████▎                                                        | 135/218 [00:00<00:00, 133.81it/s, now=None]\u001b[A\n",
      "t:  70%|████████████████████████████████████████████████████████████████████████████████████████████████████████▌                                             | 152/218 [00:01<00:00, 98.64it/s, now=None]\u001b[A\n",
      "t:  76%|██████████████████████████████████████████████████████████████████████████████████████████████████████████████████▏                                   | 166/218 [00:01<00:00, 97.45it/s, now=None]\u001b[A\n",
      "t:  82%|██████████████████████████████████████████████████████████████████████████████████████████████████████████████████████████▍                           | 178/218 [00:01<00:00, 85.01it/s, now=None]\u001b[A\n",
      "t:  88%|████████████████████████████████████████████████████████████████████████████████████████████████████████████████████████████████████                  | 192/218 [00:01<00:00, 94.71it/s, now=None]\u001b[A\n",
      "t:  94%|████████████████████████████████████████████████████████████████████████████████████████████████████████████████████████████████████████████▎         | 204/218 [00:01<00:00, 87.95it/s, now=None]\u001b[A\n",
      "t:  98%|███████████████████████████████████████████████████████████████████████████████████████████████████████████████████████████████████████████████████▏  | 214/218 [00:02<00:00, 66.99it/s, now=None]\u001b[A\n",
      "                                                                                                                                                                                                          \u001b[A"
     ]
    },
    {
     "name": "stdout",
     "output_type": "stream",
     "text": [
      "Moviepy - Done !\n",
      "Moviepy - video ready trimmed/99.mp4\n",
      "Moviepy - Building video trimmed/100.mp4.\n",
      "Moviepy - Writing video trimmed/100.mp4\n",
      "\n"
     ]
    },
    {
     "name": "stderr",
     "output_type": "stream",
     "text": [
      "\n",
      "t:   0%|                                                                                                                                                                | 0/220 [00:00<?, ?it/s, now=None]\u001b[A\n",
      "t:  38%|█████████████████████████████████████████████████████████▎                                                                                            | 84/220 [00:00<00:00, 814.51it/s, now=None]\u001b[A\n",
      "t:  75%|████████████████████████████████████████████████████████████████████████████████████████████████████████████████▍                                    | 166/220 [00:00<00:00, 495.56it/s, now=None]\u001b[A\n",
      "                                                                                                                                                                                                          \u001b[A"
     ]
    },
    {
     "name": "stdout",
     "output_type": "stream",
     "text": [
      "Moviepy - Done !\n",
      "Moviepy - video ready trimmed/100.mp4\n"
     ]
    }
   ],
   "source": [
    "from moviepy.editor import VideoFileClip\n",
    "\n",
    "def trim_video(input_path, output_path, start_frame, end_frame):\n",
    "    video = VideoFileClip(input_path)\n",
    "    \n",
    "    fps = video.fps\n",
    "    start_time = start_frame / fps\n",
    "    end_time = end_frame / fps\n",
    "    \n",
    "    trimmed_clip = video.subclip(start_time, end_time)\n",
    "    trimmed_clip.write_videofile(output_path, codec='libx264')\n",
    "    \n",
    "    video.close()\n",
    "    trimmed_clip.close()\n",
    "\n",
    "import cv2\n",
    "\n",
    "def get_frame_count(video_path):\n",
    "    cap = cv2.VideoCapture(video_path)\n",
    "    \n",
    "    if not cap.isOpened():\n",
    "        raise ValueError(f\"Unable to open video file: {video_path}\")\n",
    "    \n",
    "    frame_count = int(cap.get(cv2.CAP_PROP_FRAME_COUNT))\n",
    "    \n",
    "    cap.release()\n",
    "    return frame_count\n",
    "\n",
    "\n",
    "for video, phrase, frames in tqdm(anno_stock100):\n",
    "    input_video_path = video\n",
    "    output_video_path = \"trimmed/\" + video.split('/')[-1]\n",
    "    start_frame = max(0, min(frames) - 100)\n",
    "    end_frame = min(get_frame_count(video), max(frames) + 100)\n",
    "    trim_video(input_video_path, output_video_path, start_frame, end_frame)"
   ]
  },
  {
   "cell_type": "code",
   "execution_count": 46,
   "metadata": {},
   "outputs": [
    {
     "name": "stdout",
     "output_type": "stream",
     "text": [
      "5\n"
     ]
    }
   ],
   "source": [
    "def something():\n",
    "    a_3333 = 5\n",
    "    def something_else():\n",
    "        print(a_3333)\n",
    "    something_else()\n",
    "something()"
   ]
  },
  {
   "cell_type": "markdown",
   "metadata": {},
   "source": [
    "$$\\Large \\textbf{Evaluation on GIF87}$$\n",
    "\n",
    "-----------"
   ]
  },
  {
   "cell_type": "code",
   "execution_count": 73,
   "metadata": {},
   "outputs": [
    {
     "name": "stdout",
     "output_type": "stream",
     "text": [
      "[('GIF87/1.mp4', (1, 'woman falls down', 19)), ('GIF87/2.mp4', (2, 'woman falls down', 9)), ('GIF87/3.mp4', (3, 'guy falls down onto couch', 28)), ('GIF87/4.mp4', (4, 'person falls down', 14)), ('GIF87/5.mp4', (5, 'guy falls down', 10))]\n"
     ]
    }
   ],
   "source": [
    "data = pickle_read('rustyjar/GIF87-anno.pkl')\n",
    "print(data[:5])"
   ]
  },
  {
   "cell_type": "code",
   "execution_count": 37,
   "metadata": {},
   "outputs": [
    {
     "name": "stdout",
     "output_type": "stream",
     "text": [
      "GIF87/50.mp4\n"
     ]
    }
   ],
   "source": [
    "for k, v in data:\n",
    "    if v[1] == \"A person jumping over fence\":\n",
    "        print(k)"
   ]
  },
  {
   "cell_type": "code",
   "execution_count": 76,
   "metadata": {
    "collapsed": true,
    "jupyter": {
     "outputs_hidden": true
    },
    "scrolled": true
   },
   "outputs": [
    {
     "data": {
      "application/vnd.jupyter.widget-view+json": {
       "model_id": "f9ac6ad2945443438d5b87a0e6c45a0e",
       "version_major": 2,
       "version_minor": 0
      },
      "text/plain": [
       "  0%|          | 0/87 [00:00<?, ?it/s]"
      ]
     },
     "metadata": {},
     "output_type": "display_data"
    },
    {
     "ename": "KeyboardInterrupt",
     "evalue": "",
     "output_type": "error",
     "traceback": [
      "\u001b[0;31m---------------------------------------------------------------------------\u001b[0m",
      "\u001b[0;31mKeyboardInterrupt\u001b[0m                         Traceback (most recent call last)",
      "Cell \u001b[0;32mIn[76], line 7\u001b[0m\n\u001b[1;32m      4\u001b[0m     pbar\u001b[38;5;241m.\u001b[39mset_description(\u001b[38;5;124mf\u001b[39m\u001b[38;5;124m'\u001b[39m\u001b[38;5;132;01m{\u001b[39;00mpath\u001b[38;5;132;01m}\u001b[39;00m\u001b[38;5;124m | \u001b[39m\u001b[38;5;132;01m{\u001b[39;00mvideo_data[\u001b[38;5;241m1\u001b[39m]\u001b[38;5;132;01m}\u001b[39;00m\u001b[38;5;124m'\u001b[39m)\n\u001b[1;32m      6\u001b[0m     orig_imgs, proc_imgs \u001b[38;5;241m=\u001b[39m loadMP4Local(path)\n\u001b[0;32m----> 7\u001b[0m     result \u001b[38;5;241m=\u001b[39m \u001b[43mfindMatch\u001b[49m\u001b[43m(\u001b[49m\u001b[43morig_imgs\u001b[49m\u001b[43m,\u001b[49m\u001b[43m \u001b[49m\u001b[43mproc_imgs\u001b[49m\u001b[43m,\u001b[49m\u001b[43m \u001b[49m\u001b[43m[\u001b[49m\u001b[43mvideo_data\u001b[49m\u001b[43m[\u001b[49m\u001b[38;5;241;43m1\u001b[39;49m\u001b[43m]\u001b[49m\u001b[43m]\u001b[49m\u001b[43m)\u001b[49m[\u001b[38;5;241m0\u001b[39m]\n\u001b[1;32m      8\u001b[0m     clip_pred\u001b[38;5;241m.\u001b[39mappend(result)\n\u001b[1;32m     10\u001b[0m pickle_write(\u001b[38;5;124m'\u001b[39m\u001b[38;5;124mjar/CLIP-g100.pkl\u001b[39m\u001b[38;5;124m'\u001b[39m, clip_pred)\n",
      "Cell \u001b[0;32mIn[75], line 56\u001b[0m, in \u001b[0;36mfindMatch\u001b[0;34m(original_images, processed_images, texts)\u001b[0m\n\u001b[1;32m     53\u001b[0m text_tokens \u001b[38;5;241m=\u001b[39m clip\u001b[38;5;241m.\u001b[39mtokenize([desc \u001b[38;5;28;01mfor\u001b[39;00m desc \u001b[38;5;129;01min\u001b[39;00m texts])\n\u001b[1;32m     55\u001b[0m \u001b[38;5;28;01mwith\u001b[39;00m torch\u001b[38;5;241m.\u001b[39mno_grad():\n\u001b[0;32m---> 56\u001b[0m     image_features \u001b[38;5;241m=\u001b[39m \u001b[43mmodel\u001b[49m\u001b[38;5;241;43m.\u001b[39;49m\u001b[43mencode_image\u001b[49m\u001b[43m(\u001b[49m\u001b[43mimage_input\u001b[49m\u001b[43m)\u001b[49m\u001b[38;5;241m.\u001b[39mfloat()\n\u001b[1;32m     57\u001b[0m     text_features \u001b[38;5;241m=\u001b[39m model\u001b[38;5;241m.\u001b[39mencode_text(text_tokens)\u001b[38;5;241m.\u001b[39mfloat()\n\u001b[1;32m     59\u001b[0m image_features \u001b[38;5;241m/\u001b[39m\u001b[38;5;241m=\u001b[39m image_features\u001b[38;5;241m.\u001b[39mnorm(dim\u001b[38;5;241m=\u001b[39m\u001b[38;5;241m-\u001b[39m\u001b[38;5;241m1\u001b[39m, keepdim\u001b[38;5;241m=\u001b[39m\u001b[38;5;28;01mTrue\u001b[39;00m)\n",
      "File \u001b[0;32m/opt/miniconda3/envs/xclip/lib/python3.9/site-packages/clip/model.py:341\u001b[0m, in \u001b[0;36mCLIP.encode_image\u001b[0;34m(self, image)\u001b[0m\n\u001b[1;32m    340\u001b[0m \u001b[38;5;28;01mdef\u001b[39;00m \u001b[38;5;21mencode_image\u001b[39m(\u001b[38;5;28mself\u001b[39m, image):\n\u001b[0;32m--> 341\u001b[0m     \u001b[38;5;28;01mreturn\u001b[39;00m \u001b[38;5;28;43mself\u001b[39;49m\u001b[38;5;241;43m.\u001b[39;49m\u001b[43mvisual\u001b[49m\u001b[43m(\u001b[49m\u001b[43mimage\u001b[49m\u001b[38;5;241;43m.\u001b[39;49m\u001b[43mtype\u001b[49m\u001b[43m(\u001b[49m\u001b[38;5;28;43mself\u001b[39;49m\u001b[38;5;241;43m.\u001b[39;49m\u001b[43mdtype\u001b[49m\u001b[43m)\u001b[49m\u001b[43m)\u001b[49m\n",
      "File \u001b[0;32m/opt/miniconda3/envs/xclip/lib/python3.9/site-packages/torch/nn/modules/module.py:1553\u001b[0m, in \u001b[0;36mModule._wrapped_call_impl\u001b[0;34m(self, *args, **kwargs)\u001b[0m\n\u001b[1;32m   1551\u001b[0m     \u001b[38;5;28;01mreturn\u001b[39;00m \u001b[38;5;28mself\u001b[39m\u001b[38;5;241m.\u001b[39m_compiled_call_impl(\u001b[38;5;241m*\u001b[39margs, \u001b[38;5;241m*\u001b[39m\u001b[38;5;241m*\u001b[39mkwargs)  \u001b[38;5;66;03m# type: ignore[misc]\u001b[39;00m\n\u001b[1;32m   1552\u001b[0m \u001b[38;5;28;01melse\u001b[39;00m:\n\u001b[0;32m-> 1553\u001b[0m     \u001b[38;5;28;01mreturn\u001b[39;00m \u001b[38;5;28;43mself\u001b[39;49m\u001b[38;5;241;43m.\u001b[39;49m\u001b[43m_call_impl\u001b[49m\u001b[43m(\u001b[49m\u001b[38;5;241;43m*\u001b[39;49m\u001b[43margs\u001b[49m\u001b[43m,\u001b[49m\u001b[43m \u001b[49m\u001b[38;5;241;43m*\u001b[39;49m\u001b[38;5;241;43m*\u001b[39;49m\u001b[43mkwargs\u001b[49m\u001b[43m)\u001b[49m\n",
      "File \u001b[0;32m/opt/miniconda3/envs/xclip/lib/python3.9/site-packages/torch/nn/modules/module.py:1562\u001b[0m, in \u001b[0;36mModule._call_impl\u001b[0;34m(self, *args, **kwargs)\u001b[0m\n\u001b[1;32m   1557\u001b[0m \u001b[38;5;66;03m# If we don't have any hooks, we want to skip the rest of the logic in\u001b[39;00m\n\u001b[1;32m   1558\u001b[0m \u001b[38;5;66;03m# this function, and just call forward.\u001b[39;00m\n\u001b[1;32m   1559\u001b[0m \u001b[38;5;28;01mif\u001b[39;00m \u001b[38;5;129;01mnot\u001b[39;00m (\u001b[38;5;28mself\u001b[39m\u001b[38;5;241m.\u001b[39m_backward_hooks \u001b[38;5;129;01mor\u001b[39;00m \u001b[38;5;28mself\u001b[39m\u001b[38;5;241m.\u001b[39m_backward_pre_hooks \u001b[38;5;129;01mor\u001b[39;00m \u001b[38;5;28mself\u001b[39m\u001b[38;5;241m.\u001b[39m_forward_hooks \u001b[38;5;129;01mor\u001b[39;00m \u001b[38;5;28mself\u001b[39m\u001b[38;5;241m.\u001b[39m_forward_pre_hooks\n\u001b[1;32m   1560\u001b[0m         \u001b[38;5;129;01mor\u001b[39;00m _global_backward_pre_hooks \u001b[38;5;129;01mor\u001b[39;00m _global_backward_hooks\n\u001b[1;32m   1561\u001b[0m         \u001b[38;5;129;01mor\u001b[39;00m _global_forward_hooks \u001b[38;5;129;01mor\u001b[39;00m _global_forward_pre_hooks):\n\u001b[0;32m-> 1562\u001b[0m     \u001b[38;5;28;01mreturn\u001b[39;00m \u001b[43mforward_call\u001b[49m\u001b[43m(\u001b[49m\u001b[38;5;241;43m*\u001b[39;49m\u001b[43margs\u001b[49m\u001b[43m,\u001b[49m\u001b[43m \u001b[49m\u001b[38;5;241;43m*\u001b[39;49m\u001b[38;5;241;43m*\u001b[39;49m\u001b[43mkwargs\u001b[49m\u001b[43m)\u001b[49m\n\u001b[1;32m   1564\u001b[0m \u001b[38;5;28;01mtry\u001b[39;00m:\n\u001b[1;32m   1565\u001b[0m     result \u001b[38;5;241m=\u001b[39m \u001b[38;5;28;01mNone\u001b[39;00m\n",
      "File \u001b[0;32m/opt/miniconda3/envs/xclip/lib/python3.9/site-packages/clip/model.py:232\u001b[0m, in \u001b[0;36mVisionTransformer.forward\u001b[0;34m(self, x)\u001b[0m\n\u001b[1;32m    229\u001b[0m x \u001b[38;5;241m=\u001b[39m \u001b[38;5;28mself\u001b[39m\u001b[38;5;241m.\u001b[39mln_pre(x)\n\u001b[1;32m    231\u001b[0m x \u001b[38;5;241m=\u001b[39m x\u001b[38;5;241m.\u001b[39mpermute(\u001b[38;5;241m1\u001b[39m, \u001b[38;5;241m0\u001b[39m, \u001b[38;5;241m2\u001b[39m)  \u001b[38;5;66;03m# NLD -> LND\u001b[39;00m\n\u001b[0;32m--> 232\u001b[0m x \u001b[38;5;241m=\u001b[39m \u001b[38;5;28;43mself\u001b[39;49m\u001b[38;5;241;43m.\u001b[39;49m\u001b[43mtransformer\u001b[49m\u001b[43m(\u001b[49m\u001b[43mx\u001b[49m\u001b[43m)\u001b[49m\n\u001b[1;32m    233\u001b[0m x \u001b[38;5;241m=\u001b[39m x\u001b[38;5;241m.\u001b[39mpermute(\u001b[38;5;241m1\u001b[39m, \u001b[38;5;241m0\u001b[39m, \u001b[38;5;241m2\u001b[39m)  \u001b[38;5;66;03m# LND -> NLD\u001b[39;00m\n\u001b[1;32m    235\u001b[0m x \u001b[38;5;241m=\u001b[39m \u001b[38;5;28mself\u001b[39m\u001b[38;5;241m.\u001b[39mln_post(x[:, \u001b[38;5;241m0\u001b[39m, :])\n",
      "File \u001b[0;32m/opt/miniconda3/envs/xclip/lib/python3.9/site-packages/torch/nn/modules/module.py:1553\u001b[0m, in \u001b[0;36mModule._wrapped_call_impl\u001b[0;34m(self, *args, **kwargs)\u001b[0m\n\u001b[1;32m   1551\u001b[0m     \u001b[38;5;28;01mreturn\u001b[39;00m \u001b[38;5;28mself\u001b[39m\u001b[38;5;241m.\u001b[39m_compiled_call_impl(\u001b[38;5;241m*\u001b[39margs, \u001b[38;5;241m*\u001b[39m\u001b[38;5;241m*\u001b[39mkwargs)  \u001b[38;5;66;03m# type: ignore[misc]\u001b[39;00m\n\u001b[1;32m   1552\u001b[0m \u001b[38;5;28;01melse\u001b[39;00m:\n\u001b[0;32m-> 1553\u001b[0m     \u001b[38;5;28;01mreturn\u001b[39;00m \u001b[38;5;28;43mself\u001b[39;49m\u001b[38;5;241;43m.\u001b[39;49m\u001b[43m_call_impl\u001b[49m\u001b[43m(\u001b[49m\u001b[38;5;241;43m*\u001b[39;49m\u001b[43margs\u001b[49m\u001b[43m,\u001b[49m\u001b[43m \u001b[49m\u001b[38;5;241;43m*\u001b[39;49m\u001b[38;5;241;43m*\u001b[39;49m\u001b[43mkwargs\u001b[49m\u001b[43m)\u001b[49m\n",
      "File \u001b[0;32m/opt/miniconda3/envs/xclip/lib/python3.9/site-packages/torch/nn/modules/module.py:1562\u001b[0m, in \u001b[0;36mModule._call_impl\u001b[0;34m(self, *args, **kwargs)\u001b[0m\n\u001b[1;32m   1557\u001b[0m \u001b[38;5;66;03m# If we don't have any hooks, we want to skip the rest of the logic in\u001b[39;00m\n\u001b[1;32m   1558\u001b[0m \u001b[38;5;66;03m# this function, and just call forward.\u001b[39;00m\n\u001b[1;32m   1559\u001b[0m \u001b[38;5;28;01mif\u001b[39;00m \u001b[38;5;129;01mnot\u001b[39;00m (\u001b[38;5;28mself\u001b[39m\u001b[38;5;241m.\u001b[39m_backward_hooks \u001b[38;5;129;01mor\u001b[39;00m \u001b[38;5;28mself\u001b[39m\u001b[38;5;241m.\u001b[39m_backward_pre_hooks \u001b[38;5;129;01mor\u001b[39;00m \u001b[38;5;28mself\u001b[39m\u001b[38;5;241m.\u001b[39m_forward_hooks \u001b[38;5;129;01mor\u001b[39;00m \u001b[38;5;28mself\u001b[39m\u001b[38;5;241m.\u001b[39m_forward_pre_hooks\n\u001b[1;32m   1560\u001b[0m         \u001b[38;5;129;01mor\u001b[39;00m _global_backward_pre_hooks \u001b[38;5;129;01mor\u001b[39;00m _global_backward_hooks\n\u001b[1;32m   1561\u001b[0m         \u001b[38;5;129;01mor\u001b[39;00m _global_forward_hooks \u001b[38;5;129;01mor\u001b[39;00m _global_forward_pre_hooks):\n\u001b[0;32m-> 1562\u001b[0m     \u001b[38;5;28;01mreturn\u001b[39;00m \u001b[43mforward_call\u001b[49m\u001b[43m(\u001b[49m\u001b[38;5;241;43m*\u001b[39;49m\u001b[43margs\u001b[49m\u001b[43m,\u001b[49m\u001b[43m \u001b[49m\u001b[38;5;241;43m*\u001b[39;49m\u001b[38;5;241;43m*\u001b[39;49m\u001b[43mkwargs\u001b[49m\u001b[43m)\u001b[49m\n\u001b[1;32m   1564\u001b[0m \u001b[38;5;28;01mtry\u001b[39;00m:\n\u001b[1;32m   1565\u001b[0m     result \u001b[38;5;241m=\u001b[39m \u001b[38;5;28;01mNone\u001b[39;00m\n",
      "File \u001b[0;32m/opt/miniconda3/envs/xclip/lib/python3.9/site-packages/clip/model.py:203\u001b[0m, in \u001b[0;36mTransformer.forward\u001b[0;34m(self, x)\u001b[0m\n\u001b[1;32m    202\u001b[0m \u001b[38;5;28;01mdef\u001b[39;00m \u001b[38;5;21mforward\u001b[39m(\u001b[38;5;28mself\u001b[39m, x: torch\u001b[38;5;241m.\u001b[39mTensor):\n\u001b[0;32m--> 203\u001b[0m     \u001b[38;5;28;01mreturn\u001b[39;00m \u001b[38;5;28;43mself\u001b[39;49m\u001b[38;5;241;43m.\u001b[39;49m\u001b[43mresblocks\u001b[49m\u001b[43m(\u001b[49m\u001b[43mx\u001b[49m\u001b[43m)\u001b[49m\n",
      "File \u001b[0;32m/opt/miniconda3/envs/xclip/lib/python3.9/site-packages/torch/nn/modules/module.py:1553\u001b[0m, in \u001b[0;36mModule._wrapped_call_impl\u001b[0;34m(self, *args, **kwargs)\u001b[0m\n\u001b[1;32m   1551\u001b[0m     \u001b[38;5;28;01mreturn\u001b[39;00m \u001b[38;5;28mself\u001b[39m\u001b[38;5;241m.\u001b[39m_compiled_call_impl(\u001b[38;5;241m*\u001b[39margs, \u001b[38;5;241m*\u001b[39m\u001b[38;5;241m*\u001b[39mkwargs)  \u001b[38;5;66;03m# type: ignore[misc]\u001b[39;00m\n\u001b[1;32m   1552\u001b[0m \u001b[38;5;28;01melse\u001b[39;00m:\n\u001b[0;32m-> 1553\u001b[0m     \u001b[38;5;28;01mreturn\u001b[39;00m \u001b[38;5;28;43mself\u001b[39;49m\u001b[38;5;241;43m.\u001b[39;49m\u001b[43m_call_impl\u001b[49m\u001b[43m(\u001b[49m\u001b[38;5;241;43m*\u001b[39;49m\u001b[43margs\u001b[49m\u001b[43m,\u001b[49m\u001b[43m \u001b[49m\u001b[38;5;241;43m*\u001b[39;49m\u001b[38;5;241;43m*\u001b[39;49m\u001b[43mkwargs\u001b[49m\u001b[43m)\u001b[49m\n",
      "File \u001b[0;32m/opt/miniconda3/envs/xclip/lib/python3.9/site-packages/torch/nn/modules/module.py:1562\u001b[0m, in \u001b[0;36mModule._call_impl\u001b[0;34m(self, *args, **kwargs)\u001b[0m\n\u001b[1;32m   1557\u001b[0m \u001b[38;5;66;03m# If we don't have any hooks, we want to skip the rest of the logic in\u001b[39;00m\n\u001b[1;32m   1558\u001b[0m \u001b[38;5;66;03m# this function, and just call forward.\u001b[39;00m\n\u001b[1;32m   1559\u001b[0m \u001b[38;5;28;01mif\u001b[39;00m \u001b[38;5;129;01mnot\u001b[39;00m (\u001b[38;5;28mself\u001b[39m\u001b[38;5;241m.\u001b[39m_backward_hooks \u001b[38;5;129;01mor\u001b[39;00m \u001b[38;5;28mself\u001b[39m\u001b[38;5;241m.\u001b[39m_backward_pre_hooks \u001b[38;5;129;01mor\u001b[39;00m \u001b[38;5;28mself\u001b[39m\u001b[38;5;241m.\u001b[39m_forward_hooks \u001b[38;5;129;01mor\u001b[39;00m \u001b[38;5;28mself\u001b[39m\u001b[38;5;241m.\u001b[39m_forward_pre_hooks\n\u001b[1;32m   1560\u001b[0m         \u001b[38;5;129;01mor\u001b[39;00m _global_backward_pre_hooks \u001b[38;5;129;01mor\u001b[39;00m _global_backward_hooks\n\u001b[1;32m   1561\u001b[0m         \u001b[38;5;129;01mor\u001b[39;00m _global_forward_hooks \u001b[38;5;129;01mor\u001b[39;00m _global_forward_pre_hooks):\n\u001b[0;32m-> 1562\u001b[0m     \u001b[38;5;28;01mreturn\u001b[39;00m \u001b[43mforward_call\u001b[49m\u001b[43m(\u001b[49m\u001b[38;5;241;43m*\u001b[39;49m\u001b[43margs\u001b[49m\u001b[43m,\u001b[49m\u001b[43m \u001b[49m\u001b[38;5;241;43m*\u001b[39;49m\u001b[38;5;241;43m*\u001b[39;49m\u001b[43mkwargs\u001b[49m\u001b[43m)\u001b[49m\n\u001b[1;32m   1564\u001b[0m \u001b[38;5;28;01mtry\u001b[39;00m:\n\u001b[1;32m   1565\u001b[0m     result \u001b[38;5;241m=\u001b[39m \u001b[38;5;28;01mNone\u001b[39;00m\n",
      "File \u001b[0;32m/opt/miniconda3/envs/xclip/lib/python3.9/site-packages/torch/nn/modules/container.py:219\u001b[0m, in \u001b[0;36mSequential.forward\u001b[0;34m(self, input)\u001b[0m\n\u001b[1;32m    217\u001b[0m \u001b[38;5;28;01mdef\u001b[39;00m \u001b[38;5;21mforward\u001b[39m(\u001b[38;5;28mself\u001b[39m, \u001b[38;5;28minput\u001b[39m):\n\u001b[1;32m    218\u001b[0m     \u001b[38;5;28;01mfor\u001b[39;00m module \u001b[38;5;129;01min\u001b[39;00m \u001b[38;5;28mself\u001b[39m:\n\u001b[0;32m--> 219\u001b[0m         \u001b[38;5;28minput\u001b[39m \u001b[38;5;241m=\u001b[39m \u001b[43mmodule\u001b[49m\u001b[43m(\u001b[49m\u001b[38;5;28;43minput\u001b[39;49m\u001b[43m)\u001b[49m\n\u001b[1;32m    220\u001b[0m     \u001b[38;5;28;01mreturn\u001b[39;00m \u001b[38;5;28minput\u001b[39m\n",
      "File \u001b[0;32m/opt/miniconda3/envs/xclip/lib/python3.9/site-packages/torch/nn/modules/module.py:1553\u001b[0m, in \u001b[0;36mModule._wrapped_call_impl\u001b[0;34m(self, *args, **kwargs)\u001b[0m\n\u001b[1;32m   1551\u001b[0m     \u001b[38;5;28;01mreturn\u001b[39;00m \u001b[38;5;28mself\u001b[39m\u001b[38;5;241m.\u001b[39m_compiled_call_impl(\u001b[38;5;241m*\u001b[39margs, \u001b[38;5;241m*\u001b[39m\u001b[38;5;241m*\u001b[39mkwargs)  \u001b[38;5;66;03m# type: ignore[misc]\u001b[39;00m\n\u001b[1;32m   1552\u001b[0m \u001b[38;5;28;01melse\u001b[39;00m:\n\u001b[0;32m-> 1553\u001b[0m     \u001b[38;5;28;01mreturn\u001b[39;00m \u001b[38;5;28;43mself\u001b[39;49m\u001b[38;5;241;43m.\u001b[39;49m\u001b[43m_call_impl\u001b[49m\u001b[43m(\u001b[49m\u001b[38;5;241;43m*\u001b[39;49m\u001b[43margs\u001b[49m\u001b[43m,\u001b[49m\u001b[43m \u001b[49m\u001b[38;5;241;43m*\u001b[39;49m\u001b[38;5;241;43m*\u001b[39;49m\u001b[43mkwargs\u001b[49m\u001b[43m)\u001b[49m\n",
      "File \u001b[0;32m/opt/miniconda3/envs/xclip/lib/python3.9/site-packages/torch/nn/modules/module.py:1562\u001b[0m, in \u001b[0;36mModule._call_impl\u001b[0;34m(self, *args, **kwargs)\u001b[0m\n\u001b[1;32m   1557\u001b[0m \u001b[38;5;66;03m# If we don't have any hooks, we want to skip the rest of the logic in\u001b[39;00m\n\u001b[1;32m   1558\u001b[0m \u001b[38;5;66;03m# this function, and just call forward.\u001b[39;00m\n\u001b[1;32m   1559\u001b[0m \u001b[38;5;28;01mif\u001b[39;00m \u001b[38;5;129;01mnot\u001b[39;00m (\u001b[38;5;28mself\u001b[39m\u001b[38;5;241m.\u001b[39m_backward_hooks \u001b[38;5;129;01mor\u001b[39;00m \u001b[38;5;28mself\u001b[39m\u001b[38;5;241m.\u001b[39m_backward_pre_hooks \u001b[38;5;129;01mor\u001b[39;00m \u001b[38;5;28mself\u001b[39m\u001b[38;5;241m.\u001b[39m_forward_hooks \u001b[38;5;129;01mor\u001b[39;00m \u001b[38;5;28mself\u001b[39m\u001b[38;5;241m.\u001b[39m_forward_pre_hooks\n\u001b[1;32m   1560\u001b[0m         \u001b[38;5;129;01mor\u001b[39;00m _global_backward_pre_hooks \u001b[38;5;129;01mor\u001b[39;00m _global_backward_hooks\n\u001b[1;32m   1561\u001b[0m         \u001b[38;5;129;01mor\u001b[39;00m _global_forward_hooks \u001b[38;5;129;01mor\u001b[39;00m _global_forward_pre_hooks):\n\u001b[0;32m-> 1562\u001b[0m     \u001b[38;5;28;01mreturn\u001b[39;00m \u001b[43mforward_call\u001b[49m\u001b[43m(\u001b[49m\u001b[38;5;241;43m*\u001b[39;49m\u001b[43margs\u001b[49m\u001b[43m,\u001b[49m\u001b[43m \u001b[49m\u001b[38;5;241;43m*\u001b[39;49m\u001b[38;5;241;43m*\u001b[39;49m\u001b[43mkwargs\u001b[49m\u001b[43m)\u001b[49m\n\u001b[1;32m   1564\u001b[0m \u001b[38;5;28;01mtry\u001b[39;00m:\n\u001b[1;32m   1565\u001b[0m     result \u001b[38;5;241m=\u001b[39m \u001b[38;5;28;01mNone\u001b[39;00m\n",
      "File \u001b[0;32m/opt/miniconda3/envs/xclip/lib/python3.9/site-packages/clip/model.py:191\u001b[0m, in \u001b[0;36mResidualAttentionBlock.forward\u001b[0;34m(self, x)\u001b[0m\n\u001b[1;32m    189\u001b[0m \u001b[38;5;28;01mdef\u001b[39;00m \u001b[38;5;21mforward\u001b[39m(\u001b[38;5;28mself\u001b[39m, x: torch\u001b[38;5;241m.\u001b[39mTensor):\n\u001b[1;32m    190\u001b[0m     x \u001b[38;5;241m=\u001b[39m x \u001b[38;5;241m+\u001b[39m \u001b[38;5;28mself\u001b[39m\u001b[38;5;241m.\u001b[39mattention(\u001b[38;5;28mself\u001b[39m\u001b[38;5;241m.\u001b[39mln_1(x))\n\u001b[0;32m--> 191\u001b[0m     x \u001b[38;5;241m=\u001b[39m x \u001b[38;5;241m+\u001b[39m \u001b[38;5;28;43mself\u001b[39;49m\u001b[38;5;241;43m.\u001b[39;49m\u001b[43mmlp\u001b[49m\u001b[43m(\u001b[49m\u001b[38;5;28;43mself\u001b[39;49m\u001b[38;5;241;43m.\u001b[39;49m\u001b[43mln_2\u001b[49m\u001b[43m(\u001b[49m\u001b[43mx\u001b[49m\u001b[43m)\u001b[49m\u001b[43m)\u001b[49m\n\u001b[1;32m    192\u001b[0m     \u001b[38;5;28;01mreturn\u001b[39;00m x\n",
      "File \u001b[0;32m/opt/miniconda3/envs/xclip/lib/python3.9/site-packages/torch/nn/modules/module.py:1553\u001b[0m, in \u001b[0;36mModule._wrapped_call_impl\u001b[0;34m(self, *args, **kwargs)\u001b[0m\n\u001b[1;32m   1551\u001b[0m     \u001b[38;5;28;01mreturn\u001b[39;00m \u001b[38;5;28mself\u001b[39m\u001b[38;5;241m.\u001b[39m_compiled_call_impl(\u001b[38;5;241m*\u001b[39margs, \u001b[38;5;241m*\u001b[39m\u001b[38;5;241m*\u001b[39mkwargs)  \u001b[38;5;66;03m# type: ignore[misc]\u001b[39;00m\n\u001b[1;32m   1552\u001b[0m \u001b[38;5;28;01melse\u001b[39;00m:\n\u001b[0;32m-> 1553\u001b[0m     \u001b[38;5;28;01mreturn\u001b[39;00m \u001b[38;5;28;43mself\u001b[39;49m\u001b[38;5;241;43m.\u001b[39;49m\u001b[43m_call_impl\u001b[49m\u001b[43m(\u001b[49m\u001b[38;5;241;43m*\u001b[39;49m\u001b[43margs\u001b[49m\u001b[43m,\u001b[49m\u001b[43m \u001b[49m\u001b[38;5;241;43m*\u001b[39;49m\u001b[38;5;241;43m*\u001b[39;49m\u001b[43mkwargs\u001b[49m\u001b[43m)\u001b[49m\n",
      "File \u001b[0;32m/opt/miniconda3/envs/xclip/lib/python3.9/site-packages/torch/nn/modules/module.py:1562\u001b[0m, in \u001b[0;36mModule._call_impl\u001b[0;34m(self, *args, **kwargs)\u001b[0m\n\u001b[1;32m   1557\u001b[0m \u001b[38;5;66;03m# If we don't have any hooks, we want to skip the rest of the logic in\u001b[39;00m\n\u001b[1;32m   1558\u001b[0m \u001b[38;5;66;03m# this function, and just call forward.\u001b[39;00m\n\u001b[1;32m   1559\u001b[0m \u001b[38;5;28;01mif\u001b[39;00m \u001b[38;5;129;01mnot\u001b[39;00m (\u001b[38;5;28mself\u001b[39m\u001b[38;5;241m.\u001b[39m_backward_hooks \u001b[38;5;129;01mor\u001b[39;00m \u001b[38;5;28mself\u001b[39m\u001b[38;5;241m.\u001b[39m_backward_pre_hooks \u001b[38;5;129;01mor\u001b[39;00m \u001b[38;5;28mself\u001b[39m\u001b[38;5;241m.\u001b[39m_forward_hooks \u001b[38;5;129;01mor\u001b[39;00m \u001b[38;5;28mself\u001b[39m\u001b[38;5;241m.\u001b[39m_forward_pre_hooks\n\u001b[1;32m   1560\u001b[0m         \u001b[38;5;129;01mor\u001b[39;00m _global_backward_pre_hooks \u001b[38;5;129;01mor\u001b[39;00m _global_backward_hooks\n\u001b[1;32m   1561\u001b[0m         \u001b[38;5;129;01mor\u001b[39;00m _global_forward_hooks \u001b[38;5;129;01mor\u001b[39;00m _global_forward_pre_hooks):\n\u001b[0;32m-> 1562\u001b[0m     \u001b[38;5;28;01mreturn\u001b[39;00m \u001b[43mforward_call\u001b[49m\u001b[43m(\u001b[49m\u001b[38;5;241;43m*\u001b[39;49m\u001b[43margs\u001b[49m\u001b[43m,\u001b[49m\u001b[43m \u001b[49m\u001b[38;5;241;43m*\u001b[39;49m\u001b[38;5;241;43m*\u001b[39;49m\u001b[43mkwargs\u001b[49m\u001b[43m)\u001b[49m\n\u001b[1;32m   1564\u001b[0m \u001b[38;5;28;01mtry\u001b[39;00m:\n\u001b[1;32m   1565\u001b[0m     result \u001b[38;5;241m=\u001b[39m \u001b[38;5;28;01mNone\u001b[39;00m\n",
      "File \u001b[0;32m/opt/miniconda3/envs/xclip/lib/python3.9/site-packages/torch/nn/modules/container.py:219\u001b[0m, in \u001b[0;36mSequential.forward\u001b[0;34m(self, input)\u001b[0m\n\u001b[1;32m    217\u001b[0m \u001b[38;5;28;01mdef\u001b[39;00m \u001b[38;5;21mforward\u001b[39m(\u001b[38;5;28mself\u001b[39m, \u001b[38;5;28minput\u001b[39m):\n\u001b[1;32m    218\u001b[0m     \u001b[38;5;28;01mfor\u001b[39;00m module \u001b[38;5;129;01min\u001b[39;00m \u001b[38;5;28mself\u001b[39m:\n\u001b[0;32m--> 219\u001b[0m         \u001b[38;5;28minput\u001b[39m \u001b[38;5;241m=\u001b[39m \u001b[43mmodule\u001b[49m\u001b[43m(\u001b[49m\u001b[38;5;28;43minput\u001b[39;49m\u001b[43m)\u001b[49m\n\u001b[1;32m    220\u001b[0m     \u001b[38;5;28;01mreturn\u001b[39;00m \u001b[38;5;28minput\u001b[39m\n",
      "File \u001b[0;32m/opt/miniconda3/envs/xclip/lib/python3.9/site-packages/torch/nn/modules/module.py:1553\u001b[0m, in \u001b[0;36mModule._wrapped_call_impl\u001b[0;34m(self, *args, **kwargs)\u001b[0m\n\u001b[1;32m   1551\u001b[0m     \u001b[38;5;28;01mreturn\u001b[39;00m \u001b[38;5;28mself\u001b[39m\u001b[38;5;241m.\u001b[39m_compiled_call_impl(\u001b[38;5;241m*\u001b[39margs, \u001b[38;5;241m*\u001b[39m\u001b[38;5;241m*\u001b[39mkwargs)  \u001b[38;5;66;03m# type: ignore[misc]\u001b[39;00m\n\u001b[1;32m   1552\u001b[0m \u001b[38;5;28;01melse\u001b[39;00m:\n\u001b[0;32m-> 1553\u001b[0m     \u001b[38;5;28;01mreturn\u001b[39;00m \u001b[38;5;28;43mself\u001b[39;49m\u001b[38;5;241;43m.\u001b[39;49m\u001b[43m_call_impl\u001b[49m\u001b[43m(\u001b[49m\u001b[38;5;241;43m*\u001b[39;49m\u001b[43margs\u001b[49m\u001b[43m,\u001b[49m\u001b[43m \u001b[49m\u001b[38;5;241;43m*\u001b[39;49m\u001b[38;5;241;43m*\u001b[39;49m\u001b[43mkwargs\u001b[49m\u001b[43m)\u001b[49m\n",
      "File \u001b[0;32m/opt/miniconda3/envs/xclip/lib/python3.9/site-packages/torch/nn/modules/module.py:1562\u001b[0m, in \u001b[0;36mModule._call_impl\u001b[0;34m(self, *args, **kwargs)\u001b[0m\n\u001b[1;32m   1557\u001b[0m \u001b[38;5;66;03m# If we don't have any hooks, we want to skip the rest of the logic in\u001b[39;00m\n\u001b[1;32m   1558\u001b[0m \u001b[38;5;66;03m# this function, and just call forward.\u001b[39;00m\n\u001b[1;32m   1559\u001b[0m \u001b[38;5;28;01mif\u001b[39;00m \u001b[38;5;129;01mnot\u001b[39;00m (\u001b[38;5;28mself\u001b[39m\u001b[38;5;241m.\u001b[39m_backward_hooks \u001b[38;5;129;01mor\u001b[39;00m \u001b[38;5;28mself\u001b[39m\u001b[38;5;241m.\u001b[39m_backward_pre_hooks \u001b[38;5;129;01mor\u001b[39;00m \u001b[38;5;28mself\u001b[39m\u001b[38;5;241m.\u001b[39m_forward_hooks \u001b[38;5;129;01mor\u001b[39;00m \u001b[38;5;28mself\u001b[39m\u001b[38;5;241m.\u001b[39m_forward_pre_hooks\n\u001b[1;32m   1560\u001b[0m         \u001b[38;5;129;01mor\u001b[39;00m _global_backward_pre_hooks \u001b[38;5;129;01mor\u001b[39;00m _global_backward_hooks\n\u001b[1;32m   1561\u001b[0m         \u001b[38;5;129;01mor\u001b[39;00m _global_forward_hooks \u001b[38;5;129;01mor\u001b[39;00m _global_forward_pre_hooks):\n\u001b[0;32m-> 1562\u001b[0m     \u001b[38;5;28;01mreturn\u001b[39;00m \u001b[43mforward_call\u001b[49m\u001b[43m(\u001b[49m\u001b[38;5;241;43m*\u001b[39;49m\u001b[43margs\u001b[49m\u001b[43m,\u001b[49m\u001b[43m \u001b[49m\u001b[38;5;241;43m*\u001b[39;49m\u001b[38;5;241;43m*\u001b[39;49m\u001b[43mkwargs\u001b[49m\u001b[43m)\u001b[49m\n\u001b[1;32m   1564\u001b[0m \u001b[38;5;28;01mtry\u001b[39;00m:\n\u001b[1;32m   1565\u001b[0m     result \u001b[38;5;241m=\u001b[39m \u001b[38;5;28;01mNone\u001b[39;00m\n",
      "File \u001b[0;32m/opt/miniconda3/envs/xclip/lib/python3.9/site-packages/torch/nn/modules/linear.py:117\u001b[0m, in \u001b[0;36mLinear.forward\u001b[0;34m(self, input)\u001b[0m\n\u001b[1;32m    116\u001b[0m \u001b[38;5;28;01mdef\u001b[39;00m \u001b[38;5;21mforward\u001b[39m(\u001b[38;5;28mself\u001b[39m, \u001b[38;5;28minput\u001b[39m: Tensor) \u001b[38;5;241m-\u001b[39m\u001b[38;5;241m>\u001b[39m Tensor:\n\u001b[0;32m--> 117\u001b[0m     \u001b[38;5;28;01mreturn\u001b[39;00m \u001b[43mF\u001b[49m\u001b[38;5;241;43m.\u001b[39;49m\u001b[43mlinear\u001b[49m\u001b[43m(\u001b[49m\u001b[38;5;28;43minput\u001b[39;49m\u001b[43m,\u001b[49m\u001b[43m \u001b[49m\u001b[38;5;28;43mself\u001b[39;49m\u001b[38;5;241;43m.\u001b[39;49m\u001b[43mweight\u001b[49m\u001b[43m,\u001b[49m\u001b[43m \u001b[49m\u001b[38;5;28;43mself\u001b[39;49m\u001b[38;5;241;43m.\u001b[39;49m\u001b[43mbias\u001b[49m\u001b[43m)\u001b[49m\n",
      "\u001b[0;31mKeyboardInterrupt\u001b[0m: "
     ]
    }
   ],
   "source": [
    "clip_pred = []\n",
    "pbar = tqdm(data)\n",
    "for path, video_data in pbar:\n",
    "    pbar.set_description(f'{path} | {video_data[1]}')\n",
    "    \n",
    "    orig_imgs, proc_imgs = loadMP4Local(path)\n",
    "    result = findMatch(orig_imgs, proc_imgs, [video_data[1]])[0]\n",
    "    clip_pred.append(result)\n",
    "\n",
    "pickle_write('jar/CLIP-g100.pkl', clip_pred)\n",
    "print(\"Done\")"
   ]
  },
  {
   "cell_type": "markdown",
   "metadata": {},
   "source": [
    "--------"
   ]
  },
  {
   "cell_type": "code",
   "execution_count": null,
   "metadata": {},
   "outputs": [],
   "source": [
    "orig_imgs, proc_imgs = loadMP4Local('augment/37.mp4')\n",
    "result = findMatch(orig_imgs, proc_imgs, ['A person performs a backflip.'])[0]\n",
    "print(result)"
   ]
  },
  {
   "cell_type": "markdown",
   "metadata": {
    "colab": {
     "base_uri": "https://localhost:8080/",
     "height": 1000
    },
    "id": "2bGFUKNPhoAv",
    "outputId": "44177d64-d701-453d-b1a7-02f295c0d3a5"
   },
   "source": [
    "$$\\Large \\textbf{Evaluation on Augmented Data}$$\n",
    "\n",
    "--------\n",
    "\n",
    "```Python\n",
    "clip_pred = []\n",
    "\n",
    "backflip_files = os.listdir('augment')\n",
    "backflip_files.sort(key = lambda x: int(x.split('.')[0]))\n",
    "backflip_files = [os.path.join('augment', x) for x in backflip_files]\n",
    "\n",
    "pbar = tqdm(backflip_files)\n",
    "for video in pbar:\n",
    "    pbar.set_description(video.split('/')[1])\n",
    "    orig_imgs, proc_imgs = loadMP4Local(video)\n",
    "    result = findMatch(orig_imgs, proc_imgs, ['A person performs a backflip.'])[0]\n",
    "    \n",
    "    clip_pred.append(result)\n",
    "    print(str(result), end = \" | \")\n",
    "\n",
    "with open('predictions (updated)/CLIP_pred_aug.pkl', 'wb') as file:\n",
    "    pickle.dump([x.item() for x in clip_pred], file)\n",
    "\n",
    "print(\"Done!\")\n",
    "```"
   ]
  },
  {
   "cell_type": "markdown",
   "metadata": {},
   "source": [
    "# Loading Data from `photo_data.csv`"
   ]
  },
  {
   "cell_type": "raw",
   "metadata": {},
   "source": [
    "photo_data_csv = pd.read_csv(\"photo_data.csv\")\n",
    "photo_data_csv.head()"
   ]
  },
  {
   "cell_type": "raw",
   "metadata": {},
   "source": [
    "labeled_data = photo_data_csv.iloc[:, :3]\n",
    "\n",
    "labeled_data = list(labeled_data.itertuples(index=False, name=None))\n",
    "\n",
    "labeled_data = list(filter(lambda x: not math.isnan(x[0]), labeled_data))\n",
    "labeled_data.sort(key = lambda x: x[0])\n",
    "\n",
    "labeled_data = list(map(lambda x: (f'GIF87/{int(x[0])}.mp4', x[1], int(x[2])), labeled_data))\n",
    "\n",
    "data = {}\n",
    "for video, phrase, annotation in labeled_data:\n",
    "    if video not in data:\n",
    "        data[video] = (int(video.split('/')[-1].split('.')[0]), phrase, annotation)\n",
    "data = list(data.items())"
   ]
  },
  {
   "cell_type": "code",
   "execution_count": 27,
   "metadata": {},
   "outputs": [
    {
     "name": "stdout",
     "output_type": "stream",
     "text": [
      "('GIF87/1.mp4', (1, 'woman falls down', 19))\n",
      "('GIF87/2.mp4', (2, 'woman falls down', 9))\n",
      "('GIF87/3.mp4', (3, 'guy falls down onto couch', 28))\n",
      "('GIF87/4.mp4', (4, 'person falls down', 14))\n",
      "('GIF87/5.mp4', (5, 'guy falls down', 10))\n"
     ]
    }
   ],
   "source": [
    "data = pickle_read(\"rustyjar/GIF87.pkl\")\n",
    "result = [print(data[x]) for x in range(5)]"
   ]
  },
  {
   "cell_type": "markdown",
   "metadata": {},
   "source": [
    "```Python\n",
    "X_lengths = []\n",
    "\n",
    "X_frames = []\n",
    "\n",
    "for gif_path, phrase, frame in tqdm(labeled_data):\n",
    "    orig_imgs, proc_imgs = loadImageLocal(gif_path)\n",
    "    X_lengths.append(len(orig_imgs))\n",
    "    curr_frames = []\n",
    "    for f_index, frame_pic in enumerate(orig_imgs):\n",
    "        append = \"\"\n",
    "        if f_index < frame:\n",
    "            append = \" before\" * min(50, frame - f_index)\n",
    "        elif f_index > frame:\n",
    "            append = \" after\" * min(50, f_index - frame)\n",
    "        else:\n",
    "            append = \"\"\n",
    "        after = \"\"\n",
    "        if f_index == frame:\n",
    "            after = ' now'\n",
    "        curr_frames.append((frame_pic, append + phrase + after))\n",
    "    X_frames.append(curr_frames)\n",
    "\n",
    "X_lengths = np.array(X_lengths)\n",
    "\n",
    "y_error = np.divide(np.abs(y_pred - photo_data_csv['Correct Frame'][0:272]), X_lengths) * 100\n",
    "plt.boxplot(y_error)\n",
    "plt.yticks(np.arange(0, 100, 10), np.char.add(np.arange(0, 100, 10).astype(\"str\"), '%'))\n",
    "plt.title(\"Error in % off\")\n",
    "plt.show()\n",
    "```"
   ]
  },
  {
   "cell_type": "code",
   "execution_count": 84,
   "metadata": {},
   "outputs": [
    {
     "data": {
      "application/vnd.jupyter.widget-view+json": {
       "model_id": "b8363f02429642e7b7025d0fb0e7b41f",
       "version_major": 2,
       "version_minor": 0
      },
      "text/plain": [
       "  0%|          | 0/30 [00:00<?, ?it/s]"
      ]
     },
     "metadata": {},
     "output_type": "display_data"
    },
    {
     "name": "stdout",
     "output_type": "stream",
     "text": [
      "[0, 1, 2, 3, 4, 5, 6, 7, 8, 9, 10, 11, 12, 13, 14, 15, 16, 17, 18, 19, 20, 21, 22, 23, 24, 25, 26, 27, 28, 29]\n",
      "3.0147402089787647\n"
     ]
    }
   ],
   "source": [
    "from concurrent.futures import ThreadPoolExecutor\n",
    "from time import sleep\n",
    "\n",
    "def compute(x):\n",
    "    sleep(1)\n",
    "    return x\n",
    "\n",
    "inputs = tqdm([x for x in range(30)])\n",
    "t1 = time.perf_counter()\n",
    "with ThreadPoolExecutor() as executor:\n",
    "    results = list(executor.map(compute, inputs))\n",
    "t2 = time.perf_counter()\n",
    "\n",
    "print(results)\n",
    "print(t2 - t1)"
   ]
  },
  {
   "cell_type": "code",
   "execution_count": 85,
   "metadata": {},
   "outputs": [
    {
     "ename": "ImportError",
     "evalue": "cannot import name 'VideoCLIPModel' from 'transformers' (/opt/miniconda3/envs/xclip/lib/python3.9/site-packages/transformers/__init__.py)",
     "output_type": "error",
     "traceback": [
      "\u001b[0;31m---------------------------------------------------------------------------\u001b[0m",
      "\u001b[0;31mImportError\u001b[0m                               Traceback (most recent call last)",
      "Cell \u001b[0;32mIn[85], line 2\u001b[0m\n\u001b[1;32m      1\u001b[0m \u001b[38;5;28;01mimport\u001b[39;00m \u001b[38;5;21;01mtorch\u001b[39;00m\n\u001b[0;32m----> 2\u001b[0m \u001b[38;5;28;01mfrom\u001b[39;00m \u001b[38;5;21;01mtransformers\u001b[39;00m \u001b[38;5;28;01mimport\u001b[39;00m VideoMAEFeatureExtractor, VideoCLIPModel, CLIPProcessor\n\u001b[1;32m      4\u001b[0m \u001b[38;5;28;01mimport\u001b[39;00m \u001b[38;5;21;01mcv2\u001b[39;00m\n\u001b[1;32m      5\u001b[0m \u001b[38;5;28;01mimport\u001b[39;00m \u001b[38;5;21;01mnumpy\u001b[39;00m \u001b[38;5;28;01mas\u001b[39;00m \u001b[38;5;21;01mnp\u001b[39;00m\n",
      "\u001b[0;31mImportError\u001b[0m: cannot import name 'VideoCLIPModel' from 'transformers' (/opt/miniconda3/envs/xclip/lib/python3.9/site-packages/transformers/__init__.py)"
     ]
    }
   ],
   "source": [
    "import torch\n",
    "from transformers import VideoMAEFeatureExtractor, VideoCLIPModel, CLIPProcessor\n",
    "\n",
    "import cv2\n",
    "import numpy as np\n",
    "\n",
    "# Load VideoCLIP model and processor\n",
    "model = VideoCLIPModel.from_pretrained(\"microsoft/videoclip-base-finetuned\")\n",
    "processor = CLIPProcessor.from_pretrained(\"microsoft/videoclip-base-finetuned\")\n",
    "\n",
    "# Function to load video and extract frames\n",
    "def load_video(video_path, num_frames=16):\n",
    "    cap = cv2.VideoCapture(video_path)\n",
    "    frames = []\n",
    "    total_frames = int(cap.get(cv2.CAP_PROP_FRAME_COUNT))\n",
    "    step = total_frames // num_frames\n",
    "    \n",
    "    for i in range(0, total_frames, step):\n",
    "        cap.set(cv2.CAP_PROP_POS_FRAMES, i)\n",
    "        ret, frame = cap.read()\n",
    "        if not ret:\n",
    "            break\n",
    "        frames.append(frame)\n",
    "        if len(frames) == num_frames:\n",
    "            break\n",
    "    cap.release()\n",
    "    return frames\n",
    "\n",
    "# Preprocess video\n",
    "def preprocess_video(video_frames):\n",
    "    video = [cv2.cvtColor(frame, cv2.COLOR_BGR2RGB) for frame in video_frames]\n",
    "    video = np.array(video)  # Convert list of frames to array\n",
    "    inputs = processor(videos=video, return_tensors=\"pt\", padding=True)\n",
    "    return inputs\n",
    "\n",
    "# Load your video and text\n",
    "video_path = \"path_to_your_video.mp4\"\n",
    "text = \"A person is performing a backflip\"\n",
    "\n",
    "video_frames = load_video(video_path)\n",
    "inputs = preprocess_video(video_frames)\n",
    "\n",
    "# Encode the text\n",
    "text_inputs = processor(text=[text], return_tensors=\"pt\", padding=True)\n",
    "\n",
    "# Pass the video and text through the model\n",
    "with torch.no_grad():\n",
    "    video_embeddings = model.get_video_features(**inputs)\n",
    "    text_embeddings = model.get_text_features(**text_inputs)\n",
    "\n",
    "    # Calculate similarity (cosine similarity)\n",
    "    similarity = torch.nn.functional.cosine_similarity(video_embeddings, text_embeddings)\n",
    "\n",
    "# Output the similarity score\n",
    "print(\"Similarity Score:\", similarity.item())\n"
   ]
  },
  {
   "cell_type": "code",
   "execution_count": 23,
   "metadata": {},
   "outputs": [],
   "source": [
    "from PIL import Image\n",
    "\n",
    "width, height = 6, 1\n",
    "image = Image.new('RGB', (width, height))\n",
    "\n",
    "pixels = [(42, 0, 0),  # Red\n",
    "          (85, 0, 0),  # Green\n",
    "          (127, 0, 0),  # Blue\n",
    "          (170, 0, 0), # Yellow\n",
    "          (212, 0, 0), # Magenta\n",
    "          (255, 0, 0)] # Cyan\n",
    "\n",
    "for x in range(width):\n",
    "    image.putpixel((x, 0), pixels[x])\n",
    "\n",
    "image.save('1_row_image.png')\n",
    "image.show()"
   ]
  },
  {
   "cell_type": "code",
   "execution_count": null,
   "metadata": {},
   "outputs": [],
   "source": []
  }
 ],
 "metadata": {
  "accelerator": "GPU",
  "colab": {
   "provenance": []
  },
  "kernelspec": {
   "display_name": "Python 3 (ipykernel)",
   "language": "python",
   "name": "python3"
  },
  "language_info": {
   "codemirror_mode": {
    "name": "ipython",
    "version": 3
   },
   "file_extension": ".py",
   "mimetype": "text/x-python",
   "name": "python",
   "nbconvert_exporter": "python",
   "pygments_lexer": "ipython3",
   "version": "3.9.19"
  }
 },
 "nbformat": 4,
 "nbformat_minor": 4
}
