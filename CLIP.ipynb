{
 "cells": [
  {
   "cell_type": "markdown",
   "metadata": {
    "id": "53N4k0pj_9qL"
   },
   "source": [
    "# Installing Packaging"
   ]
  },
  {
   "cell_type": "code",
   "execution_count": 1,
   "metadata": {
    "colab": {
     "base_uri": "https://localhost:8080/"
    },
    "id": "0BpdJkdBssk9",
    "outputId": "3d9059a1-7707-4456-8d53-ba36e3d5bbcc",
    "scrolled": true
   },
   "outputs": [],
   "source": [
    "! pip install -q ftfy regex tqdm\n",
    "! pip install -q git+https://github.com/openai/CLIP.git"
   ]
  },
  {
   "cell_type": "code",
   "execution_count": 1,
   "metadata": {
    "colab": {
     "base_uri": "https://localhost:8080/"
    },
    "id": "C1hkDT38hSaP",
    "outputId": "0caecc2b-0811-4663-8eb7-ba1af247121a"
   },
   "outputs": [
    {
     "name": "stdout",
     "output_type": "stream",
     "text": [
      "Torch version: 2.4.1\n",
      "CLIP Models: ['RN50', 'RN101', 'RN50x4', 'RN50x16', 'RN50x64', 'ViT-B/32', 'ViT-B/16', 'ViT-L/14', 'ViT-L/14@336px']\n"
     ]
    }
   ],
   "source": [
    "from pkg_resources import packaging\n",
    "from collections import OrderedDict\n",
    "import matplotlib.pyplot as plt\n",
    "from tqdm.notebook import tqdm\n",
    "import IPython.display\n",
    "from os import system\n",
    "from PIL import Image, ImageTk\n",
    "import urllib.request\n",
    "import tkinter as tk\n",
    "import pandas as pd\n",
    "import numpy as np\n",
    "import skimage\n",
    "import pickle\n",
    "import torch\n",
    "import time\n",
    "import math\n",
    "import clip\n",
    "import cv2\n",
    "import os\n",
    "%matplotlib inline\n",
    "%config InlineBackend.figure_format = 'retina'\n",
    "\n",
    "print(\"Torch version:\", torch.__version__)\n",
    "print(\"CLIP Models:\",clip.available_models())\n",
    "\n",
    "def pickle_read(file):\n",
    "    with open(file, 'rb') as f:\n",
    "        data = pickle.load(f)\n",
    "    return data\n",
    "\n",
    "def pickle_write(a, b):\n",
    "    pickle_filename = a if len(a) >= 4 and a[-4:] == \".pkl\" else b\n",
    "    data = b if pickle_filename == a else a\n",
    "    with open(pickle_filename, 'wb') as file:\n",
    "        pickle.dump(data, file)"
   ]
  },
  {
   "cell_type": "markdown",
   "metadata": {
    "id": "eFxgLV5HAEEw"
   },
   "source": [
    "# Loading the model\n",
    "\n",
    "`clip.available_models()` will list the names of available CLIP models."
   ]
  },
  {
   "cell_type": "code",
   "execution_count": 2,
   "metadata": {
    "colab": {
     "base_uri": "https://localhost:8080/"
    },
    "id": "IBRVTY9lbGm8",
    "outputId": "7d4e06e3-4d42-4e35-b1a6-bd390d4c0ce9"
   },
   "outputs": [
    {
     "name": "stdout",
     "output_type": "stream",
     "text": [
      "Model parameters: 151,277,313\n",
      "Input resolution: 224\n",
      "Context length: 77\n",
      "Vocab size: 49408\n"
     ]
    }
   ],
   "source": [
    "model, preprocess = clip.load(\"ViT-B/32\") # CHANGE BACK LATER TO ViT-B/32 CHUNGUST\n",
    "input_resolution = model.visual.input_resolution\n",
    "context_length = model.context_length\n",
    "vocab_size = model.vocab_size\n",
    "\n",
    "print(\"Model parameters:\", f\"{np.sum([int(np.prod(p.shape)) for p in model.parameters()]):,}\")\n",
    "print(\"Input resolution:\", input_resolution)\n",
    "print(\"Context length:\", context_length)\n",
    "print(\"Vocab size:\", vocab_size)"
   ]
  },
  {
   "cell_type": "markdown",
   "metadata": {
    "id": "WEVKsji6WOIX"
   },
   "source": [
    "## Building features\n",
    "\n",
    "We normalize the images, tokenize each text input, and run the forward pass of the model to get the image and text features."
   ]
  },
  {
   "cell_type": "code",
   "execution_count": 4,
   "metadata": {
    "id": "MfirHzM2hvDe"
   },
   "outputs": [],
   "source": [
    "def loadImage(url, rows=5, cols=5):\n",
    "  original_images = []\n",
    "  urllib.request.urlretrieve(\n",
    "    url,\n",
    "    \"img.gif\")\n",
    "  im = Image.open(\"img.gif\")\n",
    "  try:\n",
    "    while 1:\n",
    "      im.seek(im.tell()+1)\n",
    "      original_images.append(im.convert(\"RGB\"))\n",
    "  except EOFError:\n",
    "    pass\n",
    "\n",
    "  print(len(original_images))\n",
    "\n",
    "  processed_images = []\n",
    "\n",
    "  for image in original_images:\n",
    "    processed_images.append(preprocess(image))\n",
    "\n",
    "  plt.figure(figsize=(20, 10))\n",
    "  start = 0\n",
    "  for i in range(rows*cols):\n",
    "    plt.subplot(rows, cols, i+1)\n",
    "    plt.imshow(original_images[start+i])\n",
    "    plt.axis('off')\n",
    "    #plt.title(str(start+i))\n",
    "  plt.tight_layout()\n",
    "  plt.subplots_adjust(wspace=0, hspace=0, left=0, right=1, bottom=0, top=1)\n",
    "\n",
    "  return original_images, processed_images"
   ]
  },
  {
   "cell_type": "markdown",
   "metadata": {},
   "source": [
    "```Python\n",
    "url = 'https://media1.giphy.com/media/lqdJsUDvJnHBgM82HB/giphy.gif'\n",
    "texts = ['a whale jumping out of water']\n",
    "orig_imgs, proc_imgs = loadImage(url,7,10)\n",
    "findMatch(orig_imgs, proc_imgs, texts)\n",
    "```"
   ]
  },
  {
   "cell_type": "code",
   "execution_count": 5,
   "metadata": {},
   "outputs": [],
   "source": [
    "from iv2_utils.iv2 import *\n",
    "from IPython.display import clear_output\n",
    "from PIL import Image, ImageSequence\n",
    "import matplotlib.pyplot as plt\n",
    "from tqdm.notebook import tqdm\n",
    "import numpy as np\n",
    "import shutil\n",
    "import cv2\n",
    "import os"
   ]
  },
  {
   "cell_type": "markdown",
   "metadata": {},
   "source": [
    "### Augmenting Files\n",
    "```Python\n",
    "if 'aug1' in os.listdir('.'):\n",
    "    shutil.rmtree('aug1')\n",
    "if 'aug2' in os.listdir('.'):\n",
    "    shutil.rmtree('aug2')\n",
    "\n",
    "def get_dim(file_path):\n",
    "    vid = cv2.VideoCapture(file_path)\n",
    "    height = vid.get(cv2.CAP_PROP_FRAME_HEIGHT)\n",
    "    width = vid.get(cv2.CAP_PROP_FRAME_WIDTH)\n",
    "    return height, width\n",
    "\n",
    "backflip_files = list(filter(lambda x: x != 'backflip/.DS_Store',[os.path.join('backflip', x) for x in os.listdir('backflip')]))\n",
    "\n",
    "os.mkdir('aug1')\n",
    "os.mkdir('aug2')\n",
    "for backflip in tqdm(backflip_files):\n",
    "    height, width = get_dim(backflip)\n",
    "    add_noise(backflip, os.path.join('aug1', backflip.split('/')[1]), '../../../Storage/cruise.png', int(min(height, width) / 3))\n",
    "\n",
    "for aug1 in tqdm([os.path.join('aug1',x) for x in os.listdir('aug1')]):\n",
    "    height, width = get_dim(aug1)\n",
    "    add_noise(aug1, os.path.join('aug2', aug1.split('/')[1]), '../../../Storage/cruise.png', int(min(height, width) / 3))\n",
    "\n",
    "shutil.rmtree('aug1')\n",
    "```"
   ]
  },
  {
   "cell_type": "code",
   "execution_count": 37,
   "metadata": {},
   "outputs": [],
   "source": [
    "cached_images = {}\n",
    "\n",
    "def loadGifLocal(local_path, rows=5, cols=5):\n",
    "    if local_path in cached_images: return cached_images[local_path]\n",
    "    original_images = []\n",
    "\n",
    "    im = Image.open(local_path)\n",
    "    \n",
    "    try:\n",
    "        im.seek(im.tell())\n",
    "        original_images.append(im.convert(\"RGB\"))\n",
    "        while 1:\n",
    "            im.seek(im.tell()+1)\n",
    "            original_images.append(im.convert(\"RGB\"))\n",
    "    except EOFError:\n",
    "        pass\n",
    "\n",
    "    processed_images = []\n",
    "\n",
    "    for image in original_images:\n",
    "        processed_images.append(preprocess(image))\n",
    "\n",
    "    cached_images[local_path] = (original_images, processed_images)\n",
    "    return original_images, processed_images\n",
    "\n",
    "def loadMP4Local(local_path, rows=5, cols=5):\n",
    "    video = cv2.VideoCapture(local_path)\n",
    "    fps = video.get(cv2.CAP_PROP_FPS)\n",
    "    total_frames = int(video.get(cv2.CAP_PROP_FRAME_COUNT))\n",
    "    width = int(video.get(cv2.CAP_PROP_FRAME_WIDTH))\n",
    "    height = int(video.get(cv2.CAP_PROP_FRAME_HEIGHT))\n",
    "    \n",
    "    frames = []\n",
    "    success, frame = video.read()\n",
    "    while success:\n",
    "        frame = cv2.cvtColor(frame, cv2.COLOR_BGR2RGB)\n",
    "        frames.append(Image.fromarray(frame))\n",
    "        success, frame = video.read()\n",
    "    video.release()\n",
    "\n",
    "    original_images = frames\n",
    "\n",
    "    processed_images = []\n",
    "\n",
    "    for image in original_images:\n",
    "        processed_images.append(preprocess(image))\n",
    "\n",
    "    return original_images, processed_images\n",
    "\n",
    "def findMatch(original_images, processed_images, texts):\n",
    "  t1 = time.perf_counter()\n",
    "  image_input = torch.tensor(np.stack(processed_images))\n",
    "  text_tokens = clip.tokenize([desc for desc in texts])\n",
    "\n",
    "  with torch.no_grad():\n",
    "      image_features = model.encode_image(image_input).float()\n",
    "      text_features = model.encode_text(text_tokens).float()\n",
    "\n",
    "  image_features /= image_features.norm(dim=-1, keepdim=True)\n",
    "  text_features /= text_features.norm(dim=-1, keepdim=True)\n",
    "  similarity = text_features.cpu().numpy() @ image_features.cpu().numpy().T\n",
    "  t2 = time.perf_counter()\n",
    "\n",
    "  #print(similarity)\n",
    "  # plt.figure(figsize=(18, 6*len(texts)))\n",
    "  y_pred = []\n",
    "  for i, text in enumerate(texts):\n",
    "    # plt.subplot(len(texts),2,1+2*i)\n",
    "    # plt.plot(range(len(similarity[i])), similarity[i])\n",
    "    y_pred.append(similarity[i])\n",
    "    # plt.title(\"best match is: \"+ str(np.argmax(similarity[i])), fontdict={'fontsize': 40})\n",
    "    # plt.subplot(len(texts),2,2+2*i)\n",
    "    # plt.imshow(original_images[np.argmax(similarity[i])])\n",
    "    # plt.title(text, fontdict={'fontsize': 40})\n",
    "  # plt.tight_layout()\n",
    "  return y_pred"
   ]
  },
  {
   "cell_type": "markdown",
   "metadata": {},
   "source": [
    "# Displaying frames"
   ]
  },
  {
   "cell_type": "code",
   "execution_count": 3,
   "metadata": {},
   "outputs": [],
   "source": [
    "anno_gif75 = []\n",
    "def showFrames(path, highlight=False):\n",
    "    global current_pick\n",
    "    video_path = path\n",
    "    cap = cv2.VideoCapture(video_path)\n",
    "    \n",
    "    frames = []\n",
    "    success, frame = cap.read()\n",
    "    while success:\n",
    "        frame = cv2.cvtColor(frame, cv2.COLOR_BGR2RGB)\n",
    "        img = Image.fromarray(frame)\n",
    "        frames.append(img)\n",
    "        success, frame = cap.read()\n",
    "    \n",
    "    cap.release()\n",
    "\n",
    "    if not frames:\n",
    "        print(\"No frames found in the video.\")\n",
    "        return\n",
    "    \n",
    "    root = tk.Tk()\n",
    "    root.title(path)\n",
    "    currIdx = -1\n",
    "\n",
    "    frame_anno = []\n",
    "    def display_frame(index):\n",
    "        global currIdx\n",
    "        frame_label.config(text=f\"Frame {index}\", fg = 'black' if index + 1 not in frame_anno else 'green')\n",
    "        img = ImageTk.PhotoImage(frames[index])\n",
    "        frame_canvas.create_image(0, 0, anchor=tk.NW, image=img)\n",
    "        frame_canvas.image = img\n",
    "        currIdx = index\n",
    "    \n",
    "    frame_label = tk.Label(root, text=\"Frame 0\", font=('Hack', 14), fg=\"red\" if highlight else \"black\")\n",
    "    frame_label.pack()\n",
    "    \n",
    "    frame_canvas = tk.Canvas(root, width=frames[0].width, height=frames[0].height)\n",
    "    frame_canvas.pack()\n",
    "    \n",
    "    display_frame(0)\n",
    "    \n",
    "    filename_entry = tk.Entry(root, font=('Hack', 12))\n",
    "    filename_entry.pack(pady=10)\n",
    "\n",
    "    def next_frame(event):\n",
    "        current_frame = int(frame_label.cget(\"text\").split()[1])\n",
    "        next_index = (current_frame + 1) % len(frames)\n",
    "        display_frame(next_index)\n",
    "\n",
    "    def doubleSkip(event):\n",
    "        next_frame(event)\n",
    "        next_frame(event)\n",
    "    \n",
    "    def prev_frame(event):\n",
    "        current_frame = int(frame_label.cget(\"text\").split()[1])\n",
    "        next_index = (current_frame - 1) % len(frames)\n",
    "        display_frame(next_index)\n",
    "\n",
    "    def doublePrev(event):\n",
    "        prev_frame(event)\n",
    "        prev_frame(event)\n",
    "\n",
    "    def restart(event):\n",
    "        if anno_gif75[-1][0] == path:\n",
    "            anno_gif75.pop(-1)\n",
    "            frame_anno = []\n",
    "            print(\"Removed previous one and reset frame_anno\")\n",
    "            print(anno_gif75)\n",
    "        else:\n",
    "            print(\"Not same path, ignoring\")\n",
    "    \n",
    "    def save_frame(event):\n",
    "        global currIdx\n",
    "        global anno_gif75\n",
    "\n",
    "        phrase = filename_entry.get()  # Get the text from the entry box\n",
    "        anno_gif75.append((path, phrase, frame_anno))\n",
    "        print(\"Saved!!\")\n",
    "        print(anno_gif75)\n",
    "    def add_frame(event):\n",
    "        global currIdx\n",
    "        if currIdx + 1 in frame_anno:\n",
    "            frame_anno.remove(currIdx + 1)\n",
    "            print(\"Removed\",currIdx + 1,\"as a correct frame.\")\n",
    "            display_frame(currIdx)\n",
    "        else:\n",
    "            frame_anno.append(currIdx + 1)\n",
    "            print(\"Added\", currIdx + 1, \"as a correct frame.\")\n",
    "            display_frame(currIdx)\n",
    "            next_frame(event)\n",
    "    \n",
    "    root.bind('<Right>', next_frame)\n",
    "    root.bind('<Left>', prev_frame)\n",
    "    root.bind('<Up>', doubleSkip)\n",
    "    root.bind('<Down>', doublePrev)\n",
    "    root.bind('<Command-s>', save_frame)\n",
    "    root.bind('<Command-f>', add_frame)\n",
    "    root.bind('<Command-r>', restart)\n",
    "    \n",
    "    root.mainloop()\n"
   ]
  },
  {
   "cell_type": "code",
   "execution_count": 13,
   "metadata": {},
   "outputs": [],
   "source": [
    "from IPython.display import clear_output\n",
    "import cv2\n",
    "for i in range(1, 76):\n",
    "    if f\"ACT75/{i}.mp4\" in [x[0] for x in anno_gif75]:\n",
    "        continue\n",
    "    showFrames(f\"ACT75/{i}.mp4\")\n",
    "    clear_output()"
   ]
  },
  {
   "cell_type": "code",
   "execution_count": 24,
   "metadata": {},
   "outputs": [
    {
     "name": "stdout",
     "output_type": "stream",
     "text": [
      "['ACT75/71.mp4', 'ACT75/72.mp4', 'ACT75/73.mp4', 'ACT75/74.mp4', 'ACT75/75.mp4']\n"
     ]
    }
   ],
   "source": [
    "anno_gif75.sort(key = lambda x: int(x[0].split('/')[-1].split('.')[0]))\n",
    "print([x[0] for x in anno_gif75[-5:]])"
   ]
  },
  {
   "cell_type": "code",
   "execution_count": 25,
   "metadata": {},
   "outputs": [],
   "source": [
    "pickle_write(anno_gif75, 'rustyjar/ACT75.pkl')"
   ]
  },
  {
   "cell_type": "code",
   "execution_count": 89,
   "metadata": {},
   "outputs": [],
   "source": [
    "pickle_write(frames_data, 'rustyjar/frame_data.pkl')"
   ]
  },
  {
   "cell_type": "code",
   "execution_count": 14,
   "metadata": {},
   "outputs": [
    {
     "data": {
      "text/plain": [
       "75"
      ]
     },
     "execution_count": 14,
     "metadata": {},
     "output_type": "execute_result"
    }
   ],
   "source": [
    "len(anno_gif75)"
   ]
  },
  {
   "cell_type": "code",
   "execution_count": 10,
   "metadata": {},
   "outputs": [
    {
     "data": {
      "text/plain": [
       "['ACT75/1.mp4',\n",
       " 'ACT75/3.mp4',\n",
       " 'ACT75/4.mp4',\n",
       " 'ACT75/5.mp4',\n",
       " 'ACT75/6.mp4',\n",
       " 'ACT75/7.mp4',\n",
       " 'ACT75/8.mp4',\n",
       " 'ACT75/9.mp4',\n",
       " 'ACT75/10.mp4',\n",
       " 'ACT75/11.mp4',\n",
       " 'ACT75/12.mp4',\n",
       " 'ACT75/13.mp4',\n",
       " 'ACT75/14.mp4',\n",
       " 'ACT75/15.mp4',\n",
       " 'ACT75/16.mp4',\n",
       " 'ACT75/17.mp4',\n",
       " 'ACT75/18.mp4',\n",
       " 'ACT75/19.mp4',\n",
       " 'ACT75/20.mp4',\n",
       " 'ACT75/21.mp4',\n",
       " 'ACT75/22.mp4',\n",
       " 'ACT75/23.mp4',\n",
       " 'ACT75/24.mp4',\n",
       " 'ACT75/25.mp4',\n",
       " 'ACT75/26.mp4',\n",
       " 'ACT75/27.mp4',\n",
       " 'ACT75/28.mp4']"
      ]
     },
     "execution_count": 10,
     "metadata": {},
     "output_type": "execute_result"
    }
   ],
   "source": [
    "[x[0] for x in anno_gif75]"
   ]
  },
  {
   "cell_type": "code",
   "execution_count": 87,
   "metadata": {},
   "outputs": [
    {
     "data": {
      "application/vnd.jupyter.widget-view+json": {
       "model_id": "bd2f3e5285d44c428d414210cf1a0a2f",
       "version_major": 2,
       "version_minor": 0
      },
      "text/plain": [
       "  0%|          | 0/100 [00:00<?, ?it/s]"
      ]
     },
     "metadata": {},
     "output_type": "display_data"
    },
    {
     "name": "stderr",
     "output_type": "stream",
     "text": [
      "\n",
      "\u001b[A                                                                                                                                                                                                       \n",
      "t:   3%|███▊                                                                                                                                              | 2/76 [1:36:47<59:41:24, 2903.84s/it, now=None]\u001b[A\n",
      "\u001b[A                                                                                                                                                                                                       \n",
      "t:   3%|███▊                                                                                                                                              | 2/76 [1:36:47<59:41:24, 2903.84s/it, now=None]\u001b[A"
     ]
    },
    {
     "name": "stdout",
     "output_type": "stream",
     "text": [
      "Moviepy - Building video trimmed/1.mp4.\n",
      "Moviepy - Writing video trimmed/1.mp4\n",
      "\n"
     ]
    },
    {
     "name": "stderr",
     "output_type": "stream",
     "text": [
      "\n",
      "\n",
      "t:   0%|                                                                                                                                                                 | 0/76 [00:00<?, ?it/s, now=None]\u001b[A\u001b[A\n",
      "\n",
      "                                                                                                                                                                                                          \u001b[A\u001b[A\n",
      "\u001b[A                                                                                                                                                                                                       \n",
      "t:   3%|███▊                                                                                                                                              | 2/76 [1:36:47<59:41:29, 2903.92s/it, now=None]\u001b[A\n",
      "\u001b[A                                                                                                                                                                                                       \n",
      "t:   3%|███▊                                                                                                                                              | 2/76 [1:36:47<59:41:29, 2903.92s/it, now=None]\u001b[A"
     ]
    },
    {
     "name": "stdout",
     "output_type": "stream",
     "text": [
      "Moviepy - Done !\n",
      "Moviepy - video ready trimmed/1.mp4\n"
     ]
    },
    {
     "name": "stderr",
     "output_type": "stream",
     "text": [
      "\n",
      "\u001b[A                                                                                                                                                                                                       \n",
      "t:   3%|███▊                                                                                                                                              | 2/76 [1:36:47<59:41:33, 2903.97s/it, now=None]\u001b[A\n",
      "\u001b[A                                                                                                                                                                                                       \n",
      "t:   3%|███▊                                                                                                                                              | 2/76 [1:36:47<59:41:33, 2903.97s/it, now=None]\u001b[A"
     ]
    },
    {
     "name": "stdout",
     "output_type": "stream",
     "text": [
      "Moviepy - Building video trimmed/2.mp4.\n",
      "Moviepy - Writing video trimmed/2.mp4\n",
      "\n"
     ]
    },
    {
     "name": "stderr",
     "output_type": "stream",
     "text": [
      "\n",
      "\n",
      "t:   0%|                                                                                                                                                                 | 0/30 [00:00<?, ?it/s, now=None]\u001b[A\u001b[A\n",
      "\n",
      "                                                                                                                                                                                                          \u001b[A\u001b[A\n",
      "\u001b[A                                                                                                                                                                                                       \n",
      "t:   3%|███▊                                                                                                                                              | 2/76 [1:36:48<59:41:37, 2904.02s/it, now=None]\u001b[A\n",
      "\u001b[A                                                                                                                                                                                                       \n",
      "t:   3%|███▊                                                                                                                                              | 2/76 [1:36:48<59:41:37, 2904.03s/it, now=None]\u001b[A"
     ]
    },
    {
     "name": "stdout",
     "output_type": "stream",
     "text": [
      "Moviepy - Done !\n",
      "Moviepy - video ready trimmed/2.mp4\n"
     ]
    },
    {
     "name": "stderr",
     "output_type": "stream",
     "text": [
      "\n",
      "\u001b[A                                                                                                                                                                                                       \n",
      "t:   3%|███▊                                                                                                                                              | 2/76 [1:36:48<59:41:50, 2904.20s/it, now=None]\u001b[A\n",
      "\u001b[A                                                                                                                                                                                                       \n",
      "t:   3%|███▊                                                                                                                                              | 2/76 [1:36:48<59:41:50, 2904.20s/it, now=None]\u001b[A"
     ]
    },
    {
     "name": "stdout",
     "output_type": "stream",
     "text": [
      "Moviepy - Building video trimmed/3.mp4.\n",
      "MoviePy - Writing audio in 3TEMP_MPY_wvf_snd.mp3\n"
     ]
    },
    {
     "name": "stderr",
     "output_type": "stream",
     "text": [
      "\n",
      "\n",
      "chunk:   0%|                                                                                                                                                             | 0/84 [00:00<?, ?it/s, now=None]\u001b[A\u001b[A\n",
      "\n",
      "                                                                                                                                                                                                          \u001b[A\u001b[A\n",
      "\u001b[A                                                                                                                                                                                                       \n",
      "t:   3%|███▊                                                                                                                                              | 2/76 [1:36:48<59:41:54, 2904.24s/it, now=None]\u001b[A\n",
      "\u001b[A                                                                                                                                                                                                       \n",
      "t:   3%|███▊                                                                                                                                              | 2/76 [1:36:48<59:41:54, 2904.24s/it, now=None]\u001b[A"
     ]
    },
    {
     "name": "stdout",
     "output_type": "stream",
     "text": [
      "MoviePy - Done.\n",
      "Moviepy - Writing video trimmed/3.mp4\n",
      "\n"
     ]
    },
    {
     "name": "stderr",
     "output_type": "stream",
     "text": [
      "\n",
      "\n",
      "t:   0%|                                                                                                                                                                | 0/113 [00:00<?, ?it/s, now=None]\u001b[A\u001b[A\n",
      "\n",
      "t:  18%|██████████████████████████▌                                                                                                                           | 20/113 [00:00<00:00, 197.53it/s, now=None]\u001b[A\u001b[A\n",
      "\n",
      "t:  37%|███████████████████████████████████████████████████████▊                                                                                              | 42/113 [00:00<00:00, 208.49it/s, now=None]\u001b[A\u001b[A\n",
      "\n",
      "t:  60%|██████████████████████████████████████████████████████████████████████████████████████████▎                                                           | 68/113 [00:00<00:00, 228.32it/s, now=None]\u001b[A\u001b[A\n",
      "\n",
      "t:  81%|████████████████████████████████████████████████████████████████████████████████████████████████████████████████████████▊                             | 91/113 [00:00<00:00, 168.03it/s, now=None]\u001b[A\u001b[A\n",
      "\n",
      "t:  97%|█████████████████████████████████████████████████████████████████████████████████████████████████████████████████████████████████████████████████    | 110/113 [00:00<00:00, 146.36it/s, now=None]\u001b[A\u001b[A\n",
      "\n",
      "                                                                                                                                                                                                          \u001b[A\u001b[A\n",
      "\u001b[A                                                                                                                                                                                                       \n",
      "t:   3%|███▊                                                                                                                                              | 2/76 [1:36:49<59:42:42, 2904.90s/it, now=None]\u001b[A\n",
      "\u001b[A                                                                                                                                                                                                       \n",
      "t:   3%|███▊                                                                                                                                              | 2/76 [1:36:49<59:42:43, 2904.91s/it, now=None]\u001b[A\n",
      "\u001b[A                                                                                                                                                                                                       \n",
      "t:   3%|███▊                                                                                                                                              | 2/76 [1:36:49<59:42:47, 2904.97s/it, now=None]\u001b[A\n",
      "\u001b[A                                                                                                                                                                                                       \n",
      "t:   3%|███▊                                                                                                                                              | 2/76 [1:36:49<59:42:47, 2904.97s/it, now=None]\u001b[A"
     ]
    },
    {
     "name": "stdout",
     "output_type": "stream",
     "text": [
      "Moviepy - Done !\n",
      "Moviepy - video ready trimmed/3.mp4\n",
      "Moviepy - Building video trimmed/4.mp4.\n",
      "Moviepy - Writing video trimmed/4.mp4\n",
      "\n"
     ]
    },
    {
     "name": "stderr",
     "output_type": "stream",
     "text": [
      "\n",
      "\n",
      "t:   0%|                                                                                                                                                                | 0/144 [00:00<?, ?it/s, now=None]\u001b[A\u001b[A\n",
      "\n",
      "t:  52%|██████████████████████████████████████████████████████████████████████████████▏                                                                       | 75/144 [00:00<00:00, 684.63it/s, now=None]\u001b[A\u001b[A\n",
      "\n",
      "t: 100%|█████████████████████████████████████████████████████████████████████████████████████████████████████████████████████████████████████████████████████| 144/144 [00:00<00:00, 452.98it/s, now=None]\u001b[A\u001b[A\n",
      "\n",
      "                                                                                                                                                                                                          \u001b[A\u001b[A\n",
      "\u001b[A                                                                                                                                                                                                       \n",
      "t:   3%|███▊                                                                                                                                              | 2/76 [1:36:50<59:43:05, 2905.22s/it, now=None]\u001b[A\n",
      "\u001b[A                                                                                                                                                                                                       \n",
      "t:   3%|███▊                                                                                                                                              | 2/76 [1:36:50<59:43:06, 2905.22s/it, now=None]\u001b[A\n",
      "\u001b[A                                                                                                                                                                                                       \n",
      "t:   3%|███▊                                                                                                                                              | 2/76 [1:36:50<59:43:13, 2905.32s/it, now=None]\u001b[A\n",
      "\u001b[A                                                                                                                                                                                                       \n",
      "t:   3%|███▊                                                                                                                                              | 2/76 [1:36:50<59:43:13, 2905.32s/it, now=None]"
     ]
    },
    {
     "name": "stdout",
     "output_type": "stream",
     "text": [
      "Moviepy - Done !\n",
      "Moviepy - video ready trimmed/4.mp4\n",
      "Moviepy - Building video trimmed/5.mp4.\n",
      "MoviePy - Writing audio in 5TEMP_MPY_wvf_snd.mp3\n"
     ]
    },
    {
     "name": "stderr",
     "output_type": "stream",
     "text": [
      "\u001b[A\n",
      "\n",
      "chunk:   0%|                                                                                                                                                             | 0/56 [00:00<?, ?it/s, now=None]\u001b[A\u001b[A\n",
      "\n",
      "                                                                                                                                                                                                          \u001b[A\u001b[A\n",
      "\u001b[A                                                                                                                                                                                                       \n",
      "t:   3%|███▊                                                                                                                                              | 2/76 [1:36:50<59:43:15, 2905.35s/it, now=None]\u001b[A\n",
      "\u001b[A                                                                                                                                                                                                       \n",
      "t:   3%|███▊                                                                                                                                              | 2/76 [1:36:50<59:43:15, 2905.35s/it, now=None]\u001b[A"
     ]
    },
    {
     "name": "stdout",
     "output_type": "stream",
     "text": [
      "MoviePy - Done.\n",
      "Moviepy - Writing video trimmed/5.mp4\n",
      "\n"
     ]
    },
    {
     "name": "stderr",
     "output_type": "stream",
     "text": [
      "\n",
      "\n",
      "t:   0%|                                                                                                                                                                 | 0/76 [00:00<?, ?it/s, now=None]\u001b[A\u001b[A\n",
      "\n",
      "t:  87%|███████████████████████████████████████████████████████████████████████████████████████████████████████████████████████████████████▏                   | 66/76 [00:00<00:00, 658.89it/s, now=None]\u001b[A\u001b[A\n",
      "\n",
      "                                                                                                                                                                                                          \u001b[A\u001b[A\n",
      "\u001b[A                                                                                                                                                                                                       \n",
      "t:   3%|███▊                                                                                                                                              | 2/76 [1:36:51<59:43:28, 2905.51s/it, now=None]\u001b[A\n",
      "\u001b[A                                                                                                                                                                                                       \n",
      "t:   3%|███▊                                                                                                                                              | 2/76 [1:36:51<59:43:28, 2905.52s/it, now=None]\u001b[A"
     ]
    },
    {
     "name": "stdout",
     "output_type": "stream",
     "text": [
      "Moviepy - Done !\n",
      "Moviepy - video ready trimmed/5.mp4\n"
     ]
    },
    {
     "name": "stderr",
     "output_type": "stream",
     "text": [
      "\n",
      "\u001b[A                                                                                                                                                                                                       \n",
      "t:   3%|███▊                                                                                                                                              | 2/76 [1:36:51<59:43:36, 2905.63s/it, now=None]\u001b[A\n",
      "\u001b[A                                                                                                                                                                                                       \n",
      "t:   3%|███▊                                                                                                                                              | 2/76 [1:36:51<59:43:36, 2905.63s/it, now=None]\u001b[A"
     ]
    },
    {
     "name": "stdout",
     "output_type": "stream",
     "text": [
      "Moviepy - Building video trimmed/6.mp4.\n",
      "MoviePy - Writing audio in 6TEMP_MPY_wvf_snd.mp3\n"
     ]
    },
    {
     "name": "stderr",
     "output_type": "stream",
     "text": [
      "\n",
      "\n",
      "chunk:   0%|                                                                                                                                                             | 0/56 [00:00<?, ?it/s, now=None]\u001b[A\u001b[A\n",
      "\n",
      "                                                                                                                                                                                                          \u001b[A\u001b[A\n",
      "\u001b[A                                                                                                                                                                                                       \n",
      "t:   3%|███▊                                                                                                                                              | 2/76 [1:36:51<59:43:39, 2905.67s/it, now=None]\u001b[A\n",
      "\u001b[A                                                                                                                                                                                                       \n",
      "t:   3%|███▊                                                                                                                                              | 2/76 [1:36:51<59:43:39, 2905.67s/it, now=None]\u001b[A"
     ]
    },
    {
     "name": "stdout",
     "output_type": "stream",
     "text": [
      "MoviePy - Done.\n",
      "Moviepy - Writing video trimmed/6.mp4\n",
      "\n"
     ]
    },
    {
     "name": "stderr",
     "output_type": "stream",
     "text": [
      "\n",
      "\n",
      "t:   0%|                                                                                                                                                                 | 0/75 [00:00<?, ?it/s, now=None]\u001b[A\u001b[A\n",
      "\n",
      "t:  29%|████████████████████████████████████████████▎                                                                                                          | 22/75 [00:00<00:00, 218.62it/s, now=None]\u001b[A\u001b[A\n",
      "\n",
      "t:  72%|████████████████████████████████████████████████████████████████████████████████████████████████████████████▋                                          | 54/75 [00:00<00:00, 274.92it/s, now=None]\u001b[A\u001b[A\n",
      "\n",
      "                                                                                                                                                                                                          \u001b[A\u001b[A\n",
      "\u001b[A                                                                                                                                                                                                       \n",
      "t:   3%|███▊                                                                                                                                              | 2/76 [1:36:52<59:44:13, 2906.13s/it, now=None]\u001b[A\n",
      "\u001b[A                                                                                                                                                                                                       \n",
      "t:   3%|███▊                                                                                                                                              | 2/76 [1:36:52<59:44:13, 2906.13s/it, now=None]\u001b[A\n",
      "\u001b[A                                                                                                                                                                                                       \n",
      "t:   3%|███▊                                                                                                                                              | 2/76 [1:36:52<59:44:17, 2906.19s/it, now=None]\u001b[A\n",
      "\u001b[A                                                                                                                                                                                                       \n",
      "t:   3%|███▊                                                                                                                                              | 2/76 [1:36:52<59:44:17, 2906.19s/it, now=None]\u001b[A"
     ]
    },
    {
     "name": "stdout",
     "output_type": "stream",
     "text": [
      "Moviepy - Done !\n",
      "Moviepy - video ready trimmed/6.mp4\n",
      "Moviepy - Building video trimmed/7.mp4.\n",
      "Moviepy - Writing video trimmed/7.mp4\n",
      "\n"
     ]
    },
    {
     "name": "stderr",
     "output_type": "stream",
     "text": [
      "\n",
      "\n",
      "t:   0%|                                                                                                                                                                | 0/132 [00:00<?, ?it/s, now=None]\u001b[A\u001b[A\n",
      "\n",
      "t:  63%|██████████████████████████████████████████████████████████████████████████████████████████████▎                                                       | 83/132 [00:00<00:00, 815.05it/s, now=None]\u001b[A\u001b[A\n",
      "\n",
      "                                                                                                                                                                                                          \u001b[A\u001b[A\n",
      "\u001b[A                                                                                                                                                                                                       \n",
      "t:   3%|███▊                                                                                                                                              | 2/76 [1:36:52<59:44:29, 2906.34s/it, now=None]\u001b[A\n",
      "\u001b[A                                                                                                                                                                                                       \n",
      "t:   3%|███▊                                                                                                                                              | 2/76 [1:36:52<59:44:29, 2906.34s/it, now=None]\u001b[A\n",
      "\u001b[A                                                                                                                                                                                                       \n",
      "t:   3%|███▊                                                                                                                                              | 2/76 [1:36:52<59:44:33, 2906.40s/it, now=None]\u001b[A\n",
      "\u001b[A                                                                                                                                                                                                       \n",
      "t:   3%|███▊                                                                                                                                              | 2/76 [1:36:52<59:44:33, 2906.40s/it, now=None]\u001b[A"
     ]
    },
    {
     "name": "stdout",
     "output_type": "stream",
     "text": [
      "Moviepy - Done !\n",
      "Moviepy - video ready trimmed/7.mp4\n",
      "Moviepy - Building video trimmed/8.mp4.\n",
      "Moviepy - Writing video trimmed/8.mp4\n",
      "\n"
     ]
    },
    {
     "name": "stderr",
     "output_type": "stream",
     "text": [
      "\n",
      "\n",
      "t:   0%|                                                                                                                                                                | 0/110 [00:00<?, ?it/s, now=None]\u001b[A\u001b[A\n",
      "\n",
      "t:  77%|███████████████████████████████████████████████████████████████████████████████████████████████████████████████████▉                                  | 85/110 [00:00<00:00, 822.55it/s, now=None]\u001b[A\u001b[A\n",
      "\n",
      "                                                                                                                                                                                                          \u001b[A\u001b[A\n",
      "\u001b[A                                                                                                                                                                                                       \n",
      "t:   3%|███▊                                                                                                                                              | 2/76 [1:36:53<59:44:41, 2906.51s/it, now=None]\u001b[A\n",
      "\u001b[A                                                                                                                                                                                                       \n",
      "t:   3%|███▊                                                                                                                                              | 2/76 [1:36:53<59:44:41, 2906.51s/it, now=None]\u001b[A"
     ]
    },
    {
     "name": "stdout",
     "output_type": "stream",
     "text": [
      "Moviepy - Done !\n",
      "Moviepy - video ready trimmed/8.mp4\n"
     ]
    },
    {
     "name": "stderr",
     "output_type": "stream",
     "text": [
      "\n",
      "\u001b[A                                                                                                                                                                                                       \n",
      "t:   3%|███▊                                                                                                                                              | 2/76 [1:36:53<59:44:49, 2906.61s/it, now=None]\u001b[A\n",
      "\u001b[A                                                                                                                                                                                                       \n",
      "t:   3%|███▊                                                                                                                                              | 2/76 [1:36:53<59:44:49, 2906.61s/it, now=None]\u001b[A"
     ]
    },
    {
     "name": "stdout",
     "output_type": "stream",
     "text": [
      "Moviepy - Building video trimmed/9.mp4.\n",
      "MoviePy - Writing audio in 9TEMP_MPY_wvf_snd.mp3\n"
     ]
    },
    {
     "name": "stderr",
     "output_type": "stream",
     "text": [
      "\n",
      "\n",
      "chunk:   0%|                                                                                                                                                             | 0/45 [00:00<?, ?it/s, now=None]\u001b[A\u001b[A\n",
      "\n",
      "                                                                                                                                                                                                          \u001b[A\u001b[A\n",
      "\u001b[A                                                                                                                                                                                                       \n",
      "t:   3%|███▊                                                                                                                                              | 2/76 [1:36:53<59:44:51, 2906.65s/it, now=None]\u001b[A\n",
      "\u001b[A                                                                                                                                                                                                       \n",
      "t:   3%|███▊                                                                                                                                              | 2/76 [1:36:53<59:44:51, 2906.65s/it, now=None]\u001b[A"
     ]
    },
    {
     "name": "stdout",
     "output_type": "stream",
     "text": [
      "MoviePy - Done.\n",
      "Moviepy - Writing video trimmed/9.mp4\n",
      "\n"
     ]
    },
    {
     "name": "stderr",
     "output_type": "stream",
     "text": [
      "\n",
      "\n",
      "t:   0%|                                                                                                                                                                | 0/122 [00:00<?, ?it/s, now=None]\u001b[A\u001b[A\n",
      "\n",
      "t:  70%|████████████████████████████████████████████████████████████████████████████████████████████████████████▌                                             | 85/122 [00:00<00:00, 812.77it/s, now=None]\u001b[A\u001b[A\n",
      "\n",
      "                                                                                                                                                                                                          \u001b[A\u001b[A\n",
      "\u001b[A                                                                                                                                                                                                       \n",
      "t:   3%|███▊                                                                                                                                              | 2/76 [1:36:53<59:45:00, 2906.77s/it, now=None]\u001b[A\n",
      "\u001b[A                                                                                                                                                                                                       \n",
      "t:   3%|███▊                                                                                                                                              | 2/76 [1:36:53<59:45:00, 2906.77s/it, now=None]\u001b[A\n",
      "\u001b[A                                                                                                                                                                                                       \n",
      "t:   3%|███▊                                                                                                                                              | 2/76 [1:36:53<59:45:05, 2906.83s/it, now=None]\u001b[A\n",
      "\u001b[A                                                                                                                                                                                                       \n",
      "t:   3%|███▊                                                                                                                                              | 2/76 [1:36:53<59:45:05, 2906.83s/it, now=None]\u001b[A"
     ]
    },
    {
     "name": "stdout",
     "output_type": "stream",
     "text": [
      "Moviepy - Done !\n",
      "Moviepy - video ready trimmed/9.mp4\n",
      "Moviepy - Building video trimmed/10.mp4.\n",
      "Moviepy - Writing video trimmed/10.mp4\n",
      "\n"
     ]
    },
    {
     "name": "stderr",
     "output_type": "stream",
     "text": [
      "\n",
      "\n",
      "t:   0%|                                                                                                                                                                | 0/104 [00:00<?, ?it/s, now=None]\u001b[A\u001b[A\n",
      "\n",
      "t:  90%|███████████████████████████████████████████████████████████████████████████████████████████████████████████████████████████████████████▌              | 94/104 [00:00<00:00, 926.19it/s, now=None]\u001b[A\u001b[A\n",
      "\n",
      "                                                                                                                                                                                                          \u001b[A\u001b[A\n",
      "\u001b[A                                                                                                                                                                                                       \n",
      "t:   3%|███▊                                                                                                                                              | 2/76 [1:36:53<59:45:13, 2906.94s/it, now=None]\u001b[A\n",
      "\u001b[A                                                                                                                                                                                                       \n",
      "t:   3%|███▊                                                                                                                                              | 2/76 [1:36:53<59:45:13, 2906.94s/it, now=None]\u001b[A\n",
      "\u001b[A                                                                                                                                                                                                       \n",
      "t:   3%|███▊                                                                                                                                              | 2/76 [1:36:54<59:45:18, 2907.01s/it, now=None]\u001b[A\n",
      "\u001b[A                                                                                                                                                                                                       \n",
      "t:   3%|███▊                                                                                                                                              | 2/76 [1:36:54<59:45:18, 2907.01s/it, now=None]\u001b[A"
     ]
    },
    {
     "name": "stdout",
     "output_type": "stream",
     "text": [
      "Moviepy - Done !\n",
      "Moviepy - video ready trimmed/10.mp4\n",
      "Moviepy - Building video trimmed/11.mp4.\n",
      "Moviepy - Writing video trimmed/11.mp4\n",
      "\n"
     ]
    },
    {
     "name": "stderr",
     "output_type": "stream",
     "text": [
      "\n",
      "\n",
      "t:   0%|                                                                                                                                                                | 0/141 [00:00<?, ?it/s, now=None]\u001b[A\u001b[A\n",
      "\n",
      "t:  36%|██████████████████████████████████████████████████████▎                                                                                               | 51/141 [00:00<00:00, 507.95it/s, now=None]\u001b[A\u001b[A\n",
      "\n",
      "t:  72%|███████████████████████████████████████████████████████████████████████████████████████████████████████████▊                                         | 102/141 [00:00<00:00, 340.14it/s, now=None]\u001b[A\u001b[A\n",
      "\n",
      "t:  99%|███████████████████████████████████████████████████████████████████████████████████████████████████████████████████████████████████████████████████▉ | 140/141 [00:00<00:00, 329.81it/s, now=None]\u001b[A\u001b[A\n",
      "\n",
      "                                                                                                                                                                                                          \u001b[A\u001b[A\n",
      "\u001b[A                                                                                                                                                                                                       \n",
      "t:   3%|███▊                                                                                                                                              | 2/76 [1:36:54<59:45:37, 2907.27s/it, now=None]\u001b[A\n",
      "\u001b[A                                                                                                                                                                                                       \n",
      "t:   3%|███▊                                                                                                                                              | 2/76 [1:36:54<59:45:37, 2907.27s/it, now=None]\u001b[A"
     ]
    },
    {
     "name": "stdout",
     "output_type": "stream",
     "text": [
      "Moviepy - Done !\n",
      "Moviepy - video ready trimmed/11.mp4\n"
     ]
    },
    {
     "name": "stderr",
     "output_type": "stream",
     "text": [
      "\n",
      "\u001b[A                                                                                                                                                                                                       \n",
      "t:   3%|███▊                                                                                                                                              | 2/76 [1:36:54<59:45:45, 2907.37s/it, now=None]\u001b[A\n",
      "\u001b[A                                                                                                                                                                                                       \n",
      "t:   3%|███▊                                                                                                                                              | 2/76 [1:36:54<59:45:45, 2907.37s/it, now=None]\u001b[A"
     ]
    },
    {
     "name": "stdout",
     "output_type": "stream",
     "text": [
      "Moviepy - Building video trimmed/12.mp4.\n",
      "MoviePy - Writing audio in 12TEMP_MPY_wvf_snd.mp3\n"
     ]
    },
    {
     "name": "stderr",
     "output_type": "stream",
     "text": [
      "\n",
      "\n",
      "chunk:   0%|                                                                                                                                                            | 0/103 [00:00<?, ?it/s, now=None]\u001b[A\u001b[A\n",
      "\n",
      "                                                                                                                                                                                                          \u001b[A\u001b[A\n",
      "\u001b[A                                                                                                                                                                                                       \n",
      "t:   3%|███▊                                                                                                                                              | 2/76 [1:36:54<59:45:48, 2907.42s/it, now=None]\u001b[A\n",
      "\u001b[A                                                                                                                                                                                                       \n",
      "t:   3%|███▊                                                                                                                                              | 2/76 [1:36:54<59:45:48, 2907.42s/it, now=None]\u001b[A"
     ]
    },
    {
     "name": "stdout",
     "output_type": "stream",
     "text": [
      "MoviePy - Done.\n",
      "Moviepy - Writing video trimmed/12.mp4\n",
      "\n"
     ]
    },
    {
     "name": "stderr",
     "output_type": "stream",
     "text": [
      "\n",
      "\n",
      "t:   0%|                                                                                                                                                                 | 0/69 [00:00<?, ?it/s, now=None]\u001b[A\u001b[A\n",
      "\n",
      "                                                                                                                                                                                                          \u001b[A\u001b[A\n",
      "\u001b[A                                                                                                                                                                                                       \n",
      "t:   3%|███▊                                                                                                                                              | 2/76 [1:36:55<59:45:56, 2907.52s/it, now=None]\u001b[A\n",
      "\u001b[A                                                                                                                                                                                                       \n",
      "t:   3%|███▊                                                                                                                                              | 2/76 [1:36:55<59:45:56, 2907.52s/it, now=None]\u001b[A"
     ]
    },
    {
     "name": "stdout",
     "output_type": "stream",
     "text": [
      "Moviepy - Done !\n",
      "Moviepy - video ready trimmed/12.mp4\n"
     ]
    },
    {
     "name": "stderr",
     "output_type": "stream",
     "text": [
      "\n",
      "\u001b[A                                                                                                                                                                                                       \n",
      "t:   3%|███▊                                                                                                                                              | 2/76 [1:36:55<59:46:08, 2907.68s/it, now=None]\u001b[A\n",
      "\u001b[A                                                                                                                                                                                                       \n",
      "t:   3%|███▊                                                                                                                                              | 2/76 [1:36:55<59:46:08, 2907.68s/it, now=None]\u001b[A"
     ]
    },
    {
     "name": "stdout",
     "output_type": "stream",
     "text": [
      "Moviepy - Building video trimmed/13.mp4.\n",
      "MoviePy - Writing audio in 13TEMP_MPY_wvf_snd.mp3\n"
     ]
    },
    {
     "name": "stderr",
     "output_type": "stream",
     "text": [
      "\n",
      "\n",
      "chunk:   0%|                                                                                                                                                             | 0/73 [00:00<?, ?it/s, now=None]\u001b[A\u001b[A\n",
      "\n",
      "                                                                                                                                                                                                          \u001b[A\u001b[A\n",
      "\u001b[A                                                                                                                                                                                                       \n",
      "t:   3%|███▊                                                                                                                                              | 2/76 [1:36:55<59:46:11, 2907.73s/it, now=None]\u001b[A\n",
      "\u001b[A                                                                                                                                                                                                       \n",
      "t:   3%|███▊                                                                                                                                              | 2/76 [1:36:55<59:46:11, 2907.73s/it, now=None]\u001b[A"
     ]
    },
    {
     "name": "stdout",
     "output_type": "stream",
     "text": [
      "MoviePy - Done.\n",
      "Moviepy - Writing video trimmed/13.mp4\n",
      "\n"
     ]
    },
    {
     "name": "stderr",
     "output_type": "stream",
     "text": [
      "\n",
      "\n",
      "t:   0%|                                                                                                                                                                 | 0/99 [00:00<?, ?it/s, now=None]\u001b[A\u001b[A\n",
      "\n",
      "t:  24%|████████████████████████████████████▌                                                                                                                  | 24/99 [00:00<00:00, 235.50it/s, now=None]\u001b[A\u001b[A\n",
      "\n",
      "t:  52%|█████████████████████████████████████████████████████████████████████████████▊                                                                         | 51/99 [00:00<00:00, 250.10it/s, now=None]\u001b[A\u001b[A\n",
      "\n",
      "t:  79%|██████████████████████████████████████████████████████████████████████████████████████████████████████████████████████▉                                | 78/99 [00:00<00:00, 255.80it/s, now=None]\u001b[A\u001b[A\n",
      "\n",
      "                                                                                                                                                                                                          \u001b[A\u001b[A\n",
      "\u001b[A                                                                                                                                                                                                       \n",
      "t:   3%|███▊                                                                                                                                              | 2/76 [1:36:56<59:46:49, 2908.23s/it, now=None]\u001b[A\n",
      "\u001b[A                                                                                                                                                                                                       \n",
      "t:   3%|███▊                                                                                                                                              | 2/76 [1:36:56<59:46:49, 2908.24s/it, now=None]\u001b[A"
     ]
    },
    {
     "name": "stdout",
     "output_type": "stream",
     "text": [
      "Moviepy - Done !\n",
      "Moviepy - video ready trimmed/13.mp4\n"
     ]
    },
    {
     "name": "stderr",
     "output_type": "stream",
     "text": [
      "\n",
      "\u001b[A                                                                                                                                                                                                       \n",
      "t:   3%|███▊                                                                                                                                              | 2/76 [1:36:56<59:47:00, 2908.39s/it, now=None]\u001b[A\n",
      "\u001b[A                                                                                                                                                                                                       \n",
      "t:   3%|███▊                                                                                                                                              | 2/76 [1:36:56<59:47:00, 2908.39s/it, now=None]\u001b[A"
     ]
    },
    {
     "name": "stdout",
     "output_type": "stream",
     "text": [
      "Moviepy - Building video trimmed/14.mp4.\n",
      "MoviePy - Writing audio in 14TEMP_MPY_wvf_snd.mp3\n"
     ]
    },
    {
     "name": "stderr",
     "output_type": "stream",
     "text": [
      "\n",
      "\n",
      "chunk:   0%|                                                                                                                                                             | 0/50 [00:00<?, ?it/s, now=None]\u001b[A\u001b[A\n",
      "\n",
      "                                                                                                                                                                                                          \u001b[A\u001b[A\n",
      "\u001b[A                                                                                                                                                                                                       \n",
      "t:   3%|███▊                                                                                                                                              | 2/76 [1:36:56<59:47:03, 2908.42s/it, now=None]\u001b[A\n",
      "\u001b[A                                                                                                                                                                                                       \n",
      "t:   3%|███▊                                                                                                                                              | 2/76 [1:36:56<59:47:03, 2908.42s/it, now=None]\u001b[A"
     ]
    },
    {
     "name": "stdout",
     "output_type": "stream",
     "text": [
      "MoviePy - Done.\n",
      "Moviepy - Writing video trimmed/14.mp4\n",
      "\n"
     ]
    },
    {
     "name": "stderr",
     "output_type": "stream",
     "text": [
      "\n",
      "\n",
      "t:   0%|                                                                                                                                                                 | 0/68 [00:00<?, ?it/s, now=None]\u001b[A\u001b[A\n",
      "\n",
      "t:  43%|████████████████████████████████████████████████████████████████▍                                                                                      | 29/68 [00:00<00:00, 287.58it/s, now=None]\u001b[A\u001b[A\n",
      "\n",
      "                                                                                                                                                                                                          \u001b[A\u001b[A\n",
      "\u001b[A                                                                                                                                                                                                       \n",
      "t:   3%|███▊                                                                                                                                              | 2/76 [1:36:57<59:47:34, 2908.85s/it, now=None]\u001b[A\n",
      "\u001b[A                                                                                                                                                                                                       \n",
      "t:   3%|███▊                                                                                                                                              | 2/76 [1:36:57<59:47:34, 2908.85s/it, now=None]\u001b[A\n",
      "\u001b[A                                                                                                                                                                                                       \n",
      "t:   3%|███▊                                                                                                                                              | 2/76 [1:36:57<59:47:39, 2908.91s/it, now=None]\u001b[A\n",
      "\u001b[A                                                                                                                                                                                                       \n",
      "t:   3%|███▊                                                                                                                                              | 2/76 [1:36:57<59:47:39, 2908.91s/it, now=None]\u001b[A"
     ]
    },
    {
     "name": "stdout",
     "output_type": "stream",
     "text": [
      "Moviepy - Done !\n",
      "Moviepy - video ready trimmed/14.mp4\n",
      "Moviepy - Building video trimmed/15.mp4.\n",
      "Moviepy - Writing video trimmed/15.mp4\n",
      "\n"
     ]
    },
    {
     "name": "stderr",
     "output_type": "stream",
     "text": [
      "\n",
      "\n",
      "t:   0%|                                                                                                                                                                | 0/147 [00:00<?, ?it/s, now=None]\u001b[A\u001b[A\n",
      "\n",
      "t:  55%|██████████████████████████████████████████████████████████████████████████████████▋                                                                   | 81/147 [00:00<00:00, 802.09it/s, now=None]\u001b[A\u001b[A\n",
      "\n",
      "                                                                                                                                                                                                          \u001b[A\u001b[A\n",
      "\u001b[A                                                                                                                                                                                                       \n",
      "t:   3%|███▊                                                                                                                                              | 2/76 [1:36:58<59:47:53, 2909.10s/it, now=None]\u001b[A\n",
      "\u001b[A                                                                                                                                                                                                       \n",
      "t:   3%|███▊                                                                                                                                              | 2/76 [1:36:58<59:47:53, 2909.10s/it, now=None]\u001b[A"
     ]
    },
    {
     "name": "stdout",
     "output_type": "stream",
     "text": [
      "Moviepy - Done !\n",
      "Moviepy - video ready trimmed/15.mp4\n"
     ]
    },
    {
     "name": "stderr",
     "output_type": "stream",
     "text": [
      "\n",
      "\u001b[A                                                                                                                                                                                                       \n",
      "t:   3%|███▊                                                                                                                                              | 2/76 [1:36:58<59:48:04, 2909.24s/it, now=None]\u001b[A\n",
      "\u001b[A                                                                                                                                                                                                       \n",
      "t:   3%|███▊                                                                                                                                              | 2/76 [1:36:58<59:48:04, 2909.25s/it, now=None]\u001b[A"
     ]
    },
    {
     "name": "stdout",
     "output_type": "stream",
     "text": [
      "Moviepy - Building video trimmed/16.mp4.\n",
      "MoviePy - Writing audio in 16TEMP_MPY_wvf_snd.mp3\n"
     ]
    },
    {
     "name": "stderr",
     "output_type": "stream",
     "text": [
      "\n",
      "\n",
      "chunk:   0%|                                                                                                                                                            | 0/177 [00:00<?, ?it/s, now=None]\u001b[A\u001b[A\n",
      "\n",
      "                                                                                                                                                                                                          \u001b[A\u001b[A\n",
      "\u001b[A                                                                                                                                                                                                       \n",
      "t:   3%|███▊                                                                                                                                              | 2/76 [1:36:58<59:48:08, 2909.30s/it, now=None]\u001b[A\n",
      "\u001b[A                                                                                                                                                                                                       \n",
      "t:   3%|███▊                                                                                                                                              | 2/76 [1:36:58<59:48:08, 2909.30s/it, now=None]\u001b[A"
     ]
    },
    {
     "name": "stdout",
     "output_type": "stream",
     "text": [
      "MoviePy - Done.\n",
      "Moviepy - Writing video trimmed/16.mp4\n",
      "\n"
     ]
    },
    {
     "name": "stderr",
     "output_type": "stream",
     "text": [
      "\n",
      "\n",
      "t:   0%|                                                                                                                                                                | 0/120 [00:00<?, ?it/s, now=None]\u001b[A\u001b[A\n",
      "\n",
      "t:  22%|█████████████████████████████████▊                                                                                                                    | 27/120 [00:00<00:00, 267.57it/s, now=None]\u001b[A\u001b[A\n",
      "\n",
      "t:  48%|████████████████████████████████████████████████████████████████████████▌                                                                             | 58/120 [00:00<00:00, 288.47it/s, now=None]\u001b[A\u001b[A\n",
      "\n",
      "t:  72%|████████████████████████████████████████████████████████████████████████████████████████████████████████████▊                                         | 87/120 [00:00<00:00, 166.64it/s, now=None]\u001b[A\u001b[A\n",
      "\n",
      "t:  90%|██████████████████████████████████████████████████████████████████████████████████████████████████████████████████████████████████████               | 108/120 [00:00<00:00, 144.47it/s, now=None]\u001b[A\u001b[A\n",
      "\n",
      "                                                                                                                                                                                                          \u001b[A\u001b[A\n",
      "\u001b[A                                                                                                                                                                                                       \n",
      "t:   3%|███▊                                                                                                                                              | 2/76 [1:36:59<59:48:56, 2909.95s/it, now=None]\u001b[A\n",
      "\u001b[A                                                                                                                                                                                                       \n",
      "t:   3%|███▊                                                                                                                                              | 2/76 [1:36:59<59:48:56, 2909.95s/it, now=None]\u001b[A"
     ]
    },
    {
     "name": "stdout",
     "output_type": "stream",
     "text": [
      "Moviepy - Done !\n",
      "Moviepy - video ready trimmed/16.mp4\n"
     ]
    },
    {
     "name": "stderr",
     "output_type": "stream",
     "text": [
      "\n",
      "\u001b[A                                                                                                                                                                                                       \n",
      "t:   3%|███▊                                                                                                                                              | 2/76 [1:37:00<59:49:03, 2910.05s/it, now=None]\u001b[A\n",
      "\u001b[A                                                                                                                                                                                                       \n",
      "t:   3%|███▊                                                                                                                                              | 2/76 [1:37:00<59:49:03, 2910.05s/it, now=None]\u001b[A"
     ]
    },
    {
     "name": "stdout",
     "output_type": "stream",
     "text": [
      "Moviepy - Building video trimmed/17.mp4.\n",
      "MoviePy - Writing audio in 17TEMP_MPY_wvf_snd.mp3\n"
     ]
    },
    {
     "name": "stderr",
     "output_type": "stream",
     "text": [
      "\n",
      "\n",
      "chunk:   0%|                                                                                                                                                             | 0/64 [00:00<?, ?it/s, now=None]\u001b[A\u001b[A\n",
      "\n",
      "                                                                                                                                                                                                          \u001b[A\u001b[A\n",
      "\u001b[A                                                                                                                                                                                                       \n",
      "t:   3%|███▊                                                                                                                                              | 2/76 [1:37:00<59:49:07, 2910.10s/it, now=None]\u001b[A\n",
      "\u001b[A                                                                                                                                                                                                       \n",
      "t:   3%|███▊                                                                                                                                              | 2/76 [1:37:00<59:49:07, 2910.10s/it, now=None]\u001b[A"
     ]
    },
    {
     "name": "stdout",
     "output_type": "stream",
     "text": [
      "MoviePy - Done.\n",
      "Moviepy - Writing video trimmed/17.mp4\n",
      "\n"
     ]
    },
    {
     "name": "stderr",
     "output_type": "stream",
     "text": [
      "\n",
      "\n",
      "t:   0%|                                                                                                                                                                 | 0/86 [00:00<?, ?it/s, now=None]\u001b[A\u001b[A\n",
      "\n",
      "t:  95%|███████████████████████████████████████████████████████████████████████████████████████████████████████████████████████████████████████████████▉       | 82/86 [00:00<00:00, 808.22it/s, now=None]\u001b[A\u001b[A\n",
      "\n",
      "                                                                                                                                                                                                          \u001b[A\u001b[A\n",
      "\u001b[A                                                                                                                                                                                                       \n",
      "t:   3%|███▊                                                                                                                                              | 2/76 [1:37:00<59:49:15, 2910.21s/it, now=None]\u001b[A\n",
      "\u001b[A                                                                                                                                                                                                       \n",
      "t:   3%|███▊                                                                                                                                              | 2/76 [1:37:00<59:49:15, 2910.22s/it, now=None]\u001b[A\n",
      "\u001b[A                                                                                                                                                                                                       \n",
      "t:   3%|███▊                                                                                                                                              | 2/76 [1:37:00<59:49:19, 2910.26s/it, now=None]\u001b[A\n",
      "\u001b[A                                                                                                                                                                                                       \n",
      "t:   3%|███▊                                                                                                                                              | 2/76 [1:37:00<59:49:19, 2910.26s/it, now=None]\u001b[A"
     ]
    },
    {
     "name": "stdout",
     "output_type": "stream",
     "text": [
      "Moviepy - Done !\n",
      "Moviepy - video ready trimmed/17.mp4\n",
      "Moviepy - Building video trimmed/18.mp4.\n",
      "Moviepy - Writing video trimmed/18.mp4\n",
      "\n"
     ]
    },
    {
     "name": "stderr",
     "output_type": "stream",
     "text": [
      "\n",
      "\n",
      "t:   0%|                                                                                                                                                                 | 0/50 [00:00<?, ?it/s, now=None]\u001b[A\u001b[A\n",
      "\n",
      "                                                                                                                                                                                                          \u001b[A\u001b[A\n",
      "\u001b[A                                                                                                                                                                                                       \n",
      "t:   3%|███▊                                                                                                                                              | 2/76 [1:37:00<59:49:23, 2910.31s/it, now=None]\u001b[A\n",
      "\u001b[A                                                                                                                                                                                                       \n",
      "t:   3%|███▊                                                                                                                                              | 2/76 [1:37:00<59:49:23, 2910.31s/it, now=None]\u001b[A"
     ]
    },
    {
     "name": "stdout",
     "output_type": "stream",
     "text": [
      "Moviepy - Done !\n",
      "Moviepy - video ready trimmed/18.mp4\n"
     ]
    },
    {
     "name": "stderr",
     "output_type": "stream",
     "text": [
      "\n",
      "\u001b[A                                                                                                                                                                                                       \n",
      "t:   3%|███▊                                                                                                                                              | 2/76 [1:37:00<59:49:28, 2910.38s/it, now=None]\u001b[A\n",
      "\u001b[A                                                                                                                                                                                                       \n",
      "t:   3%|███▊                                                                                                                                              | 2/76 [1:37:00<59:49:28, 2910.38s/it, now=None]\u001b[A"
     ]
    },
    {
     "name": "stdout",
     "output_type": "stream",
     "text": [
      "Moviepy - Building video trimmed/19.mp4.\n",
      "Moviepy - Writing video trimmed/19.mp4\n",
      "\n"
     ]
    },
    {
     "name": "stderr",
     "output_type": "stream",
     "text": [
      "\n",
      "\n",
      "t:   0%|                                                                                                                                                                | 0/106 [00:00<?, ?it/s, now=None]\u001b[A\u001b[A\n",
      "\n",
      "t:  47%|██████████████████████████████████████████████████████████████████████▊                                                                               | 50/106 [00:00<00:00, 493.41it/s, now=None]\u001b[A\u001b[A\n",
      "\n",
      "t:  94%|████████████████████████████████████████████████████████████████████████████████████████████████████████████████████████████████████████████▌        | 100/106 [00:00<00:00, 347.56it/s, now=None]\u001b[A\u001b[A\n",
      "\n",
      "                                                                                                                                                                                                          \u001b[A\u001b[A\n",
      "\u001b[A                                                                                                                                                                                                       \n",
      "t:   3%|███▊                                                                                                                                              | 2/76 [1:37:01<59:49:43, 2910.59s/it, now=None]\u001b[A\n",
      "\u001b[A                                                                                                                                                                                                       \n",
      "t:   3%|███▊                                                                                                                                              | 2/76 [1:37:01<59:49:43, 2910.59s/it, now=None]\u001b[A"
     ]
    },
    {
     "name": "stdout",
     "output_type": "stream",
     "text": [
      "Moviepy - Done !\n",
      "Moviepy - video ready trimmed/19.mp4\n"
     ]
    },
    {
     "name": "stderr",
     "output_type": "stream",
     "text": [
      "\n",
      "\u001b[A                                                                                                                                                                                                       \n",
      "t:   3%|███▊                                                                                                                                              | 2/76 [1:37:01<59:49:53, 2910.72s/it, now=None]\u001b[A\n",
      "\u001b[A                                                                                                                                                                                                       \n",
      "t:   3%|███▊                                                                                                                                              | 2/76 [1:37:01<59:49:53, 2910.72s/it, now=None]\u001b[A"
     ]
    },
    {
     "name": "stdout",
     "output_type": "stream",
     "text": [
      "Moviepy - Building video trimmed/20.mp4.\n",
      "MoviePy - Writing audio in 20TEMP_MPY_wvf_snd.mp3\n"
     ]
    },
    {
     "name": "stderr",
     "output_type": "stream",
     "text": [
      "\n",
      "\n",
      "chunk:   0%|                                                                                                                                                             | 0/81 [00:00<?, ?it/s, now=None]\u001b[A\u001b[A\n",
      "\n",
      "                                                                                                                                                                                                          \u001b[A\u001b[A\n",
      "\u001b[A                                                                                                                                                                                                       \n",
      "t:   3%|███▊                                                                                                                                              | 2/76 [1:37:01<59:49:56, 2910.76s/it, now=None]\u001b[A\n",
      "\u001b[A                                                                                                                                                                                                       \n",
      "t:   3%|███▊                                                                                                                                              | 2/76 [1:37:01<59:49:56, 2910.76s/it, now=None]\u001b[A"
     ]
    },
    {
     "name": "stdout",
     "output_type": "stream",
     "text": [
      "MoviePy - Done.\n",
      "Moviepy - Writing video trimmed/20.mp4\n",
      "\n"
     ]
    },
    {
     "name": "stderr",
     "output_type": "stream",
     "text": [
      "\n",
      "\n",
      "t:   0%|                                                                                                                                                                | 0/110 [00:00<?, ?it/s, now=None]\u001b[A\u001b[A\n",
      "\n",
      "t:  26%|███████████████████████████████████████▌                                                                                                              | 29/110 [00:00<00:00, 289.37it/s, now=None]\u001b[A\u001b[A\n",
      "\n",
      "t:  55%|█████████████████████████████████████████████████████████████████████████████████▊                                                                    | 60/110 [00:00<00:00, 300.52it/s, now=None]\u001b[A\u001b[A\n",
      "\n",
      "t:  83%|████████████████████████████████████████████████████████████████████████████████████████████████████████████████████████████                          | 91/110 [00:00<00:00, 209.59it/s, now=None]\u001b[A\u001b[A\n",
      "\n",
      "                                                                                                                                                                                                          \u001b[A\u001b[A\n",
      "\u001b[A                                                                                                                                                                                                       \n",
      "t:   3%|███▊                                                                                                                                              | 2/76 [1:37:02<59:50:35, 2911.29s/it, now=None]\u001b[A\n",
      "\u001b[A                                                                                                                                                                                                       \n",
      "t:   3%|███▊                                                                                                                                              | 2/76 [1:37:02<59:50:35, 2911.29s/it, now=None]\u001b[A\n",
      "\u001b[A                                                                                                                                                                                                       \n",
      "t:   3%|███▊                                                                                                                                              | 2/76 [1:37:02<59:50:39, 2911.35s/it, now=None]\u001b[A\n",
      "\u001b[A                                                                                                                                                                                                       \n",
      "t:   3%|███▊                                                                                                                                              | 2/76 [1:37:02<59:50:39, 2911.35s/it, now=None]\u001b[A"
     ]
    },
    {
     "name": "stdout",
     "output_type": "stream",
     "text": [
      "Moviepy - Done !\n",
      "Moviepy - video ready trimmed/20.mp4\n",
      "Moviepy - Building video trimmed/21.mp4.\n",
      "Moviepy - Writing video trimmed/21.mp4\n",
      "\n"
     ]
    },
    {
     "name": "stderr",
     "output_type": "stream",
     "text": [
      "\n",
      "\n",
      "t:   0%|                                                                                                                                                                | 0/154 [00:00<?, ?it/s, now=None]\u001b[A\u001b[A\n",
      "\n",
      "t:  52%|█████████████████████████████████████████████████████████████████████████████▉                                                                        | 80/154 [00:00<00:00, 794.01it/s, now=None]\u001b[A\u001b[A\n",
      "\n",
      "                                                                                                                                                                                                          \u001b[A\u001b[A\n",
      "\u001b[A                                                                                                                                                                                                       \n",
      "t:   3%|███▊                                                                                                                                              | 2/76 [1:37:03<59:50:57, 2911.59s/it, now=None]\u001b[A\n",
      "\u001b[A                                                                                                                                                                                                       \n",
      "t:   3%|███▊                                                                                                                                              | 2/76 [1:37:03<59:50:57, 2911.59s/it, now=None]\u001b[A\n",
      "\u001b[A                                                                                                                                                                                                       \n",
      "t:   3%|███▊                                                                                                                                              | 2/76 [1:37:03<59:51:04, 2911.68s/it, now=None]\u001b[A\n",
      "\u001b[A                                                                                                                                                                                                       \n",
      "t:   3%|███▊                                                                                                                                              | 2/76 [1:37:03<59:51:04, 2911.68s/it, now=None]\u001b[A"
     ]
    },
    {
     "name": "stdout",
     "output_type": "stream",
     "text": [
      "Moviepy - Done !\n",
      "Moviepy - video ready trimmed/21.mp4\n",
      "Moviepy - Building video trimmed/22.mp4.\n",
      "MoviePy - Writing audio in 22TEMP_MPY_wvf_snd.mp3\n"
     ]
    },
    {
     "name": "stderr",
     "output_type": "stream",
     "text": [
      "\n",
      "\n",
      "chunk:   0%|                                                                                                                                                             | 0/84 [00:00<?, ?it/s, now=None]\u001b[A\u001b[A\n",
      "\n",
      "                                                                                                                                                                                                          \u001b[A\u001b[A\n",
      "\u001b[A                                                                                                                                                                                                       \n",
      "t:   3%|███▊                                                                                                                                              | 2/76 [1:37:03<59:51:07, 2911.72s/it, now=None]\u001b[A\n",
      "\u001b[A                                                                                                                                                                                                       \n",
      "t:   3%|███▊                                                                                                                                              | 2/76 [1:37:03<59:51:07, 2911.72s/it, now=None]\u001b[A"
     ]
    },
    {
     "name": "stdout",
     "output_type": "stream",
     "text": [
      "MoviePy - Done.\n",
      "Moviepy - Writing video trimmed/22.mp4\n",
      "\n"
     ]
    },
    {
     "name": "stderr",
     "output_type": "stream",
     "text": [
      "\n",
      "\n",
      "t:   0%|                                                                                                                                                                | 0/114 [00:00<?, ?it/s, now=None]\u001b[A\u001b[A\n",
      "\n",
      "t:  77%|███████████████████████████████████████████████████████████████████████████████████████████████████████████████████▊                                  | 88/114 [00:00<00:00, 859.03it/s, now=None]\u001b[A\u001b[A\n",
      "\n",
      "                                                                                                                                                                                                          \u001b[A\u001b[A\n",
      "\u001b[A                                                                                                                                                                                                       \n",
      "t:   3%|███▊                                                                                                                                              | 2/76 [1:37:03<59:51:17, 2911.86s/it, now=None]\u001b[A\n",
      "\u001b[A                                                                                                                                                                                                       \n",
      "t:   3%|███▊                                                                                                                                              | 2/76 [1:37:03<59:51:18, 2911.87s/it, now=None]\u001b[A\n",
      "\u001b[A                                                                                                                                                                                                       \n",
      "t:   3%|███▊                                                                                                                                              | 2/76 [1:37:03<59:51:22, 2911.93s/it, now=None]\u001b[A\n",
      "\u001b[A                                                                                                                                                                                                       \n",
      "t:   3%|███▊                                                                                                                                              | 2/76 [1:37:03<59:51:22, 2911.93s/it, now=None]\u001b[A"
     ]
    },
    {
     "name": "stdout",
     "output_type": "stream",
     "text": [
      "Moviepy - Done !\n",
      "Moviepy - video ready trimmed/22.mp4\n",
      "Moviepy - Building video trimmed/23.mp4.\n",
      "Moviepy - Writing video trimmed/23.mp4\n",
      "\n"
     ]
    },
    {
     "name": "stderr",
     "output_type": "stream",
     "text": [
      "\n",
      "\n",
      "t:   0%|                                                                                                                                                                | 0/114 [00:00<?, ?it/s, now=None]\u001b[A\u001b[A\n",
      "\n",
      "t:  72%|███████████████████████████████████████████████████████████████████████████████████████████████████████████▉                                          | 82/114 [00:00<00:00, 795.84it/s, now=None]\u001b[A\u001b[A\n",
      "\n",
      "                                                                                                                                                                                                          \u001b[A\u001b[A\n",
      "\u001b[A                                                                                                                                                                                                       \n",
      "t:   3%|███▊                                                                                                                                              | 2/76 [1:37:04<59:51:34, 2912.09s/it, now=None]\u001b[A\n",
      "\u001b[A                                                                                                                                                                                                       \n",
      "t:   3%|███▊                                                                                                                                              | 2/76 [1:37:04<59:51:34, 2912.09s/it, now=None]\u001b[A\n",
      "\u001b[A                                                                                                                                                                                                       \n",
      "t:   3%|███▊                                                                                                                                              | 2/76 [1:37:04<59:51:38, 2912.15s/it, now=None]\u001b[A\n",
      "\u001b[A                                                                                                                                                                                                       \n",
      "t:   3%|███▊                                                                                                                                              | 2/76 [1:37:04<59:51:38, 2912.15s/it, now=None]\u001b[A"
     ]
    },
    {
     "name": "stdout",
     "output_type": "stream",
     "text": [
      "Moviepy - Done !\n",
      "Moviepy - video ready trimmed/23.mp4\n",
      "Moviepy - Building video trimmed/24.mp4.\n",
      "Moviepy - Writing video trimmed/24.mp4\n",
      "\n"
     ]
    },
    {
     "name": "stderr",
     "output_type": "stream",
     "text": [
      "\n",
      "\n",
      "t:   0%|                                                                                                                                                                | 0/105 [00:00<?, ?it/s, now=None]\u001b[A\u001b[A\n",
      "\n",
      "t:  79%|██████████████████████████████████████████████████████████████████████████████████████████████████████████████████████▌                               | 83/105 [00:00<00:00, 814.56it/s, now=None]\u001b[A\u001b[A\n",
      "\n",
      "                                                                                                                                                                                                          \u001b[A\u001b[A\n",
      "\u001b[A                                                                                                                                                                                                       \n",
      "t:   3%|███▊                                                                                                                                              | 2/76 [1:37:04<59:51:47, 2912.27s/it, now=None]\u001b[A\n",
      "\u001b[A                                                                                                                                                                                                       \n",
      "t:   3%|███▊                                                                                                                                              | 2/76 [1:37:04<59:51:48, 2912.27s/it, now=None]\u001b[A\n",
      "\u001b[A                                                                                                                                                                                                       \n",
      "t:   3%|███▊                                                                                                                                              | 2/76 [1:37:04<59:51:52, 2912.33s/it, now=None]\u001b[A\n",
      "\u001b[A                                                                                                                                                                                                       \n",
      "t:   3%|███▊                                                                                                                                              | 2/76 [1:37:04<59:51:52, 2912.33s/it, now=None]\u001b[A"
     ]
    },
    {
     "name": "stdout",
     "output_type": "stream",
     "text": [
      "Moviepy - Done !\n",
      "Moviepy - video ready trimmed/24.mp4\n",
      "Moviepy - Building video trimmed/25.mp4.\n",
      "Moviepy - Writing video trimmed/25.mp4\n",
      "\n"
     ]
    },
    {
     "name": "stderr",
     "output_type": "stream",
     "text": [
      "\n",
      "\n",
      "t:   0%|                                                                                                                                                                | 0/127 [00:00<?, ?it/s, now=None]\u001b[A\u001b[A\n",
      "\n",
      "t:  63%|██████████████████████████████████████████████████████████████████████████████████████████████▍                                                       | 80/127 [00:00<00:00, 770.14it/s, now=None]\u001b[A\u001b[A\n",
      "\n",
      "                                                                                                                                                                                                          \u001b[A\u001b[A\n",
      "\u001b[A                                                                                                                                                                                                       \n",
      "t:   3%|███▊                                                                                                                                              | 2/76 [1:37:05<59:52:07, 2912.53s/it, now=None]\u001b[A\n",
      "\u001b[A                                                                                                                                                                                                       \n",
      "t:   3%|███▊                                                                                                                                              | 2/76 [1:37:05<59:52:07, 2912.53s/it, now=None]\u001b[A"
     ]
    },
    {
     "name": "stdout",
     "output_type": "stream",
     "text": [
      "Moviepy - Done !\n",
      "Moviepy - video ready trimmed/25.mp4\n"
     ]
    },
    {
     "name": "stderr",
     "output_type": "stream",
     "text": [
      "\n",
      "\u001b[A                                                                                                                                                                                                       \n",
      "t:   3%|███▊                                                                                                                                              | 2/76 [1:37:05<59:52:17, 2912.67s/it, now=None]\u001b[A\n",
      "\u001b[A                                                                                                                                                                                                       \n",
      "t:   3%|███▊                                                                                                                                              | 2/76 [1:37:05<59:52:17, 2912.67s/it, now=None]\u001b[A"
     ]
    },
    {
     "name": "stdout",
     "output_type": "stream",
     "text": [
      "Moviepy - Building video trimmed/26.mp4.\n",
      "MoviePy - Writing audio in 26TEMP_MPY_wvf_snd.mp3\n"
     ]
    },
    {
     "name": "stderr",
     "output_type": "stream",
     "text": [
      "\n",
      "\n",
      "chunk:   0%|                                                                                                                                                             | 0/79 [00:00<?, ?it/s, now=None]\u001b[A\u001b[A\n",
      "\n",
      "                                                                                                                                                                                                          \u001b[A\u001b[A\n",
      "\u001b[A                                                                                                                                                                                                       \n",
      "t:   3%|███▊                                                                                                                                              | 2/76 [1:37:05<59:52:20, 2912.71s/it, now=None]\u001b[A\n",
      "\u001b[A                                                                                                                                                                                                       \n",
      "t:   3%|███▊                                                                                                                                              | 2/76 [1:37:05<59:52:20, 2912.72s/it, now=None]\u001b[A"
     ]
    },
    {
     "name": "stdout",
     "output_type": "stream",
     "text": [
      "MoviePy - Done.\n",
      "Moviepy - Writing video trimmed/26.mp4\n",
      "\n"
     ]
    },
    {
     "name": "stderr",
     "output_type": "stream",
     "text": [
      "\n",
      "\n",
      "t:   0%|                                                                                                                                                                | 0/107 [00:00<?, ?it/s, now=None]\u001b[A\u001b[A\n",
      "\n",
      "t:  27%|████████████████████████████████████████▋                                                                                                             | 29/107 [00:00<00:00, 287.98it/s, now=None]\u001b[A\u001b[A\n",
      "\n",
      "t:  60%|█████████████████████████████████████████████████████████████████████████████████████████▋                                                            | 64/107 [00:00<00:00, 323.90it/s, now=None]\u001b[A\u001b[A\n",
      "\n",
      "t:  91%|███████████████████████████████████████████████████████████████████████████████████████████████████████████████████████████████████████▉              | 97/107 [00:00<00:00, 163.45it/s, now=None]\u001b[A\u001b[A\n",
      "\n",
      "                                                                                                                                                                                                          \u001b[A\u001b[A\n",
      "\u001b[A                                                                                                                                                                                                       \n",
      "t:   3%|███▊                                                                                                                                              | 2/76 [1:37:06<59:53:06, 2913.34s/it, now=None]\u001b[A\n",
      "\u001b[A                                                                                                                                                                                                       \n",
      "t:   3%|███▊                                                                                                                                              | 2/76 [1:37:06<59:53:07, 2913.34s/it, now=None]\u001b[A\n",
      "\u001b[A                                                                                                                                                                                                       \n",
      "t:   3%|███▊                                                                                                                                              | 2/76 [1:37:06<59:53:11, 2913.40s/it, now=None]\u001b[A\n",
      "\u001b[A                                                                                                                                                                                                       \n",
      "t:   3%|███▊                                                                                                                                              | 2/76 [1:37:06<59:53:11, 2913.40s/it, now=None]\u001b[A"
     ]
    },
    {
     "name": "stdout",
     "output_type": "stream",
     "text": [
      "Moviepy - Done !\n",
      "Moviepy - video ready trimmed/26.mp4\n",
      "Moviepy - Building video trimmed/27.mp4.\n",
      "Moviepy - Writing video trimmed/27.mp4\n",
      "\n"
     ]
    },
    {
     "name": "stderr",
     "output_type": "stream",
     "text": [
      "\n",
      "\n",
      "t:   0%|                                                                                                                                                                | 0/118 [00:00<?, ?it/s, now=None]\u001b[A\u001b[A\n",
      "\n",
      "t:  70%|█████████████████████████████████████████████████████████████████████████████████████████████████████████▌                                            | 83/118 [00:00<00:00, 814.24it/s, now=None]\u001b[A\u001b[A\n",
      "\n",
      "                                                                                                                                                                                                          \u001b[A\u001b[A\n",
      "\u001b[A                                                                                                                                                                                                       \n",
      "t:   3%|███▊                                                                                                                                              | 2/76 [1:37:07<59:53:21, 2913.53s/it, now=None]\u001b[A\n",
      "\u001b[A                                                                                                                                                                                                       \n",
      "t:   3%|███▊                                                                                                                                              | 2/76 [1:37:07<59:53:21, 2913.53s/it, now=None]\u001b[A\n",
      "\u001b[A                                                                                                                                                                                                       \n",
      "t:   3%|███▊                                                                                                                                              | 2/76 [1:37:07<59:53:28, 2913.62s/it, now=None]\u001b[A\n",
      "\u001b[A                                                                                                                                                                                                       \n",
      "t:   3%|███▊                                                                                                                                              | 2/76 [1:37:07<59:53:28, 2913.62s/it, now=None]\u001b[A"
     ]
    },
    {
     "name": "stdout",
     "output_type": "stream",
     "text": [
      "Moviepy - Done !\n",
      "Moviepy - video ready trimmed/27.mp4\n",
      "Moviepy - Building video trimmed/28.mp4.\n",
      "MoviePy - Writing audio in 28TEMP_MPY_wvf_snd.mp3\n"
     ]
    },
    {
     "name": "stderr",
     "output_type": "stream",
     "text": [
      "\n",
      "\n",
      "chunk:   0%|                                                                                                                                                             | 0/97 [00:00<?, ?it/s, now=None]\u001b[A\u001b[A\n",
      "\n",
      "                                                                                                                                                                                                          \u001b[A\u001b[A\n",
      "\u001b[A                                                                                                                                                                                                       \n",
      "t:   3%|███▊                                                                                                                                              | 2/76 [1:37:07<59:53:30, 2913.66s/it, now=None]\u001b[A\n",
      "\u001b[A                                                                                                                                                                                                       \n",
      "t:   3%|███▊                                                                                                                                              | 2/76 [1:37:07<59:53:30, 2913.66s/it, now=None]\u001b[A"
     ]
    },
    {
     "name": "stdout",
     "output_type": "stream",
     "text": [
      "MoviePy - Done.\n",
      "Moviepy - Writing video trimmed/28.mp4\n",
      "\n"
     ]
    },
    {
     "name": "stderr",
     "output_type": "stream",
     "text": [
      "\n",
      "\n",
      "t:   0%|                                                                                                                                                                | 0/131 [00:00<?, ?it/s, now=None]\u001b[A\u001b[A\n",
      "\n",
      "t:  70%|█████████████████████████████████████████████████████████████████████████████████████████████████████████▎                                            | 92/131 [00:00<00:00, 917.77it/s, now=None]\u001b[A\u001b[A\n",
      "\n",
      "                                                                                                                                                                                                          \u001b[A\u001b[A\n",
      "\u001b[A                                                                                                                                                                                                       \n",
      "t:   3%|███▊                                                                                                                                              | 2/76 [1:37:07<59:53:40, 2913.78s/it, now=None]\u001b[A\n",
      "\u001b[A                                                                                                                                                                                                       \n",
      "t:   3%|███▊                                                                                                                                              | 2/76 [1:37:07<59:53:40, 2913.79s/it, now=None]\u001b[A\n",
      "\u001b[A                                                                                                                                                                                                       \n",
      "t:   3%|███▊                                                                                                                                              | 2/76 [1:37:07<59:53:47, 2913.88s/it, now=None]\u001b[A\n",
      "\u001b[A                                                                                                                                                                                                       \n",
      "t:   3%|███▊                                                                                                                                              | 2/76 [1:37:07<59:53:47, 2913.88s/it, now=None]\u001b[A"
     ]
    },
    {
     "name": "stdout",
     "output_type": "stream",
     "text": [
      "Moviepy - Done !\n",
      "Moviepy - video ready trimmed/28.mp4\n",
      "Moviepy - Building video trimmed/29.mp4.\n",
      "MoviePy - Writing audio in 29TEMP_MPY_wvf_snd.mp3\n"
     ]
    },
    {
     "name": "stderr",
     "output_type": "stream",
     "text": [
      "\n",
      "\n",
      "chunk:   0%|                                                                                                                                                             | 0/82 [00:00<?, ?it/s, now=None]\u001b[A\u001b[A\n",
      "\n",
      "                                                                                                                                                                                                          \u001b[A\u001b[A\n",
      "\u001b[A                                                                                                                                                                                                       \n",
      "t:   3%|███▊                                                                                                                                              | 2/76 [1:37:07<59:53:50, 2913.93s/it, now=None]\u001b[A\n",
      "\u001b[A                                                                                                                                                                                                       \n",
      "t:   3%|███▊                                                                                                                                              | 2/76 [1:37:07<59:53:50, 2913.93s/it, now=None]\u001b[A"
     ]
    },
    {
     "name": "stdout",
     "output_type": "stream",
     "text": [
      "MoviePy - Done.\n",
      "Moviepy - Writing video trimmed/29.mp4\n",
      "\n"
     ]
    },
    {
     "name": "stderr",
     "output_type": "stream",
     "text": [
      "\n",
      "\n",
      "t:   0%|                                                                                                                                                                | 0/111 [00:00<?, ?it/s, now=None]\u001b[A\u001b[A\n",
      "\n",
      "t:  94%|██████████████████████████████████████████████████████████████████████████████████████████████████████████████████████████████████████████▋         | 104/111 [00:00<00:00, 1035.13it/s, now=None]\u001b[A\u001b[A\n",
      "\n",
      "                                                                                                                                                                                                          \u001b[A\u001b[A\n",
      "\u001b[A                                                                                                                                                                                                       \n",
      "t:   3%|███▊                                                                                                                                              | 2/76 [1:37:08<59:53:57, 2914.03s/it, now=None]\u001b[A\n",
      "\u001b[A                                                                                                                                                                                                       \n",
      "t:   3%|███▊                                                                                                                                              | 2/76 [1:37:08<59:53:57, 2914.03s/it, now=None]\u001b[A"
     ]
    },
    {
     "name": "stdout",
     "output_type": "stream",
     "text": [
      "Moviepy - Done !\n",
      "Moviepy - video ready trimmed/29.mp4\n"
     ]
    },
    {
     "name": "stderr",
     "output_type": "stream",
     "text": [
      "\n",
      "\u001b[A                                                                                                                                                                                                       \n",
      "t:   3%|███▊                                                                                                                                              | 2/76 [1:37:08<59:54:08, 2914.16s/it, now=None]\u001b[A\n",
      "\u001b[A                                                                                                                                                                                                       \n",
      "t:   3%|███▊                                                                                                                                              | 2/76 [1:37:08<59:54:08, 2914.16s/it, now=None]\u001b[A"
     ]
    },
    {
     "name": "stdout",
     "output_type": "stream",
     "text": [
      "Moviepy - Building video trimmed/30.mp4.\n",
      "MoviePy - Writing audio in 30TEMP_MPY_wvf_snd.mp3\n"
     ]
    },
    {
     "name": "stderr",
     "output_type": "stream",
     "text": [
      "\n",
      "\n",
      "chunk:   0%|                                                                                                                                                            | 0/102 [00:00<?, ?it/s, now=None]\u001b[A\u001b[A\n",
      "\n",
      "                                                                                                                                                                                                          \u001b[A\u001b[A\n",
      "\u001b[A                                                                                                                                                                                                       \n",
      "t:   3%|███▊                                                                                                                                              | 2/76 [1:37:08<59:54:11, 2914.21s/it, now=None]\u001b[A\n",
      "\u001b[A                                                                                                                                                                                                       \n",
      "t:   3%|███▊                                                                                                                                              | 2/76 [1:37:08<59:54:11, 2914.21s/it, now=None]\u001b[A"
     ]
    },
    {
     "name": "stdout",
     "output_type": "stream",
     "text": [
      "MoviePy - Done.\n",
      "Moviepy - Writing video trimmed/30.mp4\n",
      "\n"
     ]
    },
    {
     "name": "stderr",
     "output_type": "stream",
     "text": [
      "\n",
      "\n",
      "t:   0%|                                                                                                                                                                | 0/110 [00:00<?, ?it/s, now=None]\u001b[A\u001b[A\n",
      "\n",
      "t:  27%|████████████████████████████████████████▉                                                                                                             | 30/110 [00:00<00:00, 298.85it/s, now=None]\u001b[A\u001b[A\n",
      "\n",
      "t:  63%|██████████████████████████████████████████████████████████████████████████████████████████████                                                        | 69/110 [00:00<00:00, 347.47it/s, now=None]\u001b[A\u001b[A\n",
      "\n",
      "t:  95%|████████████████████████████████████████████████████████████████████████████████████████████████████████████████████████████████████████████▊        | 104/110 [00:00<00:00, 191.41it/s, now=None]\u001b[A\u001b[A\n",
      "\n",
      "                                                                                                                                                                                                          \u001b[A\u001b[A\n",
      "\u001b[A                                                                                                                                                                                                       \n",
      "t:   3%|███▊                                                                                                                                              | 2/76 [1:37:09<59:54:49, 2914.72s/it, now=None]\u001b[A\n",
      "\u001b[A                                                                                                                                                                                                       \n",
      "t:   3%|███▊                                                                                                                                              | 2/76 [1:37:09<59:54:49, 2914.72s/it, now=None]\u001b[A\n",
      "\u001b[A                                                                                                                                                                                                       \n",
      "t:   3%|███▊                                                                                                                                              | 2/76 [1:37:09<59:54:53, 2914.78s/it, now=None]\u001b[A\n",
      "\u001b[A                                                                                                                                                                                                       \n",
      "t:   3%|███▊                                                                                                                                              | 2/76 [1:37:09<59:54:53, 2914.78s/it, now=None]\u001b[A"
     ]
    },
    {
     "name": "stdout",
     "output_type": "stream",
     "text": [
      "Moviepy - Done !\n",
      "Moviepy - video ready trimmed/30.mp4\n",
      "Moviepy - Building video trimmed/31.mp4.\n",
      "Moviepy - Writing video trimmed/31.mp4\n",
      "\n"
     ]
    },
    {
     "name": "stderr",
     "output_type": "stream",
     "text": [
      "\n",
      "\n",
      "t:   0%|                                                                                                                                                                | 0/157 [00:00<?, ?it/s, now=None]\u001b[A\u001b[A\n",
      "\n",
      "t:  59%|████████████████████████████████████████████████████████████████████████████████████████▊                                                             | 93/157 [00:00<00:00, 921.74it/s, now=None]\u001b[A\u001b[A\n",
      "\n",
      "                                                                                                                                                                                                          \u001b[A\u001b[A\n",
      "\u001b[A                                                                                                                                                                                                       \n",
      "t:   3%|███▊                                                                                                                                              | 2/76 [1:37:09<59:55:03, 2914.91s/it, now=None]\u001b[A\n",
      "\u001b[A                                                                                                                                                                                                       \n",
      "t:   3%|███▊                                                                                                                                              | 2/76 [1:37:09<59:55:03, 2914.91s/it, now=None]\u001b[A\n",
      "\u001b[A                                                                                                                                                                                                       \n",
      "t:   3%|███▊                                                                                                                                              | 2/76 [1:37:09<59:55:07, 2914.97s/it, now=None]\u001b[A\n",
      "\u001b[A                                                                                                                                                                                                       \n",
      "t:   3%|███▊                                                                                                                                              | 2/76 [1:37:09<59:55:07, 2914.97s/it, now=None]\u001b[A"
     ]
    },
    {
     "name": "stdout",
     "output_type": "stream",
     "text": [
      "Moviepy - Done !\n",
      "Moviepy - video ready trimmed/31.mp4\n",
      "Moviepy - Building video trimmed/32.mp4.\n",
      "Moviepy - Writing video trimmed/32.mp4\n",
      "\n"
     ]
    },
    {
     "name": "stderr",
     "output_type": "stream",
     "text": [
      "\n",
      "\n",
      "t:   0%|                                                                                                                                                                | 0/142 [00:00<?, ?it/s, now=None]\u001b[A\u001b[A\n",
      "\n",
      "t:  36%|█████████████████████████████████████████████████████▊                                                                                                | 51/142 [00:00<00:00, 504.98it/s, now=None]\u001b[A\u001b[A\n",
      "\n",
      "t:  72%|███████████████████████████████████████████████████████████████████████████████████████████████████████████                                          | 102/142 [00:00<00:00, 370.05it/s, now=None]\u001b[A\u001b[A\n",
      "\n",
      "t: 100%|█████████████████████████████████████████████████████████████████████████████████████████████████████████████████████████████████████████████████████| 142/142 [00:00<00:00, 259.78it/s, now=None]\u001b[A\u001b[A\n",
      "\n",
      "                                                                                                                                                                                                          \u001b[A\u001b[A\n",
      "\u001b[A                                                                                                                                                                                                       \n",
      "t:   3%|███▊                                                                                                                                              | 2/76 [1:37:10<59:55:41, 2915.43s/it, now=None]\u001b[A\n",
      "\u001b[A                                                                                                                                                                                                       \n",
      "t:   3%|███▊                                                                                                                                              | 2/76 [1:37:10<59:55:41, 2915.43s/it, now=None]\u001b[A\n",
      "\u001b[A                                                                                                                                                                                                       \n",
      "t:   3%|███▊                                                                                                                                              | 2/76 [1:37:10<59:55:45, 2915.48s/it, now=None]\u001b[A\n",
      "\u001b[A                                                                                                                                                                                                       \n",
      "t:   3%|███▊                                                                                                                                              | 2/76 [1:37:10<59:55:45, 2915.48s/it, now=None]\u001b[A"
     ]
    },
    {
     "name": "stdout",
     "output_type": "stream",
     "text": [
      "Moviepy - Done !\n",
      "Moviepy - video ready trimmed/32.mp4\n",
      "Moviepy - Building video trimmed/33.mp4.\n",
      "Moviepy - Writing video trimmed/33.mp4\n",
      "\n"
     ]
    },
    {
     "name": "stderr",
     "output_type": "stream",
     "text": [
      "\n",
      "\n",
      "t:   0%|                                                                                                                                                                 | 0/88 [00:00<?, ?it/s, now=None]\u001b[A\u001b[A\n",
      "\n",
      "                                                                                                                                                                                                          \u001b[A\u001b[A\n",
      "\u001b[A                                                                                                                                                                                                       \n",
      "t:   3%|███▊                                                                                                                                              | 2/76 [1:37:11<59:55:53, 2915.59s/it, now=None]\u001b[A\n",
      "\u001b[A                                                                                                                                                                                                       \n",
      "t:   3%|███▊                                                                                                                                              | 2/76 [1:37:11<59:55:53, 2915.59s/it, now=None]\u001b[A\n",
      "\u001b[A                                                                                                                                                                                                       \n",
      "t:   3%|███▊                                                                                                                                              | 2/76 [1:37:11<59:56:00, 2915.68s/it, now=None]\u001b[A\n",
      "\u001b[A                                                                                                                                                                                                       \n",
      "t:   3%|███▊                                                                                                                                              | 2/76 [1:37:11<59:56:00, 2915.68s/it, now=None]\u001b[A"
     ]
    },
    {
     "name": "stdout",
     "output_type": "stream",
     "text": [
      "Moviepy - Done !\n",
      "Moviepy - video ready trimmed/33.mp4\n",
      "Moviepy - Building video trimmed/34.mp4.\n",
      "MoviePy - Writing audio in 34TEMP_MPY_wvf_snd.mp3\n"
     ]
    },
    {
     "name": "stderr",
     "output_type": "stream",
     "text": [
      "\n",
      "\n",
      "chunk:   0%|                                                                                                                                                             | 0/89 [00:00<?, ?it/s, now=None]\u001b[A\u001b[A\n",
      "\n",
      "                                                                                                                                                                                                          \u001b[A\u001b[A\n",
      "\u001b[A                                                                                                                                                                                                       \n",
      "t:   3%|███▊                                                                                                                                              | 2/76 [1:37:11<59:56:03, 2915.72s/it, now=None]\u001b[A\n",
      "\u001b[A                                                                                                                                                                                                       \n",
      "t:   3%|███▊                                                                                                                                              | 2/76 [1:37:11<59:56:03, 2915.72s/it, now=None]\u001b[A"
     ]
    },
    {
     "name": "stdout",
     "output_type": "stream",
     "text": [
      "MoviePy - Done.\n",
      "Moviepy - Writing video trimmed/34.mp4\n",
      "\n"
     ]
    },
    {
     "name": "stderr",
     "output_type": "stream",
     "text": [
      "\n",
      "\n",
      "t:   0%|                                                                                                                                                                 | 0/60 [00:00<?, ?it/s, now=None]\u001b[A\u001b[A\n",
      "\n",
      "                                                                                                                                                                                                          \u001b[A\u001b[A\n",
      "\u001b[A                                                                                                                                                                                                       \n",
      "t:   3%|███▊                                                                                                                                              | 2/76 [1:37:11<59:56:08, 2915.79s/it, now=None]\u001b[A\n",
      "\u001b[A                                                                                                                                                                                                       \n",
      "t:   3%|███▊                                                                                                                                              | 2/76 [1:37:11<59:56:08, 2915.79s/it, now=None]\u001b[A"
     ]
    },
    {
     "name": "stdout",
     "output_type": "stream",
     "text": [
      "Moviepy - Done !\n",
      "Moviepy - video ready trimmed/34.mp4\n"
     ]
    },
    {
     "name": "stderr",
     "output_type": "stream",
     "text": [
      "\n",
      "\u001b[A                                                                                                                                                                                                       \n",
      "t:   3%|███▊                                                                                                                                              | 2/76 [1:37:11<59:56:13, 2915.86s/it, now=None]\u001b[A\n",
      "\u001b[A                                                                                                                                                                                                       \n",
      "t:   3%|███▊                                                                                                                                              | 2/76 [1:37:11<59:56:13, 2915.86s/it, now=None]\u001b[A"
     ]
    },
    {
     "name": "stdout",
     "output_type": "stream",
     "text": [
      "Moviepy - Building video trimmed/35.mp4.\n",
      "Moviepy - Writing video trimmed/35.mp4\n",
      "\n"
     ]
    },
    {
     "name": "stderr",
     "output_type": "stream",
     "text": [
      "\n",
      "\n",
      "t:   0%|                                                                                                                                                                | 0/132 [00:00<?, ?it/s, now=None]\u001b[A\u001b[A\n",
      "\n",
      "t:  42%|██████████████████████████████████████████████████████████████▌                                                                                       | 55/132 [00:00<00:00, 543.37it/s, now=None]\u001b[A\u001b[A\n",
      "\n",
      "t:  83%|████████████████████████████████████████████████████████████████████████████████████████████████████████████████████████████▏                        | 110/132 [00:00<00:00, 347.92it/s, now=None]\u001b[A\u001b[A\n",
      "\n",
      "                                                                                                                                                                                                          \u001b[A\u001b[A\n",
      "\u001b[A                                                                                                                                                                                                       \n",
      "t:   3%|███▊                                                                                                                                              | 2/76 [1:37:12<59:56:39, 2916.20s/it, now=None]\u001b[A\n",
      "\u001b[A                                                                                                                                                                                                       \n",
      "t:   3%|███▊                                                                                                                                              | 2/76 [1:37:12<59:56:39, 2916.20s/it, now=None]\u001b[A\n",
      "\u001b[A                                                                                                                                                                                                       \n",
      "t:   3%|███▊                                                                                                                                              | 2/76 [1:37:12<59:56:43, 2916.27s/it, now=None]\u001b[A\n",
      "\u001b[A                                                                                                                                                                                                       \n",
      "t:   3%|███▊                                                                                                                                              | 2/76 [1:37:12<59:56:43, 2916.27s/it, now=None]\u001b[A"
     ]
    },
    {
     "name": "stdout",
     "output_type": "stream",
     "text": [
      "Moviepy - Done !\n",
      "Moviepy - video ready trimmed/35.mp4\n",
      "Moviepy - Building video trimmed/36.mp4.\n",
      "Moviepy - Writing video trimmed/36.mp4\n",
      "\n"
     ]
    },
    {
     "name": "stderr",
     "output_type": "stream",
     "text": [
      "\n",
      "\n",
      "t:   0%|                                                                                                                                                                | 0/168 [00:00<?, ?it/s, now=None]\u001b[A\u001b[A\n",
      "\n",
      "t:  49%|██████████████████████████████████████████████████████████████████████████                                                                            | 83/168 [00:00<00:00, 828.63it/s, now=None]\u001b[A\u001b[A\n",
      "\n",
      "t:  99%|███████████████████████████████████████████████████████████████████████████████████████████████████████████████████████████████████████████████████▏ | 166/168 [00:00<00:00, 550.63it/s, now=None]\u001b[A\u001b[A\n",
      "\n",
      "                                                                                                                                                                                                          \u001b[A\u001b[A\n",
      "\u001b[A                                                                                                                                                                                                       \n",
      "t:   3%|███▊                                                                                                                                              | 2/76 [1:37:12<59:56:59, 2916.48s/it, now=None]\u001b[A\n",
      "\u001b[A                                                                                                                                                                                                       \n",
      "t:   3%|███▊                                                                                                                                              | 2/76 [1:37:12<59:56:59, 2916.48s/it, now=None]\u001b[A\n",
      "\u001b[A                                                                                                                                                                                                       \n",
      "t:   3%|███▊                                                                                                                                              | 2/76 [1:37:13<59:57:03, 2916.53s/it, now=None]\u001b[A\n",
      "\u001b[A                                                                                                                                                                                                       \n",
      "t:   3%|███▊                                                                                                                                              | 2/76 [1:37:13<59:57:03, 2916.53s/it, now=None]\u001b[A"
     ]
    },
    {
     "name": "stdout",
     "output_type": "stream",
     "text": [
      "Moviepy - Done !\n",
      "Moviepy - video ready trimmed/36.mp4\n",
      "Moviepy - Building video trimmed/37.mp4.\n",
      "Moviepy - Writing video trimmed/37.mp4\n",
      "\n"
     ]
    },
    {
     "name": "stderr",
     "output_type": "stream",
     "text": [
      "\n",
      "\n",
      "t:   0%|                                                                                                                                                                | 0/134 [00:00<?, ?it/s, now=None]\u001b[A\u001b[A\n",
      "\n",
      "t:  72%|███████████████████████████████████████████████████████████████████████████████████████████████████████████▍                                          | 96/134 [00:00<00:00, 948.31it/s, now=None]\u001b[A\u001b[A\n",
      "\n",
      "                                                                                                                                                                                                          \u001b[A\u001b[A\n",
      "\u001b[A                                                                                                                                                                                                       \n",
      "t:   3%|███▊                                                                                                                                              | 2/76 [1:37:13<59:57:17, 2916.72s/it, now=None]\u001b[A\n",
      "\u001b[A                                                                                                                                                                                                       \n",
      "t:   3%|███▊                                                                                                                                              | 2/76 [1:37:13<59:57:17, 2916.72s/it, now=None]\u001b[A\n",
      "\u001b[A                                                                                                                                                                                                       \n",
      "t:   3%|███▊                                                                                                                                              | 2/76 [1:37:13<59:57:21, 2916.78s/it, now=None]\u001b[A\n",
      "\u001b[A                                                                                                                                                                                                       \n",
      "t:   3%|███▊                                                                                                                                              | 2/76 [1:37:13<59:57:21, 2916.78s/it, now=None]\u001b[A"
     ]
    },
    {
     "name": "stdout",
     "output_type": "stream",
     "text": [
      "Moviepy - Done !\n",
      "Moviepy - video ready trimmed/37.mp4\n",
      "Moviepy - Building video trimmed/38.mp4.\n",
      "Moviepy - Writing video trimmed/38.mp4\n",
      "\n"
     ]
    },
    {
     "name": "stderr",
     "output_type": "stream",
     "text": [
      "\n",
      "\n",
      "t:   0%|                                                                                                                                                                | 0/128 [00:00<?, ?it/s, now=None]\u001b[A\u001b[A\n",
      "\n",
      "t:  65%|█████████████████████████████████████████████████████████████████████████████████████████████████▎                                                    | 83/128 [00:00<00:00, 827.17it/s, now=None]\u001b[A\u001b[A\n",
      "\n",
      "                                                                                                                                                                                                          \u001b[A\u001b[A\n",
      "\u001b[A                                                                                                                                                                                                       \n",
      "t:   3%|███▊                                                                                                                                              | 2/76 [1:37:13<59:57:32, 2916.92s/it, now=None]\u001b[A\n",
      "\u001b[A                                                                                                                                                                                                       \n",
      "t:   3%|███▊                                                                                                                                              | 2/76 [1:37:13<59:57:32, 2916.92s/it, now=None]\u001b[A\n",
      "\u001b[A                                                                                                                                                                                                       \n",
      "t:   3%|███▊                                                                                                                                              | 2/76 [1:37:13<59:57:36, 2916.98s/it, now=None]\u001b[A\n",
      "\u001b[A                                                                                                                                                                                                       \n",
      "t:   3%|███▊                                                                                                                                              | 2/76 [1:37:13<59:57:36, 2916.98s/it, now=None]\u001b[A"
     ]
    },
    {
     "name": "stdout",
     "output_type": "stream",
     "text": [
      "Moviepy - Done !\n",
      "Moviepy - video ready trimmed/38.mp4\n",
      "Moviepy - Building video trimmed/39.mp4.\n",
      "Moviepy - Writing video trimmed/39.mp4\n",
      "\n"
     ]
    },
    {
     "name": "stderr",
     "output_type": "stream",
     "text": [
      "\n",
      "\n",
      "t:   0%|                                                                                                                                                                 | 0/30 [00:00<?, ?it/s, now=None]\u001b[A\u001b[A\n",
      "\n",
      "                                                                                                                                                                                                          \u001b[A\u001b[A\n",
      "\u001b[A                                                                                                                                                                                                       \n"
     ]
    },
    {
     "name": "stdout",
     "output_type": "stream",
     "text": [
      "Moviepy - Done !\n"
     ]
    },
    {
     "name": "stderr",
     "output_type": "stream",
     "text": [
      "t:   3%|███▊                                                                                                                                              | 2/76 [1:37:14<59:57:39, 2917.02s/it, now=None]\u001b[A\n",
      "\u001b[A                                                                                                                                                                                                       \n",
      "t:   3%|███▊                                                                                                                                              | 2/76 [1:37:14<59:57:39, 2917.02s/it, now=None]\u001b[A\n",
      "\u001b[A                                                                                                                                                                                                       \n",
      "t:   3%|███▊                                                                                                                                              | 2/76 [1:37:14<59:57:43, 2917.08s/it, now=None]\u001b[A\n",
      "\u001b[A                                                                                                                                                                                                       \n",
      "t:   3%|███▊                                                                                                                                              | 2/76 [1:37:14<59:57:43, 2917.08s/it, now=None]\u001b[A"
     ]
    },
    {
     "name": "stdout",
     "output_type": "stream",
     "text": [
      "Moviepy - video ready trimmed/39.mp4\n",
      "Moviepy - Building video trimmed/40.mp4.\n",
      "Moviepy - Writing video trimmed/40.mp4\n",
      "\n"
     ]
    },
    {
     "name": "stderr",
     "output_type": "stream",
     "text": [
      "\n",
      "\n",
      "t:   0%|                                                                                                                                                                | 0/112 [00:00<?, ?it/s, now=None]\u001b[A\u001b[A\n",
      "\n",
      "t:  90%|█████████████████████████████████████████████████████████████████████████████████████████████████████████████████████████████████████▍              | 101/112 [00:00<00:00, 1009.79it/s, now=None]\u001b[A\u001b[A\n",
      "\n",
      "                                                                                                                                                                                                          \u001b[A\u001b[A\n",
      "\u001b[A                                                                                                                                                                                                       \n",
      "t:   3%|███▊                                                                                                                                              | 2/76 [1:37:14<59:57:49, 2917.16s/it, now=None]\u001b[A\n",
      "\u001b[A                                                                                                                                                                                                       \n",
      "t:   3%|███▊                                                                                                                                              | 2/76 [1:37:14<59:57:49, 2917.16s/it, now=None]\u001b[A\n",
      "\u001b[A                                                                                                                                                                                                       \n",
      "t:   3%|███▊                                                                                                                                              | 2/76 [1:37:14<59:57:54, 2917.22s/it, now=None]\u001b[A\n",
      "\u001b[A                                                                                                                                                                                                       \n",
      "t:   3%|███▊                                                                                                                                              | 2/76 [1:37:14<59:57:54, 2917.22s/it, now=None]\u001b[A"
     ]
    },
    {
     "name": "stdout",
     "output_type": "stream",
     "text": [
      "Moviepy - Done !\n",
      "Moviepy - video ready trimmed/40.mp4\n",
      "Moviepy - Building video trimmed/41.mp4.\n",
      "Moviepy - Writing video trimmed/41.mp4\n",
      "\n"
     ]
    },
    {
     "name": "stderr",
     "output_type": "stream",
     "text": [
      "\n",
      "\n",
      "t:   0%|                                                                                                                                                                | 0/145 [00:00<?, ?it/s, now=None]\u001b[A\u001b[A\n",
      "\n",
      "t:  41%|██████████████████████████████████████████████████████████████                                                                                        | 60/145 [00:00<00:00, 596.84it/s, now=None]\u001b[A\u001b[A\n",
      "\n",
      "t:  83%|███████████████████████████████████████████████████████████████████████████████████████████████████████████████████████████▎                         | 120/145 [00:00<00:00, 423.02it/s, now=None]\u001b[A\u001b[A\n",
      "\n",
      "                                                                                                                                                                                                          \u001b[A\u001b[A\n",
      "\u001b[A                                                                                                                                                                                                       \n",
      "t:   3%|███▊                                                                                                                                              | 2/76 [1:37:14<59:58:14, 2917.49s/it, now=None]\u001b[A\n",
      "\u001b[A                                                                                                                                                                                                       \n",
      "t:   3%|███▊                                                                                                                                              | 2/76 [1:37:14<59:58:14, 2917.49s/it, now=None]\u001b[A\n",
      "\u001b[A                                                                                                                                                                                                       \n",
      "t:   3%|███▊                                                                                                                                              | 2/76 [1:37:15<59:58:19, 2917.56s/it, now=None]\u001b[A\n",
      "\u001b[A                                                                                                                                                                                                       \n",
      "t:   3%|███▊                                                                                                                                              | 2/76 [1:37:15<59:58:19, 2917.56s/it, now=None]\u001b[A"
     ]
    },
    {
     "name": "stdout",
     "output_type": "stream",
     "text": [
      "Moviepy - Done !\n",
      "Moviepy - video ready trimmed/41.mp4\n",
      "Moviepy - Building video trimmed/42.mp4.\n",
      "Moviepy - Writing video trimmed/42.mp4\n",
      "\n"
     ]
    },
    {
     "name": "stderr",
     "output_type": "stream",
     "text": [
      "\n",
      "\n",
      "t:   0%|                                                                                                                                                                | 0/105 [00:00<?, ?it/s, now=None]\u001b[A\u001b[A\n",
      "\n",
      "t:  80%|████████████████████████████████████████████████████████████████████████████████████████████████████████████████████████                              | 84/105 [00:00<00:00, 808.22it/s, now=None]\u001b[A\u001b[A\n",
      "\n",
      "                                                                                                                                                                                                          \u001b[A\u001b[A\n",
      "\u001b[A                                                                                                                                                                                                       \n",
      "t:   3%|███▊                                                                                                                                              | 2/76 [1:37:15<59:58:29, 2917.70s/it, now=None]\u001b[A\n",
      "\u001b[A                                                                                                                                                                                                       \n",
      "t:   3%|███▊                                                                                                                                              | 2/76 [1:37:15<59:58:29, 2917.70s/it, now=None]\u001b[A\n",
      "\u001b[A                                                                                                                                                                                                       \n",
      "t:   3%|███▊                                                                                                                                              | 2/76 [1:37:15<59:58:33, 2917.76s/it, now=None]\u001b[A\n",
      "\u001b[A                                                                                                                                                                                                       \n",
      "t:   3%|███▊                                                                                                                                              | 2/76 [1:37:15<59:58:33, 2917.76s/it, now=None]\u001b[A"
     ]
    },
    {
     "name": "stdout",
     "output_type": "stream",
     "text": [
      "Moviepy - Done !\n",
      "Moviepy - video ready trimmed/42.mp4\n",
      "Moviepy - Building video trimmed/43.mp4.\n",
      "Moviepy - Writing video trimmed/43.mp4\n",
      "\n"
     ]
    },
    {
     "name": "stderr",
     "output_type": "stream",
     "text": [
      "\n",
      "\n",
      "t:   0%|                                                                                                                                                                | 0/126 [00:00<?, ?it/s, now=None]\u001b[A\u001b[A\n",
      "\n",
      "t:  65%|█████████████████████████████████████████████████████████████████████████████████████████████████▌                                                    | 82/126 [00:00<00:00, 805.63it/s, now=None]\u001b[A\u001b[A\n",
      "\n",
      "                                                                                                                                                                                                          \u001b[A\u001b[A\n",
      "\u001b[A                                                                                                                                                                                                       \n",
      "t:   3%|███▊                                                                                                                                              | 2/76 [1:37:15<59:58:46, 2917.92s/it, now=None]\u001b[A\n",
      "\u001b[A                                                                                                                                                                                                       \n",
      "t:   3%|███▊                                                                                                                                              | 2/76 [1:37:15<59:58:46, 2917.92s/it, now=None]\u001b[A"
     ]
    },
    {
     "name": "stdout",
     "output_type": "stream",
     "text": [
      "Moviepy - Done !\n",
      "Moviepy - video ready trimmed/43.mp4\n"
     ]
    },
    {
     "name": "stderr",
     "output_type": "stream",
     "text": [
      "\n",
      "\u001b[A                                                                                                                                                                                                       \n",
      "t:   3%|███▊                                                                                                                                              | 2/76 [1:37:16<59:58:54, 2918.03s/it, now=None]\u001b[A\n",
      "\u001b[A                                                                                                                                                                                                       \n",
      "t:   3%|███▊                                                                                                                                              | 2/76 [1:37:16<59:58:54, 2918.03s/it, now=None]\u001b[A"
     ]
    },
    {
     "name": "stdout",
     "output_type": "stream",
     "text": [
      "Moviepy - Building video trimmed/44.mp4.\n",
      "MoviePy - Writing audio in 44TEMP_MPY_wvf_snd.mp3\n"
     ]
    },
    {
     "name": "stderr",
     "output_type": "stream",
     "text": [
      "\n",
      "\n",
      "chunk:   0%|                                                                                                                                                             | 0/81 [00:00<?, ?it/s, now=None]\u001b[A\u001b[A\n",
      "\n",
      "                                                                                                                                                                                                          \u001b[A\u001b[A\n",
      "\u001b[A                                                                                                                                                                                                       \n",
      "t:   3%|███▊                                                                                                                                              | 2/76 [1:37:16<59:58:56, 2918.07s/it, now=None]\u001b[A\n",
      "\u001b[A                                                                                                                                                                                                       \n",
      "t:   3%|███▊                                                                                                                                              | 2/76 [1:37:16<59:58:57, 2918.07s/it, now=None]\u001b[A"
     ]
    },
    {
     "name": "stdout",
     "output_type": "stream",
     "text": [
      "MoviePy - Done.\n",
      "Moviepy - Writing video trimmed/44.mp4\n",
      "\n"
     ]
    },
    {
     "name": "stderr",
     "output_type": "stream",
     "text": [
      "\n",
      "\n",
      "t:   0%|                                                                                                                                                                | 0/109 [00:00<?, ?it/s, now=None]\u001b[A\u001b[A\n",
      "\n",
      "t:  76%|██████████████████████████████████████████████████████████████████████████████████████████████████████████████████▏                                   | 83/109 [00:00<00:00, 826.26it/s, now=None]\u001b[A\u001b[A\n",
      "\n",
      "                                                                                                                                                                                                          \u001b[A\u001b[A\n",
      "\u001b[A                                                                                                                                                                                                       \n",
      "t:   3%|███▊                                                                                                                                              | 2/76 [1:37:16<59:59:06, 2918.19s/it, now=None]\u001b[A\n",
      "\u001b[A                                                                                                                                                                                                       \n",
      "t:   3%|███▊                                                                                                                                              | 2/76 [1:37:16<59:59:06, 2918.19s/it, now=None]\u001b[A\n",
      "\u001b[A                                                                                                                                                                                                       \n",
      "t:   3%|███▊                                                                                                                                              | 2/76 [1:37:16<59:59:10, 2918.25s/it, now=None]\u001b[A\n",
      "\u001b[A                                                                                                                                                                                                       \n",
      "t:   3%|███▊                                                                                                                                              | 2/76 [1:37:16<59:59:10, 2918.25s/it, now=None]\u001b[A"
     ]
    },
    {
     "name": "stdout",
     "output_type": "stream",
     "text": [
      "Moviepy - Done !\n",
      "Moviepy - video ready trimmed/44.mp4\n",
      "Moviepy - Building video trimmed/45.mp4.\n",
      "Moviepy - Writing video trimmed/45.mp4\n",
      "\n"
     ]
    },
    {
     "name": "stderr",
     "output_type": "stream",
     "text": [
      "\n",
      "\n",
      "t:   0%|                                                                                                                                                                | 0/127 [00:00<?, ?it/s, now=None]\u001b[A\u001b[A\n",
      "\n",
      "t:  61%|████████████████████████████████████████████████████████████████████████████████████████████▏                                                         | 78/127 [00:00<00:00, 763.55it/s, now=None]\u001b[A\u001b[A\n",
      "\n",
      "                                                                                                                                                                                                          \u001b[A\u001b[A\n",
      "\u001b[A                                                                                                                                                                                                       \n",
      "t:   3%|███▊                                                                                                                                              | 2/76 [1:37:16<59:59:24, 2918.44s/it, now=None]\u001b[A\n",
      "\u001b[A                                                                                                                                                                                                       \n",
      "t:   3%|███▊                                                                                                                                              | 2/76 [1:37:16<59:59:24, 2918.44s/it, now=None]\u001b[A\n",
      "\u001b[A                                                                                                                                                                                                       \n",
      "t:   3%|███▊                                                                                                                                              | 2/76 [1:37:17<59:59:31, 2918.53s/it, now=None]\u001b[A\n",
      "\u001b[A                                                                                                                                                                                                       \n",
      "t:   3%|███▊                                                                                                                                              | 2/76 [1:37:17<59:59:31, 2918.53s/it, now=None]\u001b[A"
     ]
    },
    {
     "name": "stdout",
     "output_type": "stream",
     "text": [
      "Moviepy - Done !\n",
      "Moviepy - video ready trimmed/45.mp4\n",
      "Moviepy - Building video trimmed/46.mp4.\n",
      "MoviePy - Writing audio in 46TEMP_MPY_wvf_snd.mp3\n"
     ]
    },
    {
     "name": "stderr",
     "output_type": "stream",
     "text": [
      "\n",
      "\n",
      "chunk:   0%|                                                                                                                                                             | 0/93 [00:00<?, ?it/s, now=None]\u001b[A\u001b[A\n",
      "\n",
      "                                                                                                                                                                                                          \u001b[A\u001b[A\n",
      "\u001b[A                                                                                                                                                                                                       \n",
      "t:   3%|███▊                                                                                                                                              | 2/76 [1:37:17<59:59:33, 2918.56s/it, now=None]\u001b[A\n",
      "\u001b[A                                                                                                                                                                                                       \n",
      "t:   3%|███▊                                                                                                                                              | 2/76 [1:37:17<59:59:33, 2918.56s/it, now=None]\u001b[A"
     ]
    },
    {
     "name": "stdout",
     "output_type": "stream",
     "text": [
      "MoviePy - Done.\n",
      "Moviepy - Writing video trimmed/46.mp4\n",
      "\n"
     ]
    },
    {
     "name": "stderr",
     "output_type": "stream",
     "text": [
      "\n",
      "\n",
      "t:   0%|                                                                                                                                                                | 0/101 [00:00<?, ?it/s, now=None]\u001b[A\u001b[A\n",
      "\n",
      "t:  89%|█████████████████████████████████████████████████████████████████████████████████████████████████████████████████████████████████████▋                | 90/101 [00:00<00:00, 896.40it/s, now=None]\u001b[A\u001b[A\n",
      "\n",
      "                                                                                                                                                                                                          \u001b[A\u001b[A\n",
      "\u001b[A                                                                                                                                                                                                       \n",
      "t:   3%|███▊                                                                                                                                              | 2/76 [1:37:17<59:59:40, 2918.65s/it, now=None]\u001b[A\n",
      "\u001b[A                                                                                                                                                                                                       \n",
      "t:   3%|███▊                                                                                                                                              | 2/76 [1:37:17<59:59:40, 2918.65s/it, now=None]\u001b[A"
     ]
    },
    {
     "name": "stdout",
     "output_type": "stream",
     "text": [
      "Moviepy - Done !\n",
      "Moviepy - video ready trimmed/46.mp4\n"
     ]
    },
    {
     "name": "stderr",
     "output_type": "stream",
     "text": [
      "\n",
      "\u001b[A                                                                                                                                                                                                       \n",
      "t:   3%|███▊                                                                                                                                              | 2/76 [1:37:17<59:59:46, 2918.73s/it, now=None]\u001b[A\n",
      "\u001b[A                                                                                                                                                                                                       \n",
      "t:   3%|███▊                                                                                                                                              | 2/76 [1:37:17<59:59:46, 2918.73s/it, now=None]\u001b[A"
     ]
    },
    {
     "name": "stdout",
     "output_type": "stream",
     "text": [
      "Moviepy - Building video trimmed/47.mp4.\n",
      "Moviepy - Writing video trimmed/47.mp4\n",
      "\n"
     ]
    },
    {
     "name": "stderr",
     "output_type": "stream",
     "text": [
      "\n",
      "\n",
      "t:   0%|                                                                                                                                                                | 0/104 [00:00<?, ?it/s, now=None]\u001b[A\u001b[A\n",
      "\n",
      "t:  38%|████████████████████████████████████████████████████████▎                                                                                             | 39/104 [00:00<00:00, 384.48it/s, now=None]\u001b[A\u001b[A\n",
      "\n",
      "t:  76%|█████████████████████████████████████████████████████████████████████████████████████████████████████████████████▉                                    | 79/104 [00:00<00:00, 389.82it/s, now=None]\u001b[A\u001b[A\n",
      "\n",
      "                                                                                                                                                                                                          \u001b[A\u001b[A\n",
      "\u001b[A                                                                                                                                                                                                       \n",
      "t:   3%|███▊                                                                                                                                              | 2/76 [1:37:18<60:00:11, 2919.07s/it, now=None]\u001b[A\n",
      "\u001b[A                                                                                                                                                                                                       \n",
      "t:   3%|███▊                                                                                                                                              | 2/76 [1:37:18<60:00:11, 2919.07s/it, now=None]\u001b[A\n",
      "\u001b[A                                                                                                                                                                                                       \n",
      "t:   3%|███▊                                                                                                                                              | 2/76 [1:37:18<60:00:18, 2919.17s/it, now=None]\u001b[A\n",
      "\u001b[A                                                                                                                                                                                                       \n",
      "t:   3%|███▊                                                                                                                                              | 2/76 [1:37:18<60:00:18, 2919.17s/it, now=None]\u001b[A"
     ]
    },
    {
     "name": "stdout",
     "output_type": "stream",
     "text": [
      "Moviepy - Done !\n",
      "Moviepy - video ready trimmed/47.mp4\n",
      "Moviepy - Building video trimmed/48.mp4.\n",
      "MoviePy - Writing audio in 48TEMP_MPY_wvf_snd.mp3\n"
     ]
    },
    {
     "name": "stderr",
     "output_type": "stream",
     "text": [
      "\n",
      "\n",
      "chunk:   0%|                                                                                                                                                            | 0/220 [00:00<?, ?it/s, now=None]\u001b[A\u001b[A\n",
      "\n",
      "                                                                                                                                                                                                          \u001b[A\u001b[A\n",
      "\u001b[A                                                                                                                                                                                                       \n",
      "t:   3%|███▊                                                                                                                                              | 2/76 [1:37:18<60:00:22, 2919.23s/it, now=None]\u001b[A\n",
      "\u001b[A                                                                                                                                                                                                       \n",
      "t:   3%|███▊                                                                                                                                              | 2/76 [1:37:18<60:00:22, 2919.23s/it, now=None]\u001b[A"
     ]
    },
    {
     "name": "stdout",
     "output_type": "stream",
     "text": [
      "MoviePy - Done.\n",
      "Moviepy - Writing video trimmed/48.mp4\n",
      "\n"
     ]
    },
    {
     "name": "stderr",
     "output_type": "stream",
     "text": [
      "\n",
      "\n",
      "t:   0%|                                                                                                                                                                | 0/149 [00:00<?, ?it/s, now=None]\u001b[A\u001b[A\n",
      "\n",
      "t:  83%|██████████████████████████████████████████████████████████████████████████████████████████████████████████████████████████▏                         | 123/149 [00:00<00:00, 1227.09it/s, now=None]\u001b[A\u001b[A\n",
      "\n",
      "                                                                                                                                                                                                          \u001b[A\u001b[A\n",
      "\u001b[A                                                                                                                                                                                                       \n",
      "t:   3%|███▊                                                                                                                                              | 2/76 [1:37:18<60:00:30, 2919.33s/it, now=None]\u001b[A\n",
      "\u001b[A                                                                                                                                                                                                       \n",
      "t:   3%|███▊                                                                                                                                              | 2/76 [1:37:18<60:00:30, 2919.33s/it, now=None]\u001b[A\n",
      "\u001b[A                                                                                                                                                                                                       \n",
      "t:   3%|███▊                                                                                                                                              | 2/76 [1:37:18<60:00:35, 2919.40s/it, now=None]\u001b[A\n",
      "\u001b[A                                                                                                                                                                                                       \n",
      "t:   3%|███▊                                                                                                                                              | 2/76 [1:37:18<60:00:35, 2919.40s/it, now=None]\u001b[A"
     ]
    },
    {
     "name": "stdout",
     "output_type": "stream",
     "text": [
      "Moviepy - Done !\n",
      "Moviepy - video ready trimmed/48.mp4\n",
      "Moviepy - Building video trimmed/49.mp4.\n",
      "Moviepy - Writing video trimmed/49.mp4\n",
      "\n"
     ]
    },
    {
     "name": "stderr",
     "output_type": "stream",
     "text": [
      "\n",
      "\n",
      "t:   0%|                                                                                                                                                                | 0/121 [00:00<?, ?it/s, now=None]\u001b[A\u001b[A\n",
      "\n",
      "t:  47%|██████████████████████████████████████████████████████████████████████▋                                                                               | 57/121 [00:00<00:00, 565.30it/s, now=None]\u001b[A\u001b[A\n",
      "\n",
      "t:  94%|████████████████████████████████████████████████████████████████████████████████████████████████████████████████████████████████████████████▍        | 114/121 [00:00<00:00, 381.33it/s, now=None]\u001b[A\u001b[A\n",
      "\n",
      "                                                                                                                                                                                                          \u001b[A\u001b[A\n",
      "\u001b[A                                                                                                                                                                                                       \n",
      "t:   3%|███▊                                                                                                                                              | 2/76 [1:37:19<60:00:54, 2919.66s/it, now=None]\u001b[A\n",
      "\u001b[A                                                                                                                                                                                                       \n",
      "t:   3%|███▊                                                                                                                                              | 2/76 [1:37:19<60:00:54, 2919.66s/it, now=None]\u001b[A\n",
      "\u001b[A                                                                                                                                                                                                       \n",
      "t:   3%|███▊                                                                                                                                              | 2/76 [1:37:19<60:00:59, 2919.72s/it, now=None]\u001b[A\n",
      "\u001b[A                                                                                                                                                                                                       \n",
      "t:   3%|███▊                                                                                                                                              | 2/76 [1:37:19<60:00:59, 2919.72s/it, now=None]\u001b[A"
     ]
    },
    {
     "name": "stdout",
     "output_type": "stream",
     "text": [
      "Moviepy - Done !\n",
      "Moviepy - video ready trimmed/49.mp4\n",
      "Moviepy - Building video trimmed/50.mp4.\n",
      "Moviepy - Writing video trimmed/50.mp4\n",
      "\n"
     ]
    },
    {
     "name": "stderr",
     "output_type": "stream",
     "text": [
      "\n",
      "\n",
      "t:   0%|                                                                                                                                                                | 0/137 [00:00<?, ?it/s, now=None]\u001b[A\u001b[A\n",
      "\n",
      "t:  60%|█████████████████████████████████████████████████████████████████████████████████████████▊                                                            | 82/137 [00:00<00:00, 785.29it/s, now=None]\u001b[A\u001b[A\n",
      "\n",
      "                                                                                                                                                                                                          \u001b[A\u001b[A\n",
      "\u001b[A                                                                                                                                                                                                       \n",
      "t:   3%|███▊                                                                                                                                              | 2/76 [1:37:19<60:01:12, 2919.89s/it, now=None]\u001b[A\n",
      "\u001b[A                                                                                                                                                                                                       \n",
      "t:   3%|███▊                                                                                                                                              | 2/76 [1:37:19<60:01:12, 2919.89s/it, now=None]\u001b[A\n",
      "\u001b[A                                                                                                                                                                                                       \n",
      "t:   3%|███▊                                                                                                                                              | 2/76 [1:37:19<60:01:17, 2919.96s/it, now=None]\u001b[A\n",
      "\u001b[A                                                                                                                                                                                                       \n",
      "t:   3%|███▊                                                                                                                                              | 2/76 [1:37:19<60:01:17, 2919.97s/it, now=None]\u001b[A"
     ]
    },
    {
     "name": "stdout",
     "output_type": "stream",
     "text": [
      "Moviepy - Done !\n",
      "Moviepy - video ready trimmed/50.mp4\n",
      "Moviepy - Building video trimmed/51.mp4.\n",
      "Moviepy - Writing video trimmed/51.mp4\n",
      "\n"
     ]
    },
    {
     "name": "stderr",
     "output_type": "stream",
     "text": [
      "\n",
      "\n",
      "t:   0%|                                                                                                                                                                | 0/131 [00:00<?, ?it/s, now=None]\u001b[A\u001b[A\n",
      "\n",
      "t:  42%|██████████████████████████████████████████████████████████████▉                                                                                       | 55/131 [00:00<00:00, 548.16it/s, now=None]\u001b[A\u001b[A\n",
      "\n",
      "t:  84%|█████████████████████████████████████████████████████████████████████████████████████████████████████████████████████████████                        | 110/131 [00:00<00:00, 360.14it/s, now=None]\u001b[A\u001b[A\n",
      "\n",
      "                                                                                                                                                                                                          \u001b[A\u001b[A\n",
      "\u001b[A                                                                                                                                                                                                       \n",
      "t:   3%|███▊                                                                                                                                              | 2/76 [1:37:20<60:01:40, 2920.28s/it, now=None]\u001b[A\n",
      "\u001b[A                                                                                                                                                                                                       \n",
      "t:   3%|███▊                                                                                                                                              | 2/76 [1:37:20<60:01:40, 2920.28s/it, now=None]\u001b[A\n",
      "                                                                                                                                                                                                          "
     ]
    },
    {
     "name": "stdout",
     "output_type": "stream",
     "text": [
      "Moviepy - Done !\n",
      "Moviepy - video ready trimmed/51.mp4\n"
     ]
    },
    {
     "name": "stderr",
     "output_type": "stream",
     "text": [
      "\u001b[A\n",
      "t:   3%|███▊                                                                                                                                              | 2/76 [1:37:20<60:01:48, 2920.38s/it, now=None]\u001b[A\n",
      "\u001b[A                                                                                                                                                                                                       \n",
      "t:   3%|███▊                                                                                                                                              | 2/76 [1:37:20<60:01:48, 2920.38s/it, now=None]\u001b[A"
     ]
    },
    {
     "name": "stdout",
     "output_type": "stream",
     "text": [
      "Moviepy - Building video trimmed/52.mp4.\n",
      "MoviePy - Writing audio in 52TEMP_MPY_wvf_snd.mp3\n"
     ]
    },
    {
     "name": "stderr",
     "output_type": "stream",
     "text": [
      "\n",
      "\n",
      "chunk:   0%|                                                                                                                                                             | 0/98 [00:00<?, ?it/s, now=None]\u001b[A\u001b[A\n",
      "\n",
      "                                                                                                                                                                                                          \u001b[A\u001b[A\n",
      "\u001b[A                                                                                                                                                                                                       \n",
      "t:   3%|███▊                                                                                                                                              | 2/76 [1:37:20<60:01:50, 2920.42s/it, now=None]\u001b[A\n",
      "\u001b[A                                                                                                                                                                                                       \n",
      "t:   3%|███▊                                                                                                                                              | 2/76 [1:37:20<60:01:50, 2920.42s/it, now=None]\u001b[A"
     ]
    },
    {
     "name": "stdout",
     "output_type": "stream",
     "text": [
      "MoviePy - Done.\n",
      "Moviepy - Writing video trimmed/52.mp4\n",
      "\n"
     ]
    },
    {
     "name": "stderr",
     "output_type": "stream",
     "text": [
      "\n",
      "\n",
      "t:   0%|                                                                                                                                                                | 0/132 [00:00<?, ?it/s, now=None]\u001b[A\u001b[A\n",
      "\n",
      "t:  67%|█████████████████████████████████████████████████████████████████████████████████████████████████████▏                                                | 89/132 [00:00<00:00, 887.81it/s, now=None]\u001b[A\u001b[A\n",
      "\n",
      "                                                                                                                                                                                                          \u001b[A\u001b[A\n",
      "\u001b[A                                                                                                                                                                                                       \n",
      "t:   3%|███▊                                                                                                                                              | 2/76 [1:37:21<60:01:59, 2920.54s/it, now=None]\u001b[A\n",
      "\u001b[A                                                                                                                                                                                                       \n",
      "t:   3%|███▊                                                                                                                                              | 2/76 [1:37:21<60:01:59, 2920.54s/it, now=None]\u001b[A"
     ]
    },
    {
     "name": "stdout",
     "output_type": "stream",
     "text": [
      "Moviepy - Done !\n",
      "Moviepy - video ready trimmed/52.mp4\n"
     ]
    },
    {
     "name": "stderr",
     "output_type": "stream",
     "text": [
      "\n",
      "\u001b[A                                                                                                                                                                                                       \n",
      "t:   3%|███▊                                                                                                                                              | 2/76 [1:37:21<60:02:07, 2920.64s/it, now=None]\u001b[A\n",
      "\u001b[A                                                                                                                                                                                                       \n",
      "t:   3%|███▊                                                                                                                                              | 2/76 [1:37:21<60:02:07, 2920.65s/it, now=None]\u001b[A"
     ]
    },
    {
     "name": "stdout",
     "output_type": "stream",
     "text": [
      "Moviepy - Building video trimmed/53.mp4.\n",
      "MoviePy - Writing audio in 53TEMP_MPY_wvf_snd.mp3\n"
     ]
    },
    {
     "name": "stderr",
     "output_type": "stream",
     "text": [
      "\n",
      "\n",
      "chunk:   0%|                                                                                                                                                             | 0/47 [00:00<?, ?it/s, now=None]\u001b[A\u001b[A\n",
      "\n",
      "                                                                                                                                                                                                          \u001b[A\u001b[A\n",
      "\u001b[A                                                                                                                                                                                                       \n",
      "t:   3%|███▊                                                                                                                                              | 2/76 [1:37:21<60:02:09, 2920.68s/it, now=None]\u001b[A\n",
      "\u001b[A                                                                                                                                                                                                       \n",
      "t:   3%|███▊                                                                                                                                              | 2/76 [1:37:21<60:02:10, 2920.68s/it, now=None]\u001b[A"
     ]
    },
    {
     "name": "stdout",
     "output_type": "stream",
     "text": [
      "MoviePy - Done.\n",
      "Moviepy - Writing video trimmed/53.mp4\n",
      "\n"
     ]
    },
    {
     "name": "stderr",
     "output_type": "stream",
     "text": [
      "\n",
      "\n",
      "t:   0%|                                                                                                                                                                 | 0/63 [00:00<?, ?it/s, now=None]\u001b[A\u001b[A\n",
      "\n",
      "                                                                                                                                                                                                          \u001b[A\u001b[A\n",
      "\u001b[A                                                                                                                                                                                                       \n",
      "t:   3%|███▊                                                                                                                                              | 2/76 [1:37:21<60:02:16, 2920.77s/it, now=None]\u001b[A\n",
      "\u001b[A                                                                                                                                                                                                       \n",
      "t:   3%|███▊                                                                                                                                              | 2/76 [1:37:21<60:02:16, 2920.77s/it, now=None]\u001b[A"
     ]
    },
    {
     "name": "stdout",
     "output_type": "stream",
     "text": [
      "Moviepy - Done !\n",
      "Moviepy - video ready trimmed/53.mp4\n"
     ]
    },
    {
     "name": "stderr",
     "output_type": "stream",
     "text": [
      "\n",
      "\u001b[A                                                                                                                                                                                                       \n",
      "t:   3%|███▊                                                                                                                                              | 2/76 [1:37:21<60:02:23, 2920.86s/it, now=None]\u001b[A\n",
      "\u001b[A                                                                                                                                                                                                       \n",
      "t:   3%|███▊                                                                                                                                              | 2/76 [1:37:21<60:02:24, 2920.87s/it, now=None]\u001b[A"
     ]
    },
    {
     "name": "stdout",
     "output_type": "stream",
     "text": [
      "Moviepy - Building video trimmed/54.mp4.\n",
      "MoviePy - Writing audio in 54TEMP_MPY_wvf_snd.mp3\n"
     ]
    },
    {
     "name": "stderr",
     "output_type": "stream",
     "text": [
      "\n",
      "\n",
      "chunk:   0%|                                                                                                                                                             | 0/98 [00:00<?, ?it/s, now=None]\u001b[A\u001b[A\n",
      "\n",
      "                                                                                                                                                                                                          \u001b[A\u001b[A\n",
      "\u001b[A                                                                                                                                                                                                       \n",
      "t:   3%|███▊                                                                                                                                              | 2/76 [1:37:21<60:02:26, 2920.90s/it, now=None]\u001b[A\n",
      "\u001b[A                                                                                                                                                                                                       \n",
      "t:   3%|███▊                                                                                                                                              | 2/76 [1:37:21<60:02:26, 2920.90s/it, now=None]\u001b[A"
     ]
    },
    {
     "name": "stdout",
     "output_type": "stream",
     "text": [
      "MoviePy - Done.\n",
      "Moviepy - Writing video trimmed/54.mp4\n",
      "\n"
     ]
    },
    {
     "name": "stderr",
     "output_type": "stream",
     "text": [
      "\n",
      "\n",
      "t:   0%|                                                                                                                                                                | 0/133 [00:00<?, ?it/s, now=None]\u001b[A\u001b[A\n",
      "\n",
      "t:  71%|██████████████████████████████████████████████████████████████████████████████████████████████████████████                                            | 94/133 [00:00<00:00, 909.42it/s, now=None]\u001b[A\u001b[A\n",
      "\n",
      "                                                                                                                                                                                                          \u001b[A\u001b[A\n",
      "\u001b[A                                                                                                                                                                                                       \n",
      "t:   3%|███▊                                                                                                                                              | 2/76 [1:37:22<60:02:35, 2921.01s/it, now=None]\u001b[A\n",
      "\u001b[A                                                                                                                                                                                                       \n",
      "t:   3%|███▊                                                                                                                                              | 2/76 [1:37:22<60:02:35, 2921.02s/it, now=None]\u001b[A\n",
      "\u001b[A                                                                                                                                                                                                       \n",
      "t:   3%|███▊                                                                                                                                              | 2/76 [1:37:22<60:02:39, 2921.07s/it, now=None]\u001b[A\n",
      "\u001b[A                                                                                                                                                                                                       \n",
      "t:   3%|███▊                                                                                                                                              | 2/76 [1:37:22<60:02:39, 2921.07s/it, now=None]\u001b[A"
     ]
    },
    {
     "name": "stdout",
     "output_type": "stream",
     "text": [
      "Moviepy - Done !\n",
      "Moviepy - video ready trimmed/54.mp4\n",
      "Moviepy - Building video trimmed/55.mp4.\n",
      "Moviepy - Writing video trimmed/55.mp4\n",
      "\n"
     ]
    },
    {
     "name": "stderr",
     "output_type": "stream",
     "text": [
      "\n",
      "\n",
      "t:   0%|                                                                                                                                                                | 0/107 [00:00<?, ?it/s, now=None]\u001b[A\u001b[A\n",
      "\n",
      "t:  54%|█████████████████████████████████████████████████████████████████████████████████▎                                                                    | 58/107 [00:00<00:00, 578.65it/s, now=None]\u001b[A\u001b[A\n",
      "\n",
      "                                                                                                                                                                                                          \u001b[A\u001b[A\n",
      "\u001b[A                                                                                                                                                                                                       \n",
      "t:   3%|███▊                                                                                                                                              | 2/76 [1:37:22<60:03:00, 2921.36s/it, now=None]\u001b[A\n",
      "\u001b[A                                                                                                                                                                                                       \n",
      "t:   3%|███▊                                                                                                                                              | 2/76 [1:37:22<60:03:01, 2921.37s/it, now=None]\u001b[A\n",
      "\u001b[A                                                                                                                                                                                                       \n",
      "t:   3%|███▊                                                                                                                                              | 2/76 [1:37:22<60:03:06, 2921.44s/it, now=None]\u001b[A\n",
      "\u001b[A                                                                                                                                                                                                       \n",
      "t:   3%|███▊                                                                                                                                              | 2/76 [1:37:22<60:03:06, 2921.44s/it, now=None]\u001b[A"
     ]
    },
    {
     "name": "stdout",
     "output_type": "stream",
     "text": [
      "Moviepy - Done !\n",
      "Moviepy - video ready trimmed/55.mp4\n",
      "Moviepy - Building video trimmed/56.mp4.\n",
      "Moviepy - Writing video trimmed/56.mp4\n",
      "\n"
     ]
    },
    {
     "name": "stderr",
     "output_type": "stream",
     "text": [
      "\n",
      "\n",
      "t:   0%|                                                                                                                                                                | 0/107 [00:00<?, ?it/s, now=None]\u001b[A\u001b[A\n",
      "\n",
      "t:  52%|██████████████████████████████████████████████████████████████████████████████▌                                                                       | 56/107 [00:00<00:00, 554.85it/s, now=None]\u001b[A\u001b[A\n",
      "\n",
      "                                                                                                                                                                                                          \u001b[A\u001b[A\n",
      "\u001b[A                                                                                                                                                                                                       \n",
      "t:   3%|███▊                                                                                                                                              | 2/76 [1:37:23<60:03:26, 2921.71s/it, now=None]\u001b[A\n",
      "\u001b[A                                                                                                                                                                                                       \n",
      "t:   3%|███▊                                                                                                                                              | 2/76 [1:37:23<60:03:26, 2921.71s/it, now=None]\u001b[A\n",
      "\u001b[A                                                                                                                                                                                                       \n",
      "t:   3%|███▊                                                                                                                                              | 2/76 [1:37:23<60:03:32, 2921.79s/it, now=None]\u001b[A\n",
      "\u001b[A                                                                                                                                                                                                       \n",
      "t:   3%|███▊                                                                                                                                              | 2/76 [1:37:23<60:03:32, 2921.79s/it, now=None]\u001b[A"
     ]
    },
    {
     "name": "stdout",
     "output_type": "stream",
     "text": [
      "Moviepy - Done !\n",
      "Moviepy - video ready trimmed/56.mp4\n",
      "Moviepy - Building video trimmed/57.mp4.\n",
      "Moviepy - Writing video trimmed/57.mp4\n",
      "\n"
     ]
    },
    {
     "name": "stderr",
     "output_type": "stream",
     "text": [
      "\n",
      "\n",
      "t:   0%|                                                                                                                                                                | 0/106 [00:00<?, ?it/s, now=None]\u001b[A\u001b[A\n",
      "\n",
      "t:  49%|█████████████████████████████████████████████████████████████████████████▌                                                                            | 52/106 [00:00<00:00, 518.68it/s, now=None]\u001b[A\u001b[A\n",
      "\n",
      "t:  98%|██████████████████████████████████████████████████████████████████████████████████████████████████████████████████████████████████████████████████▏  | 104/106 [00:00<00:00, 353.72it/s, now=None]\u001b[A\u001b[A\n",
      "\n",
      "                                                                                                                                                                                                          \u001b[A\u001b[A\n",
      "\u001b[A                                                                                                                                                                                                       \n",
      "t:   3%|███▊                                                                                                                                              | 2/76 [1:37:24<60:03:52, 2922.06s/it, now=None]\u001b[A\n",
      "\u001b[A                                                                                                                                                                                                       \n",
      "t:   3%|███▊                                                                                                                                              | 2/76 [1:37:24<60:03:52, 2922.06s/it, now=None]\u001b[A\n",
      "\u001b[A                                                                                                                                                                                                       \n",
      "t:   3%|███▊                                                                                                                                              | 2/76 [1:37:24<60:03:56, 2922.12s/it, now=None]\u001b[A\n",
      "\u001b[A                                                                                                                                                                                                       \n",
      "t:   3%|███▊                                                                                                                                              | 2/76 [1:37:24<60:03:56, 2922.12s/it, now=None]\u001b[A"
     ]
    },
    {
     "name": "stdout",
     "output_type": "stream",
     "text": [
      "Moviepy - Done !\n",
      "Moviepy - video ready trimmed/57.mp4\n",
      "Moviepy - Building video trimmed/58.mp4.\n",
      "Moviepy - Writing video trimmed/58.mp4\n",
      "\n"
     ]
    },
    {
     "name": "stderr",
     "output_type": "stream",
     "text": [
      "\n",
      "\n",
      "t:   0%|                                                                                                                                                                | 0/174 [00:00<?, ?it/s, now=None]\u001b[A\u001b[A\n",
      "\n",
      "t:  46%|████████████████████████████████████████████████████████████████████▉                                                                                 | 80/174 [00:00<00:00, 771.89it/s, now=None]\u001b[A\u001b[A\n",
      "\n",
      "t:  91%|███████████████████████████████████████████████████████████████████████████████████████████████████████████████████████████████████████▎             | 158/174 [00:00<00:00, 556.27it/s, now=None]\u001b[A\u001b[A\n",
      "\n",
      "                                                                                                                                                                                                          \u001b[A\u001b[A\n",
      "\u001b[A                                                                                                                                                                                                       \n",
      "t:   3%|███▊                                                                                                                                              | 2/76 [1:37:24<60:04:13, 2922.34s/it, now=None]\u001b[A\n",
      "\u001b[A                                                                                                                                                                                                       \n",
      "t:   3%|███▊                                                                                                                                              | 2/76 [1:37:24<60:04:13, 2922.34s/it, now=None]\u001b[A\n",
      "\u001b[A                                                                                                                                                                                                       \n",
      "t:   3%|███▊                                                                                                                                              | 2/76 [1:37:24<60:04:19, 2922.43s/it, now=None]\u001b[A\n",
      "\u001b[A                                                                                                                                                                                                       \n",
      "t:   3%|███▊                                                                                                                                              | 2/76 [1:37:24<60:04:19, 2922.43s/it, now=None]\u001b[A"
     ]
    },
    {
     "name": "stdout",
     "output_type": "stream",
     "text": [
      "Moviepy - Done !\n",
      "Moviepy - video ready trimmed/58.mp4\n",
      "Moviepy - Building video trimmed/59.mp4.\n",
      "MoviePy - Writing audio in 59TEMP_MPY_wvf_snd.mp3\n"
     ]
    },
    {
     "name": "stderr",
     "output_type": "stream",
     "text": [
      "\n",
      "\n",
      "chunk:   0%|                                                                                                                                                            | 0/177 [00:00<?, ?it/s, now=None]\u001b[A\u001b[A\n",
      "\n",
      "                                                                                                                                                                                                          \u001b[A\u001b[A\n",
      "\u001b[A                                                                                                                                                                                                       \n",
      "t:   3%|███▊                                                                                                                                              | 2/76 [1:37:24<60:04:23, 2922.48s/it, now=None]\u001b[A\n",
      "\u001b[A                                                                                                                                                                                                       \n",
      "t:   3%|███▊                                                                                                                                              | 2/76 [1:37:24<60:04:23, 2922.48s/it, now=None]\u001b[A"
     ]
    },
    {
     "name": "stdout",
     "output_type": "stream",
     "text": [
      "MoviePy - Done.\n",
      "Moviepy - Writing video trimmed/59.mp4\n",
      "\n"
     ]
    },
    {
     "name": "stderr",
     "output_type": "stream",
     "text": [
      "\n",
      "\n",
      "t:   0%|                                                                                                                                                                | 0/120 [00:00<?, ?it/s, now=None]\u001b[A\u001b[A\n",
      "\n",
      "                                                                                                                                                                                                          \u001b[A\u001b[A\n",
      "\u001b[A                                                                                                                                                                                                       \n",
      "t:   3%|███▊                                                                                                                                              | 2/76 [1:37:25<60:04:30, 2922.58s/it, now=None]\u001b[A\n",
      "\u001b[A                                                                                                                                                                                                       \n",
      "t:   3%|███▊                                                                                                                                              | 2/76 [1:37:25<60:04:30, 2922.58s/it, now=None]\u001b[A"
     ]
    },
    {
     "name": "stdout",
     "output_type": "stream",
     "text": [
      "Moviepy - Done !\n",
      "Moviepy - video ready trimmed/59.mp4\n"
     ]
    },
    {
     "name": "stderr",
     "output_type": "stream",
     "text": [
      "\n",
      "\u001b[A                                                                                                                                                                                                       \n",
      "t:   3%|███▊                                                                                                                                              | 2/76 [1:37:25<60:04:34, 2922.63s/it, now=None]\u001b[A\n",
      "\u001b[A                                                                                                                                                                                                       \n",
      "t:   3%|███▊                                                                                                                                              | 2/76 [1:37:25<60:04:34, 2922.63s/it, now=None]\u001b[A"
     ]
    },
    {
     "name": "stdout",
     "output_type": "stream",
     "text": [
      "Moviepy - Building video trimmed/60.mp4.\n",
      "Moviepy - Writing video trimmed/60.mp4\n",
      "\n"
     ]
    },
    {
     "name": "stderr",
     "output_type": "stream",
     "text": [
      "\n",
      "\n",
      "t:   0%|                                                                                                                                                                 | 0/59 [00:00<?, ?it/s, now=None]\u001b[A\u001b[A\n",
      "\n",
      "                                                                                                                                                                                                          \u001b[A\u001b[A\n",
      "\u001b[A                                                                                                                                                                                                       \n",
      "t:   3%|███▊                                                                                                                                              | 2/76 [1:37:25<60:04:37, 2922.67s/it, now=None]\u001b[A\n",
      "\u001b[A                                                                                                                                                                                                       \n",
      "t:   3%|███▊                                                                                                                                              | 2/76 [1:37:25<60:04:37, 2922.67s/it, now=None]\u001b[A"
     ]
    },
    {
     "name": "stdout",
     "output_type": "stream",
     "text": [
      "Moviepy - Done !\n",
      "Moviepy - video ready trimmed/60.mp4\n"
     ]
    },
    {
     "name": "stderr",
     "output_type": "stream",
     "text": [
      "\n",
      "\u001b[A                                                                                                                                                                                                       \n",
      "t:   3%|███▊                                                                                                                                              | 2/76 [1:37:25<60:04:42, 2922.73s/it, now=None]\u001b[A\n",
      "\u001b[A                                                                                                                                                                                                       \n",
      "t:   3%|███▊                                                                                                                                              | 2/76 [1:37:25<60:04:42, 2922.73s/it, now=None]\u001b[A"
     ]
    },
    {
     "name": "stdout",
     "output_type": "stream",
     "text": [
      "Moviepy - Building video trimmed/61.mp4.\n",
      "Moviepy - Writing video trimmed/61.mp4\n",
      "\n"
     ]
    },
    {
     "name": "stderr",
     "output_type": "stream",
     "text": [
      "\n",
      "\n",
      "t:   0%|                                                                                                                                                                | 0/115 [00:00<?, ?it/s, now=None]\u001b[A\u001b[A\n",
      "\n",
      "t:  67%|████████████████████████████████████████████████████████████████████████████████████████████████████▍                                                 | 77/115 [00:00<00:00, 768.68it/s, now=None]\u001b[A\u001b[A\n",
      "\n",
      "                                                                                                                                                                                                          \u001b[A\u001b[A\n",
      "\u001b[A                                                                                                                                                                                                       \n",
      "t:   3%|███▊                                                                                                                                              | 2/76 [1:37:25<60:04:56, 2922.92s/it, now=None]\u001b[A\n",
      "\u001b[A                                                                                                                                                                                                       \n",
      "t:   3%|███▊                                                                                                                                              | 2/76 [1:37:25<60:04:56, 2922.92s/it, now=None]\u001b[A\n",
      "\u001b[A                                                                                                                                                                                                       \n",
      "t:   3%|███▊                                                                                                                                              | 2/76 [1:37:25<60:05:00, 2922.98s/it, now=None]\u001b[A\n",
      "\u001b[A                                                                                                                                                                                                       \n",
      "t:   3%|███▊                                                                                                                                              | 2/76 [1:37:25<60:05:00, 2922.98s/it, now=None]\u001b[A"
     ]
    },
    {
     "name": "stdout",
     "output_type": "stream",
     "text": [
      "Moviepy - Done !\n",
      "Moviepy - video ready trimmed/61.mp4\n",
      "Moviepy - Building video trimmed/62.mp4.\n",
      "Moviepy - Writing video trimmed/62.mp4\n",
      "\n"
     ]
    },
    {
     "name": "stderr",
     "output_type": "stream",
     "text": [
      "\n",
      "\n",
      "t:   0%|                                                                                                                                                                | 0/119 [00:00<?, ?it/s, now=None]\u001b[A\u001b[A\n",
      "\n",
      "t:  76%|█████████████████████████████████████████████████████████████████████████████████████████████████████████████████▍                                    | 90/119 [00:00<00:00, 866.19it/s, now=None]\u001b[A\u001b[A\n",
      "\n",
      "                                                                                                                                                                                                          \u001b[A\u001b[A\n",
      "\u001b[A                                                                                                                                                                                                       \n",
      "t:   3%|███▊                                                                                                                                              | 2/76 [1:37:26<60:05:11, 2923.13s/it, now=None]\u001b[A\n",
      "\u001b[A                                                                                                                                                                                                       \n",
      "t:   3%|███▊                                                                                                                                              | 2/76 [1:37:26<60:05:11, 2923.13s/it, now=None]\u001b[A\n",
      "\u001b[A                                                                                                                                                                                                       \n",
      "t:   3%|███▊                                                                                                                                              | 2/76 [1:37:26<60:05:16, 2923.20s/it, now=None]\u001b[A\n",
      "\u001b[A                                                                                                                                                                                                       \n",
      "t:   3%|███▊                                                                                                                                              | 2/76 [1:37:26<60:05:16, 2923.20s/it, now=None]\u001b[A"
     ]
    },
    {
     "name": "stdout",
     "output_type": "stream",
     "text": [
      "Moviepy - Done !\n",
      "Moviepy - video ready trimmed/62.mp4\n",
      "Moviepy - Building video trimmed/63.mp4.\n",
      "Moviepy - Writing video trimmed/63.mp4\n",
      "\n"
     ]
    },
    {
     "name": "stderr",
     "output_type": "stream",
     "text": [
      "\n",
      "\n",
      "t:   0%|                                                                                                                                                                | 0/125 [00:00<?, ?it/s, now=None]\u001b[A\u001b[A\n",
      "\n",
      "t:  67%|████████████████████████████████████████████████████████████████████████████████████████████████████▊                                                 | 84/125 [00:00<00:00, 834.54it/s, now=None]\u001b[A\u001b[A\n",
      "\n",
      "                                                                                                                                                                                                          \u001b[A\u001b[A\n",
      "\u001b[A                                                                                                                                                                                                       \n",
      "t:   3%|███▊                                                                                                                                              | 2/76 [1:37:26<60:05:27, 2923.35s/it, now=None]\u001b[A\n",
      "\u001b[A                                                                                                                                                                                                       \n",
      "t:   3%|███▊                                                                                                                                              | 2/76 [1:37:26<60:05:27, 2923.35s/it, now=None]\u001b[A\n",
      "\u001b[A                                                                                                                                                                                                       \n",
      "t:   3%|███▊                                                                                                                                              | 2/76 [1:37:26<60:05:32, 2923.41s/it, now=None]\u001b[A\n",
      "\u001b[A                                                                                                                                                                                                       \n",
      "t:   3%|███▊                                                                                                                                              | 2/76 [1:37:26<60:05:32, 2923.41s/it, now=None]\u001b[A"
     ]
    },
    {
     "name": "stdout",
     "output_type": "stream",
     "text": [
      "Moviepy - Done !\n",
      "Moviepy - video ready trimmed/63.mp4\n",
      "Moviepy - Building video trimmed/64.mp4.\n",
      "Moviepy - Writing video trimmed/64.mp4\n",
      "\n"
     ]
    },
    {
     "name": "stderr",
     "output_type": "stream",
     "text": [
      "\n",
      "\n",
      "t:   0%|                                                                                                                                                                | 0/167 [00:00<?, ?it/s, now=None]\u001b[A\u001b[A\n",
      "\n",
      "t:  31%|██████████████████████████████████████████████▋                                                                                                       | 52/167 [00:00<00:00, 515.81it/s, now=None]\u001b[A\u001b[A\n",
      "\n",
      "t:  62%|████████████████████████████████████████████████████████████████████████████████████████████▊                                                        | 104/167 [00:00<00:00, 328.30it/s, now=None]\u001b[A\u001b[A\n",
      "\n",
      "t:  84%|█████████████████████████████████████████████████████████████████████████████████████████████████████████████████████████████▊                       | 141/167 [00:00<00:00, 311.51it/s, now=None]\u001b[A\u001b[A\n",
      "\n",
      "                                                                                                                                                                                                          \u001b[A\u001b[A\n",
      "\u001b[A                                                                                                                                                                                                       \n",
      "t:   3%|███▊                                                                                                                                              | 2/76 [1:37:27<60:06:01, 2923.80s/it, now=None]\u001b[A\n",
      "\u001b[A                                                                                                                                                                                                       \n",
      "t:   3%|███▊                                                                                                                                              | 2/76 [1:37:27<60:06:01, 2923.80s/it, now=None]\u001b[A"
     ]
    },
    {
     "name": "stdout",
     "output_type": "stream",
     "text": [
      "Moviepy - Done !\n",
      "Moviepy - video ready trimmed/64.mp4\n"
     ]
    },
    {
     "name": "stderr",
     "output_type": "stream",
     "text": [
      "\n",
      "\u001b[A                                                                                                                                                                                                       \n",
      "t:   3%|███▊                                                                                                                                              | 2/76 [1:37:27<60:06:09, 2923.91s/it, now=None]\u001b[A\n",
      "\u001b[A                                                                                                                                                                                                       \n",
      "t:   3%|███▊                                                                                                                                              | 2/76 [1:37:27<60:06:09, 2923.91s/it, now=None]\u001b[A"
     ]
    },
    {
     "name": "stdout",
     "output_type": "stream",
     "text": [
      "Moviepy - Building video trimmed/65.mp4.\n",
      "MoviePy - Writing audio in 65TEMP_MPY_wvf_snd.mp3\n"
     ]
    },
    {
     "name": "stderr",
     "output_type": "stream",
     "text": [
      "\n",
      "\n",
      "chunk:   0%|                                                                                                                                                             | 0/97 [00:00<?, ?it/s, now=None]\u001b[A\u001b[A\n",
      "\n",
      "                                                                                                                                                                                                          \u001b[A\u001b[A\n",
      "\u001b[A                                                                                                                                                                                                       \n",
      "t:   3%|███▊                                                                                                                                              | 2/76 [1:37:27<60:06:12, 2923.95s/it, now=None]\u001b[A\n",
      "\u001b[A                                                                                                                                                                                                       \n",
      "t:   3%|███▊                                                                                                                                              | 2/76 [1:37:27<60:06:12, 2923.95s/it, now=None]\u001b[A"
     ]
    },
    {
     "name": "stdout",
     "output_type": "stream",
     "text": [
      "MoviePy - Done.\n",
      "Moviepy - Writing video trimmed/65.mp4\n",
      "\n"
     ]
    },
    {
     "name": "stderr",
     "output_type": "stream",
     "text": [
      "\n",
      "\n",
      "t:   0%|                                                                                                                                                                | 0/131 [00:00<?, ?it/s, now=None]\u001b[A\u001b[A\n",
      "\n",
      "t:  68%|█████████████████████████████████████████████████████████████████████████████████████████████████████▉                                                | 89/131 [00:00<00:00, 885.55it/s, now=None]\u001b[A\u001b[A\n",
      "\n",
      "                                                                                                                                                                                                          \u001b[A\u001b[A\n",
      "\u001b[A                                                                                                                                                                                                       \n",
      "t:   3%|███▊                                                                                                                                              | 2/76 [1:37:28<60:06:24, 2924.11s/it, now=None]\u001b[A\n",
      "\u001b[A                                                                                                                                                                                                       \n",
      "t:   3%|███▊                                                                                                                                              | 2/76 [1:37:28<60:06:24, 2924.12s/it, now=None]\u001b[A"
     ]
    },
    {
     "name": "stdout",
     "output_type": "stream",
     "text": [
      "Moviepy - Done !\n",
      "Moviepy - video ready trimmed/65.mp4\n"
     ]
    },
    {
     "name": "stderr",
     "output_type": "stream",
     "text": [
      "\n",
      "\u001b[A                                                                                                                                                                                                       \n",
      "t:   3%|███▊                                                                                                                                              | 2/76 [1:37:28<60:06:34, 2924.25s/it, now=None]\u001b[A\n",
      "\u001b[A                                                                                                                                                                                                       \n",
      "t:   3%|███▊                                                                                                                                              | 2/76 [1:37:28<60:06:34, 2924.25s/it, now=None]\u001b[A"
     ]
    },
    {
     "name": "stdout",
     "output_type": "stream",
     "text": [
      "Moviepy - Building video trimmed/66.mp4.\n",
      "MoviePy - Writing audio in 66TEMP_MPY_wvf_snd.mp3\n"
     ]
    },
    {
     "name": "stderr",
     "output_type": "stream",
     "text": [
      "\n",
      "\n",
      "chunk:   0%|                                                                                                                                                             | 0/83 [00:00<?, ?it/s, now=None]\u001b[A\u001b[A\n",
      "\n",
      "                                                                                                                                                                                                          \u001b[A\u001b[A\n",
      "\u001b[A                                                                                                                                                                                                       \n",
      "t:   3%|███▊                                                                                                                                              | 2/76 [1:37:28<60:06:37, 2924.29s/it, now=None]\u001b[A\n",
      "\u001b[A                                                                                                                                                                                                       \n",
      "t:   3%|███▊                                                                                                                                              | 2/76 [1:37:28<60:06:37, 2924.29s/it, now=None]\u001b[A"
     ]
    },
    {
     "name": "stdout",
     "output_type": "stream",
     "text": [
      "MoviePy - Done.\n",
      "Moviepy - Writing video trimmed/66.mp4\n",
      "\n"
     ]
    },
    {
     "name": "stderr",
     "output_type": "stream",
     "text": [
      "\n",
      "\n",
      "t:   0%|                                                                                                                                                                | 0/112 [00:00<?, ?it/s, now=None]\u001b[A\u001b[A\n",
      "\n",
      "t:  43%|████████████████████████████████████████████████████████████████▎                                                                                     | 48/112 [00:00<00:00, 472.22it/s, now=None]\u001b[A\u001b[A\n",
      "\n",
      "t:  86%|████████████████████████████████████████████████████████████████████████████████████████████████████████████████████████████████▌                     | 96/112 [00:00<00:00, 361.10it/s, now=None]\u001b[A\u001b[A\n",
      "\n",
      "                                                                                                                                                                                                          \u001b[A\u001b[A\n",
      "\u001b[A                                                                                                                                                                                                       \n",
      "t:   3%|███▊                                                                                                                                              | 2/76 [1:37:29<60:07:02, 2924.62s/it, now=None]\u001b[A\n",
      "\u001b[A                                                                                                                                                                                                       \n",
      "t:   3%|███▊                                                                                                                                              | 2/76 [1:37:29<60:07:02, 2924.62s/it, now=None]\u001b[A\n",
      "\u001b[A                                                                                                                                                                                                       \n",
      "t:   3%|███▊                                                                                                                                              | 2/76 [1:37:29<60:07:06, 2924.69s/it, now=None]\u001b[A\n",
      "\u001b[A                                                                                                                                                                                                       \n",
      "t:   3%|███▊                                                                                                                                              | 2/76 [1:37:29<60:07:06, 2924.69s/it, now=None]\u001b[A"
     ]
    },
    {
     "name": "stdout",
     "output_type": "stream",
     "text": [
      "Moviepy - Done !\n",
      "Moviepy - video ready trimmed/66.mp4\n",
      "Moviepy - Building video trimmed/67.mp4.\n",
      "Moviepy - Writing video trimmed/67.mp4\n",
      "\n"
     ]
    },
    {
     "name": "stderr",
     "output_type": "stream",
     "text": [
      "\n",
      "\n",
      "t:   0%|                                                                                                                                                                | 0/105 [00:00<?, ?it/s, now=None]\u001b[A\u001b[A\n",
      "\n",
      "t:  76%|██████████████████████████████████████████████████████████████████████████████████████████████████████████████████▎                                   | 80/105 [00:00<00:00, 788.04it/s, now=None]\u001b[A\u001b[A\n",
      "\n",
      "                                                                                                                                                                                                          \u001b[A\u001b[A\n",
      "\u001b[A                                                                                                                                                                                                       \n",
      "t:   3%|███▊                                                                                                                                              | 2/76 [1:37:29<60:07:18, 2924.84s/it, now=None]\u001b[A\n",
      "\u001b[A                                                                                                                                                                                                       \n",
      "t:   3%|███▊                                                                                                                                              | 2/76 [1:37:29<60:07:18, 2924.85s/it, now=None]\u001b[A"
     ]
    },
    {
     "name": "stdout",
     "output_type": "stream",
     "text": [
      "Moviepy - Done !\n",
      "Moviepy - video ready trimmed/67.mp4\n"
     ]
    },
    {
     "name": "stderr",
     "output_type": "stream",
     "text": [
      "\n",
      "\u001b[A                                                                                                                                                                                                       \n",
      "t:   3%|███▊                                                                                                                                              | 2/76 [1:37:29<60:07:26, 2924.96s/it, now=None]\u001b[A\n",
      "\u001b[A                                                                                                                                                                                                       \n",
      "t:   3%|███▊                                                                                                                                              | 2/76 [1:37:29<60:07:26, 2924.96s/it, now=None]\u001b[A"
     ]
    },
    {
     "name": "stdout",
     "output_type": "stream",
     "text": [
      "Moviepy - Building video trimmed/68.mp4.\n",
      "MoviePy - Writing audio in 68TEMP_MPY_wvf_snd.mp3\n"
     ]
    },
    {
     "name": "stderr",
     "output_type": "stream",
     "text": [
      "\n",
      "\n",
      "chunk:   0%|                                                                                                                                                            | 0/126 [00:00<?, ?it/s, now=None]\u001b[A\u001b[A\n",
      "\n",
      "                                                                                                                                                                                                          \u001b[A\u001b[A\n",
      "\u001b[A                                                                                                                                                                                                       \n",
      "t:   3%|███▊                                                                                                                                              | 2/76 [1:37:29<60:07:29, 2924.99s/it, now=None]\u001b[A\n",
      "\u001b[A                                                                                                                                                                                                       \n",
      "t:   3%|███▊                                                                                                                                              | 2/76 [1:37:29<60:07:29, 2925.00s/it, now=None]\u001b[A"
     ]
    },
    {
     "name": "stdout",
     "output_type": "stream",
     "text": [
      "MoviePy - Done.\n",
      "Moviepy - Writing video trimmed/68.mp4\n",
      "\n"
     ]
    },
    {
     "name": "stderr",
     "output_type": "stream",
     "text": [
      "\n",
      "\n",
      "t:   0%|                                                                                                                                                                | 0/171 [00:00<?, ?it/s, now=None]\u001b[A\u001b[A\n",
      "\n",
      "t:  49%|█████████████████████████████████████████████████████████████████████████▋                                                                            | 84/171 [00:00<00:00, 804.00it/s, now=None]\u001b[A\u001b[A\n",
      "\n",
      "t:  96%|███████████████████████████████████████████████████████████████████████████████████████████████████████████████████████████████████████████████▊     | 165/171 [00:00<00:00, 604.00it/s, now=None]\u001b[A\u001b[A\n",
      "\n",
      "                                                                                                                                                                                                          \u001b[A\u001b[A\n",
      "\u001b[A                                                                                                                                                                                                       \n",
      "t:   3%|███▊                                                                                                                                              | 2/76 [1:37:30<60:07:45, 2925.20s/it, now=None]\u001b[A\n",
      "\u001b[A                                                                                                                                                                                                       \n",
      "t:   3%|███▊                                                                                                                                              | 2/76 [1:37:30<60:07:45, 2925.21s/it, now=None]\u001b[A\n",
      "\u001b[A                                                                                                                                                                                                       \n",
      "t:   3%|███▊                                                                                                                                              | 2/76 [1:37:30<60:07:49, 2925.27s/it, now=None]\u001b[A\n",
      "\u001b[A                                                                                                                                                                                                       \n",
      "t:   3%|███▊                                                                                                                                              | 2/76 [1:37:30<60:07:49, 2925.27s/it, now=None]\u001b[A"
     ]
    },
    {
     "name": "stdout",
     "output_type": "stream",
     "text": [
      "Moviepy - Done !\n",
      "Moviepy - video ready trimmed/68.mp4\n",
      "Moviepy - Building video trimmed/69.mp4.\n",
      "Moviepy - Writing video trimmed/69.mp4\n",
      "\n"
     ]
    },
    {
     "name": "stderr",
     "output_type": "stream",
     "text": [
      "\n",
      "\n",
      "t:   0%|                                                                                                                                                                | 0/138 [00:00<?, ?it/s, now=None]\u001b[A\u001b[A\n",
      "\n",
      "t:  49%|████████████████████████████████████████████████████████████████████████▊                                                                             | 67/138 [00:00<00:00, 654.68it/s, now=None]\u001b[A\u001b[A\n",
      "\n",
      "                                                                                                                                                                                                          \u001b[A\u001b[A\n",
      "\u001b[A                                                                                                                                                                                                       \n",
      "t:   3%|███▊                                                                                                                                              | 2/76 [1:37:30<60:07:58, 2925.39s/it, now=None]\u001b[A\n",
      "\u001b[A                                                                                                                                                                                                       \n",
      "t:   3%|███▊                                                                                                                                              | 2/76 [1:37:30<60:07:58, 2925.39s/it, now=None]\u001b[A\n",
      "\u001b[A                                                                                                                                                                                                       \n",
      "t:   3%|███▊                                                                                                                                              | 2/76 [1:37:30<60:08:03, 2925.45s/it, now=None]\u001b[A\n",
      "\u001b[A                                                                                                                                                                                                       \n",
      "t:   3%|███▊                                                                                                                                              | 2/76 [1:37:30<60:08:03, 2925.45s/it, now=None]\u001b[A"
     ]
    },
    {
     "name": "stdout",
     "output_type": "stream",
     "text": [
      "Moviepy - Done !\n",
      "Moviepy - video ready trimmed/69.mp4\n",
      "Moviepy - Building video trimmed/70.mp4.\n",
      "Moviepy - Writing video trimmed/70.mp4\n",
      "\n"
     ]
    },
    {
     "name": "stderr",
     "output_type": "stream",
     "text": [
      "\n",
      "\n",
      "t:   0%|                                                                                                                                                                | 0/108 [00:00<?, ?it/s, now=None]\u001b[A\u001b[A\n",
      "\n",
      "t:  81%|██████████████████████████████████████████████████████████████████████████████████████████████████████████████████████████▏                           | 88/108 [00:00<00:00, 874.38it/s, now=None]\u001b[A\u001b[A\n",
      "\n",
      "                                                                                                                                                                                                          \u001b[A\u001b[A\n",
      "\u001b[A                                                                                                                                                                                                       \n",
      "t:   3%|███▊                                                                                                                                              | 2/76 [1:37:31<60:08:11, 2925.56s/it, now=None]\u001b[A\n",
      "\u001b[A                                                                                                                                                                                                       \n",
      "t:   3%|███▊                                                                                                                                              | 2/76 [1:37:31<60:08:11, 2925.56s/it, now=None]\u001b[A\n",
      "\u001b[A                                                                                                                                                                                                       \n",
      "t:   3%|███▊                                                                                                                                              | 2/76 [1:37:31<60:08:16, 2925.62s/it, now=None]\u001b[A\n",
      "\u001b[A                                                                                                                                                                                                       \n",
      "t:   3%|███▊                                                                                                                                              | 2/76 [1:37:31<60:08:16, 2925.63s/it, now=None]\u001b[A"
     ]
    },
    {
     "name": "stdout",
     "output_type": "stream",
     "text": [
      "Moviepy - Done !\n",
      "Moviepy - video ready trimmed/70.mp4\n",
      "Moviepy - Building video trimmed/71.mp4.\n",
      "Moviepy - Writing video trimmed/71.mp4\n",
      "\n"
     ]
    },
    {
     "name": "stderr",
     "output_type": "stream",
     "text": [
      "\n",
      "\n",
      "t:   0%|                                                                                                                                                                | 0/164 [00:00<?, ?it/s, now=None]\u001b[A\u001b[A\n",
      "\n",
      "t:  47%|██████████████████████████████████████████████████████████████████████▍                                                                               | 77/164 [00:00<00:00, 755.43it/s, now=None]\u001b[A\u001b[A\n",
      "\n",
      "t:  93%|███████████████████████████████████████████████████████████████████████████████████████████████████████████████████████████████████████████          | 153/164 [00:00<00:00, 485.02it/s, now=None]\u001b[A\u001b[A\n",
      "\n",
      "                                                                                                                                                                                                          \u001b[A\u001b[A\n",
      "\u001b[A                                                                                                                                                                                                       \n",
      "t:   3%|███▊                                                                                                                                              | 2/76 [1:37:31<60:08:34, 2925.88s/it, now=None]\u001b[A\n",
      "\u001b[A                                                                                                                                                                                                       \n",
      "t:   3%|███▊                                                                                                                                              | 2/76 [1:37:31<60:08:34, 2925.88s/it, now=None]\u001b[A\n",
      "\u001b[A                                                                                                                                                                                                       \n",
      "t:   3%|███▊                                                                                                                                              | 2/76 [1:37:31<60:08:40, 2925.95s/it, now=None]\u001b[A\n",
      "\u001b[A                                                                                                                                                                                                       \n",
      "t:   3%|███▊                                                                                                                                              | 2/76 [1:37:31<60:08:40, 2925.95s/it, now=None]\u001b[A"
     ]
    },
    {
     "name": "stdout",
     "output_type": "stream",
     "text": [
      "Moviepy - Done !\n",
      "Moviepy - video ready trimmed/71.mp4\n",
      "Moviepy - Building video trimmed/72.mp4.\n",
      "Moviepy - Writing video trimmed/72.mp4\n",
      "\n"
     ]
    },
    {
     "name": "stderr",
     "output_type": "stream",
     "text": [
      "\n",
      "\n",
      "t:   0%|                                                                                                                                                                | 0/214 [00:00<?, ?it/s, now=None]\u001b[A\u001b[A\n",
      "\n",
      "t:  24%|███████████████████████████████████▋                                                                                                                  | 51/214 [00:00<00:00, 503.10it/s, now=None]\u001b[A\u001b[A\n",
      "\n",
      "t:  48%|███████████████████████████████████████████████████████████████████████                                                                              | 102/214 [00:00<00:00, 333.97it/s, now=None]\u001b[A\u001b[A\n",
      "\n",
      "t:  65%|████████████████████████████████████████████████████████████████████████████████████████████████▊                                                    | 139/214 [00:00<00:00, 255.18it/s, now=None]\u001b[A\u001b[A\n",
      "\n",
      "t:  79%|████████████████████████████████████████████████████████████████████████████████████████████████████████████████████▉                                | 168/214 [00:00<00:00, 199.35it/s, now=None]\u001b[A\u001b[A\n",
      "\n",
      "t:  90%|█████████████████████████████████████████████████████████████████████████████████████████████████████████████████████████████████████▋               | 192/214 [00:00<00:00, 207.01it/s, now=None]\u001b[A\u001b[A\n",
      "\n",
      "                                                                                                                                                                                                          \u001b[A\u001b[A\n",
      "\u001b[A                                                                                                                                                                                                       \n",
      "t:   3%|███▊                                                                                                                                              | 2/76 [1:37:33<60:09:33, 2926.67s/it, now=None]\u001b[A\n",
      "\u001b[A                                                                                                                                                                                                       \n",
      "t:   3%|███▊                                                                                                                                              | 2/76 [1:37:33<60:09:33, 2926.67s/it, now=None]\u001b[A"
     ]
    },
    {
     "name": "stdout",
     "output_type": "stream",
     "text": [
      "Moviepy - Done !\n",
      "Moviepy - video ready trimmed/72.mp4\n"
     ]
    },
    {
     "name": "stderr",
     "output_type": "stream",
     "text": [
      "\n",
      "\u001b[A                                                                                                                                                                                                       \n",
      "t:   3%|███▊                                                                                                                                              | 2/76 [1:37:33<60:09:41, 2926.78s/it, now=None]\u001b[A\n",
      "\u001b[A                                                                                                                                                                                                       \n",
      "t:   3%|███▊                                                                                                                                              | 2/76 [1:37:33<60:09:41, 2926.78s/it, now=None]\u001b[A"
     ]
    },
    {
     "name": "stdout",
     "output_type": "stream",
     "text": [
      "Moviepy - Building video trimmed/73.mp4.\n",
      "MoviePy - Writing audio in 73TEMP_MPY_wvf_snd.mp3\n"
     ]
    },
    {
     "name": "stderr",
     "output_type": "stream",
     "text": [
      "\n",
      "\n",
      "chunk:   0%|                                                                                                                                                            | 0/128 [00:00<?, ?it/s, now=None]\u001b[A\u001b[A\n",
      "\n",
      "                                                                                                                                                                                                          \u001b[A\u001b[A\n",
      "\u001b[A                                                                                                                                                                                                       \n",
      "t:   3%|███▊                                                                                                                                              | 2/76 [1:37:33<60:09:44, 2926.82s/it, now=None]\u001b[A\n",
      "\u001b[A                                                                                                                                                                                                       \n",
      "t:   3%|███▊                                                                                                                                              | 2/76 [1:37:33<60:09:44, 2926.82s/it, now=None]\u001b[A"
     ]
    },
    {
     "name": "stdout",
     "output_type": "stream",
     "text": [
      "MoviePy - Done.\n",
      "Moviepy - Writing video trimmed/73.mp4\n",
      "\n"
     ]
    },
    {
     "name": "stderr",
     "output_type": "stream",
     "text": [
      "\n",
      "\n",
      "t:   0%|                                                                                                                                                                | 0/139 [00:00<?, ?it/s, now=None]\u001b[A\u001b[A\n",
      "\n",
      "t:  58%|███████████████████████████████████████████████████████████████████████████████████████▍                                                              | 81/139 [00:00<00:00, 799.03it/s, now=None]\u001b[A\u001b[A\n",
      "\n",
      "                                                                                                                                                                                                          \u001b[A\u001b[A\n",
      "\u001b[A                                                                                                                                                                                                       \n",
      "t:   3%|███▊                                                                                                                                              | 2/76 [1:37:34<60:09:58, 2927.01s/it, now=None]\u001b[A\n",
      "\u001b[A                                                                                                                                                                                                       \n",
      "t:   3%|███▊                                                                                                                                              | 2/76 [1:37:34<60:09:58, 2927.01s/it, now=None]\u001b[A\n",
      "\u001b[A                                                                                                                                                                                                       \n",
      "t:   3%|███▊                                                                                                                                              | 2/76 [1:37:34<60:10:04, 2927.09s/it, now=None]\u001b[A\n",
      "\u001b[A                                                                                                                                                                                                       \n",
      "t:   3%|███▊                                                                                                                                              | 2/76 [1:37:34<60:10:04, 2927.09s/it, now=None]\u001b[A"
     ]
    },
    {
     "name": "stdout",
     "output_type": "stream",
     "text": [
      "Moviepy - Done !\n",
      "Moviepy - video ready trimmed/73.mp4\n",
      "Moviepy - Building video trimmed/74.mp4.\n",
      "Moviepy - Writing video trimmed/74.mp4\n",
      "\n"
     ]
    },
    {
     "name": "stderr",
     "output_type": "stream",
     "text": [
      "\n",
      "\n",
      "t:   0%|                                                                                                                                                                | 0/108 [00:00<?, ?it/s, now=None]\u001b[A\u001b[A\n",
      "\n",
      "t:  50%|███████████████████████████████████████████████████████████████████████████                                                                           | 54/108 [00:00<00:00, 538.44it/s, now=None]\u001b[A\u001b[A\n",
      "\n",
      "t: 100%|█████████████████████████████████████████████████████████████████████████████████████████████████████████████████████████████████████████████████████| 108/108 [00:00<00:00, 373.63it/s, now=None]\u001b[A\u001b[A\n",
      "\n",
      "                                                                                                                                                                                                          \u001b[A\u001b[A\n",
      "\u001b[A                                                                                                                                                                                                       \n",
      "t:   3%|███▊                                                                                                                                              | 2/76 [1:37:34<60:10:26, 2927.39s/it, now=None]\u001b[A\n",
      "\u001b[A                                                                                                                                                                                                       \n",
      "t:   3%|███▊                                                                                                                                              | 2/76 [1:37:34<60:10:26, 2927.39s/it, now=None]\u001b[A"
     ]
    },
    {
     "name": "stdout",
     "output_type": "stream",
     "text": [
      "Moviepy - Done !\n",
      "Moviepy - video ready trimmed/74.mp4\n"
     ]
    },
    {
     "name": "stderr",
     "output_type": "stream",
     "text": [
      "\n",
      "\u001b[A                                                                                                                                                                                                       \n",
      "t:   3%|███▊                                                                                                                                              | 2/76 [1:37:34<60:10:34, 2927.49s/it, now=None]\u001b[A\n",
      "\u001b[A                                                                                                                                                                                                       \n",
      "t:   3%|███▊                                                                                                                                              | 2/76 [1:37:34<60:10:34, 2927.49s/it, now=None]\u001b[A"
     ]
    },
    {
     "name": "stdout",
     "output_type": "stream",
     "text": [
      "Moviepy - Building video trimmed/75.mp4.\n",
      "MoviePy - Writing audio in 75TEMP_MPY_wvf_snd.mp3\n"
     ]
    },
    {
     "name": "stderr",
     "output_type": "stream",
     "text": [
      "\n",
      "\n",
      "chunk:   0%|                                                                                                                                                            | 0/105 [00:00<?, ?it/s, now=None]\u001b[A\u001b[A\n",
      "\n",
      "                                                                                                                                                                                                          \u001b[A\u001b[A\n",
      "\u001b[A                                                                                                                                                                                                       \n",
      "t:   3%|███▊                                                                                                                                              | 2/76 [1:37:35<60:10:36, 2927.52s/it, now=None]\u001b[A\n",
      "\u001b[A                                                                                                                                                                                                       \n",
      "t:   3%|███▊                                                                                                                                              | 2/76 [1:37:35<60:10:36, 2927.52s/it, now=None]\u001b[A"
     ]
    },
    {
     "name": "stdout",
     "output_type": "stream",
     "text": [
      "MoviePy - Done.\n",
      "Moviepy - Writing video trimmed/75.mp4\n",
      "\n"
     ]
    },
    {
     "name": "stderr",
     "output_type": "stream",
     "text": [
      "\n",
      "\n",
      "t:   0%|                                                                                                                                                                | 0/118 [00:00<?, ?it/s, now=None]\u001b[A\u001b[A\n",
      "\n",
      "t:  76%|██████████████████████████████████████████████████████████████████████████████████████████████████████████████████▍                                   | 90/118 [00:00<00:00, 889.23it/s, now=None]\u001b[A\u001b[A\n",
      "\n",
      "                                                                                                                                                                                                          \u001b[A\u001b[A\n",
      "\u001b[A                                                                                                                                                                                                       \n",
      "t:   3%|███▊                                                                                                                                              | 2/76 [1:37:35<60:10:45, 2927.64s/it, now=None]\u001b[A\n",
      "\u001b[A                                                                                                                                                                                                       \n",
      "t:   3%|███▊                                                                                                                                              | 2/76 [1:37:35<60:10:45, 2927.64s/it, now=None]\u001b[A\n",
      "\u001b[A                                                                                                                                                                                                       \n",
      "t:   3%|███▊                                                                                                                                              | 2/76 [1:37:35<60:10:52, 2927.74s/it, now=None]\u001b[A\n",
      "\u001b[A                                                                                                                                                                                                       \n",
      "t:   3%|███▊                                                                                                                                              | 2/76 [1:37:35<60:10:52, 2927.74s/it, now=None]\u001b[A"
     ]
    },
    {
     "name": "stdout",
     "output_type": "stream",
     "text": [
      "Moviepy - Done !\n",
      "Moviepy - video ready trimmed/75.mp4\n",
      "Moviepy - Building video trimmed/76.mp4.\n",
      "MoviePy - Writing audio in 76TEMP_MPY_wvf_snd.mp3\n"
     ]
    },
    {
     "name": "stderr",
     "output_type": "stream",
     "text": [
      "\n",
      "\n",
      "chunk:   0%|                                                                                                                                                            | 0/111 [00:00<?, ?it/s, now=None]\u001b[A\u001b[A\n",
      "\n",
      "                                                                                                                                                                                                          \u001b[A\u001b[A\n",
      "\u001b[A                                                                                                                                                                                                       \n",
      "t:   3%|███▊                                                                                                                                              | 2/76 [1:37:35<60:10:54, 2927.77s/it, now=None]\u001b[A\n",
      "\u001b[A                                                                                                                                                                                                       \n",
      "t:   3%|███▊                                                                                                                                              | 2/76 [1:37:35<60:10:55, 2927.77s/it, now=None]\u001b[A"
     ]
    },
    {
     "name": "stdout",
     "output_type": "stream",
     "text": [
      "MoviePy - Done.\n",
      "Moviepy - Writing video trimmed/76.mp4\n",
      "\n"
     ]
    },
    {
     "name": "stderr",
     "output_type": "stream",
     "text": [
      "\n",
      "\n",
      "t:   0%|                                                                                                                                                                | 0/125 [00:00<?, ?it/s, now=None]\u001b[A\u001b[A\n",
      "\n",
      "t:  64%|████████████████████████████████████████████████████████████████████████████████████████████████                                                      | 80/125 [00:00<00:00, 777.15it/s, now=None]\u001b[A\u001b[A\n",
      "\n",
      "                                                                                                                                                                                                          \u001b[A\u001b[A\n",
      "\u001b[A                                                                                                                                                                                                       \n",
      "t:   3%|███▊                                                                                                                                              | 2/76 [1:37:35<60:11:09, 2927.96s/it, now=None]\u001b[A\n",
      "\u001b[A                                                                                                                                                                                                       \n",
      "t:   3%|███▊                                                                                                                                              | 2/76 [1:37:35<60:11:09, 2927.96s/it, now=None]\u001b[A\n",
      "\u001b[A                                                                                                                                                                                                       \n",
      "t:   3%|███▊                                                                                                                                              | 2/76 [1:37:36<60:11:14, 2928.03s/it, now=None]\u001b[A\n",
      "\u001b[A                                                                                                                                                                                                       \n",
      "t:   3%|███▊                                                                                                                                              | 2/76 [1:37:36<60:11:14, 2928.03s/it, now=None]\u001b[A"
     ]
    },
    {
     "name": "stdout",
     "output_type": "stream",
     "text": [
      "Moviepy - Done !\n",
      "Moviepy - video ready trimmed/76.mp4\n",
      "Moviepy - Building video trimmed/77.mp4.\n",
      "Moviepy - Writing video trimmed/77.mp4\n",
      "\n"
     ]
    },
    {
     "name": "stderr",
     "output_type": "stream",
     "text": [
      "\n",
      "\n",
      "t:   0%|                                                                                                                                                                | 0/146 [00:00<?, ?it/s, now=None]\u001b[A\u001b[A\n",
      "\n",
      "t:  51%|█████████████████████████████████████████████████████████████████████████████                                                                         | 75/146 [00:00<00:00, 745.62it/s, now=None]\u001b[A\u001b[A\n",
      "\n",
      "                                                                                                                                                                                                          \u001b[A\u001b[A\n",
      "\u001b[A                                                                                                                                                                                                       \n",
      "t:   3%|███▊                                                                                                                                              | 2/76 [1:37:36<60:11:31, 2928.27s/it, now=None]\u001b[A\n",
      "\u001b[A                                                                                                                                                                                                       \n",
      "t:   3%|███▊                                                                                                                                              | 2/76 [1:37:36<60:11:31, 2928.27s/it, now=None]\u001b[A\n",
      "\u001b[A                                                                                                                                                                                                       \n",
      "t:   3%|███▊                                                                                                                                              | 2/76 [1:37:36<60:11:35, 2928.32s/it, now=None]\u001b[A\n",
      "\u001b[A                                                                                                                                                                                                       \n",
      "t:   3%|███▊                                                                                                                                              | 2/76 [1:37:36<60:11:35, 2928.32s/it, now=None]\u001b[A"
     ]
    },
    {
     "name": "stdout",
     "output_type": "stream",
     "text": [
      "Moviepy - Done !\n",
      "Moviepy - video ready trimmed/77.mp4\n",
      "Moviepy - Building video trimmed/78.mp4.\n",
      "Moviepy - Writing video trimmed/78.mp4\n",
      "\n"
     ]
    },
    {
     "name": "stderr",
     "output_type": "stream",
     "text": [
      "\n",
      "\n",
      "t:   0%|                                                                                                                                                                | 0/101 [00:00<?, ?it/s, now=None]\u001b[A\u001b[A\n",
      "\n",
      "t:  90%|███████████████████████████████████████████████████████████████████████████████████████████████████████████████████████████████████████▏              | 91/101 [00:00<00:00, 903.32it/s, now=None]\u001b[A\u001b[A\n",
      "\n",
      "                                                                                                                                                                                                          \u001b[A\u001b[A\n",
      "\u001b[A                                                                                                                                                                                                       \n",
      "t:   3%|███▊                                                                                                                                              | 2/76 [1:37:36<60:11:41, 2928.40s/it, now=None]\u001b[A\n",
      "\u001b[A                                                                                                                                                                                                       \n",
      "t:   3%|███▊                                                                                                                                              | 2/76 [1:37:36<60:11:41, 2928.40s/it, now=None]\u001b[A\n",
      "\u001b[A                                                                                                                                                                                                       \n",
      "t:   3%|███▊                                                                                                                                              | 2/76 [1:37:36<60:11:45, 2928.46s/it, now=None]\u001b[A\n",
      "\u001b[A                                                                                                                                                                                                       \n",
      "t:   3%|███▊                                                                                                                                              | 2/76 [1:37:36<60:11:45, 2928.46s/it, now=None]\u001b[A"
     ]
    },
    {
     "name": "stdout",
     "output_type": "stream",
     "text": [
      "Moviepy - Done !\n",
      "Moviepy - video ready trimmed/78.mp4\n",
      "Moviepy - Building video trimmed/79.mp4.\n",
      "Moviepy - Writing video trimmed/79.mp4\n",
      "\n"
     ]
    },
    {
     "name": "stderr",
     "output_type": "stream",
     "text": [
      "\n",
      "\n",
      "t:   0%|                                                                                                                                                                | 0/111 [00:00<?, ?it/s, now=None]\u001b[A\u001b[A\n",
      "\n",
      "t:  85%|███████████████████████████████████████████████████████████████████████████████████████████████████████████████████████████████                       | 94/111 [00:00<00:00, 930.77it/s, now=None]\u001b[A\u001b[A\n",
      "\n",
      "                                                                                                                                                                                                          \u001b[A\u001b[A\n",
      "\u001b[A                                                                                                                                                                                                       \n",
      "t:   3%|███▊                                                                                                                                              | 2/76 [1:37:37<60:11:54, 2928.58s/it, now=None]\u001b[A\n",
      "\u001b[A                                                                                                                                                                                                       \n",
      "t:   3%|███▊                                                                                                                                              | 2/76 [1:37:37<60:11:54, 2928.58s/it, now=None]\u001b[A\n",
      "\u001b[A                                                                                                                                                                                                       \n",
      "t:   3%|███▊                                                                                                                                              | 2/76 [1:37:37<60:11:59, 2928.64s/it, now=None]\u001b[A\n",
      "\u001b[A                                                                                                                                                                                                       \n",
      "t:   3%|███▊                                                                                                                                              | 2/76 [1:37:37<60:11:59, 2928.64s/it, now=None]\u001b[A"
     ]
    },
    {
     "name": "stdout",
     "output_type": "stream",
     "text": [
      "Moviepy - Done !\n",
      "Moviepy - video ready trimmed/79.mp4\n",
      "Moviepy - Building video trimmed/80.mp4.\n",
      "Moviepy - Writing video trimmed/80.mp4\n",
      "\n"
     ]
    },
    {
     "name": "stderr",
     "output_type": "stream",
     "text": [
      "\n",
      "\n",
      "t:   0%|                                                                                                                                                                | 0/148 [00:00<?, ?it/s, now=None]\u001b[A\u001b[A\n",
      "\n",
      "t:  53%|████████████████████████████████████████████████████████████████████████████████                                                                      | 79/148 [00:00<00:00, 784.38it/s, now=None]\u001b[A\u001b[A\n",
      "\n",
      "                                                                                                                                                                                                          \u001b[A\u001b[A\n",
      "\u001b[A                                                                                                                                                                                                       \n",
      "t:   3%|███▊                                                                                                                                              | 2/76 [1:37:37<60:12:16, 2928.88s/it, now=None]\u001b[A\n",
      "\u001b[A                                                                                                                                                                                                       \n",
      "t:   3%|███▊                                                                                                                                              | 2/76 [1:37:37<60:12:16, 2928.88s/it, now=None]\u001b[A\n",
      "\u001b[A                                                                                                                                                                                                       \n",
      "t:   3%|███▊                                                                                                                                              | 2/76 [1:37:37<60:12:22, 2928.95s/it, now=None]\u001b[A\n",
      "\u001b[A                                                                                                                                                                                                       \n",
      "t:   3%|███▊                                                                                                                                              | 2/76 [1:37:37<60:12:22, 2928.95s/it, now=None]\u001b[A"
     ]
    },
    {
     "name": "stdout",
     "output_type": "stream",
     "text": [
      "Moviepy - Done !\n",
      "Moviepy - video ready trimmed/80.mp4\n",
      "Moviepy - Building video trimmed/81.mp4.\n",
      "Moviepy - Writing video trimmed/81.mp4\n",
      "\n"
     ]
    },
    {
     "name": "stderr",
     "output_type": "stream",
     "text": [
      "\n",
      "\n",
      "t:   0%|                                                                                                                                                                | 0/114 [00:00<?, ?it/s, now=None]\u001b[A\u001b[A\n",
      "\n",
      "t:  49%|█████████████████████████████████████████████████████████████████████████▋                                                                            | 56/114 [00:00<00:00, 557.21it/s, now=None]\u001b[A\u001b[A\n",
      "\n",
      "t:  98%|██████████████████████████████████████████████████████████████████████████████████████████████████████████████████████████████████████████████████▍  | 112/114 [00:00<00:00, 380.99it/s, now=None]\u001b[A\u001b[A\n",
      "\n",
      "                                                                                                                                                                                                          \u001b[A\u001b[A\n",
      "\u001b[A                                                                                                                                                                                                       \n",
      "t:   3%|███▊                                                                                                                                              | 2/76 [1:37:38<60:12:41, 2929.21s/it, now=None]\u001b[A\n",
      "\u001b[A                                                                                                                                                                                                       \n",
      "t:   3%|███▊                                                                                                                                              | 2/76 [1:37:38<60:12:41, 2929.21s/it, now=None]\u001b[A\n",
      "\u001b[A                                                                                                                                                                                                       \n",
      "t:   3%|███▊                                                                                                                                              | 2/76 [1:37:38<60:12:46, 2929.27s/it, now=None]\u001b[A\n",
      "\u001b[A                                                                                                                                                                                                       \n",
      "t:   3%|███▊                                                                                                                                              | 2/76 [1:37:38<60:12:46, 2929.28s/it, now=None]\u001b[A"
     ]
    },
    {
     "name": "stdout",
     "output_type": "stream",
     "text": [
      "Moviepy - Done !\n",
      "Moviepy - video ready trimmed/81.mp4\n",
      "Moviepy - Building video trimmed/82.mp4.\n",
      "Moviepy - Writing video trimmed/82.mp4\n",
      "\n"
     ]
    },
    {
     "name": "stderr",
     "output_type": "stream",
     "text": [
      "\n",
      "\n",
      "t:   0%|                                                                                                                                                                | 0/109 [00:00<?, ?it/s, now=None]\u001b[A\u001b[A\n",
      "\n",
      "t:  72%|████████████████████████████████████████████████████████████████████████████████████████████████████████████▋                                         | 79/109 [00:00<00:00, 781.38it/s, now=None]\u001b[A\u001b[A\n",
      "\n",
      "                                                                                                                                                                                                          \u001b[A\u001b[A\n",
      "\u001b[A                                                                                                                                                                                                       \n",
      "t:   3%|███▊                                                                                                                                              | 2/76 [1:37:38<60:12:57, 2929.43s/it, now=None]\u001b[A\n",
      "\u001b[A                                                                                                                                                                                                       \n",
      "t:   3%|███▊                                                                                                                                              | 2/76 [1:37:38<60:12:57, 2929.43s/it, now=None]\u001b[A\n",
      "\u001b[A                                                                                                                                                                                                       \n",
      "t:   3%|███▊                                                                                                                                              | 2/76 [1:37:38<60:13:01, 2929.48s/it, now=None]\u001b[A\n",
      "\u001b[A                                                                                                                                                                                                       \n",
      "t:   3%|███▊                                                                                                                                              | 2/76 [1:37:38<60:13:01, 2929.48s/it, now=None]\u001b[A"
     ]
    },
    {
     "name": "stdout",
     "output_type": "stream",
     "text": [
      "Moviepy - Done !\n",
      "Moviepy - video ready trimmed/82.mp4\n",
      "Moviepy - Building video trimmed/83.mp4.\n",
      "Moviepy - Writing video trimmed/83.mp4\n",
      "\n"
     ]
    },
    {
     "name": "stderr",
     "output_type": "stream",
     "text": [
      "\n",
      "\n",
      "t:   0%|                                                                                                                                                                | 0/108 [00:00<?, ?it/s, now=None]\u001b[A\u001b[A\n",
      "\n",
      "t:  88%|███████████████████████████████████████████████████████████████████████████████████████████████████████████████████████████████████▉                  | 95/108 [00:00<00:00, 946.03it/s, now=None]\u001b[A\u001b[A\n",
      "\n",
      "                                                                                                                                                                                                          \u001b[A\u001b[A\n",
      "\u001b[A                                                                                                                                                                                                       \n",
      "t:   3%|███▊                                                                                                                                              | 2/76 [1:37:39<60:13:07, 2929.56s/it, now=None]\u001b[A\n",
      "\u001b[A                                                                                                                                                                                                       \n",
      "t:   3%|███▊                                                                                                                                              | 2/76 [1:37:39<60:13:07, 2929.56s/it, now=None]\u001b[A\n",
      "\u001b[A                                                                                                                                                                                                       \n",
      "t:   3%|███▊                                                                                                                                              | 2/76 [1:37:39<60:13:12, 2929.63s/it, now=None]\u001b[A\n",
      "\u001b[A                                                                                                                                                                                                       \n",
      "t:   3%|███▊                                                                                                                                              | 2/76 [1:37:39<60:13:12, 2929.63s/it, now=None]\u001b[A"
     ]
    },
    {
     "name": "stdout",
     "output_type": "stream",
     "text": [
      "Moviepy - Done !\n",
      "Moviepy - video ready trimmed/83.mp4\n",
      "Moviepy - Building video trimmed/84.mp4.\n",
      "Moviepy - Writing video trimmed/84.mp4\n",
      "\n"
     ]
    },
    {
     "name": "stderr",
     "output_type": "stream",
     "text": [
      "\n",
      "\n",
      "t:   0%|                                                                                                                                                                | 0/155 [00:00<?, ?it/s, now=None]\u001b[A\u001b[A\n",
      "\n",
      "t:  51%|████████████████████████████████████████████████████████████████████████████▍                                                                         | 79/155 [00:00<00:00, 767.55it/s, now=None]\u001b[A\u001b[A\n",
      "\n",
      "                                                                                                                                                                                                          \u001b[A\u001b[A\n",
      "\u001b[A                                                                                                                                                                                                       \n",
      "t:   3%|███▊                                                                                                                                              | 2/76 [1:37:39<60:13:30, 2929.88s/it, now=None]\u001b[A\n",
      "\u001b[A                                                                                                                                                                                                       \n",
      "t:   3%|███▊                                                                                                                                              | 2/76 [1:37:39<60:13:30, 2929.88s/it, now=None]\u001b[A\n",
      "\u001b[A                                                                                                                                                                                                       \n",
      "t:   3%|███▊                                                                                                                                              | 2/76 [1:37:39<60:13:34, 2929.93s/it, now=None]\u001b[A\n",
      "\u001b[A                                                                                                                                                                                                       \n",
      "t:   3%|███▊                                                                                                                                              | 2/76 [1:37:39<60:13:34, 2929.93s/it, now=None]\u001b[A"
     ]
    },
    {
     "name": "stdout",
     "output_type": "stream",
     "text": [
      "Moviepy - Done !\n",
      "Moviepy - video ready trimmed/84.mp4\n",
      "Moviepy - Building video trimmed/85.mp4.\n",
      "Moviepy - Writing video trimmed/85.mp4\n",
      "\n"
     ]
    },
    {
     "name": "stderr",
     "output_type": "stream",
     "text": [
      "\n",
      "\n",
      "t:   0%|                                                                                                                                                                | 0/100 [00:00<?, ?it/s, now=None]\u001b[A\u001b[A\n",
      "\n",
      "                                                                                                                                                                                                          \u001b[A\u001b[A\n",
      "\u001b[A                                                                                                                                                                                                       \n",
      "t:   3%|███▊                                                                                                                                              | 2/76 [1:37:40<60:13:40, 2930.01s/it, now=None]\u001b[A\n",
      "\u001b[A                                                                                                                                                                                                       \n",
      "t:   3%|███▊                                                                                                                                              | 2/76 [1:37:40<60:13:40, 2930.01s/it, now=None]\u001b[A\n",
      "\u001b[A                                                                                                                                                                                                       \n",
      "t:   3%|███▊                                                                                                                                              | 2/76 [1:37:40<60:13:47, 2930.11s/it, now=None]\u001b[A\n",
      "\u001b[A                                                                                                                                                                                                       \n",
      "t:   3%|███▊                                                                                                                                              | 2/76 [1:37:40<60:13:47, 2930.11s/it, now=None]\u001b[A"
     ]
    },
    {
     "name": "stdout",
     "output_type": "stream",
     "text": [
      "Moviepy - Done !\n",
      "Moviepy - video ready trimmed/85.mp4\n",
      "Moviepy - Building video trimmed/86.mp4.\n",
      "MoviePy - Writing audio in 86TEMP_MPY_wvf_snd.mp3\n"
     ]
    },
    {
     "name": "stderr",
     "output_type": "stream",
     "text": [
      "\n",
      "\n",
      "chunk:   0%|                                                                                                                                                            | 0/144 [00:00<?, ?it/s, now=None]\u001b[A\u001b[A\n",
      "\n",
      "                                                                                                                                                                                                          \u001b[A\u001b[A\n",
      "\u001b[A                                                                                                                                                                                                       \n",
      "t:   3%|███▊                                                                                                                                              | 2/76 [1:37:40<60:13:50, 2930.14s/it, now=None]\u001b[A\n",
      "\u001b[A                                                                                                                                                                                                       \n",
      "t:   3%|███▊                                                                                                                                              | 2/76 [1:37:40<60:13:50, 2930.14s/it, now=None]\u001b[A"
     ]
    },
    {
     "name": "stdout",
     "output_type": "stream",
     "text": [
      "MoviePy - Done.\n",
      "Moviepy - Writing video trimmed/86.mp4\n",
      "\n"
     ]
    },
    {
     "name": "stderr",
     "output_type": "stream",
     "text": [
      "\n",
      "\n",
      "t:   0%|                                                                                                                                                                | 0/156 [00:00<?, ?it/s, now=None]\u001b[A\u001b[A\n",
      "\n",
      "t:  53%|███████████████████████████████████████████████████████████████████████████████▊                                                                      | 83/156 [00:00<00:00, 815.16it/s, now=None]\u001b[A\u001b[A\n",
      "\n",
      "                                                                                                                                                                                                          \u001b[A\u001b[A\n",
      "\u001b[A                                                                                                                                                                                                       \n",
      "t:   3%|███▊                                                                                                                                              | 2/76 [1:37:40<60:14:03, 2930.32s/it, now=None]\u001b[A\n",
      "\u001b[A                                                                                                                                                                                                       \n",
      "t:   3%|███▊                                                                                                                                              | 2/76 [1:37:40<60:14:03, 2930.32s/it, now=None]\u001b[A\n",
      "\u001b[A                                                                                                                                                                                                       \n",
      "t:   3%|███▊                                                                                                                                              | 2/76 [1:37:40<60:14:07, 2930.38s/it, now=None]\u001b[A\n",
      "\u001b[A                                                                                                                                                                                                       \n",
      "t:   3%|███▊                                                                                                                                              | 2/76 [1:37:40<60:14:08, 2930.38s/it, now=None]\u001b[A"
     ]
    },
    {
     "name": "stdout",
     "output_type": "stream",
     "text": [
      "Moviepy - Done !\n",
      "Moviepy - video ready trimmed/86.mp4\n",
      "Moviepy - Building video trimmed/87.mp4.\n",
      "Moviepy - Writing video trimmed/87.mp4\n",
      "\n"
     ]
    },
    {
     "name": "stderr",
     "output_type": "stream",
     "text": [
      "\n",
      "\n",
      "t:   0%|                                                                                                                                                                 | 0/75 [00:00<?, ?it/s, now=None]\u001b[A\u001b[A\n",
      "\n",
      "t:  73%|██████████████████████████████████████████████████████████████████████████████████████████████████████████████▋                                        | 55/75 [00:00<00:00, 543.73it/s, now=None]\u001b[A\u001b[A\n",
      "\n",
      "                                                                                                                                                                                                          \u001b[A\u001b[A\n",
      "\u001b[A                                                                                                                                                                                                       \n",
      "t:   3%|███▊                                                                                                                                              | 2/76 [1:37:41<60:14:20, 2930.54s/it, now=None]\u001b[A\n",
      "\u001b[A                                                                                                                                                                                                       \n",
      "t:   3%|███▊                                                                                                                                              | 2/76 [1:37:41<60:14:20, 2930.54s/it, now=None]\u001b[A\n",
      "\u001b[A                                                                                                                                                                                                       \n",
      "t:   3%|███▊                                                                                                                                              | 2/76 [1:37:41<60:14:24, 2930.60s/it, now=None]\u001b[A\n",
      "\u001b[A                                                                                                                                                                                                       \n",
      "t:   3%|███▊                                                                                                                                              | 2/76 [1:37:41<60:14:24, 2930.60s/it, now=None]\u001b[A"
     ]
    },
    {
     "name": "stdout",
     "output_type": "stream",
     "text": [
      "Moviepy - Done !\n",
      "Moviepy - video ready trimmed/87.mp4\n",
      "Moviepy - Building video trimmed/88.mp4.\n",
      "Moviepy - Writing video trimmed/88.mp4\n",
      "\n"
     ]
    },
    {
     "name": "stderr",
     "output_type": "stream",
     "text": [
      "\n",
      "\n",
      "t:   0%|                                                                                                                                                                | 0/106 [00:00<?, ?it/s, now=None]\u001b[A\u001b[A\n",
      "\n",
      "t:  92%|█████████████████████████████████████████████████████████████████████████████████████████████████████████████████████████████████████████▎            | 97/106 [00:00<00:00, 950.71it/s, now=None]\u001b[A\u001b[A\n",
      "\n",
      "                                                                                                                                                                                                          \u001b[A\u001b[A\n",
      "\u001b[A                                                                                                                                                                                                       \n",
      "t:   3%|███▊                                                                                                                                              | 2/76 [1:37:41<60:14:32, 2930.71s/it, now=None]\u001b[A\n",
      "\u001b[A                                                                                                                                                                                                       \n",
      "t:   3%|███▊                                                                                                                                              | 2/76 [1:37:41<60:14:32, 2930.71s/it, now=None]\u001b[A\n",
      "\u001b[A                                                                                                                                                                                                       \n",
      "t:   3%|███▊                                                                                                                                              | 2/76 [1:37:41<60:14:39, 2930.81s/it, now=None]\u001b[A\n",
      "\u001b[A                                                                                                                                                                                                       \n",
      "t:   3%|███▊                                                                                                                                              | 2/76 [1:37:41<60:14:39, 2930.81s/it, now=None]\u001b[A"
     ]
    },
    {
     "name": "stdout",
     "output_type": "stream",
     "text": [
      "Moviepy - Done !\n",
      "Moviepy - video ready trimmed/88.mp4\n",
      "Moviepy - Building video trimmed/89.mp4.\n",
      "MoviePy - Writing audio in 89TEMP_MPY_wvf_snd.mp3\n"
     ]
    },
    {
     "name": "stderr",
     "output_type": "stream",
     "text": [
      "\n",
      "\n",
      "chunk:   0%|                                                                                                                                                             | 0/87 [00:00<?, ?it/s, now=None]\u001b[A\u001b[A\n",
      "\n",
      "                                                                                                                                                                                                          \u001b[A\u001b[A\n",
      "\u001b[A                                                                                                                                                                                                       \n",
      "t:   3%|███▊                                                                                                                                              | 2/76 [1:37:41<60:14:42, 2930.84s/it, now=None]\u001b[A\n",
      "\u001b[A                                                                                                                                                                                                       \n",
      "t:   3%|███▊                                                                                                                                              | 2/76 [1:37:41<60:14:42, 2930.84s/it, now=None]\u001b[A"
     ]
    },
    {
     "name": "stdout",
     "output_type": "stream",
     "text": [
      "MoviePy - Done.\n",
      "Moviepy - Writing video trimmed/89.mp4\n",
      "\n"
     ]
    },
    {
     "name": "stderr",
     "output_type": "stream",
     "text": [
      "\n",
      "\n",
      "t:   0%|                                                                                                                                                                 | 0/98 [00:00<?, ?it/s, now=None]\u001b[A\u001b[A\n",
      "\n",
      "t:  92%|██████████████████████████████████████████████████████████████████████████████████████████████████████████████████████████████████████████▋            | 90/98 [00:00<00:00, 890.97it/s, now=None]\u001b[A\u001b[A\n",
      "\n",
      "                                                                                                                                                                                                          \u001b[A\u001b[A\n",
      "\u001b[A                                                                                                                                                                                                       \n",
      "t:   3%|███▊                                                                                                                                              | 2/76 [1:37:41<60:14:48, 2930.93s/it, now=None]\u001b[A\n",
      "\u001b[A                                                                                                                                                                                                       \n",
      "t:   3%|███▊                                                                                                                                              | 2/76 [1:37:41<60:14:48, 2930.93s/it, now=None]\u001b[A"
     ]
    },
    {
     "name": "stdout",
     "output_type": "stream",
     "text": [
      "Moviepy - Done !\n",
      "Moviepy - video ready trimmed/89.mp4\n"
     ]
    },
    {
     "name": "stderr",
     "output_type": "stream",
     "text": [
      "\n",
      "\u001b[A                                                                                                                                                                                                       \n",
      "t:   3%|███▊                                                                                                                                              | 2/76 [1:37:41<60:14:52, 2930.98s/it, now=None]\u001b[A\n",
      "\u001b[A                                                                                                                                                                                                       \n",
      "t:   3%|███▊                                                                                                                                              | 2/76 [1:37:41<60:14:52, 2930.98s/it, now=None]\u001b[A"
     ]
    },
    {
     "name": "stdout",
     "output_type": "stream",
     "text": [
      "Moviepy - Building video trimmed/90.mp4.\n",
      "Moviepy - Writing video trimmed/90.mp4\n",
      "\n"
     ]
    },
    {
     "name": "stderr",
     "output_type": "stream",
     "text": [
      "\n",
      "\n",
      "t:   0%|                                                                                                                                                                | 0/111 [00:00<?, ?it/s, now=None]\u001b[A\u001b[A\n",
      "\n",
      "t:  72%|████████████████████████████████████████████████████████████████████████████████████████████████████████████                                          | 80/111 [00:00<00:00, 778.48it/s, now=None]\u001b[A\u001b[A\n",
      "\n",
      "                                                                                                                                                                                                          \u001b[A\u001b[A\n",
      "\u001b[A                                                                                                                                                                                                       \n",
      "t:   3%|███▊                                                                                                                                              | 2/76 [1:37:42<60:15:02, 2931.11s/it, now=None]\u001b[A\n",
      "\u001b[A                                                                                                                                                                                                       \n",
      "t:   3%|███▊                                                                                                                                              | 2/76 [1:37:42<60:15:02, 2931.11s/it, now=None]\u001b[A"
     ]
    },
    {
     "name": "stdout",
     "output_type": "stream",
     "text": [
      "Moviepy - Done !\n",
      "Moviepy - video ready trimmed/90.mp4\n"
     ]
    },
    {
     "name": "stderr",
     "output_type": "stream",
     "text": [
      "\n",
      "\u001b[A                                                                                                                                                                                                       \n",
      "t:   3%|███▊                                                                                                                                              | 2/76 [1:37:42<60:15:12, 2931.25s/it, now=None]\u001b[A\n",
      "\u001b[A                                                                                                                                                                                                       \n",
      "t:   3%|███▊                                                                                                                                              | 2/76 [1:37:42<60:15:12, 2931.25s/it, now=None]\u001b[A"
     ]
    },
    {
     "name": "stdout",
     "output_type": "stream",
     "text": [
      "Moviepy - Building video trimmed/91.mp4.\n",
      "MoviePy - Writing audio in 91TEMP_MPY_wvf_snd.mp3\n"
     ]
    },
    {
     "name": "stderr",
     "output_type": "stream",
     "text": [
      "\n",
      "\n",
      "chunk:   0%|                                                                                                                                                            | 0/148 [00:00<?, ?it/s, now=None]\u001b[A\u001b[A\n",
      "\n",
      "                                                                                                                                                                                                          \u001b[A\u001b[A\n",
      "\u001b[A                                                                                                                                                                                                       \n",
      "t:   3%|███▊                                                                                                                                              | 2/76 [1:37:42<60:15:16, 2931.30s/it, now=None]\u001b[A\n",
      "\u001b[A                                                                                                                                                                                                       \n",
      "t:   3%|███▊                                                                                                                                              | 2/76 [1:37:42<60:15:16, 2931.30s/it, now=None]\u001b[A"
     ]
    },
    {
     "name": "stdout",
     "output_type": "stream",
     "text": [
      "MoviePy - Done.\n",
      "Moviepy - Writing video trimmed/91.mp4\n",
      "\n"
     ]
    },
    {
     "name": "stderr",
     "output_type": "stream",
     "text": [
      "\n",
      "\n",
      "t:   0%|                                                                                                                                                                | 0/170 [00:00<?, ?it/s, now=None]\u001b[A\u001b[A\n",
      "\n",
      "t:  18%|███████████████████████████▎                                                                                                                          | 31/170 [00:00<00:00, 303.20it/s, now=None]\u001b[A\u001b[A\n",
      "\n",
      "t:  41%|████████████████████████████████████████████████████████████▉                                                                                         | 69/170 [00:00<00:00, 345.44it/s, now=None]\u001b[A\u001b[A\n",
      "\n",
      "t:  61%|███████████████████████████████████████████████████████████████████████████████████████████▏                                                         | 104/170 [00:00<00:00, 212.92it/s, now=None]\u001b[A\u001b[A\n",
      "\n",
      "t:  76%|█████████████████████████████████████████████████████████████████████████████████████████████████████████████████▉                                   | 130/170 [00:00<00:00, 187.50it/s, now=None]\u001b[A\u001b[A\n",
      "\n",
      "t:  89%|█████████████████████████████████████████████████████████████████████████████████████████████████████████████████████████████████████▏               | 152/170 [00:00<00:00, 161.54it/s, now=None]\u001b[A\u001b[A\n",
      "\n",
      "t: 100%|█████████████████████████████████████████████████████████████████████████████████████████████████████████████████████████████████████████████████████| 170/170 [00:00<00:00, 147.79it/s, now=None]\u001b[A\u001b[A\n",
      "\n",
      "                                                                                                                                                                                                          \u001b[A\u001b[A\n",
      "\u001b[A                                                                                                                                                                                                       \n",
      "t:   3%|███▊                                                                                                                                              | 2/76 [1:37:44<60:16:08, 2932.01s/it, now=None]\u001b[A\n",
      "\u001b[A                                                                                                                                                                                                       \n",
      "t:   3%|███▊                                                                                                                                              | 2/76 [1:37:44<60:16:08, 2932.01s/it, now=None]\u001b[A"
     ]
    },
    {
     "name": "stdout",
     "output_type": "stream",
     "text": [
      "Moviepy - Done !\n",
      "Moviepy - video ready trimmed/91.mp4\n"
     ]
    },
    {
     "name": "stderr",
     "output_type": "stream",
     "text": [
      "\n",
      "\u001b[A                                                                                                                                                                                                       \n",
      "t:   3%|███▊                                                                                                                                              | 2/76 [1:37:44<60:16:16, 2932.11s/it, now=None]\u001b[A\n",
      "\u001b[A                                                                                                                                                                                                       \n",
      "t:   3%|███▊                                                                                                                                              | 2/76 [1:37:44<60:16:16, 2932.11s/it, now=None]\u001b[A"
     ]
    },
    {
     "name": "stdout",
     "output_type": "stream",
     "text": [
      "Moviepy - Building video trimmed/92.mp4.\n",
      "MoviePy - Writing audio in 92TEMP_MPY_wvf_snd.mp3\n"
     ]
    },
    {
     "name": "stderr",
     "output_type": "stream",
     "text": [
      "\n",
      "\n",
      "chunk:   0%|                                                                                                                                                             | 0/87 [00:00<?, ?it/s, now=None]\u001b[A\u001b[A\n",
      "\n",
      "                                                                                                                                                                                                          \u001b[A\u001b[A\n",
      "\u001b[A                                                                                                                                                                                                       \n",
      "t:   3%|███▊                                                                                                                                              | 2/76 [1:37:44<60:16:18, 2932.14s/it, now=None]\u001b[A\n",
      "\u001b[A                                                                                                                                                                                                       \n",
      "t:   3%|███▊                                                                                                                                              | 2/76 [1:37:44<60:16:18, 2932.14s/it, now=None]\u001b[A"
     ]
    },
    {
     "name": "stdout",
     "output_type": "stream",
     "text": [
      "MoviePy - Done.\n",
      "Moviepy - Writing video trimmed/92.mp4\n",
      "\n"
     ]
    },
    {
     "name": "stderr",
     "output_type": "stream",
     "text": [
      "\n",
      "\n",
      "t:   0%|                                                                                                                                                                | 0/117 [00:00<?, ?it/s, now=None]\u001b[A\u001b[A\n",
      "\n",
      "t:  78%|████████████████████████████████████████████████████████████████████████████████████████████████████████████████████▋                                 | 91/117 [00:00<00:00, 900.63it/s, now=None]\u001b[A\u001b[A\n",
      "\n",
      "                                                                                                                                                                                                          \u001b[A\u001b[A\n",
      "\u001b[A                                                                                                                                                                                                       \n",
      "t:   3%|███▊                                                                                                                                              | 2/76 [1:37:44<60:16:25, 2932.24s/it, now=None]\u001b[A\n",
      "\u001b[A                                                                                                                                                                                                       \n",
      "t:   3%|███▊                                                                                                                                              | 2/76 [1:37:44<60:16:25, 2932.24s/it, now=None]\u001b[A"
     ]
    },
    {
     "name": "stdout",
     "output_type": "stream",
     "text": [
      "Moviepy - Done !\n",
      "Moviepy - video ready trimmed/92.mp4\n"
     ]
    },
    {
     "name": "stderr",
     "output_type": "stream",
     "text": [
      "\n",
      "\u001b[A                                                                                                                                                                                                       \n",
      "t:   3%|███▊                                                                                                                                              | 2/76 [1:37:44<60:16:31, 2932.31s/it, now=None]\u001b[A\n",
      "\u001b[A                                                                                                                                                                                                       \n",
      "t:   3%|███▊                                                                                                                                              | 2/76 [1:37:44<60:16:31, 2932.31s/it, now=None]\u001b[A"
     ]
    },
    {
     "name": "stdout",
     "output_type": "stream",
     "text": [
      "Moviepy - Building video trimmed/93.mp4.\n",
      "Moviepy - Writing video trimmed/93.mp4\n",
      "\n"
     ]
    },
    {
     "name": "stderr",
     "output_type": "stream",
     "text": [
      "\n",
      "\n",
      "t:   0%|                                                                                                                                                                | 0/138 [00:00<?, ?it/s, now=None]\u001b[A\u001b[A\n",
      "\n",
      "t:  39%|██████████████████████████████████████████████████████████▋                                                                                           | 54/138 [00:00<00:00, 533.76it/s, now=None]\u001b[A\u001b[A\n",
      "\n",
      "t:  78%|████████████████████████████████████████████████████████████████████████████████████████████████████████████████████▌                                | 108/138 [00:00<00:00, 308.31it/s, now=None]\u001b[A\u001b[A\n",
      "\n",
      "                                                                                                                                                                                                          \u001b[A\u001b[A\n",
      "\u001b[A                                                                                                                                                                                                       \n",
      "t:   3%|███▊                                                                                                                                              | 2/76 [1:37:45<60:17:04, 2932.77s/it, now=None]\u001b[A\n",
      "\u001b[A                                                                                                                                                                                                       \n",
      "t:   3%|███▊                                                                                                                                              | 2/76 [1:37:45<60:17:04, 2932.77s/it, now=None]\u001b[A\n",
      "\u001b[A                                                                                                                                                                                                       \n",
      "t:   3%|███▊                                                                                                                                              | 2/76 [1:37:45<60:17:09, 2932.82s/it, now=None]\u001b[A\n",
      "\u001b[A                                                                                                                                                                                                       \n",
      "t:   3%|███▊                                                                                                                                              | 2/76 [1:37:45<60:17:09, 2932.83s/it, now=None]\u001b[A"
     ]
    },
    {
     "name": "stdout",
     "output_type": "stream",
     "text": [
      "Moviepy - Done !\n",
      "Moviepy - video ready trimmed/93.mp4\n",
      "Moviepy - Building video trimmed/94.mp4.\n",
      "Moviepy - Writing video trimmed/94.mp4\n",
      "\n"
     ]
    },
    {
     "name": "stderr",
     "output_type": "stream",
     "text": [
      "\n",
      "\n",
      "t:   0%|                                                                                                                                                                | 0/166 [00:00<?, ?it/s, now=None]\u001b[A\u001b[A\n",
      "\n",
      "t:  52%|█████████████████████████████████████████████████████████████████████████████▋                                                                        | 86/166 [00:00<00:00, 859.49it/s, now=None]\u001b[A\u001b[A\n",
      "\n",
      "                                                                                                                                                                                                          \u001b[A\u001b[A\n",
      "\u001b[A                                                                                                                                                                                                       \n",
      "t:   3%|███▊                                                                                                                                              | 2/76 [1:37:46<60:17:24, 2933.03s/it, now=None]\u001b[A\n",
      "\u001b[A                                                                                                                                                                                                       \n",
      "t:   3%|███▊                                                                                                                                              | 2/76 [1:37:46<60:17:24, 2933.03s/it, now=None]\u001b[A\n",
      "\u001b[A                                                                                                                                                                                                       \n",
      "t:   3%|███▊                                                                                                                                              | 2/76 [1:37:46<60:17:31, 2933.13s/it, now=None]\u001b[A\n",
      "\u001b[A                                                                                                                                                                                                       "
     ]
    },
    {
     "name": "stdout",
     "output_type": "stream",
     "text": [
      "Moviepy - Done !\n",
      "Moviepy - video ready trimmed/94.mp4\n",
      "Moviepy - Building video trimmed/95.mp4.\n"
     ]
    },
    {
     "name": "stderr",
     "output_type": "stream",
     "text": [
      "\n",
      "t:   3%|███▊                                                                                                                                              | 2/76 [1:37:46<60:17:31, 2933.13s/it, now=None]\u001b[A"
     ]
    },
    {
     "name": "stdout",
     "output_type": "stream",
     "text": [
      "MoviePy - Writing audio in 95TEMP_MPY_wvf_snd.mp3\n"
     ]
    },
    {
     "name": "stderr",
     "output_type": "stream",
     "text": [
      "\n",
      "\n",
      "chunk:   0%|                                                                                                                                                             | 0/46 [00:00<?, ?it/s, now=None]\u001b[A\u001b[A\n",
      "\n",
      "                                                                                                                                                                                                          \u001b[A\u001b[A\n",
      "\u001b[A                                                                                                                                                                                                       \n",
      "t:   3%|███▊                                                                                                                                              | 2/76 [1:37:46<60:17:33, 2933.16s/it, now=None]\u001b[A\n",
      "\u001b[A                                                                                                                                                                                                       \n",
      "t:   3%|███▊                                                                                                                                              | 2/76 [1:37:46<60:17:33, 2933.16s/it, now=None]\u001b[A"
     ]
    },
    {
     "name": "stdout",
     "output_type": "stream",
     "text": [
      "MoviePy - Done.\n",
      "Moviepy - Writing video trimmed/95.mp4\n",
      "\n"
     ]
    },
    {
     "name": "stderr",
     "output_type": "stream",
     "text": [
      "\n",
      "\n",
      "t:   0%|                                                                                                                                                                 | 0/62 [00:00<?, ?it/s, now=None]\u001b[A\u001b[A\n",
      "\n",
      "                                                                                                                                                                                                          \u001b[A\u001b[A\n",
      "\u001b[A                                                                                                                                                                                                       \n",
      "t:   3%|███▊                                                                                                                                              | 2/76 [1:37:46<60:17:41, 2933.27s/it, now=None]\u001b[A\n",
      "\u001b[A                                                                                                                                                                                                       \n",
      "t:   3%|███▊                                                                                                                                              | 2/76 [1:37:46<60:17:41, 2933.27s/it, now=None]\u001b[A"
     ]
    },
    {
     "name": "stdout",
     "output_type": "stream",
     "text": [
      "Moviepy - Done !\n",
      "Moviepy - video ready trimmed/95.mp4\n"
     ]
    },
    {
     "name": "stderr",
     "output_type": "stream",
     "text": [
      "\n",
      "\u001b[A                                                                                                                                                                                                       \n",
      "t:   3%|███▊                                                                                                                                              | 2/76 [1:37:46<60:17:50, 2933.38s/it, now=None]\u001b[A\n",
      "\u001b[A                                                                                                                                                                                                       \n",
      "t:   3%|███▊                                                                                                                                              | 2/76 [1:37:46<60:17:50, 2933.38s/it, now=None]\u001b[A"
     ]
    },
    {
     "name": "stdout",
     "output_type": "stream",
     "text": [
      "Moviepy - Building video trimmed/96.mp4.\n",
      "MoviePy - Writing audio in 96TEMP_MPY_wvf_snd.mp3\n"
     ]
    },
    {
     "name": "stderr",
     "output_type": "stream",
     "text": [
      "\n",
      "\n",
      "chunk:   0%|                                                                                                                                                             | 0/72 [00:00<?, ?it/s, now=None]\u001b[A\u001b[A\n",
      "\n",
      "                                                                                                                                                                                                          \u001b[A\u001b[A\n",
      "\u001b[A                                                                                                                                                                                                       \n",
      "t:   3%|███▊                                                                                                                                              | 2/76 [1:37:46<60:17:52, 2933.41s/it, now=None]\u001b[A\n",
      "\u001b[A                                                                                                                                                                                                       \n",
      "t:   3%|███▊                                                                                                                                              | 2/76 [1:37:46<60:17:52, 2933.41s/it, now=None]\u001b[A"
     ]
    },
    {
     "name": "stdout",
     "output_type": "stream",
     "text": [
      "MoviePy - Done.\n",
      "Moviepy - Writing video trimmed/96.mp4\n",
      "\n"
     ]
    },
    {
     "name": "stderr",
     "output_type": "stream",
     "text": [
      "\n",
      "\n",
      "t:   0%|                                                                                                                                                                 | 0/97 [00:00<?, ?it/s, now=None]\u001b[A\u001b[A\n",
      "\n",
      "t:  28%|██████████████████████████████████████████                                                                                                             | 27/97 [00:00<00:00, 268.08it/s, now=None]\u001b[A\u001b[A\n",
      "\n",
      "t:  61%|███████████████████████████████████████████████████████████████████████████████████████████▊                                                           | 59/97 [00:00<00:00, 292.74it/s, now=None]\u001b[A\u001b[A\n",
      "\n",
      "t:  92%|██████████████████████████████████████████████████████████████████████████████████████████████████████████████████████████████████████████▌            | 89/97 [00:00<00:00, 208.08it/s, now=None]\u001b[A\u001b[A\n",
      "\n",
      "                                                                                                                                                                                                          \u001b[A\u001b[A\n",
      "\u001b[A                                                                                                                                                                                                       \n",
      "t:   3%|███▊                                                                                                                                              | 2/76 [1:37:48<60:18:36, 2934.01s/it, now=None]\u001b[A\n",
      "\u001b[A                                                                                                                                                                                                       \n",
      "t:   3%|███▊                                                                                                                                              | 2/76 [1:37:48<60:18:36, 2934.01s/it, now=None]\u001b[A"
     ]
    },
    {
     "name": "stdout",
     "output_type": "stream",
     "text": [
      "Moviepy - Done !\n",
      "Moviepy - video ready trimmed/96.mp4\n"
     ]
    },
    {
     "name": "stderr",
     "output_type": "stream",
     "text": [
      "\n",
      "\u001b[A                                                                                                                                                                                                       \n",
      "t:   3%|███▊                                                                                                                                              | 2/76 [1:37:48<60:18:48, 2934.17s/it, now=None]\u001b[A\n",
      "\u001b[A                                                                                                                                                                                                       \n",
      "t:   3%|███▊                                                                                                                                              | 2/76 [1:37:48<60:18:48, 2934.17s/it, now=None]\u001b[A"
     ]
    },
    {
     "name": "stdout",
     "output_type": "stream",
     "text": [
      "Moviepy - Building video trimmed/97.mp4.\n",
      "MoviePy - Writing audio in 97TEMP_MPY_wvf_snd.mp3\n"
     ]
    },
    {
     "name": "stderr",
     "output_type": "stream",
     "text": [
      "\n",
      "\n",
      "chunk:   0%|                                                                                                                                                            | 0/117 [00:00<?, ?it/s, now=None]\u001b[A\u001b[A\n",
      "\n",
      "                                                                                                                                                                                                          \u001b[A\u001b[A\n",
      "\u001b[A                                                                                                                                                                                                       \n",
      "t:   3%|███▊                                                                                                                                              | 2/76 [1:37:48<60:18:52, 2934.23s/it, now=None]\u001b[A\n",
      "\u001b[A                                                                                                                                                                                                       \n",
      "t:   3%|███▊                                                                                                                                              | 2/76 [1:37:48<60:18:52, 2934.23s/it, now=None]\u001b[A"
     ]
    },
    {
     "name": "stdout",
     "output_type": "stream",
     "text": [
      "MoviePy - Done.\n",
      "Moviepy - Writing video trimmed/97.mp4\n",
      "\n"
     ]
    },
    {
     "name": "stderr",
     "output_type": "stream",
     "text": [
      "\n",
      "\n",
      "t:   0%|                                                                                                                                                                | 0/106 [00:00<?, ?it/s, now=None]\u001b[A\u001b[A\n",
      "\n",
      "t:  24%|███████████████████████████████████▍                                                                                                                  | 25/106 [00:00<00:00, 245.80it/s, now=None]\u001b[A\u001b[A\n",
      "\n",
      "t:  54%|████████████████████████████████████████████████████████████████████████████████▋                                                                     | 57/106 [00:00<00:00, 287.18it/s, now=None]\u001b[A\u001b[A\n",
      "\n",
      "t:  81%|█████████████████████████████████████████████████████████████████████████████████████████████████████████████████████████▋                            | 86/106 [00:00<00:00, 188.46it/s, now=None]\u001b[A\u001b[A\n",
      "\n",
      "                                                                                                                                                                                                          \u001b[A\u001b[A\n",
      "\u001b[A                                                                                                                                                                                                       \n",
      "t:   3%|███▊                                                                                                                                              | 2/76 [1:37:49<60:19:32, 2934.76s/it, now=None]\u001b[A\n",
      "\u001b[A                                                                                                                                                                                                       \n",
      "t:   3%|███▊                                                                                                                                              | 2/76 [1:37:49<60:19:32, 2934.76s/it, now=None]\u001b[A\n",
      "\u001b[A                                                                                                                                                                                                       \n",
      "t:   3%|███▊                                                                                                                                              | 2/76 [1:37:49<60:19:37, 2934.83s/it, now=None]\u001b[A\n",
      "\u001b[A                                                                                                                                                                                                       \n",
      "t:   3%|███▊                                                                                                                                              | 2/76 [1:37:49<60:19:37, 2934.83s/it, now=None]\u001b[A"
     ]
    },
    {
     "name": "stdout",
     "output_type": "stream",
     "text": [
      "Moviepy - Done !\n",
      "Moviepy - video ready trimmed/97.mp4\n",
      "Moviepy - Building video trimmed/98.mp4.\n",
      "Moviepy - Writing video trimmed/98.mp4\n",
      "\n"
     ]
    },
    {
     "name": "stderr",
     "output_type": "stream",
     "text": [
      "\n",
      "\n",
      "t:   0%|                                                                                                                                                                | 0/116 [00:00<?, ?it/s, now=None]\u001b[A\u001b[A\n",
      "\n",
      "t:  72%|███████████████████████████████████████████████████████████████████████████████████████████████████████████▎                                          | 83/116 [00:00<00:00, 794.78it/s, now=None]\u001b[A\u001b[A\n",
      "\n",
      "                                                                                                                                                                                                          \u001b[A\u001b[A\n",
      "\u001b[A                                                                                                                                                                                                       \n",
      "t:   3%|███▊                                                                                                                                              | 2/76 [1:37:49<60:19:47, 2934.97s/it, now=None]\u001b[A\n",
      "\u001b[A                                                                                                                                                                                                       \n",
      "t:   3%|███▊                                                                                                                                              | 2/76 [1:37:49<60:19:47, 2934.97s/it, now=None]\u001b[A"
     ]
    },
    {
     "name": "stdout",
     "output_type": "stream",
     "text": [
      "Moviepy - Done !\n",
      "Moviepy - video ready trimmed/98.mp4\n"
     ]
    },
    {
     "name": "stderr",
     "output_type": "stream",
     "text": [
      "\n",
      "\u001b[A                                                                                                                                                                                                       \n",
      "t:   3%|███▊                                                                                                                                              | 2/76 [1:37:50<60:19:59, 2935.13s/it, now=None]\u001b[A\n",
      "\u001b[A                                                                                                                                                                                                       \n",
      "t:   3%|███▊                                                                                                                                              | 2/76 [1:37:50<60:19:59, 2935.13s/it, now=None]\u001b[A"
     ]
    },
    {
     "name": "stdout",
     "output_type": "stream",
     "text": [
      "Moviepy - Building video trimmed/99.mp4.\n",
      "MoviePy - Writing audio in 99TEMP_MPY_wvf_snd.mp3\n"
     ]
    },
    {
     "name": "stderr",
     "output_type": "stream",
     "text": [
      "\n",
      "\n",
      "chunk:   0%|                                                                                                                                                             | 0/87 [00:00<?, ?it/s, now=None]\u001b[A\u001b[A\n",
      "\n",
      "                                                                                                                                                                                                          \u001b[A\u001b[A\n",
      "\u001b[A                                                                                                                                                                                                       \n",
      "t:   3%|███▊                                                                                                                                              | 2/76 [1:37:50<60:20:03, 2935.18s/it, now=None]\u001b[A\n",
      "\u001b[A                                                                                                                                                                                                       \n",
      "t:   3%|███▊                                                                                                                                              | 2/76 [1:37:50<60:20:03, 2935.18s/it, now=None]\u001b[A"
     ]
    },
    {
     "name": "stdout",
     "output_type": "stream",
     "text": [
      "MoviePy - Done.\n",
      "Moviepy - Writing video trimmed/99.mp4\n",
      "\n"
     ]
    },
    {
     "name": "stderr",
     "output_type": "stream",
     "text": [
      "\n",
      "\n",
      "t:   0%|                                                                                                                                                                | 0/118 [00:00<?, ?it/s, now=None]\u001b[A\u001b[A\n",
      "\n",
      "t:  25%|████████████████████████████████████▊                                                                                                                 | 29/118 [00:00<00:00, 288.21it/s, now=None]\u001b[A\u001b[A\n",
      "\n",
      "t:  56%|███████████████████████████████████████████████████████████████████████████████████▉                                                                  | 66/118 [00:00<00:00, 335.78it/s, now=None]\u001b[A\u001b[A\n",
      "\n",
      "t:  85%|██████████████████████████████████████████████████████████████████████████████████████████████████████████████████████████████▎                      | 100/118 [00:00<00:00, 156.45it/s, now=None]\u001b[A\u001b[A\n",
      "\n",
      "                                                                                                                                                                                                          \u001b[A\u001b[A\n",
      "\u001b[A                                                                                                                                                                                                       \n",
      "t:   3%|███▊                                                                                                                                              | 2/76 [1:37:51<60:20:40, 2935.68s/it, now=None]\u001b[A\n",
      "\u001b[A                                                                                                                                                                                                       \n",
      "t:   3%|███▊                                                                                                                                              | 2/76 [1:37:51<60:20:40, 2935.68s/it, now=None]\u001b[A\n",
      "\u001b[A                                                                                                                                                                                                       \n",
      "t:   3%|███▊                                                                                                                                              | 2/76 [1:37:51<60:20:45, 2935.76s/it, now=None]\u001b[A\n",
      "\u001b[A                                                                                                                                                                                                       \n",
      "t:   3%|███▊                                                                                                                                              | 2/76 [1:37:51<60:20:45, 2935.76s/it, now=None]\u001b[A"
     ]
    },
    {
     "name": "stdout",
     "output_type": "stream",
     "text": [
      "Moviepy - Done !\n",
      "Moviepy - video ready trimmed/99.mp4\n",
      "Moviepy - Building video trimmed/100.mp4.\n",
      "Moviepy - Writing video trimmed/100.mp4\n",
      "\n"
     ]
    },
    {
     "name": "stderr",
     "output_type": "stream",
     "text": [
      "\n",
      "\n",
      "t:   0%|                                                                                                                                                                | 0/120 [00:00<?, ?it/s, now=None]\u001b[A\u001b[A\n",
      "\n",
      "t:  70%|█████████████████████████████████████████████████████████████████████████████████████████████████████████                                             | 84/120 [00:00<00:00, 828.01it/s, now=None]\u001b[A\u001b[A\n",
      "\n",
      "                                                                                                                                                                                                          \u001b[A\u001b[A\n",
      "\u001b[A                                                                                                                                                                                                       \n",
      "t:   3%|███▊                                                                                                                                              | 2/76 [1:37:51<60:20:57, 2935.92s/it, now=None]\u001b[A\n",
      "\u001b[A                                                                                                                                                                                                       \n",
      "t:   3%|███▊                                                                                                                                              | 2/76 [1:37:51<60:20:58, 2935.92s/it, now=None]\u001b[A"
     ]
    },
    {
     "name": "stdout",
     "output_type": "stream",
     "text": [
      "Moviepy - Done !\n",
      "Moviepy - video ready trimmed/100.mp4\n"
     ]
    }
   ],
   "source": [
    "from moviepy.editor import VideoFileClip\n",
    "\n",
    "def trim_video(input_path, output_path, start_frame, end_frame):\n",
    "    video = VideoFileClip(input_path)\n",
    "    \n",
    "    fps = video.fps\n",
    "    start_time = start_frame / fps\n",
    "    end_time = end_frame / fps\n",
    "    \n",
    "    trimmed_clip = video.subclip(start_time, end_time)\n",
    "    trimmed_clip.write_videofile(output_path, codec='libx264')\n",
    "    \n",
    "    video.close()\n",
    "    trimmed_clip.close()\n",
    "\n",
    "import cv2\n",
    "\n",
    "def get_frame_count(video_path):\n",
    "    cap = cv2.VideoCapture(video_path)\n",
    "    \n",
    "    if not cap.isOpened():\n",
    "        raise ValueError(f\"Unable to open video file: {video_path}\")\n",
    "    \n",
    "    frame_count = int(cap.get(cv2.CAP_PROP_FRAME_COUNT))\n",
    "    \n",
    "    cap.release()\n",
    "    return frame_count\n",
    "\n",
    "stock100_v2 = []\n",
    "frames_data = []\n",
    "for video, frames in tqdm(anno_gif75):\n",
    "    input_video_path = video\n",
    "    start_frame = max(0, min(frames) - 50)\n",
    "    end_frame = min(get_frame_count(video), max(frames) + 50)\n",
    "    trim_video(video, f'trimmed/{video.split(\"/\")[-1]}', start_frame, end_frame)\n",
    "    stock100_v2.append((video, [x - start_frame for x in frames]))\n",
    "    frames_data.append((start_frame, end_frame))"
   ]
  },
  {
   "cell_type": "markdown",
   "metadata": {},
   "source": [
    "$$\\Large \\textbf{Evaluation on 87}$$\n",
    "\n",
    "-----------"
   ]
  },
  {
   "cell_type": "code",
   "execution_count": 73,
   "metadata": {},
   "outputs": [
    {
     "name": "stdout",
     "output_type": "stream",
     "text": [
      "[('GIF87/1.mp4', (1, 'woman falls down', 19)), ('GIF87/2.mp4', (2, 'woman falls down', 9)), ('GIF87/3.mp4', (3, 'guy falls down onto couch', 28)), ('GIF87/4.mp4', (4, 'person falls down', 14)), ('GIF87/5.mp4', (5, 'guy falls down', 10))]\n"
     ]
    }
   ],
   "source": [
    "data = pickle_read('rustyjar/GIF87-anno.pkl')\n",
    "print(data[:5])"
   ]
  },
  {
   "cell_type": "code",
   "execution_count": 37,
   "metadata": {},
   "outputs": [
    {
     "name": "stdout",
     "output_type": "stream",
     "text": [
      "GIF87/50.mp4\n"
     ]
    }
   ],
   "source": [
    "for k, v in data:\n",
    "    if v[1] == \"A person jumping over fence\":\n",
    "        print(k)"
   ]
  },
  {
   "cell_type": "code",
   "execution_count": 35,
   "metadata": {
    "scrolled": true
   },
   "outputs": [
    {
     "ename": "NameError",
     "evalue": "name 'data' is not defined",
     "output_type": "error",
     "traceback": [
      "\u001b[0;31m---------------------------------------------------------------------------\u001b[0m",
      "\u001b[0;31mNameError\u001b[0m                                 Traceback (most recent call last)",
      "Cell \u001b[0;32mIn[35], line 2\u001b[0m\n\u001b[1;32m      1\u001b[0m clip_pred \u001b[38;5;241m=\u001b[39m []\n\u001b[0;32m----> 2\u001b[0m pbar \u001b[38;5;241m=\u001b[39m tqdm(\u001b[43mdata\u001b[49m)\n\u001b[1;32m      3\u001b[0m \u001b[38;5;28;01mfor\u001b[39;00m path, video_data \u001b[38;5;129;01min\u001b[39;00m pbar:\n\u001b[1;32m      4\u001b[0m     pbar\u001b[38;5;241m.\u001b[39mset_description(\u001b[38;5;124mf\u001b[39m\u001b[38;5;124m'\u001b[39m\u001b[38;5;132;01m{\u001b[39;00mpath\u001b[38;5;132;01m}\u001b[39;00m\u001b[38;5;124m | \u001b[39m\u001b[38;5;132;01m{\u001b[39;00mvideo_data[\u001b[38;5;241m1\u001b[39m]\u001b[38;5;132;01m}\u001b[39;00m\u001b[38;5;124m'\u001b[39m)\n",
      "\u001b[0;31mNameError\u001b[0m: name 'data' is not defined"
     ]
    }
   ],
   "source": [
    "clip_pred = []\n",
    "pbar = tqdm(data)\n",
    "for path, video_data in pbar:\n",
    "    pbar.set_description(f'{path} | {video_data[1]}')\n",
    "    \n",
    "    orig_imgs, proc_imgs = loadMP4Local(path)\n",
    "    result = findMatch(orig_imgs, proc_imgs, [video_data[1]])[0]\n",
    "    clip_pred.append(result)\n",
    "\n",
    "pickle_write('jar/CLIP-g100.pkl', clip_pred)\n",
    "print(\"Done\")"
   ]
  },
  {
   "cell_type": "markdown",
   "metadata": {},
   "source": [
    "--------"
   ]
  },
  {
   "cell_type": "code",
   "execution_count": null,
   "metadata": {},
   "outputs": [],
   "source": [
    "orig_imgs, proc_imgs = loadMP4Local('augment/37.mp4')\n",
    "result = findMatch(orig_imgs, proc_imgs, ['A person performs a backflip.'])[0]\n",
    "print(result)"
   ]
  },
  {
   "cell_type": "markdown",
   "metadata": {},
   "source": [
    "---------\n",
    "\n",
    "$$\\Large \\color{blue} \\textbf{Evaluation on GIF100}$$\n",
    "\n",
    "---------"
   ]
  },
  {
   "cell_type": "code",
   "execution_count": 74,
   "metadata": {},
   "outputs": [
    {
     "data": {
      "application/vnd.jupyter.widget-view+json": {
       "model_id": "3b59c7e5a79647939ea71da0c1b9010f",
       "version_major": 2,
       "version_minor": 0
      },
      "text/plain": [
       "  0%|          | 0/10 [00:00<?, ?it/s]"
      ]
     },
     "metadata": {},
     "output_type": "display_data"
    },
    {
     "ename": "KeyboardInterrupt",
     "evalue": "",
     "output_type": "error",
     "traceback": [
      "\u001b[0;31m---------------------------------------------------------------------------\u001b[0m",
      "\u001b[0;31mKeyboardInterrupt\u001b[0m                         Traceback (most recent call last)",
      "Cell \u001b[0;32mIn[74], line 10\u001b[0m\n\u001b[1;32m      7\u001b[0m pbar\u001b[38;5;241m.\u001b[39mset_description(video_path)\n\u001b[1;32m      9\u001b[0m orig_imgs, proc_imgs \u001b[38;5;241m=\u001b[39m loadMP4Local(video_path)\n\u001b[0;32m---> 10\u001b[0m result \u001b[38;5;241m=\u001b[39m \u001b[43mfindMatch\u001b[49m\u001b[43m(\u001b[49m\u001b[43morig_imgs\u001b[49m\u001b[43m,\u001b[49m\u001b[43m \u001b[49m\u001b[43mproc_imgs\u001b[49m\u001b[43m,\u001b[49m\u001b[43m \u001b[49m\u001b[43m[\u001b[49m\u001b[43mphrase\u001b[49m\u001b[43m]\u001b[49m\u001b[43m)\u001b[49m[\u001b[38;5;241m0\u001b[39m]\n\u001b[1;32m     12\u001b[0m prediction \u001b[38;5;241m=\u001b[39m np\u001b[38;5;241m.\u001b[39margmax(result) \u001b[38;5;241m+\u001b[39m \u001b[38;5;241m1\u001b[39m\n\u001b[1;32m     13\u001b[0m min_diff \u001b[38;5;241m=\u001b[39m \u001b[38;5;241m10000000\u001b[39m\n",
      "Cell \u001b[0;32mIn[37], line 56\u001b[0m, in \u001b[0;36mfindMatch\u001b[0;34m(original_images, processed_images, texts)\u001b[0m\n\u001b[1;32m     53\u001b[0m text_tokens \u001b[38;5;241m=\u001b[39m clip\u001b[38;5;241m.\u001b[39mtokenize([desc \u001b[38;5;28;01mfor\u001b[39;00m desc \u001b[38;5;129;01min\u001b[39;00m texts])\n\u001b[1;32m     55\u001b[0m \u001b[38;5;28;01mwith\u001b[39;00m torch\u001b[38;5;241m.\u001b[39mno_grad():\n\u001b[0;32m---> 56\u001b[0m     image_features \u001b[38;5;241m=\u001b[39m \u001b[43mmodel\u001b[49m\u001b[38;5;241;43m.\u001b[39;49m\u001b[43mencode_image\u001b[49m\u001b[43m(\u001b[49m\u001b[43mimage_input\u001b[49m\u001b[43m)\u001b[49m\u001b[38;5;241m.\u001b[39mfloat()\n\u001b[1;32m     57\u001b[0m     text_features \u001b[38;5;241m=\u001b[39m model\u001b[38;5;241m.\u001b[39mencode_text(text_tokens)\u001b[38;5;241m.\u001b[39mfloat()\n\u001b[1;32m     59\u001b[0m image_features \u001b[38;5;241m/\u001b[39m\u001b[38;5;241m=\u001b[39m image_features\u001b[38;5;241m.\u001b[39mnorm(dim\u001b[38;5;241m=\u001b[39m\u001b[38;5;241m-\u001b[39m\u001b[38;5;241m1\u001b[39m, keepdim\u001b[38;5;241m=\u001b[39m\u001b[38;5;28;01mTrue\u001b[39;00m)\n",
      "File \u001b[0;32m/opt/miniconda3/envs/xclip/lib/python3.9/site-packages/clip/model.py:341\u001b[0m, in \u001b[0;36mCLIP.encode_image\u001b[0;34m(self, image)\u001b[0m\n\u001b[1;32m    340\u001b[0m \u001b[38;5;28;01mdef\u001b[39;00m \u001b[38;5;21mencode_image\u001b[39m(\u001b[38;5;28mself\u001b[39m, image):\n\u001b[0;32m--> 341\u001b[0m     \u001b[38;5;28;01mreturn\u001b[39;00m \u001b[38;5;28;43mself\u001b[39;49m\u001b[38;5;241;43m.\u001b[39;49m\u001b[43mvisual\u001b[49m\u001b[43m(\u001b[49m\u001b[43mimage\u001b[49m\u001b[38;5;241;43m.\u001b[39;49m\u001b[43mtype\u001b[49m\u001b[43m(\u001b[49m\u001b[38;5;28;43mself\u001b[39;49m\u001b[38;5;241;43m.\u001b[39;49m\u001b[43mdtype\u001b[49m\u001b[43m)\u001b[49m\u001b[43m)\u001b[49m\n",
      "File \u001b[0;32m/opt/miniconda3/envs/xclip/lib/python3.9/site-packages/torch/nn/modules/module.py:1553\u001b[0m, in \u001b[0;36mModule._wrapped_call_impl\u001b[0;34m(self, *args, **kwargs)\u001b[0m\n\u001b[1;32m   1551\u001b[0m     \u001b[38;5;28;01mreturn\u001b[39;00m \u001b[38;5;28mself\u001b[39m\u001b[38;5;241m.\u001b[39m_compiled_call_impl(\u001b[38;5;241m*\u001b[39margs, \u001b[38;5;241m*\u001b[39m\u001b[38;5;241m*\u001b[39mkwargs)  \u001b[38;5;66;03m# type: ignore[misc]\u001b[39;00m\n\u001b[1;32m   1552\u001b[0m \u001b[38;5;28;01melse\u001b[39;00m:\n\u001b[0;32m-> 1553\u001b[0m     \u001b[38;5;28;01mreturn\u001b[39;00m \u001b[38;5;28;43mself\u001b[39;49m\u001b[38;5;241;43m.\u001b[39;49m\u001b[43m_call_impl\u001b[49m\u001b[43m(\u001b[49m\u001b[38;5;241;43m*\u001b[39;49m\u001b[43margs\u001b[49m\u001b[43m,\u001b[49m\u001b[43m \u001b[49m\u001b[38;5;241;43m*\u001b[39;49m\u001b[38;5;241;43m*\u001b[39;49m\u001b[43mkwargs\u001b[49m\u001b[43m)\u001b[49m\n",
      "File \u001b[0;32m/opt/miniconda3/envs/xclip/lib/python3.9/site-packages/torch/nn/modules/module.py:1562\u001b[0m, in \u001b[0;36mModule._call_impl\u001b[0;34m(self, *args, **kwargs)\u001b[0m\n\u001b[1;32m   1557\u001b[0m \u001b[38;5;66;03m# If we don't have any hooks, we want to skip the rest of the logic in\u001b[39;00m\n\u001b[1;32m   1558\u001b[0m \u001b[38;5;66;03m# this function, and just call forward.\u001b[39;00m\n\u001b[1;32m   1559\u001b[0m \u001b[38;5;28;01mif\u001b[39;00m \u001b[38;5;129;01mnot\u001b[39;00m (\u001b[38;5;28mself\u001b[39m\u001b[38;5;241m.\u001b[39m_backward_hooks \u001b[38;5;129;01mor\u001b[39;00m \u001b[38;5;28mself\u001b[39m\u001b[38;5;241m.\u001b[39m_backward_pre_hooks \u001b[38;5;129;01mor\u001b[39;00m \u001b[38;5;28mself\u001b[39m\u001b[38;5;241m.\u001b[39m_forward_hooks \u001b[38;5;129;01mor\u001b[39;00m \u001b[38;5;28mself\u001b[39m\u001b[38;5;241m.\u001b[39m_forward_pre_hooks\n\u001b[1;32m   1560\u001b[0m         \u001b[38;5;129;01mor\u001b[39;00m _global_backward_pre_hooks \u001b[38;5;129;01mor\u001b[39;00m _global_backward_hooks\n\u001b[1;32m   1561\u001b[0m         \u001b[38;5;129;01mor\u001b[39;00m _global_forward_hooks \u001b[38;5;129;01mor\u001b[39;00m _global_forward_pre_hooks):\n\u001b[0;32m-> 1562\u001b[0m     \u001b[38;5;28;01mreturn\u001b[39;00m \u001b[43mforward_call\u001b[49m\u001b[43m(\u001b[49m\u001b[38;5;241;43m*\u001b[39;49m\u001b[43margs\u001b[49m\u001b[43m,\u001b[49m\u001b[43m \u001b[49m\u001b[38;5;241;43m*\u001b[39;49m\u001b[38;5;241;43m*\u001b[39;49m\u001b[43mkwargs\u001b[49m\u001b[43m)\u001b[49m\n\u001b[1;32m   1564\u001b[0m \u001b[38;5;28;01mtry\u001b[39;00m:\n\u001b[1;32m   1565\u001b[0m     result \u001b[38;5;241m=\u001b[39m \u001b[38;5;28;01mNone\u001b[39;00m\n",
      "File \u001b[0;32m/opt/miniconda3/envs/xclip/lib/python3.9/site-packages/clip/model.py:232\u001b[0m, in \u001b[0;36mVisionTransformer.forward\u001b[0;34m(self, x)\u001b[0m\n\u001b[1;32m    229\u001b[0m x \u001b[38;5;241m=\u001b[39m \u001b[38;5;28mself\u001b[39m\u001b[38;5;241m.\u001b[39mln_pre(x)\n\u001b[1;32m    231\u001b[0m x \u001b[38;5;241m=\u001b[39m x\u001b[38;5;241m.\u001b[39mpermute(\u001b[38;5;241m1\u001b[39m, \u001b[38;5;241m0\u001b[39m, \u001b[38;5;241m2\u001b[39m)  \u001b[38;5;66;03m# NLD -> LND\u001b[39;00m\n\u001b[0;32m--> 232\u001b[0m x \u001b[38;5;241m=\u001b[39m \u001b[38;5;28;43mself\u001b[39;49m\u001b[38;5;241;43m.\u001b[39;49m\u001b[43mtransformer\u001b[49m\u001b[43m(\u001b[49m\u001b[43mx\u001b[49m\u001b[43m)\u001b[49m\n\u001b[1;32m    233\u001b[0m x \u001b[38;5;241m=\u001b[39m x\u001b[38;5;241m.\u001b[39mpermute(\u001b[38;5;241m1\u001b[39m, \u001b[38;5;241m0\u001b[39m, \u001b[38;5;241m2\u001b[39m)  \u001b[38;5;66;03m# LND -> NLD\u001b[39;00m\n\u001b[1;32m    235\u001b[0m x \u001b[38;5;241m=\u001b[39m \u001b[38;5;28mself\u001b[39m\u001b[38;5;241m.\u001b[39mln_post(x[:, \u001b[38;5;241m0\u001b[39m, :])\n",
      "File \u001b[0;32m/opt/miniconda3/envs/xclip/lib/python3.9/site-packages/torch/nn/modules/module.py:1553\u001b[0m, in \u001b[0;36mModule._wrapped_call_impl\u001b[0;34m(self, *args, **kwargs)\u001b[0m\n\u001b[1;32m   1551\u001b[0m     \u001b[38;5;28;01mreturn\u001b[39;00m \u001b[38;5;28mself\u001b[39m\u001b[38;5;241m.\u001b[39m_compiled_call_impl(\u001b[38;5;241m*\u001b[39margs, \u001b[38;5;241m*\u001b[39m\u001b[38;5;241m*\u001b[39mkwargs)  \u001b[38;5;66;03m# type: ignore[misc]\u001b[39;00m\n\u001b[1;32m   1552\u001b[0m \u001b[38;5;28;01melse\u001b[39;00m:\n\u001b[0;32m-> 1553\u001b[0m     \u001b[38;5;28;01mreturn\u001b[39;00m \u001b[38;5;28;43mself\u001b[39;49m\u001b[38;5;241;43m.\u001b[39;49m\u001b[43m_call_impl\u001b[49m\u001b[43m(\u001b[49m\u001b[38;5;241;43m*\u001b[39;49m\u001b[43margs\u001b[49m\u001b[43m,\u001b[49m\u001b[43m \u001b[49m\u001b[38;5;241;43m*\u001b[39;49m\u001b[38;5;241;43m*\u001b[39;49m\u001b[43mkwargs\u001b[49m\u001b[43m)\u001b[49m\n",
      "File \u001b[0;32m/opt/miniconda3/envs/xclip/lib/python3.9/site-packages/torch/nn/modules/module.py:1562\u001b[0m, in \u001b[0;36mModule._call_impl\u001b[0;34m(self, *args, **kwargs)\u001b[0m\n\u001b[1;32m   1557\u001b[0m \u001b[38;5;66;03m# If we don't have any hooks, we want to skip the rest of the logic in\u001b[39;00m\n\u001b[1;32m   1558\u001b[0m \u001b[38;5;66;03m# this function, and just call forward.\u001b[39;00m\n\u001b[1;32m   1559\u001b[0m \u001b[38;5;28;01mif\u001b[39;00m \u001b[38;5;129;01mnot\u001b[39;00m (\u001b[38;5;28mself\u001b[39m\u001b[38;5;241m.\u001b[39m_backward_hooks \u001b[38;5;129;01mor\u001b[39;00m \u001b[38;5;28mself\u001b[39m\u001b[38;5;241m.\u001b[39m_backward_pre_hooks \u001b[38;5;129;01mor\u001b[39;00m \u001b[38;5;28mself\u001b[39m\u001b[38;5;241m.\u001b[39m_forward_hooks \u001b[38;5;129;01mor\u001b[39;00m \u001b[38;5;28mself\u001b[39m\u001b[38;5;241m.\u001b[39m_forward_pre_hooks\n\u001b[1;32m   1560\u001b[0m         \u001b[38;5;129;01mor\u001b[39;00m _global_backward_pre_hooks \u001b[38;5;129;01mor\u001b[39;00m _global_backward_hooks\n\u001b[1;32m   1561\u001b[0m         \u001b[38;5;129;01mor\u001b[39;00m _global_forward_hooks \u001b[38;5;129;01mor\u001b[39;00m _global_forward_pre_hooks):\n\u001b[0;32m-> 1562\u001b[0m     \u001b[38;5;28;01mreturn\u001b[39;00m \u001b[43mforward_call\u001b[49m\u001b[43m(\u001b[49m\u001b[38;5;241;43m*\u001b[39;49m\u001b[43margs\u001b[49m\u001b[43m,\u001b[49m\u001b[43m \u001b[49m\u001b[38;5;241;43m*\u001b[39;49m\u001b[38;5;241;43m*\u001b[39;49m\u001b[43mkwargs\u001b[49m\u001b[43m)\u001b[49m\n\u001b[1;32m   1564\u001b[0m \u001b[38;5;28;01mtry\u001b[39;00m:\n\u001b[1;32m   1565\u001b[0m     result \u001b[38;5;241m=\u001b[39m \u001b[38;5;28;01mNone\u001b[39;00m\n",
      "File \u001b[0;32m/opt/miniconda3/envs/xclip/lib/python3.9/site-packages/clip/model.py:203\u001b[0m, in \u001b[0;36mTransformer.forward\u001b[0;34m(self, x)\u001b[0m\n\u001b[1;32m    202\u001b[0m \u001b[38;5;28;01mdef\u001b[39;00m \u001b[38;5;21mforward\u001b[39m(\u001b[38;5;28mself\u001b[39m, x: torch\u001b[38;5;241m.\u001b[39mTensor):\n\u001b[0;32m--> 203\u001b[0m     \u001b[38;5;28;01mreturn\u001b[39;00m \u001b[38;5;28;43mself\u001b[39;49m\u001b[38;5;241;43m.\u001b[39;49m\u001b[43mresblocks\u001b[49m\u001b[43m(\u001b[49m\u001b[43mx\u001b[49m\u001b[43m)\u001b[49m\n",
      "File \u001b[0;32m/opt/miniconda3/envs/xclip/lib/python3.9/site-packages/torch/nn/modules/module.py:1553\u001b[0m, in \u001b[0;36mModule._wrapped_call_impl\u001b[0;34m(self, *args, **kwargs)\u001b[0m\n\u001b[1;32m   1551\u001b[0m     \u001b[38;5;28;01mreturn\u001b[39;00m \u001b[38;5;28mself\u001b[39m\u001b[38;5;241m.\u001b[39m_compiled_call_impl(\u001b[38;5;241m*\u001b[39margs, \u001b[38;5;241m*\u001b[39m\u001b[38;5;241m*\u001b[39mkwargs)  \u001b[38;5;66;03m# type: ignore[misc]\u001b[39;00m\n\u001b[1;32m   1552\u001b[0m \u001b[38;5;28;01melse\u001b[39;00m:\n\u001b[0;32m-> 1553\u001b[0m     \u001b[38;5;28;01mreturn\u001b[39;00m \u001b[38;5;28;43mself\u001b[39;49m\u001b[38;5;241;43m.\u001b[39;49m\u001b[43m_call_impl\u001b[49m\u001b[43m(\u001b[49m\u001b[38;5;241;43m*\u001b[39;49m\u001b[43margs\u001b[49m\u001b[43m,\u001b[49m\u001b[43m \u001b[49m\u001b[38;5;241;43m*\u001b[39;49m\u001b[38;5;241;43m*\u001b[39;49m\u001b[43mkwargs\u001b[49m\u001b[43m)\u001b[49m\n",
      "File \u001b[0;32m/opt/miniconda3/envs/xclip/lib/python3.9/site-packages/torch/nn/modules/module.py:1562\u001b[0m, in \u001b[0;36mModule._call_impl\u001b[0;34m(self, *args, **kwargs)\u001b[0m\n\u001b[1;32m   1557\u001b[0m \u001b[38;5;66;03m# If we don't have any hooks, we want to skip the rest of the logic in\u001b[39;00m\n\u001b[1;32m   1558\u001b[0m \u001b[38;5;66;03m# this function, and just call forward.\u001b[39;00m\n\u001b[1;32m   1559\u001b[0m \u001b[38;5;28;01mif\u001b[39;00m \u001b[38;5;129;01mnot\u001b[39;00m (\u001b[38;5;28mself\u001b[39m\u001b[38;5;241m.\u001b[39m_backward_hooks \u001b[38;5;129;01mor\u001b[39;00m \u001b[38;5;28mself\u001b[39m\u001b[38;5;241m.\u001b[39m_backward_pre_hooks \u001b[38;5;129;01mor\u001b[39;00m \u001b[38;5;28mself\u001b[39m\u001b[38;5;241m.\u001b[39m_forward_hooks \u001b[38;5;129;01mor\u001b[39;00m \u001b[38;5;28mself\u001b[39m\u001b[38;5;241m.\u001b[39m_forward_pre_hooks\n\u001b[1;32m   1560\u001b[0m         \u001b[38;5;129;01mor\u001b[39;00m _global_backward_pre_hooks \u001b[38;5;129;01mor\u001b[39;00m _global_backward_hooks\n\u001b[1;32m   1561\u001b[0m         \u001b[38;5;129;01mor\u001b[39;00m _global_forward_hooks \u001b[38;5;129;01mor\u001b[39;00m _global_forward_pre_hooks):\n\u001b[0;32m-> 1562\u001b[0m     \u001b[38;5;28;01mreturn\u001b[39;00m \u001b[43mforward_call\u001b[49m\u001b[43m(\u001b[49m\u001b[38;5;241;43m*\u001b[39;49m\u001b[43margs\u001b[49m\u001b[43m,\u001b[49m\u001b[43m \u001b[49m\u001b[38;5;241;43m*\u001b[39;49m\u001b[38;5;241;43m*\u001b[39;49m\u001b[43mkwargs\u001b[49m\u001b[43m)\u001b[49m\n\u001b[1;32m   1564\u001b[0m \u001b[38;5;28;01mtry\u001b[39;00m:\n\u001b[1;32m   1565\u001b[0m     result \u001b[38;5;241m=\u001b[39m \u001b[38;5;28;01mNone\u001b[39;00m\n",
      "File \u001b[0;32m/opt/miniconda3/envs/xclip/lib/python3.9/site-packages/torch/nn/modules/container.py:219\u001b[0m, in \u001b[0;36mSequential.forward\u001b[0;34m(self, input)\u001b[0m\n\u001b[1;32m    217\u001b[0m \u001b[38;5;28;01mdef\u001b[39;00m \u001b[38;5;21mforward\u001b[39m(\u001b[38;5;28mself\u001b[39m, \u001b[38;5;28minput\u001b[39m):\n\u001b[1;32m    218\u001b[0m     \u001b[38;5;28;01mfor\u001b[39;00m module \u001b[38;5;129;01min\u001b[39;00m \u001b[38;5;28mself\u001b[39m:\n\u001b[0;32m--> 219\u001b[0m         \u001b[38;5;28minput\u001b[39m \u001b[38;5;241m=\u001b[39m \u001b[43mmodule\u001b[49m\u001b[43m(\u001b[49m\u001b[38;5;28;43minput\u001b[39;49m\u001b[43m)\u001b[49m\n\u001b[1;32m    220\u001b[0m     \u001b[38;5;28;01mreturn\u001b[39;00m \u001b[38;5;28minput\u001b[39m\n",
      "File \u001b[0;32m/opt/miniconda3/envs/xclip/lib/python3.9/site-packages/torch/nn/modules/module.py:1553\u001b[0m, in \u001b[0;36mModule._wrapped_call_impl\u001b[0;34m(self, *args, **kwargs)\u001b[0m\n\u001b[1;32m   1551\u001b[0m     \u001b[38;5;28;01mreturn\u001b[39;00m \u001b[38;5;28mself\u001b[39m\u001b[38;5;241m.\u001b[39m_compiled_call_impl(\u001b[38;5;241m*\u001b[39margs, \u001b[38;5;241m*\u001b[39m\u001b[38;5;241m*\u001b[39mkwargs)  \u001b[38;5;66;03m# type: ignore[misc]\u001b[39;00m\n\u001b[1;32m   1552\u001b[0m \u001b[38;5;28;01melse\u001b[39;00m:\n\u001b[0;32m-> 1553\u001b[0m     \u001b[38;5;28;01mreturn\u001b[39;00m \u001b[38;5;28;43mself\u001b[39;49m\u001b[38;5;241;43m.\u001b[39;49m\u001b[43m_call_impl\u001b[49m\u001b[43m(\u001b[49m\u001b[38;5;241;43m*\u001b[39;49m\u001b[43margs\u001b[49m\u001b[43m,\u001b[49m\u001b[43m \u001b[49m\u001b[38;5;241;43m*\u001b[39;49m\u001b[38;5;241;43m*\u001b[39;49m\u001b[43mkwargs\u001b[49m\u001b[43m)\u001b[49m\n",
      "File \u001b[0;32m/opt/miniconda3/envs/xclip/lib/python3.9/site-packages/torch/nn/modules/module.py:1562\u001b[0m, in \u001b[0;36mModule._call_impl\u001b[0;34m(self, *args, **kwargs)\u001b[0m\n\u001b[1;32m   1557\u001b[0m \u001b[38;5;66;03m# If we don't have any hooks, we want to skip the rest of the logic in\u001b[39;00m\n\u001b[1;32m   1558\u001b[0m \u001b[38;5;66;03m# this function, and just call forward.\u001b[39;00m\n\u001b[1;32m   1559\u001b[0m \u001b[38;5;28;01mif\u001b[39;00m \u001b[38;5;129;01mnot\u001b[39;00m (\u001b[38;5;28mself\u001b[39m\u001b[38;5;241m.\u001b[39m_backward_hooks \u001b[38;5;129;01mor\u001b[39;00m \u001b[38;5;28mself\u001b[39m\u001b[38;5;241m.\u001b[39m_backward_pre_hooks \u001b[38;5;129;01mor\u001b[39;00m \u001b[38;5;28mself\u001b[39m\u001b[38;5;241m.\u001b[39m_forward_hooks \u001b[38;5;129;01mor\u001b[39;00m \u001b[38;5;28mself\u001b[39m\u001b[38;5;241m.\u001b[39m_forward_pre_hooks\n\u001b[1;32m   1560\u001b[0m         \u001b[38;5;129;01mor\u001b[39;00m _global_backward_pre_hooks \u001b[38;5;129;01mor\u001b[39;00m _global_backward_hooks\n\u001b[1;32m   1561\u001b[0m         \u001b[38;5;129;01mor\u001b[39;00m _global_forward_hooks \u001b[38;5;129;01mor\u001b[39;00m _global_forward_pre_hooks):\n\u001b[0;32m-> 1562\u001b[0m     \u001b[38;5;28;01mreturn\u001b[39;00m \u001b[43mforward_call\u001b[49m\u001b[43m(\u001b[49m\u001b[38;5;241;43m*\u001b[39;49m\u001b[43margs\u001b[49m\u001b[43m,\u001b[49m\u001b[43m \u001b[49m\u001b[38;5;241;43m*\u001b[39;49m\u001b[38;5;241;43m*\u001b[39;49m\u001b[43mkwargs\u001b[49m\u001b[43m)\u001b[49m\n\u001b[1;32m   1564\u001b[0m \u001b[38;5;28;01mtry\u001b[39;00m:\n\u001b[1;32m   1565\u001b[0m     result \u001b[38;5;241m=\u001b[39m \u001b[38;5;28;01mNone\u001b[39;00m\n",
      "File \u001b[0;32m/opt/miniconda3/envs/xclip/lib/python3.9/site-packages/clip/model.py:190\u001b[0m, in \u001b[0;36mResidualAttentionBlock.forward\u001b[0;34m(self, x)\u001b[0m\n\u001b[1;32m    189\u001b[0m \u001b[38;5;28;01mdef\u001b[39;00m \u001b[38;5;21mforward\u001b[39m(\u001b[38;5;28mself\u001b[39m, x: torch\u001b[38;5;241m.\u001b[39mTensor):\n\u001b[0;32m--> 190\u001b[0m     x \u001b[38;5;241m=\u001b[39m x \u001b[38;5;241m+\u001b[39m \u001b[38;5;28;43mself\u001b[39;49m\u001b[38;5;241;43m.\u001b[39;49m\u001b[43mattention\u001b[49m\u001b[43m(\u001b[49m\u001b[38;5;28;43mself\u001b[39;49m\u001b[38;5;241;43m.\u001b[39;49m\u001b[43mln_1\u001b[49m\u001b[43m(\u001b[49m\u001b[43mx\u001b[49m\u001b[43m)\u001b[49m\u001b[43m)\u001b[49m\n\u001b[1;32m    191\u001b[0m     x \u001b[38;5;241m=\u001b[39m x \u001b[38;5;241m+\u001b[39m \u001b[38;5;28mself\u001b[39m\u001b[38;5;241m.\u001b[39mmlp(\u001b[38;5;28mself\u001b[39m\u001b[38;5;241m.\u001b[39mln_2(x))\n\u001b[1;32m    192\u001b[0m     \u001b[38;5;28;01mreturn\u001b[39;00m x\n",
      "File \u001b[0;32m/opt/miniconda3/envs/xclip/lib/python3.9/site-packages/clip/model.py:187\u001b[0m, in \u001b[0;36mResidualAttentionBlock.attention\u001b[0;34m(self, x)\u001b[0m\n\u001b[1;32m    185\u001b[0m \u001b[38;5;28;01mdef\u001b[39;00m \u001b[38;5;21mattention\u001b[39m(\u001b[38;5;28mself\u001b[39m, x: torch\u001b[38;5;241m.\u001b[39mTensor):\n\u001b[1;32m    186\u001b[0m     \u001b[38;5;28mself\u001b[39m\u001b[38;5;241m.\u001b[39mattn_mask \u001b[38;5;241m=\u001b[39m \u001b[38;5;28mself\u001b[39m\u001b[38;5;241m.\u001b[39mattn_mask\u001b[38;5;241m.\u001b[39mto(dtype\u001b[38;5;241m=\u001b[39mx\u001b[38;5;241m.\u001b[39mdtype, device\u001b[38;5;241m=\u001b[39mx\u001b[38;5;241m.\u001b[39mdevice) \u001b[38;5;28;01mif\u001b[39;00m \u001b[38;5;28mself\u001b[39m\u001b[38;5;241m.\u001b[39mattn_mask \u001b[38;5;129;01mis\u001b[39;00m \u001b[38;5;129;01mnot\u001b[39;00m \u001b[38;5;28;01mNone\u001b[39;00m \u001b[38;5;28;01melse\u001b[39;00m \u001b[38;5;28;01mNone\u001b[39;00m\n\u001b[0;32m--> 187\u001b[0m     \u001b[38;5;28;01mreturn\u001b[39;00m \u001b[38;5;28;43mself\u001b[39;49m\u001b[38;5;241;43m.\u001b[39;49m\u001b[43mattn\u001b[49m\u001b[43m(\u001b[49m\u001b[43mx\u001b[49m\u001b[43m,\u001b[49m\u001b[43m \u001b[49m\u001b[43mx\u001b[49m\u001b[43m,\u001b[49m\u001b[43m \u001b[49m\u001b[43mx\u001b[49m\u001b[43m,\u001b[49m\u001b[43m \u001b[49m\u001b[43mneed_weights\u001b[49m\u001b[38;5;241;43m=\u001b[39;49m\u001b[38;5;28;43;01mFalse\u001b[39;49;00m\u001b[43m,\u001b[49m\u001b[43m \u001b[49m\u001b[43mattn_mask\u001b[49m\u001b[38;5;241;43m=\u001b[39;49m\u001b[38;5;28;43mself\u001b[39;49m\u001b[38;5;241;43m.\u001b[39;49m\u001b[43mattn_mask\u001b[49m\u001b[43m)\u001b[49m[\u001b[38;5;241m0\u001b[39m]\n",
      "File \u001b[0;32m/opt/miniconda3/envs/xclip/lib/python3.9/site-packages/torch/nn/modules/module.py:1553\u001b[0m, in \u001b[0;36mModule._wrapped_call_impl\u001b[0;34m(self, *args, **kwargs)\u001b[0m\n\u001b[1;32m   1551\u001b[0m     \u001b[38;5;28;01mreturn\u001b[39;00m \u001b[38;5;28mself\u001b[39m\u001b[38;5;241m.\u001b[39m_compiled_call_impl(\u001b[38;5;241m*\u001b[39margs, \u001b[38;5;241m*\u001b[39m\u001b[38;5;241m*\u001b[39mkwargs)  \u001b[38;5;66;03m# type: ignore[misc]\u001b[39;00m\n\u001b[1;32m   1552\u001b[0m \u001b[38;5;28;01melse\u001b[39;00m:\n\u001b[0;32m-> 1553\u001b[0m     \u001b[38;5;28;01mreturn\u001b[39;00m \u001b[38;5;28;43mself\u001b[39;49m\u001b[38;5;241;43m.\u001b[39;49m\u001b[43m_call_impl\u001b[49m\u001b[43m(\u001b[49m\u001b[38;5;241;43m*\u001b[39;49m\u001b[43margs\u001b[49m\u001b[43m,\u001b[49m\u001b[43m \u001b[49m\u001b[38;5;241;43m*\u001b[39;49m\u001b[38;5;241;43m*\u001b[39;49m\u001b[43mkwargs\u001b[49m\u001b[43m)\u001b[49m\n",
      "File \u001b[0;32m/opt/miniconda3/envs/xclip/lib/python3.9/site-packages/torch/nn/modules/module.py:1562\u001b[0m, in \u001b[0;36mModule._call_impl\u001b[0;34m(self, *args, **kwargs)\u001b[0m\n\u001b[1;32m   1557\u001b[0m \u001b[38;5;66;03m# If we don't have any hooks, we want to skip the rest of the logic in\u001b[39;00m\n\u001b[1;32m   1558\u001b[0m \u001b[38;5;66;03m# this function, and just call forward.\u001b[39;00m\n\u001b[1;32m   1559\u001b[0m \u001b[38;5;28;01mif\u001b[39;00m \u001b[38;5;129;01mnot\u001b[39;00m (\u001b[38;5;28mself\u001b[39m\u001b[38;5;241m.\u001b[39m_backward_hooks \u001b[38;5;129;01mor\u001b[39;00m \u001b[38;5;28mself\u001b[39m\u001b[38;5;241m.\u001b[39m_backward_pre_hooks \u001b[38;5;129;01mor\u001b[39;00m \u001b[38;5;28mself\u001b[39m\u001b[38;5;241m.\u001b[39m_forward_hooks \u001b[38;5;129;01mor\u001b[39;00m \u001b[38;5;28mself\u001b[39m\u001b[38;5;241m.\u001b[39m_forward_pre_hooks\n\u001b[1;32m   1560\u001b[0m         \u001b[38;5;129;01mor\u001b[39;00m _global_backward_pre_hooks \u001b[38;5;129;01mor\u001b[39;00m _global_backward_hooks\n\u001b[1;32m   1561\u001b[0m         \u001b[38;5;129;01mor\u001b[39;00m _global_forward_hooks \u001b[38;5;129;01mor\u001b[39;00m _global_forward_pre_hooks):\n\u001b[0;32m-> 1562\u001b[0m     \u001b[38;5;28;01mreturn\u001b[39;00m \u001b[43mforward_call\u001b[49m\u001b[43m(\u001b[49m\u001b[38;5;241;43m*\u001b[39;49m\u001b[43margs\u001b[49m\u001b[43m,\u001b[49m\u001b[43m \u001b[49m\u001b[38;5;241;43m*\u001b[39;49m\u001b[38;5;241;43m*\u001b[39;49m\u001b[43mkwargs\u001b[49m\u001b[43m)\u001b[49m\n\u001b[1;32m   1564\u001b[0m \u001b[38;5;28;01mtry\u001b[39;00m:\n\u001b[1;32m   1565\u001b[0m     result \u001b[38;5;241m=\u001b[39m \u001b[38;5;28;01mNone\u001b[39;00m\n",
      "File \u001b[0;32m/opt/miniconda3/envs/xclip/lib/python3.9/site-packages/torch/nn/modules/activation.py:1275\u001b[0m, in \u001b[0;36mMultiheadAttention.forward\u001b[0;34m(self, query, key, value, key_padding_mask, need_weights, attn_mask, average_attn_weights, is_causal)\u001b[0m\n\u001b[1;32m   1261\u001b[0m     attn_output, attn_output_weights \u001b[38;5;241m=\u001b[39m F\u001b[38;5;241m.\u001b[39mmulti_head_attention_forward(\n\u001b[1;32m   1262\u001b[0m         query, key, value, \u001b[38;5;28mself\u001b[39m\u001b[38;5;241m.\u001b[39membed_dim, \u001b[38;5;28mself\u001b[39m\u001b[38;5;241m.\u001b[39mnum_heads,\n\u001b[1;32m   1263\u001b[0m         \u001b[38;5;28mself\u001b[39m\u001b[38;5;241m.\u001b[39min_proj_weight, \u001b[38;5;28mself\u001b[39m\u001b[38;5;241m.\u001b[39min_proj_bias,\n\u001b[0;32m   (...)\u001b[0m\n\u001b[1;32m   1272\u001b[0m         average_attn_weights\u001b[38;5;241m=\u001b[39maverage_attn_weights,\n\u001b[1;32m   1273\u001b[0m         is_causal\u001b[38;5;241m=\u001b[39mis_causal)\n\u001b[1;32m   1274\u001b[0m \u001b[38;5;28;01melse\u001b[39;00m:\n\u001b[0;32m-> 1275\u001b[0m     attn_output, attn_output_weights \u001b[38;5;241m=\u001b[39m \u001b[43mF\u001b[49m\u001b[38;5;241;43m.\u001b[39;49m\u001b[43mmulti_head_attention_forward\u001b[49m\u001b[43m(\u001b[49m\n\u001b[1;32m   1276\u001b[0m \u001b[43m        \u001b[49m\u001b[43mquery\u001b[49m\u001b[43m,\u001b[49m\u001b[43m \u001b[49m\u001b[43mkey\u001b[49m\u001b[43m,\u001b[49m\u001b[43m \u001b[49m\u001b[43mvalue\u001b[49m\u001b[43m,\u001b[49m\u001b[43m \u001b[49m\u001b[38;5;28;43mself\u001b[39;49m\u001b[38;5;241;43m.\u001b[39;49m\u001b[43membed_dim\u001b[49m\u001b[43m,\u001b[49m\u001b[43m \u001b[49m\u001b[38;5;28;43mself\u001b[39;49m\u001b[38;5;241;43m.\u001b[39;49m\u001b[43mnum_heads\u001b[49m\u001b[43m,\u001b[49m\n\u001b[1;32m   1277\u001b[0m \u001b[43m        \u001b[49m\u001b[38;5;28;43mself\u001b[39;49m\u001b[38;5;241;43m.\u001b[39;49m\u001b[43min_proj_weight\u001b[49m\u001b[43m,\u001b[49m\u001b[43m \u001b[49m\u001b[38;5;28;43mself\u001b[39;49m\u001b[38;5;241;43m.\u001b[39;49m\u001b[43min_proj_bias\u001b[49m\u001b[43m,\u001b[49m\n\u001b[1;32m   1278\u001b[0m \u001b[43m        \u001b[49m\u001b[38;5;28;43mself\u001b[39;49m\u001b[38;5;241;43m.\u001b[39;49m\u001b[43mbias_k\u001b[49m\u001b[43m,\u001b[49m\u001b[43m \u001b[49m\u001b[38;5;28;43mself\u001b[39;49m\u001b[38;5;241;43m.\u001b[39;49m\u001b[43mbias_v\u001b[49m\u001b[43m,\u001b[49m\u001b[43m \u001b[49m\u001b[38;5;28;43mself\u001b[39;49m\u001b[38;5;241;43m.\u001b[39;49m\u001b[43madd_zero_attn\u001b[49m\u001b[43m,\u001b[49m\n\u001b[1;32m   1279\u001b[0m \u001b[43m        \u001b[49m\u001b[38;5;28;43mself\u001b[39;49m\u001b[38;5;241;43m.\u001b[39;49m\u001b[43mdropout\u001b[49m\u001b[43m,\u001b[49m\u001b[43m \u001b[49m\u001b[38;5;28;43mself\u001b[39;49m\u001b[38;5;241;43m.\u001b[39;49m\u001b[43mout_proj\u001b[49m\u001b[38;5;241;43m.\u001b[39;49m\u001b[43mweight\u001b[49m\u001b[43m,\u001b[49m\u001b[43m \u001b[49m\u001b[38;5;28;43mself\u001b[39;49m\u001b[38;5;241;43m.\u001b[39;49m\u001b[43mout_proj\u001b[49m\u001b[38;5;241;43m.\u001b[39;49m\u001b[43mbias\u001b[49m\u001b[43m,\u001b[49m\n\u001b[1;32m   1280\u001b[0m \u001b[43m        \u001b[49m\u001b[43mtraining\u001b[49m\u001b[38;5;241;43m=\u001b[39;49m\u001b[38;5;28;43mself\u001b[39;49m\u001b[38;5;241;43m.\u001b[39;49m\u001b[43mtraining\u001b[49m\u001b[43m,\u001b[49m\n\u001b[1;32m   1281\u001b[0m \u001b[43m        \u001b[49m\u001b[43mkey_padding_mask\u001b[49m\u001b[38;5;241;43m=\u001b[39;49m\u001b[43mkey_padding_mask\u001b[49m\u001b[43m,\u001b[49m\n\u001b[1;32m   1282\u001b[0m \u001b[43m        \u001b[49m\u001b[43mneed_weights\u001b[49m\u001b[38;5;241;43m=\u001b[39;49m\u001b[43mneed_weights\u001b[49m\u001b[43m,\u001b[49m\n\u001b[1;32m   1283\u001b[0m \u001b[43m        \u001b[49m\u001b[43mattn_mask\u001b[49m\u001b[38;5;241;43m=\u001b[39;49m\u001b[43mattn_mask\u001b[49m\u001b[43m,\u001b[49m\n\u001b[1;32m   1284\u001b[0m \u001b[43m        \u001b[49m\u001b[43maverage_attn_weights\u001b[49m\u001b[38;5;241;43m=\u001b[39;49m\u001b[43maverage_attn_weights\u001b[49m\u001b[43m,\u001b[49m\n\u001b[1;32m   1285\u001b[0m \u001b[43m        \u001b[49m\u001b[43mis_causal\u001b[49m\u001b[38;5;241;43m=\u001b[39;49m\u001b[43mis_causal\u001b[49m\u001b[43m)\u001b[49m\n\u001b[1;32m   1286\u001b[0m \u001b[38;5;28;01mif\u001b[39;00m \u001b[38;5;28mself\u001b[39m\u001b[38;5;241m.\u001b[39mbatch_first \u001b[38;5;129;01mand\u001b[39;00m is_batched:\n\u001b[1;32m   1287\u001b[0m     \u001b[38;5;28;01mreturn\u001b[39;00m attn_output\u001b[38;5;241m.\u001b[39mtranspose(\u001b[38;5;241m1\u001b[39m, \u001b[38;5;241m0\u001b[39m), attn_output_weights\n",
      "File \u001b[0;32m/opt/miniconda3/envs/xclip/lib/python3.9/site-packages/torch/nn/functional.py:5420\u001b[0m, in \u001b[0;36mmulti_head_attention_forward\u001b[0;34m(query, key, value, embed_dim_to_check, num_heads, in_proj_weight, in_proj_bias, bias_k, bias_v, add_zero_attn, dropout_p, out_proj_weight, out_proj_bias, training, key_padding_mask, need_weights, attn_mask, use_separate_proj_weight, q_proj_weight, k_proj_weight, v_proj_weight, static_k, static_v, average_attn_weights, is_causal)\u001b[0m\n\u001b[1;32m   5418\u001b[0m \u001b[38;5;28;01mif\u001b[39;00m \u001b[38;5;129;01mnot\u001b[39;00m use_separate_proj_weight:\n\u001b[1;32m   5419\u001b[0m     \u001b[38;5;28;01massert\u001b[39;00m in_proj_weight \u001b[38;5;129;01mis\u001b[39;00m \u001b[38;5;129;01mnot\u001b[39;00m \u001b[38;5;28;01mNone\u001b[39;00m, \u001b[38;5;124m\"\u001b[39m\u001b[38;5;124muse_separate_proj_weight is False but in_proj_weight is None\u001b[39m\u001b[38;5;124m\"\u001b[39m\n\u001b[0;32m-> 5420\u001b[0m     q, k, v \u001b[38;5;241m=\u001b[39m \u001b[43m_in_projection_packed\u001b[49m\u001b[43m(\u001b[49m\u001b[43mquery\u001b[49m\u001b[43m,\u001b[49m\u001b[43m \u001b[49m\u001b[43mkey\u001b[49m\u001b[43m,\u001b[49m\u001b[43m \u001b[49m\u001b[43mvalue\u001b[49m\u001b[43m,\u001b[49m\u001b[43m \u001b[49m\u001b[43min_proj_weight\u001b[49m\u001b[43m,\u001b[49m\u001b[43m \u001b[49m\u001b[43min_proj_bias\u001b[49m\u001b[43m)\u001b[49m\n\u001b[1;32m   5421\u001b[0m \u001b[38;5;28;01melse\u001b[39;00m:\n\u001b[1;32m   5422\u001b[0m     \u001b[38;5;28;01massert\u001b[39;00m q_proj_weight \u001b[38;5;129;01mis\u001b[39;00m \u001b[38;5;129;01mnot\u001b[39;00m \u001b[38;5;28;01mNone\u001b[39;00m, \u001b[38;5;124m\"\u001b[39m\u001b[38;5;124muse_separate_proj_weight is True but q_proj_weight is None\u001b[39m\u001b[38;5;124m\"\u001b[39m\n",
      "File \u001b[0;32m/opt/miniconda3/envs/xclip/lib/python3.9/site-packages/torch/nn/functional.py:4920\u001b[0m, in \u001b[0;36m_in_projection_packed\u001b[0;34m(q, k, v, w, b)\u001b[0m\n\u001b[1;32m   4917\u001b[0m \u001b[38;5;28;01mif\u001b[39;00m k \u001b[38;5;129;01mis\u001b[39;00m v:\n\u001b[1;32m   4918\u001b[0m     \u001b[38;5;28;01mif\u001b[39;00m q \u001b[38;5;129;01mis\u001b[39;00m k:\n\u001b[1;32m   4919\u001b[0m         \u001b[38;5;66;03m# self-attention\u001b[39;00m\n\u001b[0;32m-> 4920\u001b[0m         proj \u001b[38;5;241m=\u001b[39m \u001b[43mlinear\u001b[49m\u001b[43m(\u001b[49m\u001b[43mq\u001b[49m\u001b[43m,\u001b[49m\u001b[43m \u001b[49m\u001b[43mw\u001b[49m\u001b[43m,\u001b[49m\u001b[43m \u001b[49m\u001b[43mb\u001b[49m\u001b[43m)\u001b[49m\n\u001b[1;32m   4921\u001b[0m         \u001b[38;5;66;03m# reshape to 3, E and not E, 3 is deliberate for better memory coalescing and keeping same order as chunk()\u001b[39;00m\n\u001b[1;32m   4922\u001b[0m         proj \u001b[38;5;241m=\u001b[39m proj\u001b[38;5;241m.\u001b[39munflatten(\u001b[38;5;241m-\u001b[39m\u001b[38;5;241m1\u001b[39m, (\u001b[38;5;241m3\u001b[39m, E))\u001b[38;5;241m.\u001b[39munsqueeze(\u001b[38;5;241m0\u001b[39m)\u001b[38;5;241m.\u001b[39mtranspose(\u001b[38;5;241m0\u001b[39m, \u001b[38;5;241m-\u001b[39m\u001b[38;5;241m2\u001b[39m)\u001b[38;5;241m.\u001b[39msqueeze(\u001b[38;5;241m-\u001b[39m\u001b[38;5;241m2\u001b[39m)\u001b[38;5;241m.\u001b[39mcontiguous()\n",
      "\u001b[0;31mKeyboardInterrupt\u001b[0m: "
     ]
    }
   ],
   "source": [
    "video = pickle_read('rustyjar/STOCK100.pkl')\n",
    "\n",
    "preds  = []\n",
    "logits = []\n",
    "pbar = tqdm(video[90:])\n",
    "for video_path, phrase, frames in pbar:\n",
    "    pbar.set_description(video_path)\n",
    "    \n",
    "    orig_imgs, proc_imgs = loadMP4Local(video_path)\n",
    "    result = findMatch(orig_imgs, proc_imgs, [phrase])[0]\n",
    "    \n",
    "    prediction = np.argmax(result) + 1\n",
    "    min_diff = 10000000\n",
    "    min_val = -1\n",
    "    for k in frames:\n",
    "        if abs(k - prediction) < min_diff:\n",
    "            min_diff = abs(k - prediction)\n",
    "            min_val = k\n",
    "        \n",
    "    logits.append(list(zip(result, list(range(1, len(result) + 1)))))\n",
    "    preds.append(prediction)\n",
    "    print(video_path,\"|\",prediction, \"vs\", min_val)\n",
    "\n",
    "pickle_write(preds, 'jar/CLIPL-s.pkl')\n",
    "pickle_write(logits, 'rustyjar/CLIPL-logits-s.pkl')"
   ]
  },
  {
   "cell_type": "code",
   "execution_count": 73,
   "metadata": {},
   "outputs": [
    {
     "data": {
      "text/plain": [
       "[28,\n",
       " 6,\n",
       " 121,\n",
       " 99,\n",
       " 126,\n",
       " 22,\n",
       " 100,\n",
       " 68,\n",
       " 143,\n",
       " 40,\n",
       " 113,\n",
       " 56,\n",
       " 92,\n",
       " 88,\n",
       " 42,\n",
       " 91,\n",
       " 60,\n",
       " 19,\n",
       " 42,\n",
       " 99,\n",
       " 104,\n",
       " 60,\n",
       " 58,\n",
       " 87,\n",
       " 129,\n",
       " 104,\n",
       " 217,\n",
       " 69,\n",
       " 112,\n",
       " 98,\n",
       " 140,\n",
       " 49,\n",
       " 24,\n",
       " 37,\n",
       " 112,\n",
       " 63,\n",
       " 160,\n",
       " 48,\n",
       " 10,\n",
       " 92,\n",
       " 104,\n",
       " 73,\n",
       " 89,\n",
       " 106,\n",
       " 33,\n",
       " 110,\n",
       " 184,\n",
       " 53,\n",
       " 35,\n",
       " 92,\n",
       " 58,\n",
       " 108,\n",
       " 113,\n",
       " 105,\n",
       " 129,\n",
       " 96,\n",
       " 53,\n",
       " 121,\n",
       " 85,\n",
       " 26,\n",
       " 81,\n",
       " 103,\n",
       " 122,\n",
       " 70,\n",
       " 75,\n",
       " 103,\n",
       " 118,\n",
       " 122,\n",
       " 147,\n",
       " 81,\n",
       " 229,\n",
       " 114,\n",
       " 36,\n",
       " 1,\n",
       " 150,\n",
       " 43,\n",
       " 66,\n",
       " 51,\n",
       " 141,\n",
       " 109,\n",
       " 5,\n",
       " 99,\n",
       " 39,\n",
       " 112,\n",
       " 43,\n",
       " 53,\n",
       " 17,\n",
       " 1,\n",
       " 94,\n",
       " 150]"
      ]
     },
     "execution_count": 73,
     "metadata": {},
     "output_type": "execute_result"
    }
   ],
   "source": [
    "[x.item() for x in preds]"
   ]
  },
  {
   "cell_type": "code",
   "execution_count": 53,
   "metadata": {},
   "outputs": [
    {
     "data": {
      "text/plain": [
       "array([0.31079316, 0.3119359 , 0.30822718, 0.30780143, 0.31798947,\n",
       "       0.30971524, 0.31051314, 0.30868042, 0.30982378, 0.29493713,\n",
       "       0.30657247, 0.29243797, 0.30772418, 0.2893455 , 0.30935946,\n",
       "       0.30904633, 0.29334462, 0.31045914, 0.32010165, 0.27743813,\n",
       "       0.3118668 , 0.30295557, 0.33003002, 0.33661008, 0.32735896,\n",
       "       0.3261555 , 0.34839472, 0.343634  , 0.31699622, 0.3124323 ,\n",
       "       0.3226238 , 0.3209635 , 0.32018015, 0.305503  , 0.31034577,\n",
       "       0.3072469 , 0.30885175, 0.30804783, 0.30163264, 0.3080399 ,\n",
       "       0.29930627, 0.32747525, 0.31097034, 0.32093716, 0.32138923,\n",
       "       0.2962514 , 0.3084373 , 0.3217888 , 0.31838557, 0.31221905,\n",
       "       0.32261097, 0.31490296, 0.3051491 , 0.30581164, 0.30037546,\n",
       "       0.29266268, 0.29183882, 0.30280113, 0.30550587, 0.29816192,\n",
       "       0.29504663, 0.28125608, 0.30376306, 0.30223098, 0.2947669 ,\n",
       "       0.29666013, 0.29640347, 0.29348466, 0.3064711 , 0.28229964,\n",
       "       0.29354176, 0.30135766, 0.3084244 , 0.29784214, 0.29556823,\n",
       "       0.30099976, 0.30969134, 0.3092434 ], dtype=float32)"
      ]
     },
     "execution_count": 53,
     "metadata": {},
     "output_type": "execute_result"
    }
   ],
   "source": [
    "result"
   ]
  },
  {
   "cell_type": "code",
   "execution_count": 47,
   "metadata": {},
   "outputs": [
    {
     "data": {
      "text/plain": [
       "[array([0.31079322, 0.3119359 , 0.30822718, 0.30780143, 0.31798953,\n",
       "        0.30971527, 0.3105131 , 0.30868047], dtype=float32),\n",
       " array([0.3119359 , 0.30822718, 0.30780143, 0.31798953, 0.30971527,\n",
       "        0.3105131 , 0.30868047, 0.30982378], dtype=float32),\n",
       " array([0.30822718, 0.30780143, 0.31798953, 0.30971527, 0.3105131 ,\n",
       "        0.30868047, 0.30982378, 0.29493716], dtype=float32),\n",
       " array([0.30780143, 0.31798953, 0.30971527, 0.3105131 , 0.30868047,\n",
       "        0.30982378, 0.29493716, 0.30657244], dtype=float32),\n",
       " array([0.31798953, 0.30971527, 0.3105131 , 0.30868047, 0.30982378,\n",
       "        0.29493716, 0.30657244, 0.29243797], dtype=float32),\n",
       " array([0.30971527, 0.3105131 , 0.30868047, 0.30982378, 0.29493716,\n",
       "        0.30657244, 0.29243797, 0.3077242 ], dtype=float32),\n",
       " array([0.3105131 , 0.30868047, 0.30982378, 0.29493716, 0.30657244,\n",
       "        0.29243797, 0.3077242 , 0.28934547], dtype=float32),\n",
       " array([0.30868047, 0.30982378, 0.29493716, 0.30657244, 0.29243797,\n",
       "        0.3077242 , 0.28934547, 0.3093595 ], dtype=float32),\n",
       " array([0.30982378, 0.29493716, 0.30657244, 0.29243797, 0.3077242 ,\n",
       "        0.28934547, 0.3093595 , 0.30904636], dtype=float32),\n",
       " array([0.29493716, 0.30657244, 0.29243797, 0.3077242 , 0.28934547,\n",
       "        0.3093595 , 0.30904636, 0.29334462], dtype=float32),\n",
       " array([0.30657244, 0.29243797, 0.3077242 , 0.28934547, 0.3093595 ,\n",
       "        0.30904636, 0.29334462, 0.31045914], dtype=float32),\n",
       " array([0.29243797, 0.3077242 , 0.28934547, 0.3093595 , 0.30904636,\n",
       "        0.29334462, 0.31045914, 0.32010156], dtype=float32),\n",
       " array([0.3077242 , 0.28934547, 0.3093595 , 0.30904636, 0.29334462,\n",
       "        0.31045914, 0.32010156, 0.2774381 ], dtype=float32),\n",
       " array([0.28934547, 0.3093595 , 0.30904636, 0.29334462, 0.31045914,\n",
       "        0.32010156, 0.2774381 , 0.31186676], dtype=float32),\n",
       " array([0.3093595 , 0.30904636, 0.29334462, 0.31045914, 0.32010156,\n",
       "        0.2774381 , 0.31186676, 0.30295557], dtype=float32),\n",
       " array([0.30904636, 0.29334462, 0.31045914, 0.32010156, 0.2774381 ,\n",
       "        0.31186676, 0.30295557, 0.33003   ], dtype=float32),\n",
       " array([0.29334462, 0.31045914, 0.32010156, 0.2774381 , 0.31186676,\n",
       "        0.30295557, 0.33003   , 0.33661008], dtype=float32),\n",
       " array([0.31045914, 0.32010156, 0.2774381 , 0.31186676, 0.30295557,\n",
       "        0.33003   , 0.33661008, 0.32735902], dtype=float32),\n",
       " array([0.32010156, 0.2774381 , 0.31186676, 0.30295557, 0.33003   ,\n",
       "        0.33661008, 0.32735902, 0.32615554], dtype=float32),\n",
       " array([0.2774381 , 0.31186676, 0.30295557, 0.33003   , 0.33661008,\n",
       "        0.32735902, 0.32615554, 0.3483948 ], dtype=float32),\n",
       " array([0.31186676, 0.30295557, 0.33003   , 0.33661008, 0.32735902,\n",
       "        0.32615554, 0.3483948 , 0.34363407], dtype=float32),\n",
       " array([0.30295557, 0.33003   , 0.33661008, 0.32735902, 0.32615554,\n",
       "        0.3483948 , 0.34363407, 0.31699628], dtype=float32),\n",
       " array([0.33003   , 0.33661008, 0.32735902, 0.32615554, 0.3483948 ,\n",
       "        0.34363407, 0.31699628, 0.31243223], dtype=float32),\n",
       " array([0.33661008, 0.32735902, 0.32615554, 0.3483948 , 0.34363407,\n",
       "        0.31699628, 0.31243223, 0.32262382], dtype=float32),\n",
       " array([0.32735902, 0.32615554, 0.3483948 , 0.34363407, 0.31699628,\n",
       "        0.31243223, 0.32262382, 0.32096356], dtype=float32),\n",
       " array([0.32615554, 0.3483948 , 0.34363407, 0.31699628, 0.31243223,\n",
       "        0.32262382, 0.32096356, 0.32018012], dtype=float32),\n",
       " array([0.3483948 , 0.34363407, 0.31699628, 0.31243223, 0.32262382,\n",
       "        0.32096356, 0.32018012, 0.305503  ], dtype=float32),\n",
       " array([0.34363407, 0.31699628, 0.31243223, 0.32262382, 0.32096356,\n",
       "        0.32018012, 0.305503  , 0.31034583], dtype=float32),\n",
       " array([0.31699628, 0.31243223, 0.32262382, 0.32096356, 0.32018012,\n",
       "        0.305503  , 0.31034583, 0.30724683], dtype=float32),\n",
       " array([0.31243223, 0.32262382, 0.32096356, 0.32018012, 0.305503  ,\n",
       "        0.31034583, 0.30724683, 0.30885175], dtype=float32),\n",
       " array([0.32262382, 0.32096356, 0.32018012, 0.305503  , 0.31034583,\n",
       "        0.30724683, 0.30885175, 0.30804786], dtype=float32),\n",
       " array([0.32096356, 0.32018012, 0.305503  , 0.31034583, 0.30724683,\n",
       "        0.30885175, 0.30804786, 0.3016327 ], dtype=float32),\n",
       " array([0.32018012, 0.305503  , 0.31034583, 0.30724683, 0.30885175,\n",
       "        0.30804786, 0.3016327 , 0.30803996], dtype=float32),\n",
       " array([0.305503  , 0.31034583, 0.30724683, 0.30885175, 0.30804786,\n",
       "        0.3016327 , 0.30803996, 0.29930627], dtype=float32),\n",
       " array([0.31034583, 0.30724683, 0.30885175, 0.30804786, 0.3016327 ,\n",
       "        0.30803996, 0.29930627, 0.32747525], dtype=float32),\n",
       " array([0.30724683, 0.30885175, 0.30804786, 0.3016327 , 0.30803996,\n",
       "        0.29930627, 0.32747525, 0.31097037], dtype=float32),\n",
       " array([0.30885175, 0.30804786, 0.3016327 , 0.30803996, 0.29930627,\n",
       "        0.32747525, 0.31097037, 0.32093716], dtype=float32),\n",
       " array([0.30804786, 0.3016327 , 0.30803996, 0.29930627, 0.32747525,\n",
       "        0.31097037, 0.32093716, 0.32138923], dtype=float32),\n",
       " array([0.3016327 , 0.30803996, 0.29930627, 0.32747525, 0.31097037,\n",
       "        0.32093716, 0.32138923, 0.2962514 ], dtype=float32),\n",
       " array([0.30803996, 0.29930627, 0.32747525, 0.31097037, 0.32093716,\n",
       "        0.32138923, 0.2962514 , 0.3084372 ], dtype=float32),\n",
       " array([0.29930627, 0.32747525, 0.31097037, 0.32093716, 0.32138923,\n",
       "        0.2962514 , 0.3084372 , 0.32178876], dtype=float32),\n",
       " array([0.32747525, 0.31097037, 0.32093716, 0.32138923, 0.2962514 ,\n",
       "        0.3084372 , 0.32178876, 0.31838554], dtype=float32),\n",
       " array([0.31097037, 0.32093716, 0.32138923, 0.2962514 , 0.3084372 ,\n",
       "        0.32178876, 0.31838554, 0.31221902], dtype=float32),\n",
       " array([0.32093716, 0.32138923, 0.2962514 , 0.3084372 , 0.32178876,\n",
       "        0.31838554, 0.31221902, 0.32261097], dtype=float32),\n",
       " array([0.32138923, 0.2962514 , 0.3084372 , 0.32178876, 0.31838554,\n",
       "        0.31221902, 0.32261097, 0.31490305], dtype=float32),\n",
       " array([0.2962514 , 0.3084372 , 0.32178876, 0.31838554, 0.31221902,\n",
       "        0.32261097, 0.31490305, 0.30514908], dtype=float32),\n",
       " array([0.3084372 , 0.32178876, 0.31838554, 0.31221902, 0.32261097,\n",
       "        0.31490305, 0.30514908, 0.3058116 ], dtype=float32),\n",
       " array([0.32178876, 0.31838554, 0.31221902, 0.32261097, 0.31490305,\n",
       "        0.30514908, 0.3058116 , 0.30037546], dtype=float32),\n",
       " array([0.31838554, 0.31221902, 0.32261097, 0.31490305, 0.30514908,\n",
       "        0.3058116 , 0.30037546, 0.29266265], dtype=float32),\n",
       " array([0.31221902, 0.32261097, 0.31490305, 0.30514908, 0.3058116 ,\n",
       "        0.30037546, 0.29266265, 0.29183888], dtype=float32),\n",
       " array([0.32261097, 0.31490305, 0.30514908, 0.3058116 , 0.30037546,\n",
       "        0.29266265, 0.29183888, 0.30280113], dtype=float32),\n",
       " array([0.31490305, 0.30514908, 0.3058116 , 0.30037546, 0.29266265,\n",
       "        0.29183888, 0.30280113, 0.30550587], dtype=float32),\n",
       " array([0.30514908, 0.3058116 , 0.30037546, 0.29266265, 0.29183888,\n",
       "        0.30280113, 0.30550587, 0.2981619 ], dtype=float32),\n",
       " array([0.3058116 , 0.30037546, 0.29266265, 0.29183888, 0.30280113,\n",
       "        0.30550587, 0.2981619 , 0.29504666], dtype=float32),\n",
       " array([0.30037546, 0.29266265, 0.29183888, 0.30280113, 0.30550587,\n",
       "        0.2981619 , 0.29504666, 0.28125608], dtype=float32),\n",
       " array([0.29266265, 0.29183888, 0.30280113, 0.30550587, 0.2981619 ,\n",
       "        0.29504666, 0.28125608, 0.3037631 ], dtype=float32),\n",
       " array([0.29183888, 0.30280113, 0.30550587, 0.2981619 , 0.29504666,\n",
       "        0.28125608, 0.3037631 , 0.30223095], dtype=float32),\n",
       " array([0.30280113, 0.30550587, 0.2981619 , 0.29504666, 0.28125608,\n",
       "        0.3037631 , 0.30223095, 0.29476687], dtype=float32),\n",
       " array([0.30550587, 0.2981619 , 0.29504666, 0.28125608, 0.3037631 ,\n",
       "        0.30223095, 0.29476687, 0.29666007], dtype=float32),\n",
       " array([0.2981619 , 0.29504666, 0.28125608, 0.3037631 , 0.30223095,\n",
       "        0.29476687, 0.29666007, 0.2964034 ], dtype=float32),\n",
       " array([0.29504666, 0.28125608, 0.3037631 , 0.30223095, 0.29476687,\n",
       "        0.29666007, 0.2964034 , 0.29348463], dtype=float32),\n",
       " array([0.28125608, 0.3037631 , 0.30223095, 0.29476687, 0.29666007,\n",
       "        0.2964034 , 0.29348463, 0.30647105], dtype=float32),\n",
       " array([0.3037631 , 0.30223095, 0.29476687, 0.29666007, 0.2964034 ,\n",
       "        0.29348463, 0.30647105, 0.28229973], dtype=float32),\n",
       " array([0.30223095, 0.29476687, 0.29666007, 0.2964034 , 0.29348463,\n",
       "        0.30647105, 0.28229973, 0.2935417 ], dtype=float32),\n",
       " array([0.29476687, 0.29666007, 0.2964034 , 0.29348463, 0.30647105,\n",
       "        0.28229973, 0.2935417 , 0.30135766], dtype=float32),\n",
       " array([0.29666007, 0.2964034 , 0.29348463, 0.30647105, 0.28229973,\n",
       "        0.2935417 , 0.30135766, 0.3084244 ], dtype=float32),\n",
       " array([0.2964034 , 0.29348463, 0.30647105, 0.28229973, 0.2935417 ,\n",
       "        0.30135766, 0.3084244 , 0.29784214], dtype=float32)]"
      ]
     },
     "execution_count": 47,
     "metadata": {},
     "output_type": "execute_result"
    }
   ],
   "source": [
    "clip_pred"
   ]
  },
  {
   "cell_type": "markdown",
   "metadata": {
    "colab": {
     "base_uri": "https://localhost:8080/",
     "height": 1000
    },
    "id": "2bGFUKNPhoAv",
    "outputId": "44177d64-d701-453d-b1a7-02f295c0d3a5"
   },
   "source": [
    "$$\\Large \\textbf{Evaluation on Augmented Data}$$\n",
    "\n",
    "--------\n",
    "\n",
    "```Python\n",
    "clip_pred = []\n",
    "\n",
    "backflip_files = os.listdir('augment')\n",
    "backflip_files.sort(key = lambda x: int(x.split('.')[0]))\n",
    "backflip_files = [os.path.join('augment', x) for x in backflip_files]\n",
    "\n",
    "pbar = tqdm(backflip_files)\n",
    "for video in pbar:\n",
    "    pbar.set_description(video.split('/')[1])\n",
    "    orig_imgs, proc_imgs = loadMP4Local(video)\n",
    "    result = findMatch(orig_imgs, proc_imgs, ['A person performs a backflip.'])[0]\n",
    "    \n",
    "    clip_pred.append(result)\n",
    "    print(str(result), end = \" | \")\n",
    "\n",
    "with open('predictions (updated)/CLIP_pred_aug.pkl', 'wb') as file:\n",
    "    pickle.dump([x.item() for x in clip_pred], file)\n",
    "\n",
    "print(\"Done!\")\n",
    "```"
   ]
  },
  {
   "cell_type": "markdown",
   "metadata": {},
   "source": [
    "# Loading Data from `photo_data.csv`"
   ]
  },
  {
   "cell_type": "raw",
   "metadata": {},
   "source": [
    "photo_data_csv = pd.read_csv(\"photo_data.csv\")\n",
    "photo_data_csv.head()"
   ]
  },
  {
   "cell_type": "raw",
   "metadata": {},
   "source": [
    "labeled_data = photo_data_csv.iloc[:, :3]\n",
    "\n",
    "labeled_data = list(labeled_data.itertuples(index=False, name=None))\n",
    "\n",
    "labeled_data = list(filter(lambda x: not math.isnan(x[0]), labeled_data))\n",
    "labeled_data.sort(key = lambda x: x[0])\n",
    "\n",
    "labeled_data = list(map(lambda x: (f'GIF87/{int(x[0])}.mp4', x[1], int(x[2])), labeled_data))\n",
    "\n",
    "data = {}\n",
    "for video, phrase, annotation in labeled_data:\n",
    "    if video not in data:\n",
    "        data[video] = (int(video.split('/')[-1].split('.')[0]), phrase, annotation)\n",
    "data = list(data.items())"
   ]
  },
  {
   "cell_type": "code",
   "execution_count": 27,
   "metadata": {},
   "outputs": [
    {
     "name": "stdout",
     "output_type": "stream",
     "text": [
      "('GIF87/1.mp4', (1, 'woman falls down', 19))\n",
      "('GIF87/2.mp4', (2, 'woman falls down', 9))\n",
      "('GIF87/3.mp4', (3, 'guy falls down onto couch', 28))\n",
      "('GIF87/4.mp4', (4, 'person falls down', 14))\n",
      "('GIF87/5.mp4', (5, 'guy falls down', 10))\n"
     ]
    }
   ],
   "source": [
    "data = pickle_read(\"rustyjar/GIF87.pkl\")\n",
    "result = [print(data[x]) for x in range(5)]"
   ]
  },
  {
   "cell_type": "markdown",
   "metadata": {},
   "source": [
    "```Python\n",
    "X_lengths = []\n",
    "\n",
    "X_frames = []\n",
    "\n",
    "for gif_path, phrase, frame in tqdm(labeled_data):\n",
    "    orig_imgs, proc_imgs = loadImageLocal(gif_path)\n",
    "    X_lengths.append(len(orig_imgs))\n",
    "    curr_frames = []\n",
    "    for f_index, frame_pic in enumerate(orig_imgs):\n",
    "        append = \"\"\n",
    "        if f_index < frame:\n",
    "            append = \" before\" * min(50, frame - f_index)\n",
    "        elif f_index > frame:\n",
    "            append = \" after\" * min(50, f_index - frame)\n",
    "        else:\n",
    "            append = \"\"\n",
    "        after = \"\"\n",
    "        if f_index == frame:\n",
    "            after = ' now'\n",
    "        curr_frames.append((frame_pic, append + phrase + after))\n",
    "    X_frames.append(curr_frames)\n",
    "\n",
    "X_lengths = np.array(X_lengths)\n",
    "\n",
    "y_error = np.divide(np.abs(y_pred - photo_data_csv['Correct Frame'][0:272]), X_lengths) * 100\n",
    "plt.boxplot(y_error)\n",
    "plt.yticks(np.arange(0, 100, 10), np.char.add(np.arange(0, 100, 10).astype(\"str\"), '%'))\n",
    "plt.title(\"Error in % off\")\n",
    "plt.show()\n",
    "```"
   ]
  },
  {
   "cell_type": "code",
   "execution_count": 84,
   "metadata": {},
   "outputs": [
    {
     "data": {
      "application/vnd.jupyter.widget-view+json": {
       "model_id": "b8363f02429642e7b7025d0fb0e7b41f",
       "version_major": 2,
       "version_minor": 0
      },
      "text/plain": [
       "  0%|          | 0/30 [00:00<?, ?it/s]"
      ]
     },
     "metadata": {},
     "output_type": "display_data"
    },
    {
     "name": "stdout",
     "output_type": "stream",
     "text": [
      "[0, 1, 2, 3, 4, 5, 6, 7, 8, 9, 10, 11, 12, 13, 14, 15, 16, 17, 18, 19, 20, 21, 22, 23, 24, 25, 26, 27, 28, 29]\n",
      "3.0147402089787647\n"
     ]
    }
   ],
   "source": [
    "from concurrent.futures import ThreadPoolExecutor\n",
    "from time import sleep\n",
    "\n",
    "def compute(x):\n",
    "    sleep(1)\n",
    "    return x\n",
    "\n",
    "inputs = tqdm([x for x in range(30)])\n",
    "t1 = time.perf_counter()\n",
    "with ThreadPoolExecutor() as executor:\n",
    "    results = list(executor.map(compute, inputs))\n",
    "t2 = time.perf_counter()\n",
    "\n",
    "print(results)\n",
    "print(t2 - t1)"
   ]
  },
  {
   "cell_type": "code",
   "execution_count": 85,
   "metadata": {},
   "outputs": [
    {
     "ename": "ImportError",
     "evalue": "cannot import name 'VideoCLIPModel' from 'transformers' (/opt/miniconda3/envs/xclip/lib/python3.9/site-packages/transformers/__init__.py)",
     "output_type": "error",
     "traceback": [
      "\u001b[0;31m---------------------------------------------------------------------------\u001b[0m",
      "\u001b[0;31mImportError\u001b[0m                               Traceback (most recent call last)",
      "Cell \u001b[0;32mIn[85], line 2\u001b[0m\n\u001b[1;32m      1\u001b[0m \u001b[38;5;28;01mimport\u001b[39;00m \u001b[38;5;21;01mtorch\u001b[39;00m\n\u001b[0;32m----> 2\u001b[0m \u001b[38;5;28;01mfrom\u001b[39;00m \u001b[38;5;21;01mtransformers\u001b[39;00m \u001b[38;5;28;01mimport\u001b[39;00m VideoMAEFeatureExtractor, VideoCLIPModel, CLIPProcessor\n\u001b[1;32m      4\u001b[0m \u001b[38;5;28;01mimport\u001b[39;00m \u001b[38;5;21;01mcv2\u001b[39;00m\n\u001b[1;32m      5\u001b[0m \u001b[38;5;28;01mimport\u001b[39;00m \u001b[38;5;21;01mnumpy\u001b[39;00m \u001b[38;5;28;01mas\u001b[39;00m \u001b[38;5;21;01mnp\u001b[39;00m\n",
      "\u001b[0;31mImportError\u001b[0m: cannot import name 'VideoCLIPModel' from 'transformers' (/opt/miniconda3/envs/xclip/lib/python3.9/site-packages/transformers/__init__.py)"
     ]
    }
   ],
   "source": [
    "import torch\n",
    "from transformers import VideoMAEFeatureExtractor, VideoCLIPModel, CLIPProcessor\n",
    "\n",
    "import cv2\n",
    "import numpy as np\n",
    "\n",
    "# Load VideoCLIP model and processor\n",
    "model = VideoCLIPModel.from_pretrained(\"microsoft/videoclip-base-finetuned\")\n",
    "processor = CLIPProcessor.from_pretrained(\"microsoft/videoclip-base-finetuned\")\n",
    "\n",
    "# Function to load video and extract frames\n",
    "def load_video(video_path, num_frames=16):\n",
    "    cap = cv2.VideoCapture(video_path)\n",
    "    frames = []\n",
    "    total_frames = int(cap.get(cv2.CAP_PROP_FRAME_COUNT))\n",
    "    step = total_frames // num_frames\n",
    "    \n",
    "    for i in range(0, total_frames, step):\n",
    "        cap.set(cv2.CAP_PROP_POS_FRAMES, i)\n",
    "        ret, frame = cap.read()\n",
    "        if not ret:\n",
    "            break\n",
    "        frames.append(frame)\n",
    "        if len(frames) == num_frames:\n",
    "            break\n",
    "    cap.release()\n",
    "    return frames\n",
    "\n",
    "# Preprocess video\n",
    "def preprocess_video(video_frames):\n",
    "    video = [cv2.cvtColor(frame, cv2.COLOR_BGR2RGB) for frame in video_frames]\n",
    "    video = np.array(video)  # Convert list of frames to array\n",
    "    inputs = processor(videos=video, return_tensors=\"pt\", padding=True)\n",
    "    return inputs\n",
    "\n",
    "# Load your video and text\n",
    "video_path = \"path_to_your_video.mp4\"\n",
    "text = \"A person is performing a backflip\"\n",
    "\n",
    "video_frames = load_video(video_path)\n",
    "inputs = preprocess_video(video_frames)\n",
    "\n",
    "# Encode the text\n",
    "text_inputs = processor(text=[text], return_tensors=\"pt\", padding=True)\n",
    "\n",
    "# Pass the video and text through the model\n",
    "with torch.no_grad():\n",
    "    video_embeddings = model.get_video_features(**inputs)\n",
    "    text_embeddings = model.get_text_features(**text_inputs)\n",
    "\n",
    "    # Calculate similarity (cosine similarity)\n",
    "    similarity = torch.nn.functional.cosine_similarity(video_embeddings, text_embeddings)\n",
    "\n",
    "# Output the similarity score\n",
    "print(\"Similarity Score:\", similarity.item())\n"
   ]
  },
  {
   "cell_type": "code",
   "execution_count": 23,
   "metadata": {},
   "outputs": [],
   "source": [
    "from PIL import Image\n",
    "\n",
    "width, height = 6, 1\n",
    "image = Image.new('RGB', (width, height))\n",
    "\n",
    "pixels = [(42, 0, 0),  # Red\n",
    "          (85, 0, 0),  # Green\n",
    "          (127, 0, 0),  # Blue\n",
    "          (170, 0, 0), # Yellow\n",
    "          (212, 0, 0), # Magenta\n",
    "          (255, 0, 0)] # Cyan\n",
    "\n",
    "for x in range(width):\n",
    "    image.putpixel((x, 0), pixels[x])\n",
    "\n",
    "image.save('1_row_image.png')\n",
    "image.show()"
   ]
  },
  {
   "cell_type": "code",
   "execution_count": null,
   "metadata": {},
   "outputs": [],
   "source": []
  }
 ],
 "metadata": {
  "accelerator": "GPU",
  "colab": {
   "provenance": []
  },
  "kernelspec": {
   "display_name": "Python 3 (ipykernel)",
   "language": "python",
   "name": "python3"
  },
  "language_info": {
   "codemirror_mode": {
    "name": "ipython",
    "version": 3
   },
   "file_extension": ".py",
   "mimetype": "text/x-python",
   "name": "python",
   "nbconvert_exporter": "python",
   "pygments_lexer": "ipython3",
   "version": "3.9.19"
  }
 },
 "nbformat": 4,
 "nbformat_minor": 4
}
