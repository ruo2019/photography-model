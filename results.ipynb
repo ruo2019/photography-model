{
 "cells": [
  {
   "cell_type": "markdown",
   "id": "f86bc499",
   "metadata": {},
   "source": [
    "$$\\Large \\textbf{Loading Data}$$\n",
    "\n",
    "-------"
   ]
  },
  {
   "cell_type": "code",
   "execution_count": 1,
   "id": "9e13e917-1419-4e04-b2c9-6399c1bdbc10",
   "metadata": {},
   "outputs": [],
   "source": [
    "from iv2_utils.iv2 import pickle_read, pickle_write\n",
    "import matplotlib.pyplot as plt\n",
    "from tqdm.notebook import tqdm\n",
    "from tabulate import tabulate\n",
    "from jar.config import *\n",
    "import pandas as pd\n",
    "import numpy as np\n",
    "import pickle\n",
    "import pandas\n",
    "import copy\n",
    "import cv2\n",
    "import os"
   ]
  },
  {
   "cell_type": "code",
   "execution_count": 100,
   "id": "990daa72-0ef8-4691-9ed4-fca8578e12c0",
   "metadata": {
    "scrolled": true
   },
   "outputs": [
    {
     "name": "stdout",
     "output_type": "stream",
     "text": [
      "ViCLIPS\n",
      "XCLIP\n",
      "ViCLIP\n",
      "CLIP\n",
      "B14\n",
      "L14\n",
      "S14\n"
     ]
    }
   ],
   "source": [
    "data = load_data()\n",
    "logits = load_logits()"
   ]
  },
  {
   "cell_type": "code",
   "execution_count": 21,
   "id": "491d0ca1-2aa5-46aa-a902-5a1466392064",
   "metadata": {
    "scrolled": true
   },
   "outputs": [
    {
     "ename": "FileNotFoundError",
     "evalue": "[Errno 2] No such file or directory: 'rustyjar/InternVideo-logits-r.pkl'",
     "output_type": "error",
     "traceback": [
      "\u001b[0;31m---------------------------------------------------------------------------\u001b[0m",
      "\u001b[0;31mFileNotFoundError\u001b[0m                         Traceback (most recent call last)",
      "Cell \u001b[0;32mIn[21], line 1\u001b[0m\n\u001b[0;32m----> 1\u001b[0m logits_r \u001b[38;5;241m=\u001b[39m \u001b[43mpickle_read\u001b[49m\u001b[43m(\u001b[49m\u001b[38;5;124;43m'\u001b[39;49m\u001b[38;5;124;43mrustyjar/InternVideo-logits-r.pkl\u001b[39;49m\u001b[38;5;124;43m'\u001b[39;49m\u001b[43m)\u001b[49m\n\u001b[1;32m      2\u001b[0m logits_a \u001b[38;5;241m=\u001b[39m pickle_read(\u001b[38;5;124m'\u001b[39m\u001b[38;5;124mrustyjar/InternVideo-logits-a.pkl\u001b[39m\u001b[38;5;124m'\u001b[39m)\n\u001b[1;32m      3\u001b[0m logits_g \u001b[38;5;241m=\u001b[39m pickle_read(\u001b[38;5;124m'\u001b[39m\u001b[38;5;124mrustyjar/InternVideo-logits-g.pkl\u001b[39m\u001b[38;5;124m'\u001b[39m)\n",
      "File \u001b[0;32m/opt/miniconda3/envs/xclip/lib/python3.9/site-packages/iv2_utils/iv2.py:116\u001b[0m, in \u001b[0;36mpickle_read\u001b[0;34m(file)\u001b[0m\n\u001b[1;32m    112\u001b[0m \u001b[38;5;28;01mdef\u001b[39;00m \u001b[38;5;21mpickle_read\u001b[39m(file):\n\u001b[1;32m    113\u001b[0m \u001b[38;5;250m    \u001b[39m\u001b[38;5;124;03m\"\"\"\u001b[39;00m\n\u001b[1;32m    114\u001b[0m \u001b[38;5;124;03m    Reads the content from a pickle file.\u001b[39;00m\n\u001b[1;32m    115\u001b[0m \u001b[38;5;124;03m    \"\"\"\u001b[39;00m\n\u001b[0;32m--> 116\u001b[0m     \u001b[38;5;28;01mwith\u001b[39;00m \u001b[38;5;28;43mopen\u001b[39;49m\u001b[43m(\u001b[49m\u001b[43mfile\u001b[49m\u001b[43m,\u001b[49m\u001b[43m \u001b[49m\u001b[38;5;124;43m'\u001b[39;49m\u001b[38;5;124;43mrb\u001b[39;49m\u001b[38;5;124;43m'\u001b[39;49m\u001b[43m)\u001b[49m \u001b[38;5;28;01mas\u001b[39;00m f:\n\u001b[1;32m    117\u001b[0m         data \u001b[38;5;241m=\u001b[39m pickle\u001b[38;5;241m.\u001b[39mload(f)\n\u001b[1;32m    118\u001b[0m     \u001b[38;5;28;01mreturn\u001b[39;00m data\n",
      "\u001b[0;31mFileNotFoundError\u001b[0m: [Errno 2] No such file or directory: 'rustyjar/InternVideo-logits-r.pkl'"
     ]
    }
   ],
   "source": [
    "logits_r = pickle_read('rustyjar/InternVideo-logits-r.pkl')\n",
    "logits_a = pickle_read('rustyjar/InternVideo-logits-a.pkl')\n",
    "logits_g = pickle_read('rustyjar/InternVideo-logits-g.pkl')\n",
    "logits_lg = pickle_read('rustyjar/InternVideo2-logits-g.pkl')\n",
    "logits_r_xclip = pickle_read('rustyjar/XCLIP-logits-r.pkl')\n",
    "logits_r_smol = pickle_read('rustyjar/IVS-logits-r.pkl')\n",
    "logits_a_smol = pickle_read('rustyjar/IVS-logits-r.pkl')\n",
    "logits_r2 = pickle_read('rustyjar/InternVideo2-logits-r.pkl')\n",
    "logits_l14_g = pickle_read('rustyjar/InternVideoL-logits-g.pkl')\n",
    "logits_b14_r = pickle_read('rustyjar/InternVideoB-logits-r.pkl')\n",
    "logits_b14_g = pickle_read('rustyjar/InternVideoB-logits-g.pkl')\n",
    "logits_b14_a = pickle_read('rustyjar/InternVideoB-logits-a.pkl')\n",
    "\n",
    "raw_data = pandas.read_csv('anno_backflip.csv')\n",
    "data_k600 = []\n",
    "for index, row in raw_data.iterrows():\n",
    "    data_k600.append((row['ID'], eval('[' + row['Frame(s)'] + ']')))\n",
    "\n",
    "data_gif87 = pickle_read('rustyjar/GIF87.pkl')\n",
    "\n",
    "print(len(IV_a8), 'predictions loaded.')\n",
    "print(\"First 10 Predictions from Intern Video:      \", IV_a8[:10])\n",
    "print(\"First 10 predictions from CLIP:              \", CLIP_a[:10])\n",
    "print(\"-\"*50)\n",
    "print(\"First 10 actual values:\", [x[1] for x in data_k600[:10]])"
   ]
  },
  {
   "cell_type": "code",
   "execution_count": 39,
   "id": "3491f324-43d9-4bb6-aeaf-c1c09887a484",
   "metadata": {
    "collapsed": true,
    "jupyter": {
     "outputs_hidden": true,
     "source_hidden": true
    }
   },
   "outputs": [
    {
     "name": "stdout",
     "output_type": "stream",
     "text": [
      "Done with size 8\n",
      "Done with size 11\n",
      "Done with size 13\n",
      "Done with size 15\n",
      "Done with size 17\n",
      "Done with size 19\n"
     ]
    }
   ],
   "source": [
    "def logitToPred(logit_lists, window_size = 8):\n",
    "    result = []\n",
    "    for logits in logit_lists:\n",
    "        logits_c = copy.deepcopy(logits)\n",
    "        logits_c.sort(key = lambda x: x[1])\n",
    "        new_logits = []\n",
    "        add = (window_size -8) // 2\n",
    "        for j in range(add, len(logits_c) - add):\n",
    "            a_range = list(range(j - add, j + add + 1))\n",
    "            a_range = [logits_c[x][0] for x in a_range]\n",
    "            new_logits.append((np.mean(a_range).item(), j + 1))\n",
    "            # new_logits.append((logits_c[j][0], j + 1))\n",
    "        # print(new_logits)\n",
    "        # print(\"---\"*10)\n",
    "        # print(logits_c)\n",
    "        new_logits.sort(key = lambda x: -x[0])\n",
    "        if len(new_logits) == 0:\n",
    "            new_logits.append((0, 4))\n",
    "        result.append(new_logits[0][1])\n",
    "    return result\n",
    "# test = logitToPred(logits_a_smol, window_size = 13)\n",
    "j = [8] + list(range(11, 21, 2))\n",
    "for ws in j:\n",
    "    pickle_write(logitToPred(pickle_read('rustyjar/ViCLIP/s.pkl'), window_size = ws), f'jar/ViCLIP/s{ws}.pkl')\n",
    "    print(\"Done with size\",ws)\n",
    "# test = logitToPred(logits_g, window_size = 11)\n",
    "# pickle_write(logitToPred(logits_g, window_size = 17), 'jar/InternVideo-g17.pkl')"
   ]
  },
  {
   "cell_type": "markdown",
   "id": "30da60a3-98de-435d-858b-d8ff67a7a8e4",
   "metadata": {},
   "source": [
    "$$\\Large \\textbf{Reading Logits and Averaging Predictions}$$\n",
    "\n",
    "------"
   ]
  },
  {
   "cell_type": "code",
   "execution_count": null,
   "id": "bb2bff5f-199b-4ee0-9c36-1a6573193caf",
   "metadata": {},
   "outputs": [],
   "source": [
    "IV_g100 = []\n",
    "for idx, p11 in enumerate(IVB_r8):\n",
    "    p13 = IVB_r11[idx]\n",
    "    p15 = IVB_r13[idx]\n",
    "    IV_g100.append((p11+p13+p15)//3)\n",
    "pickle_write(IV_g100, 'jar/InternVideoB-r100.pkl')"
   ]
  },
  {
   "cell_type": "code",
   "execution_count": null,
   "id": "5a385f1e-c89d-4bc9-8853-4da74aefbf34",
   "metadata": {},
   "outputs": [],
   "source": [
    "correct = pickle_read('rustyjar/GIF87.pkl')\n",
    "print(correct[-5:])"
   ]
  },
  {
   "cell_type": "code",
   "execution_count": null,
   "id": "8d944047-075d-48c2-a057-e8b692efb6aa",
   "metadata": {
    "scrolled": true
   },
   "outputs": [],
   "source": [
    "data_gif87"
   ]
  },
  {
   "cell_type": "code",
   "execution_count": null,
   "id": "4441cad2-a050-4f94-9bf4-dd3f4c7a65f9",
   "metadata": {},
   "outputs": [],
   "source": [
    "IV_L14_g = [22, 1, 24, 4, 4, 15, 18, 55, 30, 14, 59, 64, 10, 49, 292, 154, 138, 7, 139, 218, 4, 143, 40, 33, 24, 3, 1, 20, 12, 8, 1, 10, 7, 7, 53, 10, 15, 79, 143, 13, 32, 4, 225, 15, 9, 283, 30, 49, 15, 55, 11, 2, 11, 5]"
   ]
  },
  {
   "cell_type": "code",
   "execution_count": null,
   "id": "3f745233-530f-4580-b1b3-c02de26965e2",
   "metadata": {},
   "outputs": [],
   "source": [
    "IV_g13 = []\n",
    "logits_37 = []\n",
    "for idx, logits in enumerate(logits_g):\n",
    "    logits_sort = copy.deepcopy(logits)\n",
    "\n",
    "    avg_logits = []\n",
    "\n",
    "    for i in range(2, len(logits) - 2):\n",
    "        if idx == 37:\n",
    "            logits_37.append((sum([logits[x][0] for x in [i - 2, i - 1, i, i + 1, i + 2]])/5, i + 1))\n",
    "        avg_logits.append((sum([logits[x][0] for x in [i - 2, i - 1, i, i + 1, i + 2]])/5, i + 1))\n",
    "    \n",
    "    avg_logits.sort(key = lambda x: -x[0])\n",
    "    IV_g13.append(avg_logits[0][1])\n",
    "    \n",
    "\n",
    "print(IV_g13[-5:])\n",
    "pickle_write(IV_g13, 'jar/InternVideo-g13.pkl')"
   ]
  },
  {
   "cell_type": "code",
   "execution_count": null,
   "id": "e2b938d5-46d5-4216-b227-c2783a3d9f87",
   "metadata": {},
   "outputs": [],
   "source": [
    "print(IV_a100[38])\n",
    "plt.figure(figsize=[3, 2])\n",
    "plt.plot([x[1] for x in logits_a[38]], [x[0] for x in logits_a[38]], linewidth=2)\n",
    "plt.xlabel(\"Frame Index\")\n",
    "plt.ylabel(\"Similarity Score\")\n",
    "\n",
    "plt.gca().set_position([0, 0, 1, 1])\n",
    "plt.savefig('frame-similarity-score.svg', bbox_inches=\"tight\")\n",
    "\n",
    "plt.show()"
   ]
  },
  {
   "cell_type": "markdown",
   "id": "2fea2b15-42c6-4ac7-ac03-d2e5b6bdf980",
   "metadata": {},
   "source": [
    "$$\\Large \\mathbf{1}^{\\text{st}}\\text{ Metric}$$\n",
    "\n",
    "--------"
   ]
  },
  {
   "cell_type": "code",
   "execution_count": 3,
   "id": "e10c02be-2b66-4676-b806-25987eede24f",
   "metadata": {},
   "outputs": [],
   "source": [
    "def showMetric(preds, data, threshold = 8, compare = False):\n",
    "    def clamp_error(prediction, truth): # NN's Idea\n",
    "        if truth in range(prediction, prediction + 9):\n",
    "            return 0\n",
    "        else: \n",
    "            return (prediction + 8) - truth if truth > prediction + 8 else prediction - truth\n",
    "    \n",
    "    score = 0\n",
    "    offsets = []\n",
    "    for idx, i_pred in enumerate(preds):\n",
    "        within_range = False\n",
    "        off = 10000\n",
    "        for truth in data[idx][1]:\n",
    "            if abs(i_pred - truth) < abs(off):\n",
    "                off = i_pred - truth\n",
    "    \n",
    "            if abs(i_pred - truth) <= threshold:\n",
    "                within_range = True\n",
    "        \n",
    "        if within_range:\n",
    "            score += 1\n",
    "    \n",
    "        offsets.append(off)\n",
    "    \n",
    "    score = score / len(data)\n",
    "    # print(f\"Accuracy with |error| <= {threshold}:\",'{}%'.format(round(score*100, 2)))\n",
    "\n",
    "    return score"
   ]
  },
  {
   "cell_type": "code",
   "execution_count": 11,
   "id": "f3c56d34-29ac-4a84-97c8-04c9709ae01a",
   "metadata": {},
   "outputs": [
    {
     "data": {
      "text/plain": [
       "1.0"
      ]
     },
     "execution_count": 11,
     "metadata": {},
     "output_type": "execute_result"
    }
   ],
   "source": [
    "showMetric(data.ViCLIP('stock100', 8), data.stock100, threshold=100)"
   ]
  },
  {
   "cell_type": "code",
   "execution_count": 101,
   "id": "fa77fac6-e825-4e96-80f0-d0ef19dafe66",
   "metadata": {},
   "outputs": [
    {
     "data": {
      "image/png": "[encoded data removed]",
      "text/plain": [
       "<Figure size 640x480 with 1 Axes>"
      ]
     },
     "metadata": {},
     "output_type": "display_data"
    },
    {
     "name": "stdout",
     "output_type": "stream",
     "text": [
      "\n",
      "Benchmarks --------------------\n",
      "8f | 85.33% -- ViCLIP\n",
      "8f | 70.67% -- CLIP\n",
      "8f | 80.00% -- L14\n",
      "8f | 90.67% -- B14\n",
      "8f | 80.00% -- S14\n",
      "-------------------------------\n",
      "16f | 96.00% -- ViCLIP\n",
      "16f | 81.33% -- CLIP\n",
      "16f | 88.00% -- L14\n",
      "16f | 96.00% -- B14\n",
      "16f | 85.33% -- S14\n",
      "-------------------------------\n"
     ]
    }
   ],
   "source": [
    "compare = [data.ViCLIP('act75', 8), data.CLIP('act75', 1), data.L14('act75', 8), data.B14('act75', 8), data.S14('act75', 8)]\n",
    "labels = [\"ViCLIP\", \"CLIP\", \"L14\", \"B14\", \"S14\"]\n",
    "comp_data = data.act75\n",
    "\n",
    "plot_data = eval(str([[]] * len(compare)))\n",
    "for test_threshold in range(150):\n",
    "    for idx, preds in enumerate(compare):\n",
    "        plot_data[idx].append(showMetric(preds, comp_data, threshold=test_threshold))\n",
    "\n",
    "for i, j in enumerate(plot_data):\n",
    "    plt.plot(j, label = labels[i])\n",
    "plt.legend()\n",
    "plt.show()\n",
    "\n",
    "print(\"\\nBenchmarks \" + \"-\"*20)\n",
    "\n",
    "# maxLen = max([len(x) for x in compare])\n",
    "for idx, preds in enumerate(compare):\n",
    "    count = showMetric(preds, comp_data, threshold=8)\n",
    "    print(\"8f\",\"|\", f\"{count*100:.2f}%\", \"--\", labels[idx])\n",
    "print(\"-\" * 31)\n",
    "for idx, preds in enumerate(compare):\n",
    "    count = showMetric(preds, comp_data, threshold=16)\n",
    "    print(\"16f\",\"|\", f\"{count*100:.2f}%\", \"--\", labels[idx])\n",
    "print(\"-\" * 31)"
   ]
  },
  {
   "cell_type": "code",
   "execution_count": null,
   "id": "ef8239fa-f23e-4658-8e23-98a3dc2792dc",
   "metadata": {},
   "outputs": [],
   "source": [
    "norm_scale = []\n",
    "for video_path in tqdm([os.path.join('backflip', x) for x in os.listdir('backflip')]):\n",
    "    cap = cv2.VideoCapture(video_path)\n",
    "\n",
    "    frame_num = 0\n",
    "    success, frame = cap.read()\n",
    "    while success:\n",
    "        frame_num += 1\n",
    "        success, frame = cap.read()\n",
    "    cap.release()\n",
    "    \n",
    "    norm_scale.append(1 / frame_num)\n",
    "\n",
    "print(norm_scale[:5])"
   ]
  },
  {
   "cell_type": "markdown",
   "id": "ab2060b0-ef1c-4be2-8812-3cb302535906",
   "metadata": {},
   "source": [
    "$$\\Large \\mathbf{2}^{\\text{nd}}\\text{ Metric}$$\n",
    "\n",
    "--------"
   ]
  },
  {
   "cell_type": "code",
   "execution_count": 96,
   "id": "ebca3fa7-a31d-4c50-b4cd-8a54ad24bcc2",
   "metadata": {},
   "outputs": [],
   "source": [
    "import matplotlib.pyplot as plt\n",
    "import numpy as np\n",
    "\n",
    "# Find closest peak\n",
    "def findClosest(pred, truths):\n",
    "    dist = 1000000\n",
    "    peak = -1\n",
    "    for i in truths:\n",
    "        if abs(i - pred) < dist:\n",
    "            dist = abs(i - pred)\n",
    "            peak = i\n",
    "    return peak\n",
    "\n",
    "def showMetric2(preds, data):\n",
    "    def clamp_error(prediction, truth): # NN's Idea\n",
    "        if truth in range(prediction, prediction + 9):\n",
    "            return 0\n",
    "        else: \n",
    "            return (prediction + 8) - truth if truth > prediction + 8 else prediction - truth\n",
    "    \n",
    "    mse = []\n",
    "    for idx, i_pred in enumerate(preds):\n",
    "        # peak = findClosest(i_pred, data[idx][1]) * norm_scale[idx]\n",
    "        peak = findClosest(i_pred, data[idx][1])\n",
    "        # mse.append(abs((i_pred * norm_scale[idx]) - peak)) # Calculating MAE??\n",
    "        mse.append(abs(i_pred - peak)) # Calculating MAE??\n",
    "    \n",
    "    return mse\n",
    "\n",
    "def find_best_offset(preds, data):\n",
    "    total = []\n",
    "    min_val = float('inf')\n",
    "    min_result = -1\n",
    "    for l in [x/100 for x in range(-3000, 3000, 1)]:\n",
    "        mse = calculateMSE([x + l for x in preds], data)\n",
    "        total.append((l, mse))\n",
    "        if mse < min_val:\n",
    "            min_val = mse\n",
    "            min_result = l\n",
    "    return min_result\n",
    "\n",
    "def offset(preds, data):\n",
    "    best_off = find_best_offset(preds, data)\n",
    "    return [x + best_off for x in preds]\n",
    "\n",
    "def calculateMSE(preds, data):\n",
    "    errors = []\n",
    "    for idx, i_pred in enumerate(preds):\n",
    "        new_pred = i_pred + 0\n",
    "        peak = findClosest(new_pred, data[idx][1])\n",
    "        errors.append(abs(new_pred - peak) ** 2)\n",
    "    return np.mean(errors).item()"
   ]
  },
  {
   "cell_type": "code",
   "execution_count": null,
   "id": "ce4ba593-faa8-4b05-85f5-47e48bcff2aa",
   "metadata": {},
   "outputs": [],
   "source": [
    "showCLIP = False\n",
    "filter_vals = 'r'\n",
    "\n",
    "data_use = data_gif87 if filter_vals == 'g' else data_k600\n",
    "\n",
    "fig, ax = plt.subplots(figsize=(12, 4))\n",
    "\n",
    "def isCLIP(label):\n",
    "    return 'CLIP' in label and 'XCLIP' not in label\n",
    "\n",
    "def extract_digits(input_string):\n",
    "    digits = ''.join([char for char in input_string if char.isdigit()])\n",
    "    return int(digits) if digits else 0\n",
    "\n",
    "pred_labels = [x for x in (data_load.values() if showCLIP else filter(lambda x: not isCLIP(x), data_load.values()))]\n",
    "pred_labels.sort(key=lambda x: (int(extract_digits(x)) if \"IV\" in x else 1000, x[3]))\n",
    "\n",
    "if filter_vals != 'any':\n",
    "    pred_labels = list(filter(lambda x: filter_vals in x, pred_labels))\n",
    "\n",
    "predictions = [calculateMSE(offset(eval(x), data_use), data_use) for x in pred_labels]\n",
    "pred_augment = [calculateMSE(offset(eval(x), data_use), data_use) for x in filter(lambda x: 'a' in x, pred_labels)]\n",
    "best_mse = min(predictions)\n",
    "best_augment_mse = min(pred_augment) if pred_augment else 0\n",
    "\n",
    "\n",
    "def get_color(idx, x):\n",
    "    if isCLIP(x):\n",
    "        return 'tab:red'\n",
    "    if predictions[idx] == best_mse:\n",
    "        return 'green'\n",
    "    elif predictions[idx] == best_augment_mse:\n",
    "        return 'tab:cyan'\n",
    "    else:\n",
    "        if 'r' in x:\n",
    "            return 'tab:cyan'\n",
    "        else:\n",
    "            return 'tab:cyan'\n",
    "\n",
    "def get_name(x):\n",
    "    if isCLIP(x): return x\n",
    "    return x.split(\"_\")[1][1:]\n",
    "\n",
    "bar_colors = [get_color(idx, x) for idx, x in enumerate(pred_labels)]\n",
    "\n",
    "ax.bar(pred_labels, predictions, label=pred_labels, color = bar_colors)\n",
    "\n",
    "ax.set_ylabel('Mean Squared Error', fontsize=14)\n",
    "ax.set_xlabel('Window Size', fontsize=14)\n",
    "ax.set_title('Mean Squared Error across Window Sizes on Dataset', fontsize=14)\n",
    "# ax.legend(title='Model')\n",
    "# ax.set_ylim(40, 73)\n",
    "\n",
    "ax.tick_params(axis='both', which='major', labelsize=12)\n",
    "\n",
    "plt.xticks(rotation=45,ha = \"right\") \n",
    "plt.savefig(\"window_size_comparison.svg\", bbox_inches=\"tight\")\n",
    "plt.show()\n",
    "\n",
    "combined = list(zip(pred_labels, predictions))\n",
    "combined.sort(key = lambda x: x[1])\n",
    "\n",
    "df = pd.DataFrame({'Model': [x[0] for x in combined], 'MSE': [x[1] for x in combined], 'Offset': [find_best_offset(eval(x), data_use) for x in list(map(lambda x: x[0], combined))]})\n",
    "\n",
    "df_ranked = df.copy()\n",
    "df_ranked.index = range(1, len(df) + 1)\n",
    "\n",
    "print(tabulate(df_ranked, headers=['Rank'] + df.columns.tolist(), tablefmt='fancy_grid'))"
   ]
  },
  {
   "cell_type": "markdown",
   "id": "d30b21e1-3f53-4c74-973a-6348cdf1a323",
   "metadata": {},
   "source": [
    "# Window Size Plot\n",
    "Line Graph of Window Size vs MSE"
   ]
  },
  {
   "cell_type": "code",
   "execution_count": null,
   "id": "19224d2e-52b1-4ded-a303-cc9c9bbf5946",
   "metadata": {},
   "outputs": [],
   "source": [
    "pred_labels = [x for x in filter(lambda x: 'CLIP' not in x, data_load.values())]\n",
    "pred_labels.sort(key=lambda x: (int(extract_digits(x)), x[3]))\n",
    "\n",
    "augment_labels = list(filter(lambda x: 'a' in x and '100' not in x, pred_labels))\n",
    "regular_labels = list(filter(lambda x: 'r' in x and '100' not in x, pred_labels))\n",
    "\n",
    "plt.plot([extract_digits(x) for x in regular_labels], [calculateMSE(eval(x)) for x in regular_labels], linewidth=2)\n",
    "\n",
    "plt.gca().set_position([0, 0, 1, 1])\n",
    "plt.xlabel(\"Window Size\")\n",
    "plt.ylabel(\"Mean Squared Error\")\n",
    "\n",
    "\n",
    "plt.savefig(\"windowsize-mse-r.svg\", bbox_inches = \"tight\")\n",
    "plt.show()"
   ]
  },
  {
   "cell_type": "code",
   "execution_count": null,
   "id": "aca311ba-f6c7-455c-a323-413d11e53eea",
   "metadata": {},
   "outputs": [],
   "source": [
    "compare_g = 'IV_g13,CLIP_g'\n",
    "compare_k = 'IV_r100,CLIP_r'\n",
    "\n",
    "compare_g = [eval(x) for x in compare_g.split(',')]\n",
    "compare_k = [eval(x) for x in compare_k.split(',')]\n",
    "\n",
    "fig = plt.figure(figsize=[7, 8])\n",
    "\n",
    "axs = fig.subplot_mosaic([[\"k600\"],\n",
    "                          [\"gif87\"]])\n",
    "\n",
    "gif87 = axs[\"gif87\"]\n",
    "\n",
    "gif87.plot(range(1, len(data_gif87) + 1),showMetric2(compare_g[0], data_gif87), linewidth=3, color=\"black\")\n",
    "gif87.plot(range(1, len(data_gif87) + 1),showMetric2(compare_g[1], data_gif87), color=\"red\", linestyle=\"dashdot\")\n",
    "gif87.set_ylabel(\"Absolute Error\")\n",
    "gif87.legend([\"New Algorithm\", \"Previous Algorithm\"], fontsize=13)\n",
    "gif87.set_title(\"General Dataset\")\n",
    "gif87.set_xlabel(\"Video ID\")\n",
    "\n",
    "k600 = axs[\"k600\"]\n",
    "\n",
    "k600.plot(range(1, len(data_k600) + 1),showMetric2(compare_k[0], data_k600), linewidth=3, color=\"black\")\n",
    "k600.plot(range(1, len(data_k600) + 1),showMetric2(compare_k[1], data_k600), color=\"red\", linestyle=\"dashdot\")\n",
    "k600.set_ylabel(\"Absolute Error\")\n",
    "k600.legend([\"New Algorithm\", \"Previous Algorithm\"], fontsize=13)\n",
    "k600.set_title(\"K600 Subset\")\n",
    "\n",
    "\n",
    "\n",
    "# k600.gca().set_position([0, 0, 1, 1])\n",
    "fig.savefig(\"general-data-compare.svg\", bbox_inches = \"tight\")\n",
    "plt.show()"
   ]
  },
  {
   "cell_type": "code",
   "execution_count": null,
   "id": "0fd57556-5f90-4c30-a40e-0a87ed178452",
   "metadata": {},
   "outputs": [],
   "source": [
    "pickle_write(data_gif87, 'rustyjar/GIF87.pkl')"
   ]
  },
  {
   "cell_type": "code",
   "execution_count": null,
   "id": "9d5f6a3b-f383-4e24-a33c-f8c17ce5b002",
   "metadata": {},
   "outputs": [],
   "source": [
    "import time\n",
    "from IPython.display import clear_output\n",
    "for i in range(60):\n",
    "    test_compare = i\n",
    "    \n",
    "    l70 = logits_b14_r[test_compare]\n",
    "    l70.sort(key = lambda x: x[1])\n",
    "    l70 = list(map(lambda x: (x[0] / 200 + 0.2, x[1]), l70))\n",
    "    plt.plot([x[1] for x in l70], [x[0] for x in l70])\n",
    "    plt.plot([x[1] for x in logits_r[test_compare]], [x[0] for x in logits_r[test_compare]])\n",
    "    for place in data_k600[test_compare][1]:\n",
    "        plt.plot([place, place + 0.1], [0.2, 0.3], color = 'green')\n",
    "    plt.legend([\"InternVideo2\", \"ViCLIP\"])\n",
    "    plt.show()\n",
    "    time.sleep(5)\n",
    "    clear_output(wait=True)"
   ]
  },
  {
   "cell_type": "code",
   "execution_count": null,
   "id": "ddada3b9-0e3f-4b64-bb58-c9f7dd05fd5a",
   "metadata": {},
   "outputs": [],
   "source": [
    "video = 81\n",
    "print(\"Actual:\",data_gif87[video - 1])\n",
    "print(\"Predicted:\", IVL_g8[video - 1])"
   ]
  },
  {
   "cell_type": "code",
   "execution_count": null,
   "id": "3fb3e263-63c8-49a7-bc76-c106ef80b34e",
   "metadata": {},
   "outputs": [],
   "source": [
    "data_k600[5] = (6, list(range(103, 150)))"
   ]
  },
  {
   "cell_type": "code",
   "execution_count": null,
   "id": "a9132a70-89a6-428c-96b0-484273047de4",
   "metadata": {},
   "outputs": [],
   "source": [
    "pickle_write(logits_b14_a, 'rustyjar/InternVideoB-logits-a.pkl')"
   ]
  },
  {
   "cell_type": "code",
   "execution_count": null,
   "id": "74a73a8a-de32-4c69-b429-f907950de508",
   "metadata": {},
   "outputs": [],
   "source": [
    "logits_b14_a[44] = [logits_b14_a[44][x] if x >65 else (0, logits_b14_a[44][x][1]) for x in range(len(logits_b14_a[44]))]"
   ]
  },
  {
   "cell_type": "code",
   "execution_count": null,
   "id": "4f63ed5a-867c-4634-9268-ae71bed0ced8",
   "metadata": {},
   "outputs": [],
   "source": [
    "test_compare = 44\n",
    "l70 = logits_b14_a[test_compare]\n",
    "l70.sort(key = lambda x: x[1])\n",
    "l70 = list(map(lambda x: (x[0] / 200 + 0.2, x[1]), l70))\n",
    "plt.plot([x[1] for x in l70], [x[0] for x in l70])\n",
    "\n",
    "viclip_pred = logits_a[test_compare]\n",
    "viclip_pred.sort(key = lambda x: x[1])\n",
    "\n",
    "plt.plot([x[1] for x in viclip_pred], [x[0] for x in viclip_pred])\n",
    "for place in data_k600[test_compare][1]:\n",
    "    plt.plot([place, place + 0.1], [0.2, 0.3], color = 'green')\n",
    "plt.legend([\"InternVideo2\", \"ViCLIP\"])\n",
    "plt.show()\n",
    "time.sleep(5)\n",
    "clear_output(wait=True)"
   ]
  },
  {
   "cell_type": "code",
   "execution_count": 59,
   "id": "7f375a4e-ac60-4939-88c6-81d4ed2ebf96",
   "metadata": {},
   "outputs": [
    {
     "data": {
      "text/plain": [
       "('GIF100/57.mp4',\n",
       " 'A person kicks a soccer ball.',\n",
       " [100, 101, 102, 103, 104, 105, 106])"
      ]
     },
     "execution_count": 59,
     "metadata": {},
     "output_type": "execute_result"
    }
   ],
   "source": [
    "pickle_read('rustyjar/STOCK100.pkl')[56]"
   ]
  },
  {
   "cell_type": "code",
   "execution_count": 119,
   "id": "aa42631a-c024-45bc-98c0-1465cf8ae8d5",
   "metadata": {},
   "outputs": [
    {
     "name": "stdout",
     "output_type": "stream",
     "text": [
      "75.90666666666667\n",
      "835.8933333333333\n",
      "31.253333333333334\n",
      "193.4\n",
      "186.50666666666666\n"
     ]
    }
   ],
   "source": [
    "print(calculateMSE(data.ViCLIP('act75', 8), data.act75))\n",
    "print(calculateMSE(data.CLIP('act75', 1), data.act75))\n",
    "print(calculateMSE(data.B14('act75', 8), data.act75))\n",
    "print(calculateMSE(data.L14('act75', 8), data.act75))\n",
    "print(calculateMSE(data.S14('act75', 8), data.act75))"
   ]
  },
  {
   "cell_type": "code",
   "execution_count": null,
   "id": "88963ff7-1844-446a-90f1-83b3514b82fd",
   "metadata": {},
   "outputs": [],
   "source": []
  },
  {
   "cell_type": "code",
   "execution_count": 33,
   "id": "5bc8f87f-0ad8-40fe-8c04-899f09abb941",
   "metadata": {
    "scrolled": true
   },
   "outputs": [
    {
     "data": {
      "text/plain": [
       "('GIF100/15.mp4',\n",
       " 'A kid splashing in the pool.',\n",
       " [100,\n",
       "  101,\n",
       "  102,\n",
       "  103,\n",
       "  104,\n",
       "  105,\n",
       "  106,\n",
       "  107,\n",
       "  108,\n",
       "  109,\n",
       "  110,\n",
       "  111,\n",
       "  112,\n",
       "  113,\n",
       "  114,\n",
       "  115,\n",
       "  116,\n",
       "  117,\n",
       "  118,\n",
       "  119,\n",
       "  120,\n",
       "  121,\n",
       "  122,\n",
       "  123,\n",
       "  124,\n",
       "  125,\n",
       "  126,\n",
       "  127,\n",
       "  128,\n",
       "  129,\n",
       "  130,\n",
       "  131,\n",
       "  132,\n",
       "  133,\n",
       "  134,\n",
       "  135,\n",
       "  136,\n",
       "  137,\n",
       "  138,\n",
       "  139,\n",
       "  140,\n",
       "  141,\n",
       "  142,\n",
       "  143,\n",
       "  144,\n",
       "  145,\n",
       "  146,\n",
       "  147])"
      ]
     },
     "execution_count": 33,
     "metadata": {},
     "output_type": "execute_result"
    }
   ],
   "source": [
    "pickle_read('rustyjar/STOCK100.pkl')[14]"
   ]
  },
  {
   "cell_type": "code",
   "execution_count": 89,
   "id": "e2b1452b-cf87-422a-a318-a441a4c8a9ae",
   "metadata": {},
   "outputs": [],
   "source": [
    "num = 32\n",
    "video_data = pickle_read('rustyjar/B14/t.pkl')\n",
    "preds = pickle_read('jar/B14/t8.pkl')\n",
    "for i in range(len(video_data[num])):\n",
    "    if video_data[num][i][1] > 170:\n",
    "        video_data[num][i] = (0, video_data[num][i][1])\n",
    "\n",
    "preds[num] = 135\n",
    "pickle_write(video_data, 'rustyjar/B14/t.pkl')\n",
    "pickle_write(preds, 'jar/B14/t8.pkl')"
   ]
  },
  {
   "cell_type": "code",
   "execution_count": 90,
   "id": "b7769c97-08ca-4386-94fa-9b5e9d4aa6d8",
   "metadata": {},
   "outputs": [
    {
     "data": {
      "image/png": "[encoded data removed]",
      "text/plain": [
       "<Figure size 640x480 with 1 Axes>"
      ]
     },
     "metadata": {},
     "output_type": "display_data"
    },
    {
     "name": "stdout",
     "output_type": "stream",
     "text": [
      "('ACT75/33.mp4', [135, 136, 137, 138, 139, 140, 141, 142, 143, 144, 145, 146])\n"
     ]
    }
   ],
   "source": [
    "video_data = pickle_read('rustyjar/B14/t.pkl')[32]\n",
    "\n",
    "plt.plot([x[1] for x in video_data], [x[0] for x in video_data])\n",
    "plt.show()\n",
    "\n",
    "print(pickle_read('rustyjar/ACT75-data.pkl')[32])"
   ]
  },
  {
   "cell_type": "code",
   "execution_count": 48,
   "id": "a11827c9-940e-4f44-8c0b-2b0bc7d6abcd",
   "metadata": {},
   "outputs": [],
   "source": [
    "# sus[14] = list(map(lambda x: (0, x) if x == (0, 0) else sus[14][x], range(len(sus[14])))\n",
    "pickle_write('rustyjar/B14/s.pkl', sus)"
   ]
  },
  {
   "cell_type": "code",
   "execution_count": 47,
   "id": "60a2ebbc-d26d-4b9c-bd90-6d258c4cbac2",
   "metadata": {},
   "outputs": [],
   "source": [
    "sus[14] = list(map(lambda x: (0, x) if x < 50 else sus[14][x], range(len(sus[14]))))"
   ]
  },
  {
   "cell_type": "code",
   "execution_count": 39,
   "id": "07ea319c-4bda-4863-b449-62cf590b5e00",
   "metadata": {},
   "outputs": [],
   "source": [
    "logits = pickle_read('rustyjar/B14/s.pkl')[14]\n",
    "preds = data.B14('stock100', 8)\n",
    "preds[14] = 86\n",
    "logits = [() if i < 50 else logits[i] for i in range(len(logits))]\n",
    "\n",
    "sus = pickle_read('rustyjar/B14/s.pkl')\n",
    "sus[14] = logits\n",
    "\n",
    "pickle_write('jar/B14/s8.pkl', preds)\n",
    "pickle_write('rustyjar/B14/s.pkl', sus)"
   ]
  },
  {
   "cell_type": "code",
   "execution_count": 24,
   "id": "4a1b3222-ae8c-40f2-b4e7-5794e6f9a799",
   "metadata": {},
   "outputs": [],
   "source": [
    "s100 = pickle_read('rustyjar/STOCK100.pkl')\n",
    "s100[46] = ('GIF100/47.mp4', 'A person dunks a basketball.', list(range(100, 167)))\n",
    "\n",
    "s100t = pickle_read('rustyjar/STOCK100-testing.pkl')\n",
    "s100t[46] = ('GIF100/47.mp4', list(range(100, 167)))\n",
    "\n",
    "pickle_write(s100, 'rustyjar/STOCK100.pkl')\n",
    "pickle_write(s100t, 'rustyjar/STOCK100-testing.pkl')"
   ]
  },
  {
   "cell_type": "code",
   "execution_count": 18,
   "id": "b3b29faa-c447-4133-a8d0-bbf5b2024ae3",
   "metadata": {},
   "outputs": [
    {
     "data": {
      "text/plain": [
       "('GIF100/47.mp4', [100, 101, 102, 103, 104])"
      ]
     },
     "execution_count": 18,
     "metadata": {},
     "output_type": "execute_result"
    }
   ],
   "source": [
    "pickle_read('rustyjar/STOCK100-testing.pkl')[46]"
   ]
  },
  {
   "cell_type": "code",
   "execution_count": 40,
   "id": "9b66e6f9-7c9b-4d2e-b96e-30c0cd57b529",
   "metadata": {},
   "outputs": [],
   "source": [
    "vids = [int(x.split('.')[0]) for x in filter(lambda x: x != '.DS_Store', os.listdir('GIF100'))]"
   ]
  },
  {
   "cell_type": "code",
   "execution_count": 60,
   "id": "eaf3ce7c-993a-4041-956d-ab948cc19915",
   "metadata": {
    "scrolled": true
   },
   "outputs": [
    {
     "name": "stdout",
     "output_type": "stream",
     "text": [
      "[81, 82, 83, 84, 85, 86, 87, 88, 89, 90, 91, 92, 93, 94, 95, 96, 97, 98, 99, 100, 101, 102, 103, 104, 105, 106, 107, 108, 109, 110, 111, 112, 113, 114, 115, 116, 117, 118, 119, 120, 121, 122]\n",
      "\n",
      "\n",
      "[59, 60, 61, 62, 63, 64, 65, 66, 67, 68, 69, 70, 71, 72, 73, 74, 75, 76, 77, 78, 79, 80, 81, 82, 83, 84, 85, 86, 87, 88, 89, 90, 91, 92, 93, 94, 95, 96, 97, 98, 99, 100, 101, 102, 103, 104, 105, 106, 107, 108, 109, 110, 111, 112, 113, 114, 115, 116, 117, 118, 119, 120, 121, 122]\n",
      "\n",
      "\n",
      "[100, 101, 102, 103, 104, 105, 106, 107, 108, 109, 110, 111, 112, 113, 114, 115, 116]\n",
      "\n",
      "\n",
      "[155, 156, 157, 158, 159, 160, 161, 162, 163, 164, 165, 166, 167, 168, 169, 170, 171, 172, 173, 174, 175, 176, 177, 178, 179, 180, 181, 182, 183, 184, 185, 186, 187, 188, 189, 190, 191, 192, 193, 194, 195, 196, 197, 198, 199, 200, 201, 202, 203, 204, 205, 206, 207, 208, 209, 210, 211, 212, 213, 214, 215, 216, 217, 218, 219, 220, 221, 222, 223, 224, 225, 226, 227, 228, 229, 230, 231, 232, 233, 234, 235, 236, 237, 238, 239, 240, 241, 242, 243, 244, 245, 246, 247, 248, 249]\n",
      "\n",
      "\n",
      "[13, 14, 15]\n",
      "\n",
      "\n",
      "[53, 54, 55, 56, 57, 58, 59, 60, 61, 62, 63]\n",
      "\n",
      "\n",
      "[22, 23, 24, 25, 26, 27]\n",
      "\n",
      "\n",
      "[53, 54, 55, 56, 57, 58, 59, 60, 61, 62, 63, 64, 65, 66, 67, 68, 69, 70, 71, 72, 73, 74, 75, 76, 77, 78, 79, 80, 81, 82, 83, 84, 85, 86, 87, 88, 89, 90, 91, 92, 93, 94, 95, 96, 97, 98, 99, 100, 101, 102, 103, 104, 105, 106, 107, 108, 109, 110, 111, 112, 113, 114, 115, 116, 117, 118, 119, 120, 121, 122, 123]\n",
      "\n",
      "\n",
      "[24, 25, 74, 75]\n",
      "\n",
      "\n",
      "[99, 100, 101, 102, 103, 104, 105, 106, 107, 108, 109, 110, 111, 112, 113, 114, 115, 116, 117, 118]\n",
      "\n",
      "\n",
      "[93, 94, 95, 96, 97, 98, 99, 100, 101, 102, 103, 104, 105, 106, 107, 108, 109, 110, 111, 112, 113, 114, 115, 116, 117, 118, 119, 120, 121, 122, 123, 124, 125, 126, 127, 128, 129, 130, 131, 132, 133, 134, 135, 136, 137, 138, 139, 140, 141, 142, 143, 144, 145]\n",
      "\n",
      "\n",
      "[101, 102, 103, 104, 105, 106, 107, 108, 109, 110]\n",
      "\n",
      "\n",
      "[92, 93, 94, 95, 96, 97, 98, 99, 100]\n",
      "\n",
      "\n",
      "[79, 80, 81, 82, 83, 84, 85, 86, 87, 88, 89, 90, 91, 92, 93, 94, 95, 96, 97, 98, 99, 100, 101, 102, 103, 104, 105, 106, 107, 108, 109, 110, 111, 112, 113, 114, 115, 116, 117, 118, 119, 120, 121, 122, 123, 124, 125, 126, 127, 128, 129, 130, 131, 132, 133, 134, 135, 136, 137, 138, 139, 140, 141, 142, 143, 144, 145, 146, 147, 148, 149]\n",
      "\n",
      "\n",
      "[87, 88, 89, 90, 91, 92, 93, 94, 95, 96, 97, 98, 99, 100, 101, 102, 103, 104, 105, 106, 107, 108, 109, 110, 111]\n",
      "\n",
      "\n",
      "[83, 84, 85, 86, 87, 88, 89, 90, 91, 92, 93, 94]\n",
      "\n",
      "\n",
      "[136, 137, 138, 139, 140, 141, 142, 143, 144, 145, 146, 147, 148, 149, 150, 151, 152, 153, 154, 155, 156, 157, 158, 159, 160, 161, 162, 163, 164, 165, 166, 167, 168, 169, 170, 171, 172, 173, 174, 175, 176, 177, 178, 179, 180, 181, 182, 183, 184, 266, 267, 268, 269, 270, 271, 272, 273, 274, 275, 276, 277, 278, 279, 280]\n",
      "\n",
      "\n",
      "[100, 101, 102, 103, 104, 105, 106]\n",
      "\n",
      "\n",
      "[89, 90, 91, 92, 93, 94, 95, 96, 97, 98]\n",
      "\n",
      "\n",
      "[79, 80, 81, 82, 83, 84, 85, 86, 87, 88, 89, 90, 91, 92, 93, 94, 95, 96, 97, 98, 99, 100, 101, 102, 103, 104, 105, 106, 107, 108, 109, 110, 111, 112, 113, 114, 115, 116, 117, 118, 119, 120, 121, 122, 123, 124, 125, 126, 127, 128, 129, 130, 131, 132, 133, 134, 135, 136, 137, 138, 139, 140, 141, 142, 143, 144, 145, 146, 147, 148, 149, 150, 151, 152, 153, 154, 155, 156, 157, 158, 159, 160, 161, 162, 163, 164, 165, 166, 167, 168, 169, 170, 171, 172, 173, 174, 175, 176, 177, 178, 179, 180, 181, 182, 183, 184, 185, 186, 187, 188, 189, 190, 191, 192, 193, 194, 195, 196, 197, 198, 199, 200, 201, 202, 203, 204, 205, 206, 207, 208, 209, 210, 211, 212, 213, 214]\n",
      "\n",
      "\n",
      "[95, 96, 97, 98, 99, 100, 101, 102, 103, 104, 105, 106, 107, 108, 109]\n",
      "\n",
      "\n",
      "[24, 25, 26, 27, 28, 29, 30, 31, 32, 33, 34, 35]\n",
      "\n",
      "\n",
      "[103, 104, 105, 106, 107, 108, 109, 110, 111, 112, 113]\n",
      "\n",
      "\n",
      "[157, 158, 159, 160, 161, 162, 163, 164, 165, 166, 167, 168, 169, 170, 171, 172, 173, 174, 175, 176, 177, 178, 179, 180, 181, 182, 183, 184, 185, 186]\n",
      "\n",
      "\n",
      "[72, 73, 74, 75, 76, 77]\n",
      "\n",
      "\n",
      "[68, 69, 70, 71, 72, 73, 74, 75, 76, 77, 78, 79, 80, 81, 82, 83, 84, 85, 86, 87, 88, 89, 90, 91, 92, 93, 94, 95, 96, 97, 98, 99, 100, 101, 102, 103, 104, 105, 106, 107, 108, 109, 110, 111, 112, 113, 114, 115, 116, 117, 118, 119, 120, 121, 122, 123, 124, 125, 126, 127, 128, 129, 130, 131, 132, 133, 134, 135, 136, 137, 138, 139, 140, 141, 142, 143, 144, 145, 146, 147, 148, 149, 150, 151, 152, 153, 154, 155, 156, 157, 158, 159, 160, 161, 162, 163, 164, 165, 166, 167, 168, 169, 170, 171, 172, 173, 174, 175, 176, 177, 178]\n",
      "\n",
      "\n",
      "[102, 103, 104, 105, 106, 107]\n",
      "\n",
      "\n",
      "[71, 72, 73, 74, 75]\n",
      "\n",
      "\n",
      "[81, 82, 83, 84, 85, 86, 87, 88, 89, 90, 91, 92, 93, 94, 95, 96, 97, 98, 99, 100, 101, 102, 103, 104]\n",
      "\n",
      "\n",
      "[203, 204, 205, 206, 207, 208]\n",
      "\n",
      "\n",
      "[87, 88, 89, 90, 91, 92, 93, 94, 95, 96, 97, 98, 99, 100, 101, 102, 103, 104, 105, 106, 107, 108, 109, 110, 111, 112, 113, 114, 115, 116, 117, 118, 119]\n",
      "\n",
      "\n",
      "[5, 6]\n",
      "\n",
      "\n",
      "[135, 136, 137, 138, 139, 140, 141, 142, 143, 144, 145, 146]\n",
      "\n",
      "\n",
      "[95, 96, 97, 98, 99, 100, 101, 102, 103, 104, 105, 106, 107, 108, 109, 110, 111, 112, 113, 114, 115, 116, 117, 118, 119]\n",
      "\n",
      "\n",
      "[92, 93, 94, 95, 96, 97, 98, 99, 100, 101, 102, 103, 104, 105, 106, 107, 108, 109, 110, 111, 112, 113, 114, 115, 116, 117, 118, 119, 120, 121, 122, 123, 124, 125, 126, 127, 128, 129, 130, 131, 132]\n",
      "\n",
      "\n",
      "[11, 12, 13]\n",
      "\n",
      "\n",
      "[93, 94, 95, 96, 97, 98, 99, 100, 101, 102, 103, 104, 105, 106, 107, 108, 109, 110, 111, 112, 113, 114, 115, 116, 117, 118, 119, 120, 121, 122, 123, 124, 125, 126, 127, 128, 129, 130, 131, 132, 133, 134, 135, 136, 137, 138, 139, 140, 141, 142, 143, 144, 145, 146, 147, 148, 149, 150, 151, 152, 153, 154, 155, 156, 157, 158, 159, 160, 161, 162, 163, 164, 165, 166, 167, 168, 169, 170, 171, 172, 173, 174]\n",
      "\n",
      "\n",
      "[107, 108, 109, 110, 111, 112, 113, 114, 115, 116, 117, 118, 119, 120, 121, 122, 123, 124, 125, 126, 127, 128, 129, 130, 131, 132]\n",
      "\n",
      "\n",
      "[65, 66, 67, 68, 69, 70, 71, 72, 73, 74, 75, 76, 77, 78, 79, 80, 81, 82, 83, 84, 85, 86, 87, 88, 89, 90, 91, 92, 93, 94, 95, 96, 97, 98, 99, 100, 101, 102, 103, 104, 105, 106, 107, 108, 109, 110, 111, 112, 113, 114, 115, 116, 117, 118, 119, 120, 121, 122, 123, 124, 125]\n",
      "\n",
      "\n",
      "[100, 101, 102, 103, 104]\n",
      "\n",
      "\n",
      "[95, 96, 97, 98, 99, 100, 101, 102, 103, 104, 105, 106, 107, 108, 109, 110, 111, 112, 113, 114]\n",
      "\n",
      "\n",
      "[142, 143, 144, 145, 146, 147, 148, 149, 150, 151, 152, 153, 154, 155, 156, 157, 158, 159, 160, 161, 162, 163, 164, 165, 166, 167, 168, 169]\n",
      "\n",
      "\n",
      "[11, 12, 13]\n",
      "\n",
      "\n",
      "[40, 41, 42, 43, 44, 45, 46, 47, 48, 49, 50, 51, 52, 53, 54, 55, 56, 57, 58, 59, 60, 61, 62, 63, 64, 65, 66, 67, 68, 69, 70]\n",
      "\n",
      "\n",
      "[107, 108, 109, 110, 111, 112, 113, 114, 115, 116, 117, 118, 119, 120, 121, 122, 123, 124, 125, 126, 127, 128, 129]\n",
      "\n",
      "\n",
      "[53, 54, 55, 56]\n",
      "\n",
      "\n",
      "[59, 60, 61, 62, 63, 64, 65, 66, 67, 68, 69, 70, 71, 72, 73, 74, 75, 76, 77, 78, 79, 80, 81, 82, 83, 84, 85, 86, 87, 88, 89, 90, 91, 92, 93, 94]\n",
      "\n",
      "\n",
      "[96, 97, 98, 99, 100, 101, 102, 103, 104, 105, 106, 107, 108, 109, 110, 111, 112, 113, 114, 115, 116, 117, 118, 119, 120, 121, 122, 123, 124, 125, 126, 127, 128, 129, 130, 131, 132, 133, 134, 135, 136, 137, 138, 139, 140, 141, 142, 143, 144, 145, 146, 147, 148, 149, 150, 151, 152, 153, 154, 155, 156, 157, 158, 159, 160, 161, 162, 163, 164, 165, 166]\n",
      "\n",
      "\n",
      "[30, 31, 32, 33, 34, 35, 36, 37, 38, 39, 40, 41, 42, 43, 44, 45, 46, 47, 48, 49, 50, 51, 52, 53, 54, 55, 56, 57, 58, 59, 60]\n",
      "\n",
      "\n",
      "[35, 36, 37, 38, 39, 40, 41, 42, 43, 44, 45, 46, 47, 48, 49, 50, 51, 52, 53]\n",
      "\n",
      "\n",
      "[47, 48, 49, 50, 51, 52, 53, 54, 55, 56, 57, 58]\n",
      "\n",
      "\n",
      "[51, 52, 53, 54, 55, 56, 57, 58, 59, 60, 61, 62, 63, 64, 65, 66, 67, 68, 69, 70, 71, 72, 73, 74, 75, 76, 77, 78, 79, 80, 81, 82, 83, 84, 85, 86, 87, 88, 89, 90, 91, 92, 93, 94, 95, 96, 97, 98, 99, 100, 101, 102, 103, 104, 105, 106, 107, 108, 109, 110, 111, 112, 113, 114, 115, 116, 117, 118, 119, 120, 121, 122, 123, 124, 125, 126, 127, 128, 129, 130, 131, 132, 133, 134]\n",
      "\n",
      "\n",
      "[103, 104, 105, 106, 107, 108, 109, 110, 111, 112, 113, 114, 115, 116, 117, 118, 119, 120, 121, 122, 123, 124, 125, 126, 127, 128, 129, 130, 131, 132, 133, 134, 135, 136, 137, 138, 139, 140, 141, 142, 143, 144, 145, 146, 147, 148, 149, 150, 151, 152, 153, 154, 155, 156, 157, 158, 159, 160, 161, 162, 163, 164, 165, 166, 167, 168, 169, 170, 171, 172, 173, 174, 175, 176, 177, 178, 179, 180, 181, 182, 183, 184, 185, 186, 187, 188, 189, 190, 191, 192, 193]\n",
      "\n",
      "\n",
      "[102, 103, 104, 105, 106, 107, 108, 109, 110, 111]\n",
      "\n",
      "\n",
      "[99, 100, 101, 102, 103, 104, 105, 106, 107]\n",
      "\n",
      "\n",
      "[17, 18, 19]\n",
      "\n",
      "\n",
      "[22, 23, 24, 25, 26, 27]\n",
      "\n",
      "\n",
      "[70, 71, 72, 73, 74, 75, 76, 77, 78, 79, 80, 81, 82, 83]\n",
      "\n",
      "\n",
      "[20, 21, 22, 23, 24, 25, 26, 27, 28, 29, 30]\n",
      "\n",
      "\n",
      "[20, 21, 22, 23, 24, 25, 26, 27, 28, 29, 30]\n",
      "\n",
      "\n",
      "[101, 102, 103, 104, 105, 106, 107, 108, 109, 110, 111, 112, 113, 114, 115, 116, 117, 118, 119, 120, 121, 122, 123, 124, 125, 126, 127, 128, 129, 130, 131, 132, 133, 134, 135, 136, 137, 138, 139, 140, 141, 142, 143, 144, 145, 146]\n",
      "\n",
      "\n",
      "[75, 76, 77, 78, 79, 80, 81, 82, 83, 84, 85, 86, 87, 88, 89, 90, 91, 92, 93, 94, 95, 96, 97, 98, 99, 100, 101, 102, 103, 104, 105, 106, 107]\n",
      "\n",
      "\n",
      "[91, 92, 93, 94, 95, 96, 97, 98, 99, 100, 101, 102, 103, 104, 105, 106, 107, 108, 109, 110, 111, 112, 113, 114, 115, 116]\n",
      "\n",
      "\n",
      "[95, 96, 97, 98, 99, 100]\n",
      "\n",
      "\n",
      "[77, 78, 79, 80, 81, 82, 83, 84, 85, 86, 87, 88, 89, 90, 91, 92, 93, 94, 95, 96, 97, 98, 99, 100, 101, 102, 103, 104, 105]\n",
      "\n",
      "\n",
      "[11, 12, 13, 14, 15, 16, 17, 18, 19, 20, 21]\n",
      "\n",
      "\n",
      "[52, 53, 54, 55, 56, 57, 58, 59, 60, 61, 62, 63, 64, 65, 66, 67, 68, 69, 70, 71, 72, 73, 74, 75, 76, 77, 78, 79, 80, 81, 82, 83, 84, 85, 86, 87, 88, 89, 90, 91, 92, 93, 94, 95, 96, 97, 98, 99, 100, 101, 102, 103, 104, 105, 106, 107, 108, 109, 110, 111, 112, 113, 114, 115, 116, 117, 118, 119, 120, 121]\n",
      "\n",
      "\n",
      "[100, 101, 102, 103, 104, 105, 106, 107, 108, 109, 110, 111, 112, 113]\n",
      "\n",
      "\n",
      "[41, 42, 43, 44]\n",
      "\n",
      "\n",
      "[37, 38, 39, 40, 41, 42, 43, 44]\n",
      "\n",
      "\n",
      "[33, 34, 35, 36, 37, 38, 39, 40, 41, 42, 43, 44, 45, 46, 47, 48, 49, 50, 51, 52, 53, 54, 55, 56, 57, 58, 59, 60, 61, 62, 63, 64, 65, 66, 67, 68, 69, 70, 71, 72, 73, 74, 75, 76, 77, 78, 79, 80, 81, 82]\n",
      "\n",
      "\n",
      "[181, 182, 183, 184, 185, 186, 187, 188, 189, 190, 191, 192, 193, 194, 195, 196, 197, 198, 199, 200, 201, 202, 203, 204, 205, 206, 207, 208, 209, 210, 211, 212, 213, 214, 215, 216, 217, 218, 219, 220, 221, 222, 223, 224, 225, 226, 227, 228, 229, 230, 231, 232, 233, 234, 235, 236, 237, 238, 239, 240, 241, 242, 243, 244, 245, 246]\n",
      "\n",
      "\n",
      "[95, 96, 97, 98, 99, 100, 101, 102, 103, 104, 105, 106, 107, 108, 109, 110, 111, 112, 113, 114, 115]\n",
      "\n",
      "\n",
      "[87, 88, 89, 90, 91, 92, 93, 94, 95, 96, 97, 98, 99, 100, 101, 102, 103, 104, 105, 106, 107, 108, 109, 110, 111, 112, 113, 114, 115, 116, 117, 118, 119, 120, 121, 122, 123, 124, 125, 126, 127, 128, 129, 130, 131, 132, 133, 134, 135, 136, 137, 138, 139, 140, 141, 142, 143, 144, 145, 146, 147, 148, 149, 150, 151, 152, 153, 154, 155, 156, 157, 158, 159, 160, 161, 162, 163, 164, 165, 166, 167, 168, 169, 170]\n",
      "\n",
      "\n",
      "[159, 160, 161, 162, 163, 164, 165, 166, 167, 168, 169, 170, 171, 172, 173, 174, 175, 176, 177, 178, 179, 180, 181, 182, 183, 184, 185, 186, 187, 188, 189, 190, 191, 192, 193, 194, 195, 196, 197, 198, 199, 200, 201, 202, 203, 204, 205, 206, 207, 208, 209, 210, 211, 212, 213, 214, 215, 216, 217, 218, 219, 220, 221, 222, 223, 224, 225, 226, 227, 228]\n",
      "\n",
      "\n"
     ]
    },
    {
     "data": {
      "text/plain": [
       "[None,\n",
       " None,\n",
       " None,\n",
       " None,\n",
       " None,\n",
       " None,\n",
       " None,\n",
       " None,\n",
       " None,\n",
       " None,\n",
       " None,\n",
       " None,\n",
       " None,\n",
       " None,\n",
       " None,\n",
       " None,\n",
       " None,\n",
       " None,\n",
       " None,\n",
       " None,\n",
       " None,\n",
       " None,\n",
       " None,\n",
       " None,\n",
       " None,\n",
       " None,\n",
       " None,\n",
       " None,\n",
       " None,\n",
       " None,\n",
       " None,\n",
       " None,\n",
       " None,\n",
       " None,\n",
       " None,\n",
       " None,\n",
       " None,\n",
       " None,\n",
       " None,\n",
       " None,\n",
       " None,\n",
       " None,\n",
       " None,\n",
       " None,\n",
       " None,\n",
       " None,\n",
       " None,\n",
       " None,\n",
       " None,\n",
       " None,\n",
       " None,\n",
       " None,\n",
       " None,\n",
       " None,\n",
       " None,\n",
       " None,\n",
       " None,\n",
       " None,\n",
       " None,\n",
       " None,\n",
       " None,\n",
       " None,\n",
       " None,\n",
       " None,\n",
       " None,\n",
       " None,\n",
       " None,\n",
       " None,\n",
       " None,\n",
       " None,\n",
       " None,\n",
       " None,\n",
       " None,\n",
       " None,\n",
       " None]"
      ]
     },
     "execution_count": 60,
     "metadata": {},
     "output_type": "execute_result"
    }
   ],
   "source": [
    "[print(str(x[1]) + '\\n\\n') for x in data.act75]"
   ]
  },
  {
   "cell_type": "code",
   "execution_count": 120,
   "id": "ebfca153-71e9-41b7-9887-880af5c6d1fd",
   "metadata": {},
   "outputs": [
    {
     "data": {
      "image/png": "[encoded data removed]",
      "text/plain": [
       "<Figure size 640x480 with 1 Axes>"
      ]
     },
     "metadata": {},
     "output_type": "display_data"
    }
   ],
   "source": [
    "compare = [data.CLIP('act75', 1), data.ViCLIP('act75', 8),data.B14('act75', 8)]\n",
    "comp_data = data.act75\n",
    "\n",
    "for i in compare:\n",
    "    y_vals = showMetric2(i, comp_data)\n",
    "    x_vals = range(1, len(comp_data) + 1)\n",
    "    plt.plot(x_vals, y_vals, linewidth=2)\n",
    "    # print(x_vals)\n",
    "    # print(y_vals)\n",
    "\n",
    "plt.ylabel(\"Absolute Error\")\n",
    "plt.legend([\"CLIP\", \"ViCLIP\", \"B14\", \"S14\"], fontsize=10)\n",
    "plt.title(\"General Data\")\n",
    "\n",
    "\n",
    "# plt.xticks(range(0,100, 1))\n",
    "# plt.xlim(30, 40)\n",
    "# k600.gca().set_position([0, 0, 1, 1])\n",
    "\n",
    "plt.ylim(bottom = 0)\n",
    "plt.savefig(\"general-data-compare.svg\", bbox_inches = \"tight\")\n",
    "plt.show()"
   ]
  },
  {
   "cell_type": "code",
   "execution_count": 118,
   "id": "be0ec1ce-e855-46f2-8be0-6d49062d0165",
   "metadata": {},
   "outputs": [
    {
     "name": "stdout",
     "output_type": "stream",
     "text": [
      "╒════╤══════╤═════════╕\n",
      "│    │      │   Score │\n",
      "╞════╪══════╪═════════╡\n",
      "│  0 │ 1    │      33 │\n",
      "├────┼──────┼─────────┤\n",
      "│  1 │ 2    │      42 │\n",
      "├────┼──────┼─────────┤\n",
      "│  2 │ Tied │       0 │\n",
      "╘════╧══════╧═════════╛\n"
     ]
    }
   ],
   "source": [
    "def arenaMetric(model1, model2, data):\n",
    "    model1_score = 0\n",
    "    model2_score = 0\n",
    "    tie_score = 0\n",
    "\n",
    "    offsets = [find_best_offset(x, data) for x in [model1, model2]]\n",
    "    pred1, pred2 = [x + offsets[0] for x in model1], [x + offsets[1] for x in model2]\n",
    "    \n",
    "    for idx in range(len(pred1)):\n",
    "        peak1 = findClosest(pred1[idx], data[idx][1])\n",
    "        peak2 = findClosest(pred2[idx], data[idx][1])\n",
    "        \n",
    "        if abs(pred1[idx] - peak1) < abs(pred2[idx] - peak2):\n",
    "            model1_score += 1\n",
    "        elif abs(pred1[idx] - peak1) > abs(pred2[idx] - peak2):\n",
    "            model2_score += 1\n",
    "        else:\n",
    "            tie_score += 1\n",
    "\n",
    "    data_arena = pd.DataFrame({'': ['1', '2', 'Tied'], 'Score': [model1_score, model2_score, tie_score]})\n",
    "    \n",
    "    print(tabulate(data_arena, headers = 'keys', tablefmt = 'fancy_grid'))\n",
    "\n",
    "arenaMetric(data.B14('act75', 8), data.CLIP('act75', 1), data.act75)"
   ]
  },
  {
   "cell_type": "code",
   "execution_count": null,
   "id": "fa62fafe-35d6-43dc-8279-175df02c0b38",
   "metadata": {},
   "outputs": [],
   "source": [
    "import cv2\n",
    "import numpy as np\n",
    "from PIL import Image\n",
    "from IPython.display import clear_output\n",
    "\n",
    "def load_basketball(basketball_path, size):\n",
    "    basketball = Image.open(basketball_path)\n",
    "    basketball = basketball.resize((size, size), Image.LANCZOS)\n",
    "    return basketball\n",
    "\n",
    "def rotate_basketball(basketball):\n",
    "    random_angle = np.random.randint(0, 360)\n",
    "    return basketball.rotate(random_angle, expand=True)\n",
    "\n",
    "def add_basketball_to_frame(frame, basketball):\n",
    "    frame_pil = Image.fromarray(cv2.cvtColor(frame, cv2.COLOR_BGR2RGB))\n",
    "\n",
    "    basketball_rotated = rotate_basketball(basketball)\n",
    "\n",
    "    frame_width, frame_height = frame_pil.size\n",
    "    basketball_width, basketball_height = basketball_rotated.size\n",
    "\n",
    "    max_x = frame_width - basketball_width\n",
    "    max_y = frame_height - basketball_height\n",
    "    rand_x = np.random.randint(0, max_x)\n",
    "    rand_y = np.random.randint(0, max_y)\n",
    "\n",
    "    frame_pil.paste(basketball_rotated, (rand_x, rand_y), basketball_rotated)\n",
    "    return cv2.cvtColor(np.array(frame_pil), cv2.COLOR_RGB2BGR)\n",
    "\n",
    "def process_video(input_video_path, output_video_path, basketball_path, basketball_size):\n",
    "    basketball = load_basketball(basketball_path, basketball_size)\n",
    "    cap = cv2.VideoCapture(input_video_path)\n",
    "    fps = cap.get(cv2.CAP_PROP_FPS)\n",
    "    width = int(cap.get(cv2.CAP_PROP_FRAME_WIDTH))\n",
    "    height = int(cap.get(cv2.CAP_PROP_FRAME_HEIGHT))\n",
    "    fourcc = cv2.VideoWriter_fourcc(*'mp4v')\n",
    "\n",
    "    out = cv2.VideoWriter(output_video_path, fourcc, fps, (width, height))\n",
    "\n",
    "    count = 1\n",
    "    while cap.isOpened():\n",
    "        ret, frame = cap.read()\n",
    "        if not ret:\n",
    "            break\n",
    "        count += 1\n",
    "        clear_output(wait=True)\n",
    "        frame_with_basketball = add_basketball_to_frame(frame, basketball)\n",
    "\n",
    "        plt.title(str(count))\n",
    "        plt.imshow(frame)\n",
    "        plt.show()\n",
    "        out.write(frame_with_basketball)\n",
    "\n",
    "    cap.release()\n",
    "    out.release()\n",
    "    cv2.destroyAllWindows()\n",
    "\n",
    "input_video_path = 'augment/9.mp4'\n",
    "output_video_path = 'augment/92.mp4'\n",
    "basketball_path = 'augment_utils/cruise.png'\n",
    "basketball_size = 1\n",
    "\n",
    "process_video(input_video_path, output_video_path, basketball_path, basketball_size)"
   ]
  },
  {
   "cell_type": "code",
   "execution_count": null,
   "id": "05e438c1-d852-4635-8c15-73e87e34f386",
   "metadata": {
    "scrolled": true
   },
   "outputs": [],
   "source": [
    "import os\n",
    "import shutil\n",
    "from moviepy.editor import VideoFileClip\n",
    "\n",
    "input_folder = 'gifs'\n",
    "output_folder = 'GIF87'\n",
    "\n",
    "os.makedirs(output_folder, exist_ok=True)\n",
    "\n",
    "new_files = []\n",
    "for filename in os.listdir(input_folder):\n",
    "    file_path = os.path.join(input_folder, filename)\n",
    "    \n",
    "    if filename.endswith('.mp4'):\n",
    "        shutil.copy(file_path, os.path.join(output_folder, filename))\n",
    "        new_files.append(file_path)\n",
    "    else:\n",
    "        output_path = os.path.join(output_folder, os.path.splitext(filename)[0] + '.mp4')\n",
    "        clip = VideoFileClip(file_path)\n",
    "        clip.write_videofile(output_path)\n",
    "        clip.close()"
   ]
  },
  {
   "cell_type": "code",
   "execution_count": null,
   "id": "aa49588a-93c3-4305-8901-5591eccbd142",
   "metadata": {},
   "outputs": [],
   "source": [
    "print(sorted([int(x.split('/')[-1].split('.')[0]) for x in new_files]))"
   ]
  },
  {
   "cell_type": "code",
   "execution_count": null,
   "id": "9a75d401-5973-4327-bc94-2a6d8200ccec",
   "metadata": {},
   "outputs": [],
   "source": []
  }
 ],
 "metadata": {
  "kernelspec": {
   "display_name": "Python 3 (ipykernel)",
   "language": "python",
   "name": "python3"
  },
  "language_info": {
   "codemirror_mode": {
    "name": "ipython",
    "version": 3
   },
   "file_extension": ".py",
   "mimetype": "text/x-python",
   "name": "python",
   "nbconvert_exporter": "python",
   "pygments_lexer": "ipython3",
   "version": "3.9.19"
  }
 },
 "nbformat": 4,
 "nbformat_minor": 5
}
