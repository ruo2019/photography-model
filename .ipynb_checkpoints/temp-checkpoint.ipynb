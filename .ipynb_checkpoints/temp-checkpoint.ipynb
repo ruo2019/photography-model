{
 "cells": [
  {
   "cell_type": "code",
   "execution_count": 88,
   "id": "ced9cd4d-b930-4d06-b592-cc2a0044b50a",
   "metadata": {},
   "outputs": [
    {
     "name": "stdout",
     "output_type": "stream",
     "text": [
      "Removed GIF100/74.webm\n",
      "Removed GIF100/23.webm\n",
      "Removed GIF100/35.webm\n",
      "Removed GIF100/9.webm\n",
      "Removed GIF100/62.webm\n",
      "Removed GIF100/19.webm\n",
      "Removed GIF100/100.webm\n",
      "Removed GIF100/58.webm\n",
      "Removed GIF100/97.webm\n",
      "Removed GIF100/78.webm\n",
      "Removed GIF100/81.webm\n",
      "Removed GIF100/15.webm\n",
      "Removed GIF100/42.webm\n",
      "Removed GIF100/54.webm\n",
      "Removed GIF100/55.webm\n",
      "Removed GIF100/43.webm\n",
      "Removed GIF100/4.webm\n",
      "Removed GIF100/80.webm\n",
      "Removed GIF100/38.webm\n",
      "Removed GIF100/79.webm\n",
      "Removed GIF100/8.webm\n",
      "Removed GIF100/63.webm\n",
      "Removed GIF100/75.webm\n",
      "Removed GIF100/87.webm\n",
      "Removed GIF100/68.webm\n",
      "Removed GIF100/52.webm\n",
      "Removed GIF100/72.webm\n",
      "Removed GIF100/25.webm\n",
      "Removed GIF100/33.webm\n",
      "Removed GIF100/64.webm\n",
      "Removed GIF100/49.webm\n",
      "Removed GIF100/65.webm\n",
      "Removed GIF100/32.webm\n",
      "Removed GIF100/24.webm\n",
      "Removed GIF100/73.webm\n",
      "Removed GIF100/45.webm\n",
      "Removed GIF100/86.webm\n",
      "Removed GIF100/69.webm\n",
      "Removed GIF100/28.webm\n",
      "Removed GIF100/90.webm\n",
      "Removed GIF100/50.webm\n",
      "Removed GIF100/46.webm\n",
      "Removed GIF100/85.webm\n",
      "Removed GIF100/93.webm\n",
      "Removed GIF100/89.webm\n",
      "Removed GIF100/31.webm\n",
      "Removed GIF100/27.webm\n",
      "Removed GIF100/70.webm\n",
      "Removed GIF100/71.webm\n",
      "Removed GIF100/67.webm\n",
      "Removed GIF100/88.webm\n",
      "Removed GIF100/92.webm\n",
      "Removed GIF100/84.webm\n",
      "Removed GIF100/10.webm\n",
      "Removed GIF100/47.webm\n",
      "Removed GIF100/51.webm\n",
      "Removed GIF100/37.webm\n",
      "Removed GIF100/21.webm\n",
      "Removed GIF100/56.webm\n",
      "Removed GIF100/40.webm\n",
      "Removed GIF100/7.webm\n",
      "Removed GIF100/83.webm\n",
      "Removed GIF100/94.webm\n",
      "Removed GIF100/82.webm\n",
      "Removed GIF100/41.webm\n",
      "Removed GIF100/57.webm\n",
      "Removed GIF100/98.webm\n",
      "Removed GIF100/36.webm\n",
      "Removed GIF100/61.webm\n"
     ]
    }
   ],
   "source": [
    "import os\n",
    "for idx, i in enumerate(os.listdir('GIF100')):\n",
    "    if '.webm' in i:\n",
    "        os.remove(f'GIF100/{i}')\n",
    "        print(\"Removed\", f'GIF100/{i}')\n",
    "    # os.rename(f'GIF100/{i}', f'GIF/{idx + 1}.{i.split(\".\")[1]}')\n",
    "    # print(\"Renamed\", f'GIF100/{i}', 'to', f'GIF/{idx + 1}.{i.split(\".\")[1]}')"
   ]
  },
  {
   "cell_type": "code",
   "execution_count": 87,
   "id": "d683e436-8247-46f1-bc6d-74342a8deddb",
   "metadata": {
    "scrolled": true
   },
   "outputs": [
    {
     "name": "stdout",
     "output_type": "stream",
     "text": [
      "Moviepy - Building video GIF100/74.mp4.\n",
      "Moviepy - Writing video GIF100/74.mp4\n",
      "\n"
     ]
    },
    {
     "name": "stderr",
     "output_type": "stream",
     "text": [
      "                                                                                                                                                                                                          \r"
     ]
    },
    {
     "name": "stdout",
     "output_type": "stream",
     "text": [
      "Moviepy - Done !\n",
      "Moviepy - video ready GIF100/74.mp4\n",
      "Converted 74.webm to MP4.\n",
      "Moviepy - Building video GIF100/23.mp4.\n",
      "Moviepy - Writing video GIF100/23.mp4\n",
      "\n"
     ]
    },
    {
     "name": "stderr",
     "output_type": "stream",
     "text": [
      "                                                                                                                                                                                                          \r"
     ]
    },
    {
     "name": "stdout",
     "output_type": "stream",
     "text": [
      "Moviepy - Done !\n",
      "Moviepy - video ready GIF100/23.mp4\n",
      "Converted 23.webm to MP4.\n",
      "Moviepy - Building video GIF100/35.mp4.\n",
      "Moviepy - Writing video GIF100/35.mp4\n",
      "\n"
     ]
    },
    {
     "name": "stderr",
     "output_type": "stream",
     "text": [
      "                                                                                                                                                                                                          \r"
     ]
    },
    {
     "name": "stdout",
     "output_type": "stream",
     "text": [
      "Moviepy - Done !\n",
      "Moviepy - video ready GIF100/35.mp4\n",
      "Converted 35.webm to MP4.\n",
      "Moviepy - Building video GIF100/9.mp4.\n",
      "MoviePy - Writing audio in 9TEMP_MPY_wvf_snd.mp3\n"
     ]
    },
    {
     "name": "stderr",
     "output_type": "stream",
     "text": [
      "                                                                                                                                                                                                          \r"
     ]
    },
    {
     "name": "stdout",
     "output_type": "stream",
     "text": [
      "MoviePy - Done.\n",
      "Moviepy - Writing video GIF100/9.mp4\n",
      "\n"
     ]
    },
    {
     "name": "stderr",
     "output_type": "stream",
     "text": [
      "                                                                                                                                                                                                          \r"
     ]
    },
    {
     "name": "stdout",
     "output_type": "stream",
     "text": [
      "Moviepy - Done !\n",
      "Moviepy - video ready GIF100/9.mp4\n",
      "Converted 9.webm to MP4.\n",
      "Moviepy - Building video GIF100/62.mp4.\n",
      "Moviepy - Writing video GIF100/62.mp4\n",
      "\n"
     ]
    },
    {
     "name": "stderr",
     "output_type": "stream",
     "text": [
      "                                                                                                                                                                                                          \r"
     ]
    },
    {
     "name": "stdout",
     "output_type": "stream",
     "text": [
      "Moviepy - Done !\n",
      "Moviepy - video ready GIF100/62.mp4\n",
      "Converted 62.webm to MP4.\n",
      "Moviepy - Building video GIF100/19.mp4.\n",
      "Moviepy - Writing video GIF100/19.mp4\n",
      "\n"
     ]
    },
    {
     "name": "stderr",
     "output_type": "stream",
     "text": [
      "                                                                                                                                                                                                          \r"
     ]
    },
    {
     "name": "stdout",
     "output_type": "stream",
     "text": [
      "Moviepy - Done !\n",
      "Moviepy - video ready GIF100/19.mp4\n",
      "Converted 19.webm to MP4.\n",
      "Moviepy - Building video GIF100/100.mp4.\n",
      "Moviepy - Writing video GIF100/100.mp4\n",
      "\n"
     ]
    },
    {
     "name": "stderr",
     "output_type": "stream",
     "text": [
      "                                                                                                                                                                                                          \r"
     ]
    },
    {
     "name": "stdout",
     "output_type": "stream",
     "text": [
      "Moviepy - Done !\n",
      "Moviepy - video ready GIF100/100.mp4\n",
      "Converted 100.webm to MP4.\n",
      "Moviepy - Building video GIF100/58.mp4.\n",
      "Moviepy - Writing video GIF100/58.mp4\n",
      "\n"
     ]
    },
    {
     "name": "stderr",
     "output_type": "stream",
     "text": [
      "                                                                                                                                                                                                          \r"
     ]
    },
    {
     "name": "stdout",
     "output_type": "stream",
     "text": [
      "Moviepy - Done !\n",
      "Moviepy - video ready GIF100/58.mp4\n",
      "Converted 58.webm to MP4.\n",
      "Moviepy - Building video GIF100/97.mp4.\n",
      "Moviepy - Writing video GIF100/97.mp4\n",
      "\n"
     ]
    },
    {
     "name": "stderr",
     "output_type": "stream",
     "text": [
      "                                                                                                                                                                                                          \r"
     ]
    },
    {
     "name": "stdout",
     "output_type": "stream",
     "text": [
      "Moviepy - Done !\n",
      "Moviepy - video ready GIF100/97.mp4\n",
      "Converted 97.webm to MP4.\n",
      "Moviepy - Building video GIF100/78.mp4.\n",
      "Moviepy - Writing video GIF100/78.mp4\n",
      "\n"
     ]
    },
    {
     "name": "stderr",
     "output_type": "stream",
     "text": [
      "                                                                                                                                                                                                          \r"
     ]
    },
    {
     "name": "stdout",
     "output_type": "stream",
     "text": [
      "Moviepy - Done !\n",
      "Moviepy - video ready GIF100/78.mp4\n",
      "Converted 78.webm to MP4.\n",
      "Moviepy - Building video GIF100/81.mp4.\n",
      "Moviepy - Writing video GIF100/81.mp4\n",
      "\n"
     ]
    },
    {
     "name": "stderr",
     "output_type": "stream",
     "text": [
      "                                                                                                                                                                                                          \r"
     ]
    },
    {
     "name": "stdout",
     "output_type": "stream",
     "text": [
      "Moviepy - Done !\n",
      "Moviepy - video ready GIF100/81.mp4\n",
      "Converted 81.webm to MP4.\n",
      "Moviepy - Building video GIF100/15.mp4.\n",
      "Moviepy - Writing video GIF100/15.mp4\n",
      "\n"
     ]
    },
    {
     "name": "stderr",
     "output_type": "stream",
     "text": [
      "                                                                                                                                                                                                          \r"
     ]
    },
    {
     "name": "stdout",
     "output_type": "stream",
     "text": [
      "Moviepy - Done !\n",
      "Moviepy - video ready GIF100/15.mp4\n",
      "Converted 15.webm to MP4.\n",
      "Moviepy - Building video GIF100/42.mp4.\n",
      "Moviepy - Writing video GIF100/42.mp4\n",
      "\n"
     ]
    },
    {
     "name": "stderr",
     "output_type": "stream",
     "text": [
      "                                                                                                                                                                                                          \r"
     ]
    },
    {
     "name": "stdout",
     "output_type": "stream",
     "text": [
      "Moviepy - Done !\n",
      "Moviepy - video ready GIF100/42.mp4\n",
      "Converted 42.webm to MP4.\n",
      "Moviepy - Building video GIF100/54.mp4.\n",
      "MoviePy - Writing audio in 54TEMP_MPY_wvf_snd.mp3\n"
     ]
    },
    {
     "name": "stderr",
     "output_type": "stream",
     "text": [
      "                                                                                                                                                                                                          \r"
     ]
    },
    {
     "name": "stdout",
     "output_type": "stream",
     "text": [
      "MoviePy - Done.\n",
      "Moviepy - Writing video GIF100/54.mp4\n",
      "\n"
     ]
    },
    {
     "name": "stderr",
     "output_type": "stream",
     "text": [
      "                                                                                                                                                                                                          \r"
     ]
    },
    {
     "name": "stdout",
     "output_type": "stream",
     "text": [
      "Moviepy - Done !\n",
      "Moviepy - video ready GIF100/54.mp4\n",
      "Converted 54.webm to MP4.\n",
      "Moviepy - Building video GIF100/55.mp4.\n",
      "Moviepy - Writing video GIF100/55.mp4\n",
      "\n"
     ]
    },
    {
     "name": "stderr",
     "output_type": "stream",
     "text": [
      "                                                                                                                                                                                                          \r"
     ]
    },
    {
     "name": "stdout",
     "output_type": "stream",
     "text": [
      "Moviepy - Done !\n",
      "Moviepy - video ready GIF100/55.mp4\n",
      "Converted 55.webm to MP4.\n",
      "Moviepy - Building video GIF100/43.mp4.\n",
      "Moviepy - Writing video GIF100/43.mp4\n",
      "\n"
     ]
    },
    {
     "name": "stderr",
     "output_type": "stream",
     "text": [
      "                                                                                                                                                                                                          \r"
     ]
    },
    {
     "name": "stdout",
     "output_type": "stream",
     "text": [
      "Moviepy - Done !\n",
      "Moviepy - video ready GIF100/43.mp4\n",
      "Converted 43.webm to MP4.\n",
      "Moviepy - Building video GIF100/4.mp4.\n",
      "Moviepy - Writing video GIF100/4.mp4\n",
      "\n"
     ]
    },
    {
     "name": "stderr",
     "output_type": "stream",
     "text": [
      "                                                                                                                                                                                                          \r"
     ]
    },
    {
     "name": "stdout",
     "output_type": "stream",
     "text": [
      "Moviepy - Done !\n",
      "Moviepy - video ready GIF100/4.mp4\n",
      "Converted 4.webm to MP4.\n",
      "Moviepy - Building video GIF100/80.mp4.\n",
      "Moviepy - Writing video GIF100/80.mp4\n",
      "\n"
     ]
    },
    {
     "name": "stderr",
     "output_type": "stream",
     "text": [
      "                                                                                                                                                                                                          \r"
     ]
    },
    {
     "name": "stdout",
     "output_type": "stream",
     "text": [
      "Moviepy - Done !\n",
      "Moviepy - video ready GIF100/80.mp4\n",
      "Converted 80.webm to MP4.\n",
      "Moviepy - Building video GIF100/38.mp4.\n",
      "Moviepy - Writing video GIF100/38.mp4\n",
      "\n"
     ]
    },
    {
     "name": "stderr",
     "output_type": "stream",
     "text": [
      "                                                                                                                                                                                                          \r"
     ]
    },
    {
     "name": "stdout",
     "output_type": "stream",
     "text": [
      "Moviepy - Done !\n",
      "Moviepy - video ready GIF100/38.mp4\n",
      "Converted 38.webm to MP4.\n",
      "Moviepy - Building video GIF100/79.mp4.\n",
      "Moviepy - Writing video GIF100/79.mp4\n",
      "\n"
     ]
    },
    {
     "name": "stderr",
     "output_type": "stream",
     "text": [
      "                                                                                                                                                                                                          \r"
     ]
    },
    {
     "name": "stdout",
     "output_type": "stream",
     "text": [
      "Moviepy - Done !\n",
      "Moviepy - video ready GIF100/79.mp4\n",
      "Converted 79.webm to MP4.\n",
      "Moviepy - Building video GIF100/8.mp4.\n",
      "Moviepy - Writing video GIF100/8.mp4\n",
      "\n"
     ]
    },
    {
     "name": "stderr",
     "output_type": "stream",
     "text": [
      "                                                                                                                                                                                                          \r"
     ]
    },
    {
     "name": "stdout",
     "output_type": "stream",
     "text": [
      "Moviepy - Done !\n",
      "Moviepy - video ready GIF100/8.mp4\n",
      "Converted 8.webm to MP4.\n",
      "Moviepy - Building video GIF100/63.mp4.\n",
      "Moviepy - Writing video GIF100/63.mp4\n",
      "\n"
     ]
    },
    {
     "name": "stderr",
     "output_type": "stream",
     "text": [
      "                                                                                                                                                                                                          \r"
     ]
    },
    {
     "name": "stdout",
     "output_type": "stream",
     "text": [
      "Moviepy - Done !\n",
      "Moviepy - video ready GIF100/63.mp4\n",
      "Converted 63.webm to MP4.\n",
      "Moviepy - Building video GIF100/75.mp4.\n",
      "MoviePy - Writing audio in 75TEMP_MPY_wvf_snd.mp3\n"
     ]
    },
    {
     "name": "stderr",
     "output_type": "stream",
     "text": [
      "                                                                                                                                                                                                          \r"
     ]
    },
    {
     "name": "stdout",
     "output_type": "stream",
     "text": [
      "MoviePy - Done.\n",
      "Moviepy - Writing video GIF100/75.mp4\n",
      "\n"
     ]
    },
    {
     "name": "stderr",
     "output_type": "stream",
     "text": [
      "                                                                                                                                                                                                          \r"
     ]
    },
    {
     "name": "stdout",
     "output_type": "stream",
     "text": [
      "Moviepy - Done !\n",
      "Moviepy - video ready GIF100/75.mp4\n",
      "Converted 75.webm to MP4.\n",
      "Moviepy - Building video GIF100/87.mp4.\n",
      "Moviepy - Writing video GIF100/87.mp4\n",
      "\n"
     ]
    },
    {
     "name": "stderr",
     "output_type": "stream",
     "text": [
      "                                                                                                                                                                                                          \r"
     ]
    },
    {
     "name": "stdout",
     "output_type": "stream",
     "text": [
      "Moviepy - Done !\n",
      "Moviepy - video ready GIF100/87.mp4\n",
      "Converted 87.webm to MP4.\n",
      "Moviepy - Building video GIF100/68.mp4.\n",
      "MoviePy - Writing audio in 68TEMP_MPY_wvf_snd.mp3\n"
     ]
    },
    {
     "name": "stderr",
     "output_type": "stream",
     "text": [
      "                                                                                                                                                                                                          \r"
     ]
    },
    {
     "name": "stdout",
     "output_type": "stream",
     "text": [
      "MoviePy - Done.\n",
      "Moviepy - Writing video GIF100/68.mp4\n",
      "\n"
     ]
    },
    {
     "name": "stderr",
     "output_type": "stream",
     "text": [
      "                                                                                                                                                                                                          \r"
     ]
    },
    {
     "name": "stdout",
     "output_type": "stream",
     "text": [
      "Moviepy - Done !\n",
      "Moviepy - video ready GIF100/68.mp4\n",
      "Converted 68.webm to MP4.\n",
      "Moviepy - Building video GIF100/52.mp4.\n",
      "MoviePy - Writing audio in 52TEMP_MPY_wvf_snd.mp3\n"
     ]
    },
    {
     "name": "stderr",
     "output_type": "stream",
     "text": [
      "                                                                                                                                                                                                          \r"
     ]
    },
    {
     "name": "stdout",
     "output_type": "stream",
     "text": [
      "MoviePy - Done.\n",
      "Moviepy - Writing video GIF100/52.mp4\n",
      "\n"
     ]
    },
    {
     "name": "stderr",
     "output_type": "stream",
     "text": [
      "                                                                                                                                                                                                          \r"
     ]
    },
    {
     "name": "stdout",
     "output_type": "stream",
     "text": [
      "Moviepy - Done !\n",
      "Moviepy - video ready GIF100/52.mp4\n",
      "Converted 52.webm to MP4.\n",
      "Moviepy - Building video GIF100/72.mp4.\n",
      "Moviepy - Writing video GIF100/72.mp4\n",
      "\n"
     ]
    },
    {
     "name": "stderr",
     "output_type": "stream",
     "text": [
      "                                                                                                                                                                                                          \r"
     ]
    },
    {
     "name": "stdout",
     "output_type": "stream",
     "text": [
      "Moviepy - Done !\n",
      "Moviepy - video ready GIF100/72.mp4\n",
      "Converted 72.webm to MP4.\n",
      "Moviepy - Building video GIF100/25.mp4.\n",
      "Moviepy - Writing video GIF100/25.mp4\n",
      "\n"
     ]
    },
    {
     "name": "stderr",
     "output_type": "stream",
     "text": [
      "                                                                                                                                                                                                          \r"
     ]
    },
    {
     "name": "stdout",
     "output_type": "stream",
     "text": [
      "Moviepy - Done !\n",
      "Moviepy - video ready GIF100/25.mp4\n",
      "Converted 25.webm to MP4.\n",
      "Moviepy - Building video GIF100/33.mp4.\n",
      "Moviepy - Writing video GIF100/33.mp4\n",
      "\n"
     ]
    },
    {
     "name": "stderr",
     "output_type": "stream",
     "text": [
      "                                                                                                                                                                                                          \r"
     ]
    },
    {
     "name": "stdout",
     "output_type": "stream",
     "text": [
      "Moviepy - Done !\n",
      "Moviepy - video ready GIF100/33.mp4\n",
      "Converted 33.webm to MP4.\n",
      "Moviepy - Building video GIF100/64.mp4.\n",
      "Moviepy - Writing video GIF100/64.mp4\n",
      "\n"
     ]
    },
    {
     "name": "stderr",
     "output_type": "stream",
     "text": [
      "                                                                                                                                                                                                          \r"
     ]
    },
    {
     "name": "stdout",
     "output_type": "stream",
     "text": [
      "Moviepy - Done !\n",
      "Moviepy - video ready GIF100/64.mp4\n",
      "Converted 64.webm to MP4.\n",
      "Moviepy - Building video GIF100/49.mp4.\n",
      "Moviepy - Writing video GIF100/49.mp4\n",
      "\n"
     ]
    },
    {
     "name": "stderr",
     "output_type": "stream",
     "text": [
      "                                                                                                                                                                                                          \r"
     ]
    },
    {
     "name": "stdout",
     "output_type": "stream",
     "text": [
      "Moviepy - Done !\n",
      "Moviepy - video ready GIF100/49.mp4\n",
      "Converted 49.webm to MP4.\n",
      "Moviepy - Building video GIF100/65.mp4.\n",
      "MoviePy - Writing audio in 65TEMP_MPY_wvf_snd.mp3\n"
     ]
    },
    {
     "name": "stderr",
     "output_type": "stream",
     "text": [
      "                                                                                                                                                                                                          \r"
     ]
    },
    {
     "name": "stdout",
     "output_type": "stream",
     "text": [
      "MoviePy - Done.\n",
      "Moviepy - Writing video GIF100/65.mp4\n",
      "\n"
     ]
    },
    {
     "name": "stderr",
     "output_type": "stream",
     "text": [
      "                                                                                                                                                                                                          \r"
     ]
    },
    {
     "name": "stdout",
     "output_type": "stream",
     "text": [
      "Moviepy - Done !\n",
      "Moviepy - video ready GIF100/65.mp4\n",
      "Converted 65.webm to MP4.\n",
      "Moviepy - Building video GIF100/32.mp4.\n",
      "Moviepy - Writing video GIF100/32.mp4\n",
      "\n"
     ]
    },
    {
     "name": "stderr",
     "output_type": "stream",
     "text": [
      "                                                                                                                                                                                                          \r"
     ]
    },
    {
     "name": "stdout",
     "output_type": "stream",
     "text": [
      "Moviepy - Done !\n",
      "Moviepy - video ready GIF100/32.mp4\n",
      "Converted 32.webm to MP4.\n",
      "Moviepy - Building video GIF100/24.mp4.\n",
      "Moviepy - Writing video GIF100/24.mp4\n",
      "\n"
     ]
    },
    {
     "name": "stderr",
     "output_type": "stream",
     "text": [
      "                                                                                                                                                                                                          \r"
     ]
    },
    {
     "name": "stdout",
     "output_type": "stream",
     "text": [
      "Moviepy - Done !\n",
      "Moviepy - video ready GIF100/24.mp4\n",
      "Converted 24.webm to MP4.\n",
      "Moviepy - Building video GIF100/73.mp4.\n",
      "MoviePy - Writing audio in 73TEMP_MPY_wvf_snd.mp3\n"
     ]
    },
    {
     "name": "stderr",
     "output_type": "stream",
     "text": [
      "                                                                                                                                                                                                          \r"
     ]
    },
    {
     "name": "stdout",
     "output_type": "stream",
     "text": [
      "MoviePy - Done.\n",
      "Moviepy - Writing video GIF100/73.mp4\n",
      "\n"
     ]
    },
    {
     "name": "stderr",
     "output_type": "stream",
     "text": [
      "                                                                                                                                                                                                          \r"
     ]
    },
    {
     "name": "stdout",
     "output_type": "stream",
     "text": [
      "Moviepy - Done !\n",
      "Moviepy - video ready GIF100/73.mp4\n",
      "Converted 73.webm to MP4.\n",
      "Moviepy - Building video GIF100/45.mp4.\n",
      "Moviepy - Writing video GIF100/45.mp4\n",
      "\n"
     ]
    },
    {
     "name": "stderr",
     "output_type": "stream",
     "text": [
      "                                                                                                                                                                                                          \r"
     ]
    },
    {
     "name": "stdout",
     "output_type": "stream",
     "text": [
      "Moviepy - Done !\n",
      "Moviepy - video ready GIF100/45.mp4\n",
      "Converted 45.webm to MP4.\n",
      "Moviepy - Building video GIF100/86.mp4.\n",
      "MoviePy - Writing audio in 86TEMP_MPY_wvf_snd.mp3\n"
     ]
    },
    {
     "name": "stderr",
     "output_type": "stream",
     "text": [
      "                                                                                                                                                                                                          \r"
     ]
    },
    {
     "name": "stdout",
     "output_type": "stream",
     "text": [
      "MoviePy - Done.\n",
      "Moviepy - Writing video GIF100/86.mp4\n",
      "\n"
     ]
    },
    {
     "name": "stderr",
     "output_type": "stream",
     "text": [
      "                                                                                                                                                                                                          \r"
     ]
    },
    {
     "name": "stdout",
     "output_type": "stream",
     "text": [
      "Moviepy - Done !\n",
      "Moviepy - video ready GIF100/86.mp4\n",
      "Converted 86.webm to MP4.\n",
      "Moviepy - Building video GIF100/69.mp4.\n",
      "Moviepy - Writing video GIF100/69.mp4\n",
      "\n"
     ]
    },
    {
     "name": "stderr",
     "output_type": "stream",
     "text": [
      "                                                                                                                                                                                                          \r"
     ]
    },
    {
     "name": "stdout",
     "output_type": "stream",
     "text": [
      "Moviepy - Done !\n",
      "Moviepy - video ready GIF100/69.mp4\n",
      "Converted 69.webm to MP4.\n",
      "Moviepy - Building video GIF100/28.mp4.\n",
      "MoviePy - Writing audio in 28TEMP_MPY_wvf_snd.mp3\n"
     ]
    },
    {
     "name": "stderr",
     "output_type": "stream",
     "text": [
      "                                                                                                                                                                                                          \r"
     ]
    },
    {
     "name": "stdout",
     "output_type": "stream",
     "text": [
      "MoviePy - Done.\n",
      "Moviepy - Writing video GIF100/28.mp4\n",
      "\n"
     ]
    },
    {
     "name": "stderr",
     "output_type": "stream",
     "text": [
      "                                                                                                                                                                                                          \r"
     ]
    },
    {
     "name": "stdout",
     "output_type": "stream",
     "text": [
      "Moviepy - Done !\n",
      "Moviepy - video ready GIF100/28.mp4\n",
      "Converted 28.webm to MP4.\n",
      "Moviepy - Building video GIF100/90.mp4.\n",
      "Moviepy - Writing video GIF100/90.mp4\n",
      "\n"
     ]
    },
    {
     "name": "stderr",
     "output_type": "stream",
     "text": [
      "                                                                                                                                                                                                          \r"
     ]
    },
    {
     "name": "stdout",
     "output_type": "stream",
     "text": [
      "Moviepy - Done !\n",
      "Moviepy - video ready GIF100/90.mp4\n",
      "Converted 90.webm to MP4.\n",
      "Moviepy - Building video GIF100/50.mp4.\n",
      "Moviepy - Writing video GIF100/50.mp4\n",
      "\n"
     ]
    },
    {
     "name": "stderr",
     "output_type": "stream",
     "text": [
      "                                                                                                                                                                                                          \r"
     ]
    },
    {
     "name": "stdout",
     "output_type": "stream",
     "text": [
      "Moviepy - Done !\n",
      "Moviepy - video ready GIF100/50.mp4\n",
      "Converted 50.webm to MP4.\n",
      "Moviepy - Building video GIF100/46.mp4.\n",
      "MoviePy - Writing audio in 46TEMP_MPY_wvf_snd.mp3\n"
     ]
    },
    {
     "name": "stderr",
     "output_type": "stream",
     "text": [
      "                                                                                                                                                                                                          \r"
     ]
    },
    {
     "name": "stdout",
     "output_type": "stream",
     "text": [
      "MoviePy - Done.\n",
      "Moviepy - Writing video GIF100/46.mp4\n",
      "\n"
     ]
    },
    {
     "name": "stderr",
     "output_type": "stream",
     "text": [
      "                                                                                                                                                                                                          \r"
     ]
    },
    {
     "name": "stdout",
     "output_type": "stream",
     "text": [
      "Moviepy - Done !\n",
      "Moviepy - video ready GIF100/46.mp4\n",
      "Converted 46.webm to MP4.\n",
      "Moviepy - Building video GIF100/85.mp4.\n",
      "Moviepy - Writing video GIF100/85.mp4\n",
      "\n"
     ]
    },
    {
     "name": "stderr",
     "output_type": "stream",
     "text": [
      "                                                                                                                                                                                                          \r"
     ]
    },
    {
     "name": "stdout",
     "output_type": "stream",
     "text": [
      "Moviepy - Done !\n",
      "Moviepy - video ready GIF100/85.mp4\n",
      "Converted 85.webm to MP4.\n",
      "Moviepy - Building video GIF100/93.mp4.\n",
      "Moviepy - Writing video GIF100/93.mp4\n",
      "\n"
     ]
    },
    {
     "name": "stderr",
     "output_type": "stream",
     "text": [
      "                                                                                                                                                                                                          \r"
     ]
    },
    {
     "name": "stdout",
     "output_type": "stream",
     "text": [
      "Moviepy - Done !\n",
      "Moviepy - video ready GIF100/93.mp4\n",
      "Converted 93.webm to MP4.\n",
      "Moviepy - Building video GIF100/89.mp4.\n",
      "MoviePy - Writing audio in 89TEMP_MPY_wvf_snd.mp3\n"
     ]
    },
    {
     "name": "stderr",
     "output_type": "stream",
     "text": [
      "                                                                                                                                                                                                          \r"
     ]
    },
    {
     "name": "stdout",
     "output_type": "stream",
     "text": [
      "MoviePy - Done.\n",
      "Moviepy - Writing video GIF100/89.mp4\n",
      "\n"
     ]
    },
    {
     "name": "stderr",
     "output_type": "stream",
     "text": [
      "                                                                                                                                                                                                          \r"
     ]
    },
    {
     "name": "stdout",
     "output_type": "stream",
     "text": [
      "Moviepy - Done !\n",
      "Moviepy - video ready GIF100/89.mp4\n",
      "Converted 89.webm to MP4.\n",
      "Moviepy - Building video GIF100/31.mp4.\n",
      "Moviepy - Writing video GIF100/31.mp4\n",
      "\n"
     ]
    },
    {
     "name": "stderr",
     "output_type": "stream",
     "text": [
      "                                                                                                                                                                                                          \r"
     ]
    },
    {
     "name": "stdout",
     "output_type": "stream",
     "text": [
      "Moviepy - Done !\n",
      "Moviepy - video ready GIF100/31.mp4\n",
      "Converted 31.webm to MP4.\n",
      "Moviepy - Building video GIF100/27.mp4.\n",
      "Moviepy - Writing video GIF100/27.mp4\n",
      "\n"
     ]
    },
    {
     "name": "stderr",
     "output_type": "stream",
     "text": [
      "                                                                                                                                                                                                          \r"
     ]
    },
    {
     "name": "stdout",
     "output_type": "stream",
     "text": [
      "Moviepy - Done !\n",
      "Moviepy - video ready GIF100/27.mp4\n",
      "Converted 27.webm to MP4.\n",
      "Moviepy - Building video GIF100/70.mp4.\n",
      "Moviepy - Writing video GIF100/70.mp4\n",
      "\n"
     ]
    },
    {
     "name": "stderr",
     "output_type": "stream",
     "text": [
      "                                                                                                                                                                                                          \r"
     ]
    },
    {
     "name": "stdout",
     "output_type": "stream",
     "text": [
      "Moviepy - Done !\n",
      "Moviepy - video ready GIF100/70.mp4\n",
      "Converted 70.webm to MP4.\n",
      "Moviepy - Building video GIF100/71.mp4.\n",
      "Moviepy - Writing video GIF100/71.mp4\n",
      "\n"
     ]
    },
    {
     "name": "stderr",
     "output_type": "stream",
     "text": [
      "                                                                                                                                                                                                          \r"
     ]
    },
    {
     "name": "stdout",
     "output_type": "stream",
     "text": [
      "Moviepy - Done !\n",
      "Moviepy - video ready GIF100/71.mp4\n",
      "Converted 71.webm to MP4.\n",
      "Moviepy - Building video GIF100/67.mp4.\n",
      "Moviepy - Writing video GIF100/67.mp4\n",
      "\n"
     ]
    },
    {
     "name": "stderr",
     "output_type": "stream",
     "text": [
      "                                                                                                                                                                                                          \r"
     ]
    },
    {
     "name": "stdout",
     "output_type": "stream",
     "text": [
      "Moviepy - Done !\n",
      "Moviepy - video ready GIF100/67.mp4\n",
      "Converted 67.webm to MP4.\n",
      "Moviepy - Building video GIF100/88.mp4.\n",
      "Moviepy - Writing video GIF100/88.mp4\n",
      "\n"
     ]
    },
    {
     "name": "stderr",
     "output_type": "stream",
     "text": [
      "                                                                                                                                                                                                          \r"
     ]
    },
    {
     "name": "stdout",
     "output_type": "stream",
     "text": [
      "Moviepy - Done !\n",
      "Moviepy - video ready GIF100/88.mp4\n",
      "Converted 88.webm to MP4.\n",
      "Moviepy - Building video GIF100/92.mp4.\n",
      "MoviePy - Writing audio in 92TEMP_MPY_wvf_snd.mp3\n"
     ]
    },
    {
     "name": "stderr",
     "output_type": "stream",
     "text": [
      "                                                                                                                                                                                                          \r"
     ]
    },
    {
     "name": "stdout",
     "output_type": "stream",
     "text": [
      "MoviePy - Done.\n",
      "Moviepy - Writing video GIF100/92.mp4\n",
      "\n"
     ]
    },
    {
     "name": "stderr",
     "output_type": "stream",
     "text": [
      "                                                                                                                                                                                                          \r"
     ]
    },
    {
     "name": "stdout",
     "output_type": "stream",
     "text": [
      "Moviepy - Done !\n",
      "Moviepy - video ready GIF100/92.mp4\n",
      "Converted 92.webm to MP4.\n",
      "Moviepy - Building video GIF100/84.mp4.\n",
      "Moviepy - Writing video GIF100/84.mp4\n",
      "\n"
     ]
    },
    {
     "name": "stderr",
     "output_type": "stream",
     "text": [
      "                                                                                                                                                                                                          \r"
     ]
    },
    {
     "name": "stdout",
     "output_type": "stream",
     "text": [
      "Moviepy - Done !\n",
      "Moviepy - video ready GIF100/84.mp4\n",
      "Converted 84.webm to MP4.\n",
      "Moviepy - Building video GIF100/10.mp4.\n",
      "Moviepy - Writing video GIF100/10.mp4\n",
      "\n"
     ]
    },
    {
     "name": "stderr",
     "output_type": "stream",
     "text": [
      "                                                                                                                                                                                                          \r"
     ]
    },
    {
     "name": "stdout",
     "output_type": "stream",
     "text": [
      "Moviepy - Done !\n",
      "Moviepy - video ready GIF100/10.mp4\n",
      "Converted 10.webm to MP4.\n",
      "Moviepy - Building video GIF100/47.mp4.\n",
      "Moviepy - Writing video GIF100/47.mp4\n",
      "\n"
     ]
    },
    {
     "name": "stderr",
     "output_type": "stream",
     "text": [
      "                                                                                                                                                                                                          \r"
     ]
    },
    {
     "name": "stdout",
     "output_type": "stream",
     "text": [
      "Moviepy - Done !\n",
      "Moviepy - video ready GIF100/47.mp4\n",
      "Converted 47.webm to MP4.\n",
      "Moviepy - Building video GIF100/51.mp4.\n",
      "Moviepy - Writing video GIF100/51.mp4\n",
      "\n"
     ]
    },
    {
     "name": "stderr",
     "output_type": "stream",
     "text": [
      "                                                                                                                                                                                                          \r"
     ]
    },
    {
     "name": "stdout",
     "output_type": "stream",
     "text": [
      "Moviepy - Done !\n",
      "Moviepy - video ready GIF100/51.mp4\n",
      "Converted 51.webm to MP4.\n",
      "Moviepy - Building video GIF100/37.mp4.\n",
      "Moviepy - Writing video GIF100/37.mp4\n",
      "\n"
     ]
    },
    {
     "name": "stderr",
     "output_type": "stream",
     "text": [
      "                                                                                                                                                                                                          \r"
     ]
    },
    {
     "name": "stdout",
     "output_type": "stream",
     "text": [
      "Moviepy - Done !\n",
      "Moviepy - video ready GIF100/37.mp4\n",
      "Converted 37.webm to MP4.\n",
      "Moviepy - Building video GIF100/21.mp4.\n",
      "Moviepy - Writing video GIF100/21.mp4\n",
      "\n"
     ]
    },
    {
     "name": "stderr",
     "output_type": "stream",
     "text": [
      "                                                                                                                                                                                                          \r"
     ]
    },
    {
     "name": "stdout",
     "output_type": "stream",
     "text": [
      "Moviepy - Done !\n",
      "Moviepy - video ready GIF100/21.mp4\n",
      "Converted 21.webm to MP4.\n",
      "Moviepy - Building video GIF100/56.mp4.\n",
      "Moviepy - Writing video GIF100/56.mp4\n",
      "\n"
     ]
    },
    {
     "name": "stderr",
     "output_type": "stream",
     "text": [
      "                                                                                                                                                                                                          \r"
     ]
    },
    {
     "name": "stdout",
     "output_type": "stream",
     "text": [
      "Moviepy - Done !\n",
      "Moviepy - video ready GIF100/56.mp4\n",
      "Converted 56.webm to MP4.\n",
      "Moviepy - Building video GIF100/40.mp4.\n",
      "Moviepy - Writing video GIF100/40.mp4\n",
      "\n"
     ]
    },
    {
     "name": "stderr",
     "output_type": "stream",
     "text": [
      "                                                                                                                                                                                                          \r"
     ]
    },
    {
     "name": "stdout",
     "output_type": "stream",
     "text": [
      "Moviepy - Done !\n",
      "Moviepy - video ready GIF100/40.mp4\n",
      "Converted 40.webm to MP4.\n",
      "Moviepy - Building video GIF100/7.mp4.\n",
      "Moviepy - Writing video GIF100/7.mp4\n",
      "\n"
     ]
    },
    {
     "name": "stderr",
     "output_type": "stream",
     "text": [
      "                                                                                                                                                                                                          \r"
     ]
    },
    {
     "name": "stdout",
     "output_type": "stream",
     "text": [
      "Moviepy - Done !\n",
      "Moviepy - video ready GIF100/7.mp4\n",
      "Converted 7.webm to MP4.\n",
      "Moviepy - Building video GIF100/83.mp4.\n",
      "Moviepy - Writing video GIF100/83.mp4\n",
      "\n"
     ]
    },
    {
     "name": "stderr",
     "output_type": "stream",
     "text": [
      "                                                                                                                                                                                                          \r"
     ]
    },
    {
     "name": "stdout",
     "output_type": "stream",
     "text": [
      "Moviepy - Done !\n",
      "Moviepy - video ready GIF100/83.mp4\n",
      "Converted 83.webm to MP4.\n",
      "Moviepy - Building video GIF100/94.mp4.\n",
      "Moviepy - Writing video GIF100/94.mp4\n",
      "\n"
     ]
    },
    {
     "name": "stderr",
     "output_type": "stream",
     "text": [
      "                                                                                                                                                                                                          \r"
     ]
    },
    {
     "name": "stdout",
     "output_type": "stream",
     "text": [
      "Moviepy - Done !\n",
      "Moviepy - video ready GIF100/94.mp4\n",
      "Converted 94.webm to MP4.\n",
      "Moviepy - Building video GIF100/82.mp4.\n",
      "Moviepy - Writing video GIF100/82.mp4\n",
      "\n"
     ]
    },
    {
     "name": "stderr",
     "output_type": "stream",
     "text": [
      "                                                                                                                                                                                                          \r"
     ]
    },
    {
     "name": "stdout",
     "output_type": "stream",
     "text": [
      "Moviepy - Done !\n",
      "Moviepy - video ready GIF100/82.mp4\n",
      "Converted 82.webm to MP4.\n",
      "Moviepy - Building video GIF100/41.mp4.\n",
      "Moviepy - Writing video GIF100/41.mp4\n",
      "\n"
     ]
    },
    {
     "name": "stderr",
     "output_type": "stream",
     "text": [
      "                                                                                                                                                                                                          \r"
     ]
    },
    {
     "name": "stdout",
     "output_type": "stream",
     "text": [
      "Moviepy - Done !\n",
      "Moviepy - video ready GIF100/41.mp4\n",
      "Converted 41.webm to MP4.\n",
      "Moviepy - Building video GIF100/57.mp4.\n",
      "Moviepy - Writing video GIF100/57.mp4\n",
      "\n"
     ]
    },
    {
     "name": "stderr",
     "output_type": "stream",
     "text": [
      "                                                                                                                                                                                                          \r"
     ]
    },
    {
     "name": "stdout",
     "output_type": "stream",
     "text": [
      "Moviepy - Done !\n",
      "Moviepy - video ready GIF100/57.mp4\n",
      "Converted 57.webm to MP4.\n",
      "Moviepy - Building video GIF100/98.mp4.\n",
      "Moviepy - Writing video GIF100/98.mp4\n",
      "\n"
     ]
    },
    {
     "name": "stderr",
     "output_type": "stream",
     "text": [
      "                                                                                                                                                                                                          \r"
     ]
    },
    {
     "name": "stdout",
     "output_type": "stream",
     "text": [
      "Moviepy - Done !\n",
      "Moviepy - video ready GIF100/98.mp4\n",
      "Converted 98.webm to MP4.\n",
      "Moviepy - Building video GIF100/36.mp4.\n",
      "Moviepy - Writing video GIF100/36.mp4\n",
      "\n"
     ]
    },
    {
     "name": "stderr",
     "output_type": "stream",
     "text": [
      "                                                                                                                                                                                                          \r"
     ]
    },
    {
     "name": "stdout",
     "output_type": "stream",
     "text": [
      "Moviepy - Done !\n",
      "Moviepy - video ready GIF100/36.mp4\n",
      "Converted 36.webm to MP4.\n",
      "Moviepy - Building video GIF100/61.mp4.\n",
      "Moviepy - Writing video GIF100/61.mp4\n",
      "\n"
     ]
    },
    {
     "name": "stderr",
     "output_type": "stream",
     "text": [
      "                                                                                                                                                                                                          \r"
     ]
    },
    {
     "name": "stdout",
     "output_type": "stream",
     "text": [
      "Moviepy - Done !\n",
      "Moviepy - video ready GIF100/61.mp4\n",
      "Converted 61.webm to MP4.\n"
     ]
    }
   ],
   "source": [
    "import os\n",
    "from moviepy.editor import VideoFileClip\n",
    "\n",
    "# Path to the folder containing the webm files\n",
    "folder_path = 'GIF100'\n",
    "\n",
    "# Check if the folder exists\n",
    "if not os.path.exists(folder_path):\n",
    "    print(f\"Folder '{folder_path}' does not exist.\")\n",
    "else:\n",
    "    # Loop through all files in the folder\n",
    "    for filename in os.listdir(folder_path):\n",
    "        if filename.endswith('.webm'):\n",
    "            webm_path = os.path.join(folder_path, filename)\n",
    "            mp4_path = os.path.join(folder_path, filename.rsplit('.', 1)[0] + '.mp4')\n",
    "\n",
    "            # Convert webm to mp4\n",
    "            try:\n",
    "                with VideoFileClip(webm_path) as video:\n",
    "                    video.write_videofile(mp4_path, codec='libx264')\n",
    "                print(f\"Converted {filename} to MP4.\")\n",
    "            except Exception as e:\n",
    "                print(f\"Error converting {filename}: {e}\")\n"
   ]
  },
  {
   "cell_type": "code",
   "execution_count": null,
   "id": "7cde80af-4739-4b2d-9137-d50f416cb743",
   "metadata": {},
   "outputs": [],
   "source": []
  }
 ],
 "metadata": {
  "kernelspec": {
   "display_name": "Python 3 (ipykernel)",
   "language": "python",
   "name": "python3"
  },
  "language_info": {
   "codemirror_mode": {
    "name": "ipython",
    "version": 3
   },
   "file_extension": ".py",
   "mimetype": "text/x-python",
   "name": "python",
   "nbconvert_exporter": "python",
   "pygments_lexer": "ipython3",
   "version": "3.9.19"
  }
 },
 "nbformat": 4,
 "nbformat_minor": 5
}
